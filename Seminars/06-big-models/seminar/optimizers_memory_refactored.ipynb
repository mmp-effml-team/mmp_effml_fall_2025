{
 "cells": [
  {
   "cell_type": "markdown",
   "metadata": {},
   "source": [
    "# `Материалы кафедры ММП факультета ВМК МГУ. Введение в Эффективные Системы Глубокого Обучение.`\n",
    "\n",
    "# `Семинар 06.1. Граф вычислений с точки зрения эффективности: методы оптимизации`\n",
    "\n",
    "### `Материалы составил Феоктистов Дмитрий (@trandelik)`\n",
    "\n",
    "#### `Москва, Осенний семестр 2025`\n",
    "\n",
    "О чём можно узнать из этого ноутбука:\n",
    "\n",
    "* Сколько памяти требует стандартный Adam\n",
    "* Как использовать меньше памяти для оптимизатора\n",
    "* Как вообще не использоваться backward и все равно что-то учить\n"
   ]
  },
  {
   "cell_type": "markdown",
   "metadata": {},
   "source": [
    "### `Теория`\n",
    "\n",
    "Современные языковые модели, такие как Llama, GPT и другие, содержат миллиарды параметров. Их обучение — это чрезвычайно ресурсоёмкая задача, и одна из главных проблем — это потребление памяти на GPU. Суммарная память, необходимая для обучения, складывается из нескольких компонентов:\n",
    "1.  **Веса модели**: Сами параметры, которые мы обучаем.\n",
    "2.  **Градиенты**: По одному градиенту на каждый параметр, вычисляемые на шаге `backward()`.\n",
    "3.  **Состояние оптимизатора (Optimizer State)**: Внутренние переменные, которые оптимизатор хранит для каждого параметра (например, моменты в Adam).\n",
    "4.  **Промежуточные активации**: Значения, которые необходимо хранить после `forward()` для вычисления градиентов.\n",
    "\n",
    "Удивительно, но **состояние оптимизатора** часто занимает больше памяти, чем сами веса модели. Давайте разберёмся, почему так происходит, и рассмотрим три подхода к оптимизации, которые позволяют кардинально снизить потребление памяти:"
   ]
  },
  {
   "cell_type": "markdown",
   "metadata": {},
   "source": [
    "#### `Adam`\n",
    "Adam стал де-факто стандартом в DL благодаря своей эффективности и быстрой сходимостию.\n",
    "\n",
    "**Формулы Adam:**\n",
    "\n",
    "На каждом шаге $t$ для параметров $\\theta$:\n",
    "- Вычисляется градиент: $$g_t = \\nabla_{\\theta} L(\\theta_{t-1})$$\n",
    "- Обновляется скользящее среднее градиентов (первый момент):  $$ m_t = \\beta_1 m_{t-1} + (1 - \\beta_1) g_t $$\n",
    "- Обновляется скользящее среднее квадратов градиентов (второй момент):\\ $$ v_t = \\beta_2 v_{t-1} + (1 - \\beta_2) g_t^2 $$ \n",
    "- Происходит коррекция смещения для моментов: $$ \\hat{m}_t = \\frac{m_t}{1 - \\beta_1^t}, \\quad \\hat{v}_t = \\frac{v_t}{1 - \\beta_2^t}$$\n",
    "- Веса обновляются:   $$ \\theta_t = \\theta_{t-1} - \\eta \\frac{\\hat{m}_t}{\\sqrt{\\hat{v}_t} + \\epsilon} $$\n",
    "\n",
    "\n",
    "**Расчёт памяти:**\n",
    "\n",
    "Ключевой момент — для каждого обучаемого параметра $\\theta$ Adam должен хранить два дополнительных значения:   \n",
    "- $m_t$ (первый момент)\n",
    "- $v_t$ (второй момент)\n",
    "\n",
    "Обычно эти моменты хранятся в 32-битном формате с плавающей запятой (FP32), то есть по 4 байта на каждое значение, даже если модель обучается в смешанной точности (FP16/BF16).\n",
    "*   **Память на 1 параметр:** 4 байта ($m_t$) + 4 байта ($v_t$) = **8 байт**.\n",
    "\n",
    "Если мы обучаем модель с $N$ параметрами в смешанной точности (BF16, 2 байта на параметр), то суммарная память на параметры и оптимизатор составит:\n",
    "*   **Веса модели**: $N \\times 2$ байт\n",
    "*   **Градиенты**: $N \\times 2$ байт\n",
    "*   **Состояние Adam**: $N \\times 8$ байт\n",
    "Для модели Llama 2 7B (7 миллиардов параметров) память на состояние Adam = $7 \\times 10^9$ text{ параметров} $\\times 8 $ байт/параметр = $56 \\times 10^9$ байт = 56 ГБ. Эти 56 ГБ требуются *только* для хранения состояния оптимизатора, что делает невозможным полномасштабное обучение таких моделей на большинстве одиночных GPU. **Какое самое первое решение приходит в голову и в чем его проблема?**"
   ]
  },
  {
   "cell_type": "markdown",
   "metadata": {},
   "source": [
    "#### `SGD`\n",
    "\n",
    " В своей базовой форме он не хранит никакого состояния. Чаще используется его версия с моментумом (SGD with Momentum).\n",
    " \n",
    " **Формула SGD с моментумом:** \n",
    " - Вычисляется градиент: $$g_t = \\nabla_{\\theta} L(\\theta_{t-1})$$  \n",
    " - Обновляется моментум: $$m_t = \\beta m_{t-1} + g_t$$  \n",
    " - Веса обновляются: $$\\theta_t = \\theta_{t-1} - \\eta m_t$$\n",
    " \n",
    " **Расчёт памяти:**\n",
    " - SGD с моментумом хранит только одно дополнительное значение для каждого параметра — буфер моментума $$m_t$$ \n",
    " \n",
    "Это в 2 раза меньше, чем у Adam. Однако у SGD есть недостатки: он не использует информацию о втором моменте, что делает его более чувствительным к выбору скорости обучения и масштабированию градиентов, и часто он сходится медленнее, чем Adam."
   ]
  },
  {
   "cell_type": "markdown",
   "metadata": {},
   "source": [
    "#### `GaLore`\n",
    "\n",
    "https://arxiv.org/pdf/2403.03507\n",
    "\n",
    "Использование первого и второго моментов полезно для стабильной и быстрой оптимизации. Как сохранить эти преимущества, но избавиться от огромных затрат памяти? Здесь на помощь приходит **GaLore (Gradient Low-Rank Projection)**.\n",
    "\n",
    "**Идея и интуиция:** Основная идея GaLore заключается в наблюдении, что матрицы градиентов для больших слоёв нейронной сети часто имеют **низкий ранг**. Это означает, что \"направления\", в которых веса изменяются наиболее сильно, можно представить в виде небольшого набора базисных векторов. Вместо того чтобы хранить полные моменты для каждого параметра, GaLore предлагает проецировать градиент на это низкоранговое подпространство и выполнять обновления Adam уже в нём.\n",
    "\n",
    "Представьте, что матрица градиентов $G \\in \\mathbb{R}^{m \\\\times n}$ может быть хорошо аппроксимирована как произведение двух меньших матриц $A \\in \\mathbb{R}^{m \\times r}$ и $B \\in \\mathbb{R}^{n \\times r}$, где ранг $r \\ll \\min(m, n)$. GaLore хранит состояние оптимизатора (моменты $m_t$ и $v_t$) не для полной матрицы $G$, а только для её низкоранговых проекций.\n",
    "\n",
    "**Расчёт памяти:**\n",
    "Для слоя с весами $W \\in \\mathbb{R}^{m \\times n}$:\n",
    "* **Adam** хранит $2 \\times m \\times n$ значений.   \n",
    "* **GaLore** с рангом $r$ хранит состояние для проекций, размер которых $m \\times r$ + $n \\times r$.\n",
    "\n",
    "Память на состояние оптимизатора для GaLore (в FP32): $m \\cdot r$ + $n \\cdot r \\times 8$ байт.\n",
    "\n",
    "Фактор экономии памяти по сравнению с Adam $\\approx \\frac{m \\cdot n}{r \\cdot (m+n)}$. Для квадратной матрицы $m=$ экономия составляет $\\frac{n^2}{2nr} = \\frac{n}{2r}$. Если $n=4096$ и $r=128$, то экономия будет $\\frac{4096}{2 \\times 128} = 16$ раз! GaLore позволяет использовать адаптивность Adam, но со сложностью по памяти, близкой к линейной $O(n)$ вместо квадратичной $O(n^2)$ для матриц весов.\n",
    "\n",
    "**Замечание:** У GaLore есть один существенный минус - необходимость считать SVD. Также он иногда оказывается субоптимальным по качеству работы, в области оптимизации с уменьшенным стейтом есть более интересные результаты, например, [FRUGAL](https://arxiv.org/pdf/2411.07837). "
   ]
  },
  {
   "cell_type": "markdown",
   "metadata": {},
   "source": [
    "#### `MeZO`\n",
    "\n",
    "Помимо стейта оптимизатора много памяти занимают **активации**, необходимые для вычисления градиентов. А что, если мы можем вообще отказаться от вычисления градиентов через backpropagation? Этот радикальный подход называется **оптимизацией нулевого порядка (Zeroth-Order Optimization)**. Рассмотрим **MeZO (Memory-Efficient Zeroth-Order Optimizer)**.\n",
    "\n",
    "**Идея и интуиция:** Вместо вычисления точного градиента $\\nabla L(\\theta)$ (что требует `backward()`), мы будем его приблизительно оценивать просто наблюдая за изменением функции потерь $L$ при небольшом случайном возмущении параметров $\\theta$.\n",
    "\n",
    "**Формулы для приближения градиента:** MeZO использует симметричную разность для оценки градиента. \n",
    "\n",
    "- Генерируется случайный вектор $z$ из стандартного нормального распределения, имеющий ту же размерность, что и параметры $\\theta$.\n",
    "- Выполняются два `forward`-прохода с параметрами, сдвинутыми в противоположные стороны вдоль направления $z$: $L(\\theta + \\mu z)$, $L(\\theta - \\mu z)$, где $\\mu$ — это очень маленькая константа (шаг возмущения). \n",
    "- Градиент оценивается по следующей формуле: $$\\hat{g} = \\frac{L(\\theta + \\mu z) - L(\\theta - \\mu z)}{2\\mu}$$\n",
    "\n",
    "**Почему это работает?**  Выражение $\\frac{L(\\theta + \\mu z) - L(\\theta - \\mu z)}{2\\mu}$ является аппроксимацией производной функции $L$ по направлению $z$. Умножая этот скаляр на вектор направления $z$, мы получаем случайную оценку градиента. Математически можно показать, что математическое ожидание этой оценки равно истинному градиенту: $\\mathbb{E}[\\hat{g}] = \\nabla L(\\theta)$. Несмотря на \"шумность\" такой оценки на каждом отдельном шаге, в среднем за множество итераций модель движется в правильном направлении — в сторону уменьшения потерь. **Главное преимущество MeZO** — колоссальная экономия памяти. Поскольку `backward()` не вызывается, нет необходимости хранить промежуточные активации для их вычисления. Это позволяет проводить fine-tuning огромных моделей на устройствах с очень ограниченным объёмом VRAM.\n",
    "\n",
    "**Замечания**\n",
    "- MeZO является хорошим, но не самым лучшим ZO-методом. Можно посмотреть, например, на [Jaguar Sign-SGD](https://arxiv.org/pdf/2506.04430)\n",
    "- Методы нулевого порядка весьма капризны с точки зрения сходимости. Например, ими тяжело обучать случайно инициализированные веса. С этой точки зрения может сильно помочь использование оценки градиента не по одному направлению $z$, а по нескольким, однако, это приведет к увеличению расхода памяти. Но в случае, например, SFT LLM на свои данные они могут быть очень даже неплохи."
   ]
  },
  {
   "cell_type": "markdown",
   "metadata": {},
   "source": [
    "### `Практика`\n",
    "\n",
    "В ней мы будем файнтюнить distilbert на IMDB датасет. Сравним качество, потребляемую память и время работы следующих методов:\n",
    "\n",
    "- `AdamW`\n",
    "- `SGD`\n",
    "- `GaLore`\n",
    "- `MeZO`\n",
    "\n",
    "Поскольку IMDB это задача классификации, и мы будем менять голову нашей модели, то для `MeZO` мы будем доучивать то, что до этого обучили через `SGD`"
   ]
  },
  {
   "cell_type": "markdown",
   "metadata": {},
   "source": [
    "#### `Utils`"
   ]
  },
  {
   "cell_type": "code",
   "execution_count": 2,
   "metadata": {},
   "outputs": [],
   "source": [
    "import gc\n",
    "import math\n",
    "import os\n",
    "from copy import deepcopy\n",
    "\n",
    "import matplotlib.pyplot as plt\n",
    "import numpy as np\n",
    "import pandas as pd\n",
    "import psutil\n",
    "import torch\n",
    "import torch.nn as nn\n",
    "import torch.optim as optim\n",
    "from torch.utils.data import DataLoader\n",
    "from tqdm.auto import tqdm\n",
    "\n",
    "from datasets import load_dataset\n",
    "from transformers import (\n",
    "    AutoModelForSequenceClassification,\n",
    "    AutoTokenizer,\n",
    "    DataCollatorWithPadding,\n",
    "    set_seed,\n",
    ")\n",
    "\n",
    "# Set the visible CUDA device (optional, for multi-GPU systems)\n",
    "os.environ['CUDA_VISIBLE_DEVICES'] = '4'"
   ]
  },
  {
   "cell_type": "code",
   "execution_count": 2,
   "metadata": {},
   "outputs": [
    {
     "name": "stdout",
     "output_type": "stream",
     "text": [
      "Running on device: cuda\n"
     ]
    }
   ],
   "source": [
    "DEVICE = torch.device(\"cuda\" if torch.cuda.is_available() else \"cpu\")\n",
    "MODEL_CKPT = \"distilbert-base-uncased\"\n",
    "NUM_EPOCHS_GRADIENT = 1\n",
    "BATCH_SIZE = 16\n",
    "RANDOM_SEED = 42\n",
    "\n",
    "print(f\"Running on device: {DEVICE}\")"
   ]
  },
  {
   "cell_type": "code",
   "execution_count": 3,
   "metadata": {},
   "outputs": [
    {
     "name": "stdout",
     "output_type": "stream",
     "text": [
      "Setting up dataset...\n"
     ]
    },
    {
     "data": {
      "application/vnd.jupyter.widget-view+json": {
       "model_id": "fc5752d65ea44916a235b6f305b3db39",
       "version_major": 2,
       "version_minor": 0
      },
      "text/plain": [
       "Map:   0%|          | 0/25000 [00:00<?, ? examples/s]"
      ]
     },
     "metadata": {},
     "output_type": "display_data"
    },
    {
     "name": "stdout",
     "output_type": "stream",
     "text": [
      "Setup complete.\n"
     ]
    }
   ],
   "source": [
    "def get_peak_memory(device=DEVICE):\n",
    "    \"\"\"Gets the peak memory usage in MB.\"\"\"\n",
    "    if device.type == 'cuda':\n",
    "        return torch.cuda.max_memory_allocated() / (1024 * 1024)\n",
    "    process = psutil.Process(os.getpid())\n",
    "    return process.memory_info().rss / (1024 * 1024)\n",
    "\n",
    "def clean_memory(device=DEVICE):\n",
    "    \"\"\"Cleans GPU cache and resets memory stats.\"\"\"\n",
    "    gc.collect()\n",
    "    if device.type == 'cuda':\n",
    "        torch.cuda.empty_cache()\n",
    "        torch.cuda.reset_peak_memory_stats()\n",
    "\n",
    "def get_model(device=DEVICE):\n",
    "    \"\"\"Initializes a new model and moves it to the specified device.\"\"\"\n",
    "    model = AutoModelForSequenceClassification.from_pretrained(\n",
    "        MODEL_CKPT, num_labels=2\n",
    "    )\n",
    "    return model.to(device)\n",
    "\n",
    "# --- Dataset and Dataloader Setup ---\n",
    "print(\"Setting up dataset...\")\n",
    "raw_datasets = load_dataset(\"imdb\")\n",
    "tokenizer = AutoTokenizer.from_pretrained(MODEL_CKPT)\n",
    "\n",
    "def tokenize_function(examples):\n",
    "    return tokenizer(examples[\"text\"], truncation=True, max_length=256)\n",
    "\n",
    "tokenized_datasets = raw_datasets.map(\n",
    "    tokenize_function, batched=True\n",
    ").remove_columns([\"text\"]).rename_column(\n",
    "    \"label\", \"labels\"\n",
    ").with_format(\"torch\")\n",
    "\n",
    "# Create smaller, manageable subsets for the experiment\n",
    "small_train_dataset = tokenized_datasets[\"train\"].shuffle(seed=RANDOM_SEED).select(range(4000))\n",
    "small_test_dataset = tokenized_datasets[\"test\"].shuffle(seed=RANDOM_SEED).select(range(800))\n",
    "\n",
    "# Create DataLoaders\n",
    "data_collator = DataCollatorWithPadding(tokenizer=tokenizer)\n",
    "train_loader = DataLoader(\n",
    "    small_train_dataset, shuffle=True, batch_size=BATCH_SIZE, collate_fn=data_collator\n",
    ")\n",
    "test_loader = DataLoader(\n",
    "    small_test_dataset, batch_size=BATCH_SIZE, collate_fn=data_collator\n",
    ")\n",
    "print(\"Setup complete.\")"
   ]
  },
  {
   "cell_type": "markdown",
   "metadata": {},
   "source": [
    "#### `GaLore`"
   ]
  },
  {
   "cell_type": "code",
   "execution_count": 4,
   "metadata": {},
   "outputs": [],
   "source": [
    "class GaLoreAdamW(optim.Optimizer):\n",
    "    \"\"\"Implements the GaLore-AdamW optimizer.\"\"\"\n",
    "    def __init__(self, params, lr=1e-3, betas=(0.9, 0.999), eps=1e-8,\n",
    "                 weight_decay=1e-2, rank=128):\n",
    "        defaults = dict(lr=lr, betas=betas, eps=eps,\n",
    "                        weight_decay=weight_decay, rank=rank)\n",
    "        super(GaLoreAdamW, self).__init__(params, defaults)\n",
    "\n",
    "    @torch.no_grad()\n",
    "    def step(self, closure=None):\n",
    "        \"\"\"Performs a single optimization step.\"\"\"\n",
    "        for group in self.param_groups:\n",
    "            for p in group['params']:\n",
    "                if p.grad is None:\n",
    "                    continue\n",
    "\n",
    "                grad = p.grad\n",
    "                state = self.state[p]\n",
    "                rank = group['rank']\n",
    "\n",
    "                # Apply weight decay\n",
    "                if group['weight_decay'] != 0:\n",
    "                    p.data.add_(p.data, alpha=-group['weight_decay'] * group['lr'])\n",
    "\n",
    "                # Determine if this parameter qualifies for GaLore\n",
    "                is_large_2d = (grad.dim() == 2 and grad.shape[0] > rank\n",
    "                               and grad.shape[1] > rank)\n",
    "\n",
    "                if is_large_2d:\n",
    "                    u, s, vh = torch.linalg.svd(grad, full_matrices=False)\n",
    "                    u, s, vh = u[:, :rank], s[:rank], vh[:rank, :]\n",
    "                    grad_u = u @ torch.diag(s)\n",
    "                    grad_v = vh.T\n",
    "\n",
    "                    # Initialize optimizer states for U and V\n",
    "                    if 'exp_avg_U' not in state:\n",
    "                        state['step'] = 0\n",
    "                        state['exp_avg_U'] = torch.zeros_like(grad_u)\n",
    "                        state['exp_avg_sq_U'] = torch.zeros_like(grad_u)\n",
    "                        state['exp_avg_V'] = torch.zeros_like(grad_v)\n",
    "                        state['exp_avg_sq_V'] = torch.zeros_like(grad_v)\n",
    "\n",
    "                    state['step'] += 1\n",
    "                    beta1, beta2 = group['betas']\n",
    "\n",
    "                    # Update low-rank factors using AdamW logic\n",
    "                    for factors in [(grad_u, 'exp_avg_U', 'exp_avg_sq_U'),\n",
    "                                    (grad_v, 'exp_avg_V', 'exp_avg_sq_V')]:\n",
    "                        G, M, V = factors\n",
    "                        state[M].mul_(beta1).add_(G, alpha=1 - beta1)\n",
    "                        state[V].mul_(beta2).addcmul_(G, G, value=1 - beta2)\n",
    "\n",
    "                        bias_correction1 = 1 - beta1 ** state['step']\n",
    "                        bias_correction2 = 1 - beta2 ** state['step']\n",
    "\n",
    "                        denom = (state[V].sqrt() / math.sqrt(bias_correction2)).add_(group['eps'])\n",
    "                        update_factor = state[M] / bias_correction1\n",
    "\n",
    "                        if G is grad_u:\n",
    "                            update_u = update_factor / denom\n",
    "                        else:\n",
    "                            update_v = update_factor / denom\n",
    "                    \n",
    "                    # Reconstruct the full update and apply it\n",
    "                    p.add_((update_u @ update_v.T), alpha=-group['lr'])\n",
    "\n",
    "                else:\n",
    "                    if 'exp_avg' not in state:\n",
    "                        state['step'] = 0\n",
    "                        state['exp_avg'] = torch.zeros_like(p.data)\n",
    "                        state['exp_avg_sq'] = torch.zeros_like(p.data)\n",
    "\n",
    "                    state['step'] += 1\n",
    "                    beta1, beta2 = group['betas']\n",
    "\n",
    "                    state['exp_avg'].mul_(beta1).add_(grad, alpha=1 - beta1)\n",
    "                    state['exp_avg_sq'].mul_(beta2).addcmul_(grad, grad, value=1 - beta2)\n",
    "\n",
    "                    bias_correction1 = 1 - beta1 ** state['step']\n",
    "                    bias_correction2 = 1 - beta2 ** state['step']\n",
    "                    denom = (state['exp_avg_sq'].sqrt() / math.sqrt(bias_correction2)).add_(group['eps'])\n",
    "                    step_size = group['lr'] / bias_correction1\n",
    "                    \n",
    "                    p.addcdiv_(state['exp_avg'], denom, value=-step_size)\n"
   ]
  },
  {
   "cell_type": "markdown",
   "metadata": {},
   "source": [
    "#### `Обучение с помощью MeZO`"
   ]
  },
  {
   "cell_type": "code",
   "execution_count": 5,
   "metadata": {},
   "outputs": [],
   "source": [
    "def train_one_epoch_mezo(model, loader, lr=1e-4, sigma=1e-5, device=DEVICE):\n",
    "    \"\"\"Trains the model for one epoch using the MeZO algorithm.\"\"\"\n",
    "    model.train()\n",
    "    total_loss = 0\n",
    "    \n",
    "    for batch in tqdm(loader, desc=\"MeZO Finetuning\"):\n",
    "        batch = {k: v.to(device) for k, v in batch.items()}\n",
    "        \n",
    "        with torch.no_grad():\n",
    "            # 1. Store original parameters and calculate original loss\n",
    "            original_params = [p.clone() for p in model.parameters()]\n",
    "            outputs_orig = model(**batch)\n",
    "            loss_orig = outputs_orig.loss\n",
    "\n",
    "            # 2. Create a random perturbation vector\n",
    "            perturbation = [torch.randn_like(p) for p in model.parameters()]\n",
    "\n",
    "            # 3. Calculate loss with positive perturbation\n",
    "            for p, p_pert in zip(model.parameters(), perturbation):\n",
    "                p.data.add_(p_pert, alpha=sigma)\n",
    "            outputs_pert_plus = model(**batch)\n",
    "            loss_pert_plus = outputs_pert_plus.loss\n",
    "\n",
    "            # 4. Calculate loss with negative perturbation\n",
    "            for p, p_pert in zip(model.parameters(), perturbation):\n",
    "                p.data.add_(p_pert, alpha=-2 * sigma)\n",
    "            outputs_pert_minus = model(**batch)\n",
    "            loss_pert_minus = outputs_pert_minus.loss\n",
    "\n",
    "            # 5. Estimate the projected gradient\n",
    "            # Add a small epsilon to avoid division by zero\n",
    "            projected_grad = (loss_pert_plus - loss_pert_minus) / (2 * sigma + 1e-9)\n",
    "\n",
    "            # 6. Reset to original parameters and apply the ZO update\n",
    "            for i, p in enumerate(model.parameters()):\n",
    "                p.data = original_params[i]\n",
    "                p.data.add_(perturbation[i], alpha=-lr * projected_grad)\n",
    "                \n",
    "        total_loss += loss_orig.item()\n",
    "        \n",
    "    return total_loss / len(loader)"
   ]
  },
  {
   "cell_type": "markdown",
   "metadata": {},
   "source": [
    "#### `Обучени градиентными методами, валидация`"
   ]
  },
  {
   "cell_type": "code",
   "execution_count": 6,
   "metadata": {},
   "outputs": [],
   "source": [
    "def evaluate(model, loader, device=DEVICE):\n",
    "    \"\"\"Evaluates the model's accuracy on a given data loader.\"\"\"\n",
    "    model.eval()\n",
    "    correct = 0\n",
    "    total = 0\n",
    "    with torch.no_grad():\n",
    "        for batch in loader:\n",
    "            batch = {k: v.to(device) for k, v in batch.items()}\n",
    "            outputs = model(**batch)\n",
    "            predictions = torch.argmax(outputs.logits, dim=-1)\n",
    "            total += batch[\"labels\"].size(0)\n",
    "            correct += (predictions == batch[\"labels\"]).sum().item()\n",
    "    return 100 * correct / total\n",
    "\n",
    "\n",
    "def run_gradient_experiment(method_name, optimizer_class, optimizer_params):\n",
    "    \"\"\"\n",
    "    Runs a full training and evaluation experiment for a gradient-based optimizer.\n",
    "    \n",
    "    Returns:\n",
    "        A tuple containing:\n",
    "        - result (dict): A dictionary with the method name, accuracy, and memory usage.\n",
    "        - final_state_dict (dict or None): The model's state dictionary after training.\n",
    "          This is only returned for the 'SGD' method to pass to MeZO.\n",
    "    \"\"\"\n",
    "    set_seed(RANDOM_SEED)\n",
    "    print(f\"\\n--- Running Experiment: {method_name} ---\")\n",
    "    clean_memory()\n",
    "    \n",
    "    model = get_model()\n",
    "    optimizer = optimizer_class(model.parameters(), **optimizer_params)\n",
    "    print(f\"Memory after setup: {get_peak_memory():.2f} MB\")\n",
    "\n",
    "    for epoch in range(NUM_EPOCHS_GRADIENT):\n",
    "        model.train()\n",
    "        total_loss = 0\n",
    "        pbar = tqdm(train_loader, desc=f\"Training {method_name}\")\n",
    "        for batch in pbar:\n",
    "            batch = {k: v.to(DEVICE) for k, v in batch.items()}\n",
    "            optimizer.zero_grad()\n",
    "            outputs = model(**batch)\n",
    "            loss = outputs.loss\n",
    "            loss.backward()\n",
    "            optimizer.step()\n",
    "            total_loss += loss.item()\n",
    "            pbar.set_postfix(loss=loss.item())\n",
    "            \n",
    "        train_loss = total_loss / len(train_loader)\n",
    "        accuracy = evaluate(model, test_loader)\n",
    "        print(f\"Epoch {epoch + 1}/{NUM_EPOCHS_GRADIENT} -> Loss: {train_loss:.4f}, Test Accuracy: {accuracy:.2f}%\")\n",
    "\n",
    "    final_accuracy = evaluate(model, test_loader)\n",
    "    peak_memory = get_peak_memory()\n",
    "    print(f\"\\nFinal Accuracy ({method_name}): {final_accuracy:.2f}%\")\n",
    "    print(f\"Peak Memory Usage ({method_name}): {peak_memory:.2f} MB\")\n",
    "\n",
    "    result = {\n",
    "        'Method': method_name,\n",
    "        'Accuracy (%)': final_accuracy,\n",
    "        'Peak Memory (MB)': peak_memory\n",
    "    }\n",
    "    \n",
    "    final_state_dict = None\n",
    "    if method_name == 'SGD':\n",
    "        final_state_dict = deepcopy(model.cpu().state_dict())\n",
    "\n",
    "    del model, optimizer\n",
    "    clean_memory()\n",
    "    \n",
    "    return result, final_state_dict"
   ]
  },
  {
   "cell_type": "markdown",
   "metadata": {},
   "source": [
    "#### `Запустим градиентные методы`"
   ]
  },
  {
   "cell_type": "code",
   "execution_count": 11,
   "metadata": {},
   "outputs": [
    {
     "name": "stderr",
     "output_type": "stream",
     "text": [
      "Some weights of DistilBertForSequenceClassification were not initialized from the model checkpoint at distilbert-base-uncased and are newly initialized: ['classifier.bias', 'classifier.weight', 'pre_classifier.bias', 'pre_classifier.weight']\n",
      "You should probably TRAIN this model on a down-stream task to be able to use it for predictions and inference.\n"
     ]
    },
    {
     "name": "stdout",
     "output_type": "stream",
     "text": [
      "\n",
      "--- Running Experiment: GaLore-AdamW ---\n",
      "Memory after setup: 272.87 MB\n"
     ]
    },
    {
     "data": {
      "application/vnd.jupyter.widget-view+json": {
       "model_id": "8d8aed42b6554e61be2a3ffd03742d53",
       "version_major": 2,
       "version_minor": 0
      },
      "text/plain": [
       "Training GaLore-AdamW:   0%|          | 0/250 [00:00<?, ?it/s]"
      ]
     },
     "metadata": {},
     "output_type": "display_data"
    },
    {
     "name": "stdout",
     "output_type": "stream",
     "text": [
      "Epoch 1/1 -> Loss: 0.4763, Test Accuracy: 84.75%\n",
      "\n",
      "Final Accuracy (GaLore-AdamW): 84.75%\n",
      "Peak Memory Usage (GaLore-AdamW): 1678.70 MB\n"
     ]
    }
   ],
   "source": [
    "all_results = []\n",
    "sgd_final_state_dict = None\n",
    "\n",
    "# # --- Experiment 1: AdamW (Baseline) ---\n",
    "adamw_result, _ = run_gradient_experiment(\n",
    "    method_name='AdamW',\n",
    "    optimizer_class=optim.AdamW,\n",
    "    optimizer_params={'lr': 2e-5, 'weight_decay': 0.01}\n",
    ")\n",
    "if adamw_result:\n",
    "    all_results.append(adamw_result)\n",
    "\n",
    "# # --- Experiment 2: SGD (and save state for MeZO) ---\n",
    "sgd_result, sgd_final_state_dict = run_gradient_experiment(\n",
    "    method_name='SGD',\n",
    "    optimizer_class=optim.SGD,\n",
    "    optimizer_params={'lr': 5e-4, 'momentum': 0.9}\n",
    ")\n",
    "if sgd_result:\n",
    "    all_results.append(sgd_result)\n",
    "\n",
    "# --- Experiment 3: GaLore-AdamW ---\n",
    "galore_result, _ = run_gradient_experiment(\n",
    "    method_name='GaLore-AdamW',\n",
    "    optimizer_class=GaLoreAdamW,\n",
    "    optimizer_params={'lr': 1e-4, 'rank': 128, 'weight_decay': 0.01}\n",
    ")\n",
    "if galore_result:\n",
    "    all_results.append(galore_result)\n"
   ]
  },
  {
   "cell_type": "markdown",
   "metadata": {},
   "source": [
    "#### `Запустим MeZO, инициализированный моделью, полученной SGD`"
   ]
  },
  {
   "cell_type": "code",
   "execution_count": 8,
   "metadata": {},
   "outputs": [],
   "source": [
    "def run_mezo_experiment(initial_state_dict, num_epochs):\n",
    "    \"\"\"\n",
    "    Runs the MeZO finetuning experiment, starting from a given model state.\n",
    "    \n",
    "    Returns:\n",
    "        A dictionary with the method name, accuracy, and memory usage, or None on failure.\n",
    "    \"\"\"\n",
    "    set_seed(RANDOM_SEED)\n",
    "    method_name = 'MeZO (from SGD)'\n",
    "    print(f\"\\n--- Running Experiment: {method_name} ---\")\n",
    "    clean_memory()\n",
    "    \n",
    "    if initial_state_dict is None:\n",
    "        print(\"ERROR: An initial state dictionary must be provided for MeZO tuning.\")\n",
    "        return None\n",
    "\n",
    "    model = get_model()\n",
    "    model.load_state_dict(initial_state_dict)\n",
    "    model.to(DEVICE)\n",
    "        \n",
    "    print(f\"Memory after loading finetuned model: {get_peak_memory():.2f} MB\")\n",
    "    \n",
    "    start_accuracy = evaluate(model, test_loader)\n",
    "    print(f\"Accuracy before MeZO tuning: {start_accuracy:.2f}%\")\n",
    "\n",
    "    for epoch in range(num_epochs):\n",
    "        train_loss = train_one_epoch_mezo(model, train_loader, lr=1e-6, sigma=1e-3)\n",
    "        accuracy = evaluate(model, test_loader)\n",
    "        print(f\"Epoch {epoch + 1}/{num_epochs} -> Loss: {train_loss:.4f}, Test Accuracy: {accuracy:.2f}%\")\n",
    "\n",
    "    final_accuracy = evaluate(model, test_loader)\n",
    "    peak_memory = get_peak_memory()\n",
    "    \n",
    "    print(f\"\\nFinal Accuracy ({method_name}): {final_accuracy:.2f}%\")\n",
    "    print(f\"Peak Memory Usage ({method_name}): {peak_memory:.2f} MB\")\n",
    "    \n",
    "    result = {\n",
    "        'Method': method_name,\n",
    "        'Accuracy (%)': final_accuracy,\n",
    "        'Peak Memory (MB)': peak_memory\n",
    "    }\n",
    "    \n",
    "    del model\n",
    "    clean_memory()\n",
    "    \n",
    "    return result"
   ]
  },
  {
   "cell_type": "code",
   "execution_count": 9,
   "metadata": {},
   "outputs": [
    {
     "name": "stderr",
     "output_type": "stream",
     "text": [
      "Some weights of DistilBertForSequenceClassification were not initialized from the model checkpoint at distilbert-base-uncased and are newly initialized: ['classifier.bias', 'classifier.weight', 'pre_classifier.bias', 'pre_classifier.weight']\n",
      "You should probably TRAIN this model on a down-stream task to be able to use it for predictions and inference.\n"
     ]
    },
    {
     "name": "stdout",
     "output_type": "stream",
     "text": [
      "\n",
      "--- Running Experiment: MeZO (from SGD) ---\n",
      "Memory after loading finetuned model: 272.87 MB\n",
      "Accuracy before MeZO tuning: 80.38%\n"
     ]
    },
    {
     "data": {
      "application/vnd.jupyter.widget-view+json": {
       "model_id": "6e3554035d3f4eca853f19eaf4d9f042",
       "version_major": 2,
       "version_minor": 0
      },
      "text/plain": [
       "MeZO Finetuning:   0%|          | 0/250 [00:00<?, ?it/s]"
      ]
     },
     "metadata": {},
     "output_type": "display_data"
    },
    {
     "name": "stdout",
     "output_type": "stream",
     "text": [
      "Epoch 1/5 -> Loss: 0.4298, Test Accuracy: 80.38%\n"
     ]
    },
    {
     "data": {
      "application/vnd.jupyter.widget-view+json": {
       "model_id": "2d1d4ce622e04a5eb76b8fc31afca06f",
       "version_major": 2,
       "version_minor": 0
      },
      "text/plain": [
       "MeZO Finetuning:   0%|          | 0/250 [00:00<?, ?it/s]"
      ]
     },
     "metadata": {},
     "output_type": "display_data"
    },
    {
     "name": "stdout",
     "output_type": "stream",
     "text": [
      "Epoch 2/5 -> Loss: 0.4244, Test Accuracy: 80.88%\n"
     ]
    },
    {
     "data": {
      "application/vnd.jupyter.widget-view+json": {
       "model_id": "582befa4db3a4a5a8c9587d12991b7c0",
       "version_major": 2,
       "version_minor": 0
      },
      "text/plain": [
       "MeZO Finetuning:   0%|          | 0/250 [00:00<?, ?it/s]"
      ]
     },
     "metadata": {},
     "output_type": "display_data"
    },
    {
     "name": "stdout",
     "output_type": "stream",
     "text": [
      "Epoch 3/5 -> Loss: 0.4161, Test Accuracy: 82.62%\n"
     ]
    },
    {
     "data": {
      "application/vnd.jupyter.widget-view+json": {
       "model_id": "7c5fb48fd7224fd481b9af94cde16bd2",
       "version_major": 2,
       "version_minor": 0
      },
      "text/plain": [
       "MeZO Finetuning:   0%|          | 0/250 [00:00<?, ?it/s]"
      ]
     },
     "metadata": {},
     "output_type": "display_data"
    },
    {
     "name": "stdout",
     "output_type": "stream",
     "text": [
      "Epoch 4/5 -> Loss: 0.4123, Test Accuracy: 82.75%\n"
     ]
    },
    {
     "data": {
      "application/vnd.jupyter.widget-view+json": {
       "model_id": "529d40dbab7945ba9e0c8f822dcfba03",
       "version_major": 2,
       "version_minor": 0
      },
      "text/plain": [
       "MeZO Finetuning:   0%|          | 0/250 [00:00<?, ?it/s]"
      ]
     },
     "metadata": {},
     "output_type": "display_data"
    },
    {
     "name": "stdout",
     "output_type": "stream",
     "text": [
      "Epoch 5/5 -> Loss: 0.4077, Test Accuracy: 83.25%\n",
      "\n",
      "Final Accuracy (MeZO (from SGD)): 83.25%\n",
      "Peak Memory Usage (MeZO (from SGD)): 1059.92 MB\n"
     ]
    }
   ],
   "source": [
    "mezo_result = run_mezo_experiment(\n",
    "    initial_state_dict=sgd_final_state_dict,\n",
    "    num_epochs=5\n",
    ")\n",
    "if mezo_result:\n",
    "    all_results.append(mezo_result)"
   ]
  },
  {
   "cell_type": "markdown",
   "metadata": {},
   "source": [
    "### `Сравнение результатов`"
   ]
  },
  {
   "cell_type": "code",
   "execution_count": 12,
   "metadata": {},
   "outputs": [
    {
     "data": {
      "image/png": "[encoded data removed]",
      "text/plain": [
       "<Figure size 1800x700 with 2 Axes>"
      ]
     },
     "metadata": {},
     "output_type": "display_data"
    }
   ],
   "source": [
    "df_results = pd.DataFrame(all_results)\n",
    "\n",
    "fig, (ax1, ax2) = plt.subplots(1, 2, figsize=(18, 7))\n",
    "\n",
    "df_sorted_acc = df_results.sort_values('Accuracy (%)')\n",
    "ax1.barh(df_sorted_acc['Method'], df_sorted_acc['Accuracy (%)'], color='skyblue')\n",
    "ax1.set_title('Final Test Accuracy by Method')\n",
    "ax1.set_xlabel('Accuracy (%)')\n",
    "\n",
    "for index, value in enumerate(df_sorted_acc['Accuracy (%)']):\n",
    "    ax1.text(value, index, f' {value:.2f}%', va='center', ha='left')\n",
    "ax1.set_xlim(min(df_results['Accuracy (%)']) * 0.8, \n",
    "           max(df_results['Accuracy (%)']) * 1.1)\n",
    "\n",
    "df_sorted_mem = df_results.sort_values('Peak Memory (MB)')\n",
    "ax2.barh(df_sorted_mem['Method'], df_sorted_mem['Peak Memory (MB)'], color='salmon')\n",
    "ax2.set_title('Peak Memory Usage by Method')\n",
    "ax2.set_xlabel('Peak Memory (MB)')\n",
    "\n",
    "for index, value in enumerate(df_sorted_mem['Peak Memory (MB)']):\n",
    "    ax2.text(value, index, f' {value:.2f} MB', va='center', ha='left')\n",
    "ax2.set_xlim(0, max(df_results['Peak Memory (MB)']) * 1.15)\n",
    "\n",
    "fig.tight_layout()\n",
    "plt.show()"
   ]
  }
 ],
 "metadata": {
  "kernelspec": {
   "display_name": "alignment",
   "language": "python",
   "name": "python3"
  },
  "language_info": {
   "codemirror_mode": {
    "name": "ipython",
    "version": 3
   },
   "file_extension": ".py",
   "mimetype": "text/x-python",
   "name": "python",
   "nbconvert_exporter": "python",
   "pygments_lexer": "ipython3",
   "version": "3.12.11"
  }
 },
 "nbformat": 4,
 "nbformat_minor": 4
}
