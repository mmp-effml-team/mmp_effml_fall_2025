{
 "cells": [
  {
   "cell_type": "markdown",
   "id": "9f720956",
   "metadata": {},
   "source": [
    "# `Материалы кафедры ММП факультета ВМК МГУ. Введение в Эффективные Системы Глубокого Обучение.`\n",
    "\n",
    "# `Семинар 02. Базовые методы ускорения`\n",
    "\n",
    "### `Материалы составил Феоктистов Дмитрий (@trandelik)`\n",
    "\n",
    "#### `Москва, Осенний семестр 2025`\n",
    "\n",
    "О чём можно узнать из этого ноутбука:\n",
    "\n",
    "* Automatic Mixed Precision\n",
    "* Profiling\n",
    "* torch.compile\n",
    "\n",
    "При составлении семинара авторы сильно вдохновлялись [данным семинаром](https://github.com/mryab/efficient-dl-systems/tree/main/week03_fast_pipelines/seminar)"
   ]
  },
  {
   "cell_type": "code",
   "execution_count": 1,
   "id": "b1703437",
   "metadata": {},
   "outputs": [],
   "source": [
    "import os\n",
    "\n",
    "os.environ['CUDA_VISIBLE_DEVICES'] = '4'"
   ]
  },
  {
   "cell_type": "markdown",
   "id": "700b7b98",
   "metadata": {},
   "source": [
    "### `Automatic Mixed Precision`"
   ]
  },
  {
   "cell_type": "code",
   "execution_count": 2,
   "id": "cd0d9a70",
   "metadata": {},
   "outputs": [],
   "source": [
    "import torch\n",
    "import torch.nn as nn\n",
    "import torchvision\n",
    "\n",
    "device = torch.device(\"cuda:0\")"
   ]
  },
  {
   "cell_type": "code",
   "execution_count": 3,
   "id": "1975d42b",
   "metadata": {},
   "outputs": [],
   "source": [
    "transform = torchvision.transforms.Compose(\n",
    "    [\n",
    "        torchvision.transforms.ToTensor(),\n",
    "        torchvision.transforms.Normalize((0.1307,), (0.3081,)),\n",
    "    ]\n",
    ")\n",
    "\n",
    "mnist_train = torchvision.datasets.MNIST(\n",
    "    \"./mnist/\", train=True, download=True, transform=transform\n",
    ")\n",
    "mnist_val = torchvision.datasets.MNIST(\n",
    "    \"./mnist/\", train=False, download=True, transform=transform\n",
    ")\n",
    "\n",
    "train_dataloader = torch.utils.data.DataLoader(\n",
    "    mnist_train, batch_size=1024, shuffle=True\n",
    ")\n",
    "val_dataloader = torch.utils.data.DataLoader(\n",
    "    mnist_val, batch_size=1024, shuffle=False\n",
    ")"
   ]
  },
  {
   "cell_type": "code",
   "execution_count": 4,
   "id": "0bd8388d",
   "metadata": {},
   "outputs": [],
   "source": [
    "from train import model_provider, train, train_amp"
   ]
  },
  {
   "cell_type": "markdown",
   "id": "fd9a9060",
   "metadata": {},
   "source": [
    "Посмотрим на обучение в fp32"
   ]
  },
  {
   "cell_type": "code",
   "execution_count": 5,
   "id": "b42d6e30",
   "metadata": {},
   "outputs": [
    {
     "data": {
      "application/vnd.jupyter.widget-view+json": {
       "model_id": "541d8b81c0da4cc398df328003e60ca8",
       "version_major": 2,
       "version_minor": 0
      },
      "text/plain": [
       "Epoch 0:   0%|          | 0/59 [00:00<?, ?it/s]"
      ]
     },
     "metadata": {},
     "output_type": "display_data"
    },
    {
     "name": "stdout",
     "output_type": "stream",
     "text": [
      "Starting validation...\n",
      "Epoch: 0, loss: 0.17651556432247162, accuracy: 0.9452905654907227\n"
     ]
    }
   ],
   "source": [
    "model = model_provider()\n",
    "optimizer = torch.optim.Adam(model.parameters(), lr=0.01)\n",
    "loss = nn.CrossEntropyLoss()\n",
    "\n",
    "train(model, loss, optimizer, train_dataloader, val_dataloader, n_epochs=1)"
   ]
  },
  {
   "cell_type": "code",
   "execution_count": 6,
   "id": "0349e985",
   "metadata": {},
   "outputs": [
    {
     "data": {
      "application/vnd.jupyter.widget-view+json": {
       "model_id": "35b54c342a4848dc84646731822a8db9",
       "version_major": 2,
       "version_minor": 0
      },
      "text/plain": [
       "Epoch 0:   0%|          | 0/59 [00:00<?, ?it/s]"
      ]
     },
     "metadata": {},
     "output_type": "display_data"
    },
    {
     "name": "stdout",
     "output_type": "stream",
     "text": [
      "Starting validation...\n",
      "Epoch: 0, loss: 0.14890363812446594, accuracy: 0.951433002948761\n"
     ]
    },
    {
     "data": {
      "application/vnd.jupyter.widget-view+json": {
       "model_id": "d23df2809fba4319b348da6bd8d24c38",
       "version_major": 2,
       "version_minor": 0
      },
      "text/plain": [
       "Epoch 1:   0%|          | 0/59 [00:00<?, ?it/s]"
      ]
     },
     "metadata": {},
     "output_type": "display_data"
    },
    {
     "data": {
      "application/vnd.jupyter.widget-view+json": {
       "model_id": "b0a684fd87cb49918b6664182cac7f61",
       "version_major": 2,
       "version_minor": 0
      },
      "text/plain": [
       "Epoch 2:   0%|          | 0/59 [00:00<?, ?it/s]"
      ]
     },
     "metadata": {},
     "output_type": "display_data"
    },
    {
     "name": "stdout",
     "output_type": "stream",
     "text": [
      "Starting validation...\n",
      "Epoch: 2, loss: 0.06845909357070923, accuracy: 0.9774673581123352\n"
     ]
    }
   ],
   "source": [
    "model = model_provider()\n",
    "optimizer = torch.optim.Adam(model.parameters(), lr=0.01)\n",
    "loss = nn.CrossEntropyLoss()\n",
    "\n",
    "train(model, loss, optimizer, train_dataloader, val_dataloader, n_epochs=3)"
   ]
  },
  {
   "cell_type": "markdown",
   "id": "5ff88357",
   "metadata": {},
   "source": [
    "Теперь посмотрим на обучение в fp16"
   ]
  },
  {
   "cell_type": "code",
   "execution_count": 7,
   "id": "5d4c4267",
   "metadata": {},
   "outputs": [
    {
     "data": {
      "application/vnd.jupyter.widget-view+json": {
       "model_id": "b5e694eebe19438fb66d1fa2b7adb21f",
       "version_major": 2,
       "version_minor": 0
      },
      "text/plain": [
       "Epoch 0:   0%|          | 0/59 [00:00<?, ?it/s]"
      ]
     },
     "metadata": {},
     "output_type": "display_data"
    },
    {
     "name": "stdout",
     "output_type": "stream",
     "text": [
      "Starting validation...\n",
      "Epoch: 0, loss: nan, accuracy: 0.09818439185619354\n"
     ]
    }
   ],
   "source": [
    "model = model_provider()\n",
    "optimizer = torch.optim.Adam(model.parameters(), lr=0.01)\n",
    "loss = nn.CrossEntropyLoss()\n",
    "\n",
    "train(model, loss, optimizer, train_dataloader, val_dataloader, precision=\"half\", n_epochs=1)"
   ]
  },
  {
   "cell_type": "markdown",
   "id": "acdf9cec",
   "metadata": {},
   "source": [
    "Обучение разойдется из-за проблем с делением на очень маленькое числов в Adam"
   ]
  },
  {
   "cell_type": "code",
   "execution_count": 8,
   "id": "4728bc9d",
   "metadata": {},
   "outputs": [
    {
     "name": "stdout",
     "output_type": "stream",
     "text": [
      "Master parameters dtype: torch.float16\n",
      "Optimizer first moment dtype: torch.float16\n",
      "Optimizer second moment dtype: torch.float16\n"
     ]
    }
   ],
   "source": [
    "print(\"Master parameters dtype: {}\".format(optimizer.param_groups[0][\"params\"][0][0].dtype))\n",
    "print(\"Optimizer first moment dtype: {}\".format(optimizer.state_dict()[\"state\"][0][\"exp_avg\"].dtype))\n",
    "print(\"Optimizer second moment dtype: {}\".format(optimizer.state_dict()[\"state\"][0][\"exp_avg_sq\"].dtype))"
   ]
  },
  {
   "cell_type": "markdown",
   "id": "46bce66e",
   "metadata": {},
   "source": [
    "Посмотрим на поведение оптимизатора, в котором нет деления"
   ]
  },
  {
   "cell_type": "code",
   "execution_count": 9,
   "id": "204d96c9",
   "metadata": {},
   "outputs": [
    {
     "data": {
      "application/vnd.jupyter.widget-view+json": {
       "model_id": "b3932fb3ba76452692fefdb37164335a",
       "version_major": 2,
       "version_minor": 0
      },
      "text/plain": [
       "Epoch 0:   0%|          | 0/59 [00:00<?, ?it/s]"
      ]
     },
     "metadata": {},
     "output_type": "display_data"
    },
    {
     "name": "stdout",
     "output_type": "stream",
     "text": [
      "Starting validation...\n",
      "Epoch: 0, loss: 1.2169268131256104, accuracy: 0.5715581178665161\n"
     ]
    },
    {
     "data": {
      "application/vnd.jupyter.widget-view+json": {
       "model_id": "bb2219ea3b1b4be0a97e9387a14aff5d",
       "version_major": 2,
       "version_minor": 0
      },
      "text/plain": [
       "Epoch 1:   0%|          | 0/59 [00:00<?, ?it/s]"
      ]
     },
     "metadata": {},
     "output_type": "display_data"
    },
    {
     "data": {
      "application/vnd.jupyter.widget-view+json": {
       "model_id": "aef45792892f4a14bb4cf93505d9d79e",
       "version_major": 2,
       "version_minor": 0
      },
      "text/plain": [
       "Epoch 2:   0%|          | 0/59 [00:00<?, ?it/s]"
      ]
     },
     "metadata": {},
     "output_type": "display_data"
    },
    {
     "name": "stdout",
     "output_type": "stream",
     "text": [
      "Starting validation...\n",
      "Epoch: 2, loss: 0.16140714287757874, accuracy: 0.9487005472183228\n"
     ]
    }
   ],
   "source": [
    "model = model_provider()\n",
    "optimizer = torch.optim.SGD(model.parameters(), lr=0.1)\n",
    "loss = nn.CrossEntropyLoss()\n",
    "\n",
    "train(model, loss, optimizer, train_dataloader, val_dataloader, precision=\"half\", n_epochs=3)"
   ]
  },
  {
   "cell_type": "markdown",
   "id": "ac613281",
   "metadata": {},
   "source": [
    "На самом деле в данном случае проблема связана с `eps`"
   ]
  },
  {
   "cell_type": "code",
   "execution_count": 10,
   "id": "0c9fa526",
   "metadata": {},
   "outputs": [
    {
     "data": {
      "application/vnd.jupyter.widget-view+json": {
       "model_id": "f5867c61f77847b586e2bda051af02ec",
       "version_major": 2,
       "version_minor": 0
      },
      "text/plain": [
       "Epoch 0:   0%|          | 0/59 [00:00<?, ?it/s]"
      ]
     },
     "metadata": {},
     "output_type": "display_data"
    },
    {
     "name": "stdout",
     "output_type": "stream",
     "text": [
      "Starting validation...\n",
      "Epoch: 0, loss: 2.3055665493011475, accuracy: 0.11364994943141937\n"
     ]
    },
    {
     "data": {
      "application/vnd.jupyter.widget-view+json": {
       "model_id": "f907c4b58c6f49808b42d8eb097277bd",
       "version_major": 2,
       "version_minor": 0
      },
      "text/plain": [
       "Epoch 1:   0%|          | 0/59 [00:00<?, ?it/s]"
      ]
     },
     "metadata": {},
     "output_type": "display_data"
    },
    {
     "data": {
      "application/vnd.jupyter.widget-view+json": {
       "model_id": "9bc838c6d45248988bde691ea959a78a",
       "version_major": 2,
       "version_minor": 0
      },
      "text/plain": [
       "Epoch 2:   0%|          | 0/59 [00:00<?, ?it/s]"
      ]
     },
     "metadata": {},
     "output_type": "display_data"
    },
    {
     "name": "stdout",
     "output_type": "stream",
     "text": [
      "Starting validation...\n",
      "Epoch: 2, loss: 2.314523696899414, accuracy: 0.10305126011371613\n"
     ]
    }
   ],
   "source": [
    "model = model_provider()\n",
    "optimizer = torch.optim.Adam(model.parameters(), lr=0.01, eps=1e-4)\n",
    "loss = nn.CrossEntropyLoss()\n",
    "\n",
    "train(model, loss, optimizer, train_dataloader, val_dataloader, precision=\"half\", n_epochs=3)"
   ]
  },
  {
   "cell_type": "markdown",
   "id": "349a35e1",
   "metadata": {},
   "source": [
    "Но этого может быть недостаточно, и тогда нам на помощь придет AMP\n",
    "\n",
    "[Список CUDA операций, которые можно вычислять в fp16]((https://pytorch.org/docs/stable/amp.html#cuda-ops-that-can-autocast-to-float16)).\n",
    "\n",
    "\\_\\_matmul\\_\\_, addbmm, addmm, addmv, addr, baddbmm, bmm, chain_matmul, multi_dot, conv1d, conv2d, conv3d, conv_transpose1d, conv_transpose2d, conv_transpose3d, GRUCell, linear, LSTMCell, matmul, mm, mv, prelu, RNNCell"
   ]
  },
  {
   "cell_type": "markdown",
   "id": "f24b5919",
   "metadata": {},
   "source": [
    "![Mixed precision](data:image/jpeg;base64,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)"
   ]
  },
  {
   "cell_type": "code",
   "execution_count": 11,
   "id": "4cfe859b",
   "metadata": {},
   "outputs": [
    {
     "name": "stderr",
     "output_type": "stream",
     "text": [
      "/home/trandelik/efficient-dl-systems/week03_fast_pipelines/seminar/train.py:90: FutureWarning: `torch.cuda.amp.GradScaler(args...)` is deprecated. Please use `torch.amp.GradScaler('cuda', args...)` instead.\n",
      "  scaler = torch.cuda.amp.GradScaler()\n"
     ]
    },
    {
     "data": {
      "application/vnd.jupyter.widget-view+json": {
       "model_id": "386d0e9adca441598df39dced30eaf6b",
       "version_major": 2,
       "version_minor": 0
      },
      "text/plain": [
       "Epoch 0:   0%|          | 0/59 [00:00<?, ?it/s]"
      ]
     },
     "metadata": {},
     "output_type": "display_data"
    },
    {
     "name": "stdout",
     "output_type": "stream",
     "text": [
      "Starting validation...\n",
      "Epoch: 0, loss: 0.13943623006343842, accuracy: 0.9538504481315613\n"
     ]
    },
    {
     "data": {
      "application/vnd.jupyter.widget-view+json": {
       "model_id": "17d7a35f4ee24c5e8ff154c5f2bb21c6",
       "version_major": 2,
       "version_minor": 0
      },
      "text/plain": [
       "Epoch 1:   0%|          | 0/59 [00:00<?, ?it/s]"
      ]
     },
     "metadata": {},
     "output_type": "display_data"
    },
    {
     "data": {
      "application/vnd.jupyter.widget-view+json": {
       "model_id": "ccd13ddc503f4e98b90df04268ef1b0e",
       "version_major": 2,
       "version_minor": 0
      },
      "text/plain": [
       "Epoch 2:   0%|          | 0/59 [00:00<?, ?it/s]"
      ]
     },
     "metadata": {},
     "output_type": "display_data"
    },
    {
     "name": "stdout",
     "output_type": "stream",
     "text": [
      "Starting validation...\n",
      "Epoch: 2, loss: 0.07477988302707672, accuracy: 0.9745973348617554\n"
     ]
    }
   ],
   "source": [
    "model = model_provider()\n",
    "optimizer = torch.optim.Adam(model.parameters(), lr=0.01)\n",
    "loss = nn.CrossEntropyLoss()\n",
    "\n",
    "train_amp(model, loss, optimizer, train_dataloader, val_dataloader, loss_scaling=False, precision=\"fp16\")"
   ]
  },
  {
   "cell_type": "code",
   "execution_count": 12,
   "id": "31f2af52",
   "metadata": {},
   "outputs": [
    {
     "name": "stdout",
     "output_type": "stream",
     "text": [
      "Master parameters dtype: torch.float32\n",
      "Optimizer first moment dtype: torch.float32\n",
      "Optimizer second moment dtype: torch.float32\n"
     ]
    }
   ],
   "source": [
    "print(\"Master parameters dtype: {}\".format(optimizer.param_groups[0][\"params\"][0][0].dtype))\n",
    "print(\"Optimizer first moment dtype: {}\".format(optimizer.state_dict()[\"state\"][0][\"exp_avg\"].dtype))\n",
    "print(\"Optimizer second moment dtype: {}\".format(optimizer.state_dict()[\"state\"][0][\"exp_avg_sq\"].dtype))"
   ]
  },
  {
   "cell_type": "code",
   "execution_count": 13,
   "id": "3fd6fe0f",
   "metadata": {},
   "outputs": [
    {
     "data": {
      "application/vnd.jupyter.widget-view+json": {
       "model_id": "eb6d199e2bc0477f9a19bc78e9b16286",
       "version_major": 2,
       "version_minor": 0
      },
      "text/plain": [
       "Epoch 0:   0%|          | 0/59 [00:00<?, ?it/s]"
      ]
     },
     "metadata": {},
     "output_type": "display_data"
    },
    {
     "name": "stdout",
     "output_type": "stream",
     "text": [
      "Starting validation...\n",
      "Epoch: 0, loss: 0.23714229464530945, accuracy: 0.9206512570381165\n"
     ]
    },
    {
     "data": {
      "application/vnd.jupyter.widget-view+json": {
       "model_id": "45a884d93d4e45af9c0ee2226db885bf",
       "version_major": 2,
       "version_minor": 0
      },
      "text/plain": [
       "Epoch 1:   0%|          | 0/59 [00:00<?, ?it/s]"
      ]
     },
     "metadata": {},
     "output_type": "display_data"
    },
    {
     "data": {
      "application/vnd.jupyter.widget-view+json": {
       "model_id": "b90c5f9f65ba4fcfb0f2963b6139a6a9",
       "version_major": 2,
       "version_minor": 0
      },
      "text/plain": [
       "Epoch 2:   0%|          | 0/59 [00:00<?, ?it/s]"
      ]
     },
     "metadata": {},
     "output_type": "display_data"
    },
    {
     "name": "stdout",
     "output_type": "stream",
     "text": [
      "Starting validation...\n",
      "Epoch: 2, loss: 0.11853484809398651, accuracy: 0.963151752948761\n"
     ]
    }
   ],
   "source": [
    "model = model_provider()\n",
    "optimizer = torch.optim.Adam(model.parameters(), lr=0.01)\n",
    "loss = nn.CrossEntropyLoss()\n",
    "\n",
    "train_amp(model, loss, optimizer, train_dataloader, val_dataloader, loss_scaling=True, precision=\"fp16\")"
   ]
  },
  {
   "cell_type": "code",
   "execution_count": 14,
   "id": "22b21f42",
   "metadata": {},
   "outputs": [
    {
     "data": {
      "application/vnd.jupyter.widget-view+json": {
       "model_id": "8fa0a7c3ed5945bdb60aa45c945a06d0",
       "version_major": 2,
       "version_minor": 0
      },
      "text/plain": [
       "Epoch 0:   0%|          | 0/59 [00:00<?, ?it/s]"
      ]
     },
     "metadata": {},
     "output_type": "display_data"
    },
    {
     "name": "stdout",
     "output_type": "stream",
     "text": [
      "Starting validation...\n",
      "Epoch: 0, loss: 0.15199849009513855, accuracy: 0.9511181116104126\n"
     ]
    },
    {
     "data": {
      "application/vnd.jupyter.widget-view+json": {
       "model_id": "dbdce7cf438b4fe184298848b4247f45",
       "version_major": 2,
       "version_minor": 0
      },
      "text/plain": [
       "Epoch 1:   0%|          | 0/59 [00:00<?, ?it/s]"
      ]
     },
     "metadata": {},
     "output_type": "display_data"
    },
    {
     "data": {
      "application/vnd.jupyter.widget-view+json": {
       "model_id": "97cfbd39dab24aba9cf3dab3567a143e",
       "version_major": 2,
       "version_minor": 0
      },
      "text/plain": [
       "Epoch 2:   0%|          | 0/59 [00:00<?, ?it/s]"
      ]
     },
     "metadata": {},
     "output_type": "display_data"
    },
    {
     "name": "stdout",
     "output_type": "stream",
     "text": [
      "Starting validation...\n",
      "Epoch: 2, loss: 0.10093364864587784, accuracy: 0.9681002497673035\n"
     ]
    }
   ],
   "source": [
    "model = model_provider()\n",
    "optimizer = torch.optim.Adam(model.parameters(), lr=0.01)\n",
    "loss = nn.CrossEntropyLoss()\n",
    "\n",
    "train_amp(model, loss, optimizer, train_dataloader, val_dataloader, loss_scaling=False, precision=\"bf16\")"
   ]
  },
  {
   "cell_type": "markdown",
   "id": "231cb363",
   "metadata": {},
   "source": [
    "Как можно заметить, время работы особо не отличается (почему?)"
   ]
  },
  {
   "cell_type": "markdown",
   "id": "bc6222a4",
   "metadata": {},
   "source": [
    "Теперь попробуем замерить время честно"
   ]
  },
  {
   "cell_type": "code",
   "execution_count": 15,
   "id": "bdac7236",
   "metadata": {},
   "outputs": [],
   "source": [
    "import gc\n",
    "from time import time\n",
    "\n",
    "import torch\n",
    "import torch.nn as nn\n",
    "from tqdm.auto import tqdm, trange\n",
    "\n",
    "device = torch.device(\"cuda:0\")\n",
    "\n",
    "start_time = None\n",
    "\n",
    "batch_size = 512  # Try, for example, 128, 256, 513\n",
    "in_size = 4096 + 2048\n",
    "out_size = 4096 + 2048\n",
    "num_layers = 3\n",
    "num_batches = 50\n",
    "epochs = 3\n",
    "\n",
    "\n",
    "def start_timer():\n",
    "    global start_time\n",
    "    gc.collect()\n",
    "    torch.cuda.empty_cache()\n",
    "    torch.cuda.reset_peak_memory_stats()\n",
    "    torch.cuda.synchronize()\n",
    "    start_time = time()\n",
    "\n",
    "\n",
    "def end_timer_and_print(local_msg):\n",
    "    torch.cuda.synchronize()\n",
    "    end_time = time()\n",
    "    print(\"\\n\" + local_msg)\n",
    "    print(f\"Total execution time = {end_time - start_time:.3f} sec\")\n",
    "    print(\n",
    "        f\"Max memory used by tensors = {torch.cuda.max_memory_allocated() // 1_000_000} megabytes\"\n",
    "    )\n",
    "\n",
    "def make_model(in_size: int, out_size: int, num_layers: int) -> torch.nn.Module:\n",
    "    layers = []\n",
    "    for _ in range(num_layers - 1):\n",
    "        layers.append(torch.nn.Linear(in_size, in_size))\n",
    "        layers.append(torch.nn.ReLU())\n",
    "    layers.append(torch.nn.Linear(in_size, out_size))\n",
    "    return torch.nn.Sequential(*tuple(layers))"
   ]
  },
  {
   "cell_type": "code",
   "execution_count": 16,
   "id": "cb66edc2",
   "metadata": {},
   "outputs": [],
   "source": [
    "data = [torch.randn(batch_size, in_size, device=device) for _ in range(num_batches)]\n",
    "targets = [torch.randn(batch_size, out_size, device=device) for _ in range(num_batches)]\n",
    "loss_fn = torch.nn.MSELoss().to(device)"
   ]
  },
  {
   "cell_type": "code",
   "execution_count": 17,
   "id": "75cde7ce",
   "metadata": {},
   "outputs": [
    {
     "data": {
      "application/vnd.jupyter.widget-view+json": {
       "model_id": "c3877feab7ab4271b6e9d06ed5db7390",
       "version_major": 2,
       "version_minor": 0
      },
      "text/plain": [
       "  0%|          | 0/3 [00:00<?, ?it/s]"
      ]
     },
     "metadata": {},
     "output_type": "display_data"
    },
    {
     "name": "stdout",
     "output_type": "stream",
     "text": [
      "\n",
      "Full precision:\n",
      "Total execution time = 2.845 sec\n",
      "Max memory used by tensors = 2221 megabytes\n"
     ]
    }
   ],
   "source": [
    "net = make_model(in_size, out_size, num_layers).to(device)\n",
    "opt = torch.optim.SGD(net.parameters(), lr=0.001)\n",
    "\n",
    "start_timer()\n",
    "for epoch in trange(epochs):\n",
    "    for input, target in zip(data, targets):\n",
    "        output = net(input)\n",
    "        loss = loss_fn(output, target)\n",
    "        loss.backward()\n",
    "        opt.step()\n",
    "        opt.zero_grad()  # set_to_none=True here can modestly improve performance\n",
    "end_timer_and_print(\"Full precision:\")"
   ]
  },
  {
   "cell_type": "code",
   "execution_count": 18,
   "id": "566120f0",
   "metadata": {},
   "outputs": [
    {
     "data": {
      "application/vnd.jupyter.widget-view+json": {
       "model_id": "1944906a8d51495f95462808be4cbe2d",
       "version_major": 2,
       "version_minor": 0
      },
      "text/plain": [
       "  0%|          | 0/3 [00:00<?, ?it/s]"
      ]
     },
     "metadata": {},
     "output_type": "display_data"
    },
    {
     "name": "stdout",
     "output_type": "stream",
     "text": [
      "\n",
      "Half precision:\n",
      "Total execution time = 0.350 sec\n",
      "Max memory used by tensors = 2013 megabytes\n"
     ]
    }
   ],
   "source": [
    "net = make_model(in_size, out_size, num_layers)\n",
    "opt = torch.optim.SGD(net.parameters(), lr=0.001)\n",
    "net.half().to(device)\n",
    "\n",
    "start_timer()\n",
    "for epoch in trange(epochs):\n",
    "    for input, target in zip(data, targets):\n",
    "        output = net(input.half())\n",
    "        loss = loss_fn(output, target.half())\n",
    "        loss.backward()\n",
    "        opt.step()\n",
    "        opt.zero_grad()\n",
    "end_timer_and_print(\"Half precision:\")"
   ]
  },
  {
   "cell_type": "code",
   "execution_count": 19,
   "id": "3d3f703b",
   "metadata": {},
   "outputs": [
    {
     "data": {
      "application/vnd.jupyter.widget-view+json": {
       "model_id": "9ad17c85f9e74dfba44757123491d7f4",
       "version_major": 2,
       "version_minor": 0
      },
      "text/plain": [
       "  0%|          | 0/3 [00:00<?, ?it/s]"
      ]
     },
     "metadata": {},
     "output_type": "display_data"
    },
    {
     "name": "stdout",
     "output_type": "stream",
     "text": [
      "\n",
      "Mixed precision without scaling:\n",
      "Total execution time = 0.519 sec\n",
      "Max memory used by tensors = 2278 megabytes\n"
     ]
    }
   ],
   "source": [
    "net = make_model(in_size, out_size, num_layers).to(device)\n",
    "opt = torch.optim.SGD(net.parameters(), lr=0.001)\n",
    "\n",
    "start_timer()\n",
    "for epoch in trange(epochs):\n",
    "    for input, target in zip(data, targets):\n",
    "        with torch.amp.autocast(device_type=\"cuda\", dtype=torch.float16):\n",
    "            output = net(input)\n",
    "            # output is float16 because linear layers autocast to float16.\n",
    "            assert output.dtype is torch.float16\n",
    "\n",
    "            loss = loss_fn(output, target)\n",
    "            # loss is float32 because mse_loss layers autocast to float32.\n",
    "            assert loss.dtype is torch.float32\n",
    "\n",
    "        loss.backward()\n",
    "        opt.step()\n",
    "        opt.zero_grad()\n",
    "end_timer_and_print(\"Mixed precision without scaling:\")"
   ]
  },
  {
   "cell_type": "code",
   "execution_count": 20,
   "id": "08d1ccf0",
   "metadata": {},
   "outputs": [
    {
     "name": "stderr",
     "output_type": "stream",
     "text": [
      "/var/tmp/ipykernel_3133210/325995577.py:3: FutureWarning: `torch.cuda.amp.GradScaler(args...)` is deprecated. Please use `torch.amp.GradScaler('cuda', args...)` instead.\n",
      "  scaler = torch.cuda.amp.GradScaler(enabled=True)\n"
     ]
    },
    {
     "data": {
      "application/vnd.jupyter.widget-view+json": {
       "model_id": "f39fbfff98c44174a0a0db5e3804c200",
       "version_major": 2,
       "version_minor": 0
      },
      "text/plain": [
       "  0%|          | 0/3 [00:00<?, ?it/s]"
      ]
     },
     "metadata": {},
     "output_type": "display_data"
    },
    {
     "name": "stdout",
     "output_type": "stream",
     "text": [
      "\n",
      "Mixed precision with scaling:\n",
      "Total execution time = 0.631 sec\n",
      "Max memory used by tensors = 2485 megabytes\n"
     ]
    }
   ],
   "source": [
    "net = make_model(in_size, out_size, num_layers).to(device)\n",
    "opt = torch.optim.SGD(net.parameters(), lr=0.001)\n",
    "scaler = torch.cuda.amp.GradScaler(enabled=True)\n",
    "\n",
    "start_timer()\n",
    "for epoch in trange(epochs):\n",
    "    for input, target in zip(data, targets):\n",
    "        with torch.amp.autocast(device_type=\"cuda\", dtype=torch.float16):\n",
    "            output = net(input)\n",
    "            # output is float16 because linear layers autocast to float16.\n",
    "            assert output.dtype is torch.float16\n",
    "\n",
    "            loss = loss_fn(output, target)\n",
    "            # loss is float32 because mse_loss layers autocast to float32.\n",
    "            assert loss.dtype is torch.float32\n",
    "\n",
    "        scaler.scale(loss).backward()\n",
    "        scaler.step(opt)\n",
    "        scaler.update()\n",
    "        opt.zero_grad()\n",
    "end_timer_and_print(\"Mixed precision with scaling:\")"
   ]
  },
  {
   "cell_type": "markdown",
   "id": "d989524b",
   "metadata": {},
   "source": [
    "### `Tensor cores`"
   ]
  },
  {
   "cell_type": "markdown",
   "id": "8b748479",
   "metadata": {},
   "source": [
    "Одно из важных ограничений для активации тензорных ядер заключается в том, что размерности должны быть кратны 8. Для проверки этого факта мы запустим две модели: одна будет немного больше, но при этом будет удовлетворять ограничениям для активации тензорных ядер, а другая — меньше и не будет удовлетворять этим ограничениям."
   ]
  },
  {
   "cell_type": "code",
   "execution_count": 21,
   "id": "404a42e1",
   "metadata": {},
   "outputs": [
    {
     "name": "stderr",
     "output_type": "stream",
     "text": [
      "/var/tmp/ipykernel_3133210/3809851713.py:9: FutureWarning: `torch.cuda.amp.GradScaler(args...)` is deprecated. Please use `torch.amp.GradScaler('cuda', args...)` instead.\n",
      "  scaler_8192 = torch.cuda.amp.GradScaler(enabled=True)\n",
      "/var/tmp/ipykernel_3133210/3809851713.py:13: FutureWarning: `torch.cuda.amp.GradScaler(args...)` is deprecated. Please use `torch.amp.GradScaler('cuda', args...)` instead.\n",
      "  scaler_8191 = torch.cuda.amp.GradScaler(enabled=True)\n"
     ]
    },
    {
     "data": {
      "application/vnd.jupyter.widget-view+json": {
       "model_id": "27821455731e40f1a1294f6f0edce02a",
       "version_major": 2,
       "version_minor": 0
      },
      "text/plain": [
       "  0%|          | 0/3 [00:00<?, ?it/s]"
      ]
     },
     "metadata": {},
     "output_type": "display_data"
    },
    {
     "data": {
      "application/vnd.jupyter.widget-view+json": {
       "model_id": "af9468cce9de428b83cb226f23ba4fba",
       "version_major": 2,
       "version_minor": 0
      },
      "text/plain": [
       "  0%|          | 0/3 [00:00<?, ?it/s]"
      ]
     },
     "metadata": {},
     "output_type": "display_data"
    },
    {
     "name": "stdout",
     "output_type": "stream",
     "text": [
      "\n",
      "Mixed precision, in/out dim 8192:\n",
      "Total execution time = 1.132 sec\n",
      "Max memory used by tensors = 7661 megabytes\n"
     ]
    },
    {
     "data": {
      "application/vnd.jupyter.widget-view+json": {
       "model_id": "c0376047d3514f378108823a91a7ee0a",
       "version_major": 2,
       "version_minor": 0
      },
      "text/plain": [
       "  0%|          | 0/3 [00:00<?, ?it/s]"
      ]
     },
     "metadata": {},
     "output_type": "display_data"
    },
    {
     "name": "stdout",
     "output_type": "stream",
     "text": [
      "\n",
      "Mixed precision, in/out dim 8191:\n",
      "Total execution time = 1.802 sec\n",
      "Max memory used by tensors = 7661 megabytes\n"
     ]
    }
   ],
   "source": [
    "data_8192 = [torch.randn(512, 8192, device=device) for _ in range(num_batches)]\n",
    "targets_8192 = [torch.randn(512, 8192, device=device) for _ in range(num_batches)]\n",
    "\n",
    "data_8191 = [torch.randn(512, 8191, device=device) for _ in range(num_batches)]\n",
    "targets_8191 = [torch.randn(512, 8191, device=device) for _ in range(num_batches)]\n",
    "\n",
    "net_8192 = make_model(8192, 8192, num_layers).to(device)\n",
    "opt_8192 = torch.optim.SGD(net_8192.parameters(), lr=0.001)\n",
    "scaler_8192 = torch.cuda.amp.GradScaler(enabled=True)\n",
    "\n",
    "net_8191 = make_model(8191, 8191, num_layers).to(device)\n",
    "opt_8191 = torch.optim.SGD(net_8191.parameters(), lr=0.001)\n",
    "scaler_8191 = torch.cuda.amp.GradScaler(enabled=True)\n",
    "\n",
    "loss_fn = torch.nn.MSELoss().to(device)\n",
    "\n",
    "# warmup\n",
    "for epoch in trange(epochs):\n",
    "    for input, target in zip(data_8192, targets_8192):\n",
    "        with torch.amp.autocast(device_type=\"cuda\", dtype=torch.float16):\n",
    "            output = net_8192(input)\n",
    "\n",
    "# with tensor cores\n",
    "start_timer()\n",
    "for epoch in trange(epochs):\n",
    "    for input, target in zip(data_8192, targets_8192):\n",
    "        with torch.amp.autocast(device_type=\"cuda\", dtype=torch.float16):\n",
    "            output = net_8192(input)\n",
    "            loss = loss_fn(output, target)\n",
    "\n",
    "        scaler_8192.scale(loss).backward()\n",
    "        scaler_8192.step(opt_8192)\n",
    "        scaler_8192.update()\n",
    "        opt_8192.zero_grad()\n",
    "end_timer_and_print(\"Mixed precision, in/out dim 8192:\")\n",
    "\n",
    "# without tensor cores\n",
    "start_timer()\n",
    "for epoch in trange(epochs):\n",
    "    for input, target in zip(data_8191, targets_8191):\n",
    "        with torch.amp.autocast(device_type=\"cuda\", dtype=torch.float16):\n",
    "            output = net_8191(input)\n",
    "            loss = loss_fn(output, target)\n",
    "        scaler_8191.scale(loss).backward()\n",
    "        scaler_8191.step(opt_8191)\n",
    "        scaler_8191.update()\n",
    "        opt_8191.zero_grad()\n",
    "end_timer_and_print(\"Mixed precision, in/out dim 8191:\")"
   ]
  },
  {
   "cell_type": "markdown",
   "id": "0f05ca39",
   "metadata": {},
   "source": [
    "### `Профилирование`"
   ]
  },
  {
   "cell_type": "markdown",
   "id": "0be62f51",
   "metadata": {},
   "source": [
    "У профилирования две основные задачи:\n",
    "- Не допускать простоя оборудования из-за взаимных ожиданий (например, процессорный боттлнек при обучении нейросетей).\n",
    "- Находить самые ресурсоёмкие части кода, чтобы их можно было проанализировать и оптимизировать алгоритмически или архитектурно."
   ]
  },
  {
   "cell_type": "markdown",
   "id": "65f96d8a",
   "metadata": {},
   "source": [
    "#### `py-spy` - профилировщик для Python\n",
    "\n",
    "Для профилирования любого Python кода можно использовать `py-spy` или [`scalene`](https://github.com/plasma-umass/scalene). Основным преисуществом данного подхода является то, что нам не нужно менять исходный код, и можно подключить профилировщик к любому запущенному процессу.\n",
    "\n",
    "Запустим обучение используя `python mnist_trainig.py`\n",
    "\n",
    "И запустим профилировшик `sudo py-spy record -o profile.svg --pid <get_pid>`."
   ]
  },
  {
   "cell_type": "code",
   "execution_count": 22,
   "id": "9bb8d45c",
   "metadata": {},
   "outputs": [
    {
     "name": "stdout",
     "output_type": "stream",
     "text": [
      "Epoch 0: 100%|██████████████████████████████████| 59/59 [00:11<00:00,  5.27it/s]\n",
      "Starting validation...\n",
      "Epoch: 0, loss: 0.1338636577129364, accuracy: 0.9579221606254578\n",
      "Epoch 1: 100%|██████████████████████████████████| 59/59 [00:10<00:00,  5.82it/s]\n",
      "Epoch 2: 100%|██████████████████████████████████| 59/59 [00:10<00:00,  5.73it/s]\n",
      "Starting validation...\n",
      "Epoch: 2, loss: 0.07769663631916046, accuracy: 0.9764528274536133\n",
      "Epoch 3:  19%|██████▎                           | 11/59 [00:01<00:08,  5.71it/s]^C\n",
      "Epoch 3:  19%|██████▎                           | 11/59 [00:02<00:09,  5.22it/s]\n",
      "Traceback (most recent call last):\n",
      "  File \"/home/trandelik/efficient-dl-systems/week03_fast_pipelines/seminar/mnist_training.py\", line 86, in <module>\n",
      "    train(model_, loss_fn, optimizer, train_dataloader_, val_dataloader_, n_epochs=args.n_epochs)\n",
      "  File \"/home/trandelik/efficient-dl-systems/week03_fast_pipelines/seminar/train.py\", line 42, in train\n",
      "    for x_train, y_train in tqdm(train_dataloader, desc=f\"Epoch {epoch}: \"):\n",
      "  File \"/home/trandelik/micromamba/envs/tabm/lib/python3.10/site-packages/tqdm/std.py\", line 1181, in __iter__\n",
      "    for obj in iterable:\n",
      "  File \"/home/trandelik/micromamba/envs/tabm/lib/python3.10/site-packages/torch/utils/data/dataloader.py\", line 734, in __next__\n",
      "    data = self._next_data()\n",
      "  File \"/home/trandelik/micromamba/envs/tabm/lib/python3.10/site-packages/torch/utils/data/dataloader.py\", line 790, in _next_data\n",
      "    data = self._dataset_fetcher.fetch(index)  # may raise StopIteration\n",
      "  File \"/home/trandelik/micromamba/envs/tabm/lib/python3.10/site-packages/torch/utils/data/_utils/fetch.py\", line 52, in fetch\n",
      "    data = [self.dataset[idx] for idx in possibly_batched_index]\n",
      "  File \"/home/trandelik/micromamba/envs/tabm/lib/python3.10/site-packages/torch/utils/data/_utils/fetch.py\", line 52, in <listcomp>\n",
      "    data = [self.dataset[idx] for idx in possibly_batched_index]\n",
      "  File \"/home/trandelik/micromamba/envs/tabm/lib/python3.10/site-packages/torchvision/datasets/mnist.py\", line 146, in __getitem__\n",
      "    img = self.transform(img)\n",
      "  File \"/home/trandelik/micromamba/envs/tabm/lib/python3.10/site-packages/torchvision/transforms/transforms.py\", line 95, in __call__\n",
      "    img = t(img)\n",
      "  File \"/home/trandelik/micromamba/envs/tabm/lib/python3.10/site-packages/torchvision/transforms/transforms.py\", line 137, in __call__\n",
      "    return F.to_tensor(pic)\n",
      "  File \"/home/trandelik/micromamba/envs/tabm/lib/python3.10/site-packages/torchvision/transforms/functional.py\", line 168, in to_tensor\n",
      "    img = torch.from_numpy(np.array(pic, mode_to_nptype.get(pic.mode, np.uint8), copy=True))\n",
      "  File \"/home/trandelik/micromamba/envs/tabm/lib/python3.10/site-packages/PIL/Image.py\", line 735, in __array_interface__\n",
      "    new[\"data\"] = self.tobytes()\n",
      "KeyboardInterrupt\n"
     ]
    }
   ],
   "source": [
    "!python3 mnist_training.py --transforms-level 1 # --amp"
   ]
  },
  {
   "cell_type": "markdown",
   "id": "cf123597",
   "metadata": {},
   "source": [
    "#### `Deep learning profiling: PyTorch profiler`"
   ]
  },
  {
   "cell_type": "markdown",
   "id": "c0324440",
   "metadata": {},
   "source": [
    "\n",
    "[Советуем заглянуть сюда](https://pytorch.org/tutorials/recipes/recipes/profiler_recipe.html)."
   ]
  },
  {
   "cell_type": "code",
   "execution_count": 23,
   "id": "6a1d0135",
   "metadata": {},
   "outputs": [],
   "source": [
    "import torch\n",
    "import torchvision.models as models\n",
    "from torch.profiler import ProfilerActivity, profile, record_function"
   ]
  },
  {
   "cell_type": "markdown",
   "id": "061b749f",
   "metadata": {},
   "source": [
    "Будем профилировать все - GPU, CPU вычисления и даже память, а для визуализации будем использовать [perfetto.ui](https://ui.perfetto.dev/)."
   ]
  },
  {
   "cell_type": "code",
   "execution_count": 24,
   "id": "b2096596",
   "metadata": {},
   "outputs": [
    {
     "name": "stderr",
     "output_type": "stream",
     "text": [
      "/var/tmp/ipykernel_3133210/1282781177.py:5: FutureWarning: `torch.cuda.amp.GradScaler(args...)` is deprecated. Please use `torch.amp.GradScaler('cuda', args...)` instead.\n",
      "  scaler = torch.cuda.amp.GradScaler()\n"
     ]
    },
    {
     "data": {
      "application/vnd.jupyter.widget-view+json": {
       "model_id": "54a51abd27a849bea20b00ff9873b707",
       "version_major": 2,
       "version_minor": 0
      },
      "text/plain": [
       "Epoch 0:   0%|          | 0/59 [00:00<?, ?it/s]"
      ]
     },
     "metadata": {},
     "output_type": "display_data"
    }
   ],
   "source": [
    "model = model_provider()\n",
    "model.to(device)\n",
    "optimizer = torch.optim.Adam(model.parameters(), lr=0.01)\n",
    "loss_fn = nn.CrossEntropyLoss()\n",
    "scaler = torch.cuda.amp.GradScaler()\n",
    "\n",
    "with profile(\n",
    "    schedule=torch.profiler.schedule(wait=1, warmup=1, active=3, repeat=1),\n",
    "    activities=[ProfilerActivity.CPU, ProfilerActivity.CUDA],\n",
    "    record_shapes=True,\n",
    "    with_stack=True,\n",
    ") as prof:\n",
    "    epoch = 0\n",
    "    model.train()\n",
    "    for x_train, y_train in tqdm(train_dataloader, desc=f\"Epoch {epoch}: \"):\n",
    "        with torch.amp.autocast(device_type=\"cuda\", dtype=torch.float16):\n",
    "            x_train, y_train = x_train.to(device), y_train.to(device)\n",
    "            y_pred = model(x_train)\n",
    "            loss = loss_fn(y_pred, y_train)\n",
    "\n",
    "        scaler.scale(loss).backward()\n",
    "        scaler.step(optimizer)\n",
    "        scaler.update()\n",
    "        optimizer.zero_grad()\n",
    "        prof.step()\n",
    "\n",
    "prof.export_chrome_trace(\"trace.json\")"
   ]
  },
  {
   "cell_type": "markdown",
   "id": "93cc4d50",
   "metadata": {},
   "source": [
    "##### `CPU Activities`"
   ]
  },
  {
   "cell_type": "code",
   "execution_count": 25,
   "id": "286aaf79",
   "metadata": {},
   "outputs": [],
   "source": [
    "model = models.resnet18()\n",
    "inputs = torch.randn(5, 3, 224, 224)\n",
    "\n",
    "with profile(activities=[ProfilerActivity.CPU], record_shapes=True) as prof:\n",
    "    with record_function(\"model_inference\"):\n",
    "        model(inputs)"
   ]
  },
  {
   "cell_type": "code",
   "execution_count": 26,
   "id": "1ef6cec3",
   "metadata": {},
   "outputs": [
    {
     "name": "stdout",
     "output_type": "stream",
     "text": [
      "---------------------------------  ------------  ------------  ------------  ------------  ------------  ------------  \n",
      "                             Name    Self CPU %      Self CPU   CPU total %     CPU total  CPU time avg    # of Calls  \n",
      "---------------------------------  ------------  ------------  ------------  ------------  ------------  ------------  \n",
      "                  model_inference         0.18%       8.095ms       100.00%        4.385s        4.385s             1  \n",
      "                     aten::conv2d         0.01%     270.869us        47.23%        2.071s     103.567ms            20  \n",
      "                aten::convolution         0.02%     738.858us        47.23%        2.071s     103.553ms            20  \n",
      "               aten::_convolution         0.01%     490.139us        47.21%        2.070s     103.516ms            20  \n",
      "         aten::mkldnn_convolution        47.18%        2.069s        47.20%        2.070s     103.492ms            20  \n",
      "                 aten::batch_norm         0.00%     175.570us        35.91%        1.575s      78.741ms            20  \n",
      "     aten::_batch_norm_impl_index         0.01%     416.308us        35.91%        1.575s      78.732ms            20  \n",
      "          aten::native_batch_norm        35.88%        1.574s        35.90%        1.574s      78.709ms            20  \n",
      "                      aten::relu_         0.02%     724.007us        10.15%     445.201ms      26.188ms            17  \n",
      "                 aten::clamp_min_        10.14%     444.477ms        10.14%     444.477ms      26.146ms            17  \n",
      "---------------------------------  ------------  ------------  ------------  ------------  ------------  ------------  \n",
      "Self CPU time total: 4.385s\n",
      "\n"
     ]
    }
   ],
   "source": [
    "print(\n",
    "    prof.key_averages().table(\n",
    "        sort_by=\"cpu_time_total\", row_limit=10\n",
    "    )\n",
    ")"
   ]
  },
  {
   "cell_type": "code",
   "execution_count": 27,
   "id": "cb4f1cae",
   "metadata": {},
   "outputs": [
    {
     "name": "stdout",
     "output_type": "stream",
     "text": [
      "---------------------------------  ------------  ------------  ------------  ------------  ------------  ------------  --------------------------------------------------------------------------------  \n",
      "                             Name    Self CPU %      Self CPU   CPU total %     CPU total  CPU time avg    # of Calls                                                                      Input Shapes  \n",
      "---------------------------------  ------------  ------------  ------------  ------------  ------------  ------------  --------------------------------------------------------------------------------  \n",
      "                  model_inference         0.18%       8.095ms       100.00%        4.385s        4.385s             1                                                                                []  \n",
      "                     aten::conv2d         0.00%      52.840us         9.47%     415.363ms     103.841ms             4                             [[5, 64, 56, 56], [64, 64, 3, 3], [], [], [], [], []]  \n",
      "                aten::convolution         0.00%     136.559us         9.47%     415.310ms     103.828ms             4                     [[5, 64, 56, 56], [64, 64, 3, 3], [], [], [], [], [], [], []]  \n",
      "               aten::_convolution         0.00%      97.990us         9.47%     415.174ms     103.793ms             4     [[5, 64, 56, 56], [64, 64, 3, 3], [], [], [], [], [], [], [], [], [], [], []]  \n",
      "         aten::mkldnn_convolution         9.46%     414.900ms         9.47%     415.076ms     103.769ms             4                             [[5, 64, 56, 56], [64, 64, 3, 3], [], [], [], [], []]  \n",
      "                 aten::batch_norm         0.00%      43.940us         9.07%     397.717ms      79.543ms             5                    [[5, 128, 28, 28], [128], [128], [128], [128], [], [], [], []]  \n",
      "     aten::_batch_norm_impl_index         0.00%      87.599us         9.07%     397.673ms      79.535ms             5                    [[5, 128, 28, 28], [128], [128], [128], [128], [], [], [], []]  \n",
      "          aten::native_batch_norm         9.06%     397.473ms         9.07%     397.576ms      79.515ms             5                        [[5, 128, 28, 28], [128], [128], [128], [128], [], [], []]  \n",
      "                 aten::batch_norm         0.00%      43.830us         9.01%     394.955ms      78.991ms             5                      [[5, 512, 7, 7], [512], [512], [512], [512], [], [], [], []]  \n",
      "     aten::_batch_norm_impl_index         0.00%      95.280us         9.01%     394.911ms      78.982ms             5                      [[5, 512, 7, 7], [512], [512], [512], [512], [], [], [], []]  \n",
      "---------------------------------  ------------  ------------  ------------  ------------  ------------  ------------  --------------------------------------------------------------------------------  \n",
      "Self CPU time total: 4.385s\n",
      "\n"
     ]
    }
   ],
   "source": [
    "print(\n",
    "    prof.key_averages(group_by_input_shape=True).table(\n",
    "        sort_by=\"cpu_time_total\", row_limit=10\n",
    "    )\n",
    ")"
   ]
  },
  {
   "cell_type": "markdown",
   "id": "14d58cdf",
   "metadata": {},
   "source": [
    "##### `CPU + CUDA Activities`"
   ]
  },
  {
   "cell_type": "code",
   "execution_count": 30,
   "id": "8c6b69f2",
   "metadata": {},
   "outputs": [
    {
     "name": "stdout",
     "output_type": "stream",
     "text": [
      "---------------------------------  ------------  ------------  ------------  ------------  ------------  ------------  \n",
      "                             Name    Self CPU %      Self CPU   CPU total %     CPU total  CPU time avg    # of Calls  \n",
      "---------------------------------  ------------  ------------  ------------  ------------  ------------  ------------  \n",
      "                model_inference_1         0.16%       7.009ms        99.98%        4.392s        4.392s             1  \n",
      "                     aten::conv2d         0.00%     212.200us        47.42%        2.083s     104.156ms            20  \n",
      "                aten::convolution         0.01%     634.905us        47.42%        2.083s     104.145ms            20  \n",
      "               aten::_convolution         0.01%     402.268us        47.40%        2.082s     104.113ms            20  \n",
      "         aten::mkldnn_convolution        47.38%        2.081s        47.39%        2.082s     104.093ms            20  \n",
      "                      aten::empty         0.02%     727.079us         0.02%     727.079us       3.635us           200  \n",
      "                aten::as_strided_         0.01%     297.087us         0.01%     297.087us      14.854us            20  \n",
      "                    aten::resize_         0.00%      66.759us         0.00%      66.759us       3.338us            20  \n",
      "                       aten::add_         4.79%     210.225ms         4.79%     210.225ms       7.508ms            28  \n",
      "                 aten::batch_norm         0.00%     139.010us        35.70%        1.568s      78.404ms            20  \n",
      "---------------------------------  ------------  ------------  ------------  ------------  ------------  ------------  \n",
      "Self CPU time total: 4.393s\n",
      "\n"
     ]
    }
   ],
   "source": [
    "with profile(\n",
    "    activities=[ProfilerActivity.CPU, ProfilerActivity.CUDA], record_shapes=True\n",
    ") as prof:\n",
    "    with record_function(\"model_inference_1\"):\n",
    "        model(inputs)\n",
    "\n",
    "print(prof.key_averages().table(sort_by=\"cuda_time_total\", row_limit=10))"
   ]
  },
  {
   "cell_type": "markdown",
   "id": "ec0819bb",
   "metadata": {},
   "source": [
    "#### `Memory profiling`"
   ]
  },
  {
   "cell_type": "code",
   "execution_count": 31,
   "id": "28fa5a3b",
   "metadata": {},
   "outputs": [
    {
     "name": "stdout",
     "output_type": "stream",
     "text": [
      "---------------------------------  ------------  ------------  ------------  ------------  ------------  ------------  ------------  ------------  --------------------------------------------------------------------------------  \n",
      "                             Name    Self CPU %      Self CPU   CPU total %     CPU total  CPU time avg       CPU Mem  Self CPU Mem    # of Calls                                                                      Input Shapes  \n",
      "---------------------------------  ------------  ------------  ------------  ------------  ------------  ------------  ------------  ------------  --------------------------------------------------------------------------------  \n",
      "                     aten::conv2d         0.00%      14.460us         1.59%      69.768ms      69.768ms      15.31 MB           0 B             1                             [[5, 3, 224, 224], [64, 3, 7, 7], [], [], [], [], []]  \n",
      "                aten::convolution         0.00%      65.159us         1.59%      69.753ms      69.753ms      15.31 MB           0 B             1                     [[5, 3, 224, 224], [64, 3, 7, 7], [], [], [], [], [], [], []]  \n",
      "               aten::_convolution         0.00%      26.320us         1.59%      69.688ms      69.688ms      15.31 MB           0 B             1     [[5, 3, 224, 224], [64, 3, 7, 7], [], [], [], [], [], [], [], [], [], [], []]  \n",
      "         aten::mkldnn_convolution         1.59%      69.606ms         1.59%      69.662ms      69.662ms      15.31 MB           0 B             1                             [[5, 3, 224, 224], [64, 3, 7, 7], [], [], [], [], []]  \n",
      "                      aten::empty         0.02%     873.458us         0.02%     873.458us       4.367us      94.86 MB      94.86 MB           200                                                          [[], [], [], [], [], []]  \n",
      "                aten::as_strided_         0.00%      18.950us         0.00%      18.950us      18.950us           0 B           0 B             1                                                   [[5, 64, 112, 112], [], [], []]  \n",
      "                    aten::resize_         0.00%       3.290us         0.00%       3.290us       3.290us           0 B           0 B             1                                                       [[5, 64, 112, 112], [], []]  \n",
      "                         [memory]         0.00%       0.000us         0.00%       0.000us       0.000us    -106.30 MB    -106.30 MB           124                                                                                []  \n",
      "                       aten::add_         0.01%     521.630us         0.01%     521.630us      26.081us           0 B           0 B            20                                                                      [[], [], []]  \n",
      "                 aten::batch_norm         0.00%       8.890us         1.82%      79.583ms      79.583ms      15.31 MB           0 B             1                       [[5, 64, 112, 112], [64], [64], [64], [64], [], [], [], []]  \n",
      "---------------------------------  ------------  ------------  ------------  ------------  ------------  ------------  ------------  ------------  --------------------------------------------------------------------------------  \n",
      "Self CPU time total: 4.380s\n",
      "\n"
     ]
    }
   ],
   "source": [
    "with profile(\n",
    "    activities=[ProfilerActivity.CPU], profile_memory=True, record_shapes=True\n",
    ") as prof:\n",
    "    model(inputs)\n",
    "\n",
    "print(prof.key_averages(group_by_input_shape=True).table(sort_by=\"self_cuda_memory_usage\", row_limit=10))"
   ]
  },
  {
   "cell_type": "markdown",
   "id": "d7969f9a",
   "metadata": {},
   "source": [
    "Сделаем снэпшот памяти ([Understanding CUDA Memory Usage](https://pytorch.org/docs/stable/torch_cuda_memory.html)) и изучим, как выделяется память при обучении с AMP и без него."
   ]
  },
  {
   "cell_type": "code",
   "execution_count": 32,
   "id": "bd2d2b63",
   "metadata": {},
   "outputs": [
    {
     "name": "stdout",
     "output_type": "stream",
     "text": [
      "[W919 14:35:30.933781808 unwind.cpp:219] Warning: Unsupported unwinding pattern: Address not in range (function unwinderFor)\n",
      "/home/trandelik/efficient-dl-systems/week03_fast_pipelines/seminar/memory_snapshot.py:35: FutureWarning: `torch.cuda.amp.GradScaler(args...)` is deprecated. Please use `torch.amp.GradScaler('cuda', args...)` instead.\n",
      "  scaler = torch.cuda.amp.GradScaler(enabled=True)\n",
      "100%|█████████████████████████████████████████████| 1/1 [00:04<00:00,  4.69s/it]\n"
     ]
    }
   ],
   "source": [
    "!python3 memory_snapshot.py"
   ]
  },
  {
   "cell_type": "code",
   "execution_count": 33,
   "id": "56c9884a",
   "metadata": {},
   "outputs": [
    {
     "name": "stdout",
     "output_type": "stream",
     "text": [
      "[W919 14:36:01.671599162 unwind.cpp:219] Warning: Unsupported unwinding pattern: Address not in range (function unwinderFor)\n",
      "/home/trandelik/efficient-dl-systems/week03_fast_pipelines/seminar/memory_snapshot.py:35: FutureWarning: `torch.cuda.amp.GradScaler(args...)` is deprecated. Please use `torch.amp.GradScaler('cuda', args...)` instead.\n",
      "  scaler = torch.cuda.amp.GradScaler(enabled=True)\n",
      "100%|█████████████████████████████████████████████| 1/1 [00:01<00:00,  1.51s/it]\n"
     ]
    }
   ],
   "source": [
    "!python3 memory_snapshot.py --amp"
   ]
  },
  {
   "cell_type": "markdown",
   "id": "66cb0a5b",
   "metadata": {},
   "source": [
    "### `torch.compile`"
   ]
  },
  {
   "cell_type": "markdown",
   "id": "2c14f736",
   "metadata": {},
   "source": [
    "Для начала скомпилируем модель"
   ]
  },
  {
   "cell_type": "code",
   "execution_count": 34,
   "id": "2d079f87",
   "metadata": {},
   "outputs": [
    {
     "name": "stderr",
     "output_type": "stream",
     "text": [
      "/var/tmp/ipykernel_3133210/1873066538.py:6: FutureWarning: `torch.cuda.amp.GradScaler(args...)` is deprecated. Please use `torch.amp.GradScaler('cuda', args...)` instead.\n",
      "  scaler = torch.cuda.amp.GradScaler()\n"
     ]
    },
    {
     "data": {
      "application/vnd.jupyter.widget-view+json": {
       "model_id": "b4db28ed9ce84ad38b186662aae2945f",
       "version_major": 2,
       "version_minor": 0
      },
      "text/plain": [
       "Epoch 0:   0%|          | 0/59 [00:00<?, ?it/s]"
      ]
     },
     "metadata": {},
     "output_type": "display_data"
    }
   ],
   "source": [
    "model = model_provider()\n",
    "model.to(device)\n",
    "model = torch.compile(model)\n",
    "optimizer = torch.optim.Adam(model.parameters(), lr=0.01)\n",
    "loss_fn = nn.CrossEntropyLoss()\n",
    "scaler = torch.cuda.amp.GradScaler()\n",
    "\n",
    "with profile(\n",
    "    schedule=torch.profiler.schedule(wait=1, warmup=1, active=3, repeat=1),\n",
    "    activities=[ProfilerActivity.CPU, ProfilerActivity.CUDA],\n",
    "    record_shapes=True,\n",
    "    with_stack=True,\n",
    ") as prof:\n",
    "    epoch = 0\n",
    "    model.train()\n",
    "    for x_train, y_train in tqdm(train_dataloader, desc=f\"Epoch {epoch}: \"):\n",
    "        with torch.amp.autocast(device_type=\"cuda\", dtype=torch.float16):\n",
    "            x_train, y_train = x_train.to(device), y_train.to(device)\n",
    "            y_pred = model(x_train)\n",
    "            loss = loss_fn(y_pred, y_train)\n",
    "\n",
    "        scaler.scale(loss).backward()\n",
    "        scaler.step(optimizer)\n",
    "        scaler.update()\n",
    "        optimizer.zero_grad()\n",
    "        prof.step()\n",
    "\n",
    "prof.export_chrome_trace(\"trace_compile.json\")"
   ]
  },
  {
   "cell_type": "markdown",
   "id": "db6ba60f",
   "metadata": {},
   "source": [
    "А теперь еще и шаг оптимизатора"
   ]
  },
  {
   "cell_type": "code",
   "execution_count": 35,
   "id": "1203a3e2",
   "metadata": {},
   "outputs": [
    {
     "name": "stderr",
     "output_type": "stream",
     "text": [
      "/var/tmp/ipykernel_3133210/1230627274.py:6: FutureWarning: `torch.cuda.amp.GradScaler(args...)` is deprecated. Please use `torch.amp.GradScaler('cuda', args...)` instead.\n",
      "  scaler = torch.cuda.amp.GradScaler()\n"
     ]
    },
    {
     "data": {
      "application/vnd.jupyter.widget-view+json": {
       "model_id": "6ca0c1417a124275a554ddad710d7597",
       "version_major": 2,
       "version_minor": 0
      },
      "text/plain": [
       "Epoch 0:   0%|          | 0/59 [00:00<?, ?it/s]"
      ]
     },
     "metadata": {},
     "output_type": "display_data"
    },
    {
     "name": "stderr",
     "output_type": "stream",
     "text": [
      "W0919 14:55:11.280000 3133210 site-packages/torch/_logging/_internal.py:1154] [1/0] Profiler function <class 'torch.autograd.profiler.record_function'> will be ignored\n"
     ]
    }
   ],
   "source": [
    "model = model_provider()\n",
    "model.to(device)\n",
    "model = torch.compile(model)\n",
    "optimizer = torch.optim.Adam(model.parameters(), lr=0.01)\n",
    "loss_fn = nn.CrossEntropyLoss()\n",
    "scaler = torch.cuda.amp.GradScaler()\n",
    "optimizer.step = torch.compile(optimizer.step)\n",
    "\n",
    "with profile(\n",
    "    schedule=torch.profiler.schedule(wait=1, warmup=1, active=3, repeat=1),\n",
    "    activities=[ProfilerActivity.CPU, ProfilerActivity.CUDA],\n",
    "    record_shapes=True,\n",
    "    with_stack=True,\n",
    ") as prof:\n",
    "    epoch = 0\n",
    "    model.train()\n",
    "    for x_train, y_train in tqdm(train_dataloader, desc=f\"Epoch {epoch}: \"):\n",
    "        with torch.amp.autocast(device_type=\"cuda\", dtype=torch.float16):\n",
    "            x_train, y_train = x_train.to(device), y_train.to(device)\n",
    "            y_pred = model(x_train)\n",
    "            loss = loss_fn(y_pred, y_train)\n",
    "\n",
    "        scaler.scale(loss).backward()\n",
    "        scaler.step(optimizer)\n",
    "        scaler.update()\n",
    "        optimizer.zero_grad()\n",
    "        prof.step()\n",
    "\n",
    "prof.export_chrome_trace(\"trace_fused_adam.json\")"
   ]
  },
  {
   "cell_type": "code",
   "execution_count": null,
   "id": "958b481b",
   "metadata": {},
   "outputs": [],
   "source": []
  }
 ],
 "metadata": {
  "kernelspec": {
   "display_name": "Python 3",
   "language": "python",
   "name": "python3"
  },
  "language_info": {
   "codemirror_mode": {
    "name": "ipython",
    "version": 3
   },
   "file_extension": ".py",
   "mimetype": "text/x-python",
   "name": "python",
   "nbconvert_exporter": "python",
   "pygments_lexer": "ipython3",
   "version": "3.10.12"
  }
 },
 "nbformat": 4,
 "nbformat_minor": 5
}
