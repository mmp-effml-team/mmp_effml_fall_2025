{
 "cells": [
  {
   "cell_type": "markdown",
   "id": "619f4fc3-15aa-4070-bd69-9c56520d5c17",
   "metadata": {
    "id": "619f4fc3-15aa-4070-bd69-9c56520d5c17"
   },
   "source": [
    "## `Материалы кафедры ММП факультета ВМК МГУ. Введение в эффективные системы глубокого обучения.`\n",
    "\n",
    "## `Задание 03. Ускорение inference BERT`\n",
    "\n",
    "#### Фамилия, имя:\n",
    "\n",
    "Дата выдачи: <span style=\"color:red\">__14.10.2025 2:30__</span>.\n",
    "\n",
    "Мягкий дедлайн: <span style=\"color:red\">__28.10.2025 1:30__</span>.\n",
    "\n",
    "Стоимость: __10 баллов__ (основная часть заданий) + __3.1 балла__ (дополнительные задания).\n",
    "\n",
    "<span style=\"color:red\">__В ноутбуке все клетки должны выполняться без ошибок при последовательном их выполнении.__</span>\n",
    "\n",
    "#### `Москва, 2025`"
   ]
  },
  {
   "cell_type": "markdown",
   "id": "2be20808-085c-4eb3-9aeb-4de84c4becb5",
   "metadata": {
    "id": "2be20808-085c-4eb3-9aeb-4de84c4becb5"
   },
   "source": [
    "По всем вопросам по заданию писать Оганову Александру (tg: @welmud).\n",
    "\n",
    "Задание вдохновлено домашним заданием с курса [Глубинное обучение для текстовых данных](https://github.com/ashaba1in/hse-nlp/blob/05f0c8a06d58b2023705bf5d147ddcfc13b4eb03/week7_size_reduction/homework/hw4.ipynb), ФКН ВШЭ.\n"
   ]
  },
  {
   "cell_type": "markdown",
   "id": "724c03f5-1048-4f66-a3f8-889b9fc95f46",
   "metadata": {
    "id": "724c03f5-1048-4f66-a3f8-889b9fc95f46"
   },
   "source": [
    "## `Постановка задачи`\n",
    "\n",
    "Основная цель этого задания ускорить модель BERT для более эффективного inference. Мы будем рассматривать следующие подходы:\n",
    "- Дистилляция;\n",
    "- Квантизация;\n",
    "- Прунинг.\n",
    "\n",
    "Для корректной валидации методов ускорения, мы будем тестировать подходы на хорошо знакомой вам задаче Named Entity Recognition (NER) на самом популярном датасете – [CoNLL-2003](https://paperswithcode.com/dataset/conll-2003). Мы уже предобучили модель BERT, поэтома ваша цель **ускорить исходную модель с минимальной потерей качества**.\n",
    "\n",
    "\n",
    "### `Очередное напоминание о NER`\n",
    "\n",
    "Named Entity Recognition – это задача классификации токенов по классам сущностей. В CoNLL-2003 для именования сущностей используется маркировка **BIO** (Beggining, Inside, Outside), в которой метки означают следующее:\n",
    "\n",
    "- *B-{метка}* – начало сущности *{метка}*\n",
    "- *I-{метка}* – продолжение сущности *{метка}*\n",
    "- *O* – не сущность\n",
    "\n",
    "Всего в датасете есть 9 разных меток.\n",
    "- O – слову не соответствует ни одна сущность.\n",
    "- B-PER/I-PER – слово или набор слов соответствует определенному _человеку_.\n",
    "- B-ORG/I-ORG – слово или набор слов соответствует определенной _организации_.\n",
    "- B-LOC/I-LOC – слово или набор слов соответствует определенной _локации_.\n",
    "- B-MISC/I-MISC – слово или набор слов соответствует сущности, которая не относится ни к одной из предыдущих. Например, национальность, произведение искусства, мероприятие и т.д.\n",
    "\n",
    "\n",
    "### `Технические детали`\n",
    "\n",
    "В задании будет необходимо поставить много экспериментов, некоторые из них требуют обучения новой модели, другие нет. В основном мы будем работать с библиотекой hugging face. Мы тестировали код на `Python 3.12.11` и следующими версиями библиотек:\n",
    "\n",
    "```\n",
    "- torch==2.6.0\n",
    "- torchaudio==2.6.0\n",
    "- torchvision==0.21.0\n",
    "- transformers==4.56.1\n",
    "- datasets==3.6.0\n",
    "- tqdm==4.67.1\n",
    "- comet_ml==3.51.0\n",
    "- seqeval==1.2.2\n",
    "- accelerate-1.10.1\n",
    "- triton==2.3.0\n",
    "```\n",
    "\n",
    "\n",
    "**Примечание**.\n",
    "Вы можете выполнять задание параллельно, пока считаются эксперименты из первой части задания, вы можете решать остальные части задания. В случае вопросов и технических проблем следует писать в чат, задание новое."
   ]
  },
  {
   "cell_type": "code",
   "execution_count": 1,
   "id": "ZOnmxKIO2BNb",
   "metadata": {
    "colab": {
     "base_uri": "https://localhost:8080/"
    },
    "id": "ZOnmxKIO2BNb",
    "outputId": "00913e46-1846-456a-e855-6b92bf71a2fd"
   },
   "outputs": [
    {
     "name": "stdout",
     "output_type": "stream",
     "text": [
      "Mon Oct 13 21:45:36 2025       \n",
      "+-----------------------------------------------------------------------------------------+\n",
      "| NVIDIA-SMI 550.54.15              Driver Version: 550.54.15      CUDA Version: 12.4     |\n",
      "|-----------------------------------------+------------------------+----------------------+\n",
      "| GPU  Name                 Persistence-M | Bus-Id          Disp.A | Volatile Uncorr. ECC |\n",
      "| Fan  Temp   Perf          Pwr:Usage/Cap |           Memory-Usage | GPU-Util  Compute M. |\n",
      "|                                         |                        |               MIG M. |\n",
      "|=========================================+========================+======================|\n",
      "|   0  Tesla T4                       Off |   00000000:00:04.0 Off |                    0 |\n",
      "| N/A   74C    P8             12W /   70W |       0MiB /  15360MiB |      0%      Default |\n",
      "|                                         |                        |                  N/A |\n",
      "+-----------------------------------------+------------------------+----------------------+\n",
      "                                                                                         \n",
      "+-----------------------------------------------------------------------------------------+\n",
      "| Processes:                                                                              |\n",
      "|  GPU   GI   CI        PID   Type   Process name                              GPU Memory |\n",
      "|        ID   ID                                                               Usage      |\n",
      "|=========================================================================================|\n",
      "|  No running processes found                                                             |\n",
      "+-----------------------------------------------------------------------------------------+\n"
     ]
    }
   ],
   "source": [
    "!nvidia-smi"
   ]
  },
  {
   "cell_type": "code",
   "execution_count": 2,
   "id": "0ab10db2-55e7-45c6-8360-1a4974f625c2",
   "metadata": {
    "id": "0ab10db2-55e7-45c6-8360-1a4974f625c2"
   },
   "outputs": [],
   "source": [
    "# Этот код может вам помочь установить нужные библиотеки. Лучше использовать Google Colab.\n",
    "\n",
    "# !pip install torch==2.6.0 torchvision==0.21.0 torchaudio==2.6.0 # Можете использовать --index-url https://download.pytorch.org/whl/cu124 если считаете нужным\n",
    "# !pip install triton==3.2.0\n",
    "# !pip install datasets==3.6.0\n",
    "# !pip install seqeval==1.2.2"
   ]
  },
  {
   "cell_type": "code",
   "execution_count": 3,
   "id": "EKhQ5C5114iG",
   "metadata": {
    "colab": {
     "base_uri": "https://localhost:8080/"
    },
    "id": "EKhQ5C5114iG",
    "outputId": "d6a68bc2-342b-4d80-f7fe-0222ccfc9c7c"
   },
   "outputs": [
    {
     "name": "stdout",
     "output_type": "stream",
     "text": [
      "datasets==3.6.0\n",
      "tensorflow-datasets==4.9.9\n",
      "vega-datasets==0.9.0\n",
      "triton==3.2.0\n"
     ]
    }
   ],
   "source": [
    "!pip freeze | grep datasets\n",
    "!pip freeze | grep triton"
   ]
  },
  {
   "cell_type": "markdown",
   "id": "33c40d43-12b1-4e02-b14d-c436c376c76b",
   "metadata": {
    "id": "33c40d43-12b1-4e02-b14d-c436c376c76b"
   },
   "source": [
    "# `Часть 0. Загрузка и предобработка данных (1 балл)`"
   ]
  },
  {
   "cell_type": "code",
   "execution_count": 4,
   "id": "4797b249-4e19-45ca-8411-12e62e6f94ab",
   "metadata": {
    "id": "4797b249-4e19-45ca-8411-12e62e6f94ab"
   },
   "outputs": [],
   "source": [
    "import time\n",
    "import random\n",
    "from copy import deepcopy\n",
    "from functools import partial\n",
    "import numpy as np\n",
    "import matplotlib.pyplot as plt\n",
    "\n",
    "import torch\n",
    "from torch import nn\n",
    "from torch.utils.data import DataLoader\n",
    "import torch.nn.functional as F\n",
    "import torch.nn.utils.prune as prune\n",
    "\n",
    "from datasets import load_dataset\n",
    "from seqeval.metrics import f1_score\n",
    "\n",
    "from transformers import AutoModelForTokenClassification\n",
    "from transformers import AutoTokenizer\n",
    "from transformers import TrainingArguments\n",
    "from transformers import Trainer\n",
    "from transformers import DataCollatorForTokenClassification\n"
   ]
  },
  {
   "cell_type": "markdown",
   "id": "7aed558b-e7f4-4797-8d97-be91b9a2daf4",
   "metadata": {
    "id": "7aed558b-e7f4-4797-8d97-be91b9a2daf4"
   },
   "source": [
    "Важной частью задания является постановка экспериментов связанных с обучением, поэтому важно фиксировать все генераторы случайных чисел для воспроизводимости. Нет смысла сравнивать результаты, если модели начинали учиться с разных инициализаций. Код ниже позволяет достаточно точно гарантировать воспроизводимость результатов."
   ]
  },
  {
   "cell_type": "code",
   "execution_count": 5,
   "id": "cd7448bb",
   "metadata": {
    "id": "cd7448bb"
   },
   "outputs": [],
   "source": [
    "def set_global_seed(seed: int) -> None:\n",
    "    \"\"\"\n",
    "    Set global seed for reproducibility.\n",
    "    \"\"\"\n",
    "\n",
    "    torch.manual_seed(seed)\n",
    "    torch.cuda.manual_seed(seed)\n",
    "    torch.cuda.manual_seed_all(seed)\n",
    "    random.seed(seed)\n",
    "    np.random.seed(seed)\n",
    "\n",
    "    torch.backends.cudnn.deterministic = True\n",
    "    torch.backends.cudnn.benchmark = False"
   ]
  },
  {
   "cell_type": "markdown",
   "id": "f1837e62-eaab-49b9-af5b-9a0572244ec8",
   "metadata": {
    "id": "f1837e62-eaab-49b9-af5b-9a0572244ec8"
   },
   "source": [
    "Настроем device, так как мы будем работать с BERT, то есть, трансформером, то крайне рекомендуется работа на GPU."
   ]
  },
  {
   "cell_type": "code",
   "execution_count": 6,
   "id": "095a3fcf",
   "metadata": {
    "colab": {
     "base_uri": "https://localhost:8080/",
     "height": 35
    },
    "id": "095a3fcf",
    "outputId": "cc0264ce-c7b3-4c2a-9724-15f2b51c55d8"
   },
   "outputs": [
    {
     "data": {
      "application/vnd.google.colaboratory.intrinsic+json": {
       "type": "string"
      },
      "text/plain": [
       "'cuda'"
      ]
     },
     "execution_count": 6,
     "metadata": {},
     "output_type": "execute_result"
    }
   ],
   "source": [
    "device = \"cpu\"\n",
    "if torch.cuda.is_available():\n",
    "    device = \"cuda\"\n",
    "device"
   ]
  },
  {
   "cell_type": "markdown",
   "id": "5a95b5f8-3650-443a-be87-57d3be207eb8",
   "metadata": {
    "id": "5a95b5f8-3650-443a-be87-57d3be207eb8"
   },
   "source": [
    "Рекомендуемые гиперпараметры представлены ниже. Мы не требуем логирования в какой-либо конкретный логер, поэтому вы можете сами указать поле `report_to` на любой удобный для вас или оставить `none`. Подробнее можно почитать [в документации](https://huggingface.co/docs/transformers/main_classes/trainer#transformers.TrainingArguments.report_to)."
   ]
  },
  {
   "cell_type": "code",
   "execution_count": 7,
   "id": "d9edb5d1",
   "metadata": {
    "id": "d9edb5d1"
   },
   "outputs": [],
   "source": [
    "base_config = {\n",
    "    'eval_strategy': \"epoch\",\n",
    "    'save_strategy': \"epoch\",\n",
    "    'learning_rate': 2e-5,\n",
    "    'num_train_epochs': 15,\n",
    "    'warmup_ratio': 0.1,\n",
    "    'weight_decay': 0.01,\n",
    "    'push_to_hub': False,\n",
    "    'report_to': \"none\"\n",
    "}"
   ]
  },
  {
   "cell_type": "markdown",
   "id": "88e5f6e9-6dad-471b-b1ca-65c78b4147de",
   "metadata": {
    "id": "88e5f6e9-6dad-471b-b1ca-65c78b4147de"
   },
   "source": [
    "Загрузим датасет и удалим не нужные столбцы: `id`, `pos_tags`, `chunk_tags`.  "
   ]
  },
  {
   "cell_type": "code",
   "execution_count": 8,
   "id": "3ef87648-86ab-4f81-9db3-5cb7f54c575d",
   "metadata": {
    "colab": {
     "base_uri": "https://localhost:8080/"
    },
    "id": "3ef87648-86ab-4f81-9db3-5cb7f54c575d",
    "outputId": "3597731e-b17a-4165-a968-876356af0c2b"
   },
   "outputs": [
    {
     "data": {
      "text/plain": [
       "DatasetDict({\n",
       "    train: Dataset({\n",
       "        features: ['tokens', 'ner_tags'],\n",
       "        num_rows: 14041\n",
       "    })\n",
       "    validation: Dataset({\n",
       "        features: ['tokens', 'ner_tags'],\n",
       "        num_rows: 3250\n",
       "    })\n",
       "    test: Dataset({\n",
       "        features: ['tokens', 'ner_tags'],\n",
       "        num_rows: 3453\n",
       "    })\n",
       "})"
      ]
     },
     "execution_count": 8,
     "metadata": {},
     "output_type": "execute_result"
    }
   ],
   "source": [
    "dataset = load_dataset(\"eriktks/conll2003\")\n",
    "\n",
    "dataset = dataset.remove_columns([\"id\", \"pos_tags\", \"chunk_tags\"])\n",
    "dataset"
   ]
  },
  {
   "cell_type": "markdown",
   "id": "3fdcb6ad-fd3c-4a2a-a6e4-d6467401af55",
   "metadata": {
    "id": "3fdcb6ad-fd3c-4a2a-a6e4-d6467401af55"
   },
   "source": [
    "Создадим отображения меток тегов в номера классов и наоборот."
   ]
  },
  {
   "cell_type": "code",
   "execution_count": 9,
   "id": "04b0e34d-edca-40bc-83ac-cff0c2872f87",
   "metadata": {
    "id": "04b0e34d-edca-40bc-83ac-cff0c2872f87"
   },
   "outputs": [],
   "source": [
    "label_names = ['O', 'B-PER', 'I-PER', 'B-ORG', 'I-ORG', 'B-LOC', 'I-LOC', 'B-MISC', 'I-MISC']\n",
    "\n",
    "id2label = {i: label for i, label in enumerate(label_names)}\n",
    "label2id = {v: k for k, v in id2label.items()}"
   ]
  },
  {
   "cell_type": "markdown",
   "id": "273ed39f-2ec1-4660-8594-112aa8cf2486",
   "metadata": {
    "id": "273ed39f-2ec1-4660-8594-112aa8cf2486"
   },
   "source": [
    "Посмотрим на пример из датасета."
   ]
  },
  {
   "cell_type": "code",
   "execution_count": 10,
   "id": "958cdff9-6ea1-4f7f-808b-dbe5620c27e7",
   "metadata": {
    "colab": {
     "base_uri": "https://localhost:8080/"
    },
    "id": "958cdff9-6ea1-4f7f-808b-dbe5620c27e7",
    "outputId": "2077e8ed-1b03-41b4-a5af-326cb6f2ffbb"
   },
   "outputs": [
    {
     "name": "stdout",
     "output_type": "stream",
     "text": [
      "EU\tB-ORG\n",
      "rejects\tO\n",
      "German\tB-MISC\n",
      "call\tO\n",
      "to\tO\n",
      "boycott\tO\n",
      "British\tB-MISC\n",
      "lamb\tO\n",
      ".\tO\n"
     ]
    }
   ],
   "source": [
    "words = dataset[\"train\"][0][\"tokens\"]\n",
    "labels = dataset[\"train\"][0][\"ner_tags\"]\n",
    "\n",
    "for i in range(len(words)):\n",
    "    print(f'{words[i]}\\t{label_names[labels[i]]}')"
   ]
  },
  {
   "cell_type": "markdown",
   "id": "2c667bce-4f81-47d1-89da-ffa7491b8ab7",
   "metadata": {
    "id": "2c667bce-4f81-47d1-89da-ffa7491b8ab7"
   },
   "source": [
    "### `Получение tokenizer-independent представления`"
   ]
  },
  {
   "cell_type": "markdown",
   "id": "9ef2312e-1335-4afa-a6e6-3cdde8515fe5",
   "metadata": {
    "id": "9ef2312e-1335-4afa-a6e6-3cdde8515fe5"
   },
   "source": [
    "На протяжении всего домашнего задания мы будем использовать _cased_ версию BERT, то есть токенизатор будет учитывать регистр слов. Для задачи NER регистр важен, так как имена и названия организаций или предметов искусства часто пишутся с большой буквы, и будет глупо прятать от модели такую информацию."
   ]
  },
  {
   "cell_type": "code",
   "execution_count": 11,
   "id": "05edcd4e-5360-41a8-b403-a9084d6a3a4a",
   "metadata": {
    "id": "05edcd4e-5360-41a8-b403-a9084d6a3a4a"
   },
   "outputs": [],
   "source": [
    "tokenizer = AutoTokenizer.from_pretrained(\"bert-base-cased\")"
   ]
  },
  {
   "cell_type": "markdown",
   "id": "34949bff-d7e9-47b3-aea7-82f1332a899c",
   "metadata": {
    "id": "34949bff-d7e9-47b3-aea7-82f1332a899c"
   },
   "source": [
    "**Задание 0 (0.5 баллов)**. Токенизируйте весь датасет и для каждого текста выравните токены с метками так, чтобы каждому токену соответствовала одна метка. При этом важно сохранить нотацию BIO. И не забудьте про специальные токены!\n",
    "\n",
    "\n",
    "**Подсказка**. Вы можете взять свой код из задания 3.5 курса `Введение в глубокое обучение` или воспользоваться официальным [туториалом](https://huggingface.co/learn/llm-course/chapter7/2). В качестве специального токена используйте -100."
   ]
  },
  {
   "cell_type": "code",
   "execution_count": 12,
   "id": "49561af2",
   "metadata": {
    "id": "49561af2"
   },
   "outputs": [],
   "source": [
    "def align_labels_with_tokens(labels, word_ids):\n",
    "    new_labels = []\n",
    "    current_word = None\n",
    "    for word_id in word_ids:\n",
    "        if word_id != current_word:\n",
    "            # Start of a new word!\n",
    "            # YOUR CODE HERE\n",
    "            label = ...\n",
    "            new_labels.append(label)\n",
    "        elif word_id is None:\n",
    "            # Special token\n",
    "            # YOUR CODE HERE\n",
    "            label = ...\n",
    "            new_labels.append(label)\n",
    "        else:\n",
    "            # Same word as previous token\n",
    "            # YOUR CODE HERE\n",
    "            label = ...\n",
    "            # If the label is B-XXX we change it to I-XXX\n",
    "            # YOUR CODE HERE\n",
    "            ...\n",
    "\n",
    "            new_labels.append(label)\n",
    "\n",
    "    return new_labels"
   ]
  },
  {
   "cell_type": "markdown",
   "id": "5c5cc1c9-7ed4-4f50-b46b-05fce2bd5060",
   "metadata": {
    "id": "5c5cc1c9-7ed4-4f50-b46b-05fce2bd5060"
   },
   "source": [
    "Должно получится что-то такое:"
   ]
  },
  {
   "cell_type": "code",
   "execution_count": 13,
   "id": "b8352b8f-f60a-4844-b428-9e866678dc64",
   "metadata": {
    "colab": {
     "base_uri": "https://localhost:8080/"
    },
    "id": "b8352b8f-f60a-4844-b428-9e866678dc64",
    "outputId": "1d32eb6f-54a6-46c1-9ac6-d51f583524e2"
   },
   "outputs": [
    {
     "name": "stdout",
     "output_type": "stream",
     "text": [
      "Выровненные метки: [-100, 0, 5, 0, 5, 0, 1, 2, 2, 0, 0, 0, 0, -100]\n",
      "Выровненные названия меток: [-100, 'O', 'B-LOC', 'O', 'B-LOC', 'O', 'B-PER', 'I-PER', 'I-PER', 'O', 'O', 'O', 'O', -100]\n"
     ]
    }
   ],
   "source": [
    "example = dataset[\"train\"][12]\n",
    "tags = [label_names[t] for t in example[\"ner_tags\"]]\n",
    "tokenized_text = tokenizer(example[\"tokens\"], truncation=True, is_split_into_words=True)\n",
    "\n",
    "aligned_labels = align_labels_with_tokens(example[\"ner_tags\"], tokenized_text.word_ids())\n",
    "tags = [label_names[t] if t > -1 else t for t in aligned_labels]\n",
    "print(\"Выровненные метки:\", aligned_labels)\n",
    "print(\"Выровненные названия меток:\", tags)"
   ]
  },
  {
   "cell_type": "code",
   "execution_count": 14,
   "id": "98e162cf-68bc-431b-8bd5-7ab7de247dcd",
   "metadata": {
    "id": "98e162cf-68bc-431b-8bd5-7ab7de247dcd"
   },
   "outputs": [],
   "source": [
    "assert aligned_labels == [-100, 0, 5, 0, 5, 0, 1, 2, 2, 0, 0, 0, 0, -100], f\"{aligned_labels}\"\n",
    "assert tags == [-100, 'O', 'B-LOC', 'O', 'B-LOC', 'O', 'B-PER', 'I-PER', 'I-PER', 'O', 'O', 'O', 'O', -100], f\"{tags}\""
   ]
  },
  {
   "cell_type": "markdown",
   "id": "9c6d660f-838e-4dc0-8be0-3468753fba9f",
   "metadata": {
    "id": "9c6d660f-838e-4dc0-8be0-3468753fba9f"
   },
   "source": [
    "#### **Задание 1 (0.5 баллов)**. Токенизируйте теперь весь датасет и замените метки.\n",
    "\n",
    "Мы будем отдельно передавать `padding=\"max_length\"` аргумент `max_length` для части квантизации. Благодаря этому батчи всегда будут одного размера, что позволит не перекомпилировать triton."
   ]
  },
  {
   "cell_type": "code",
   "execution_count": 15,
   "id": "ca5220e2",
   "metadata": {
    "id": "ca5220e2"
   },
   "outputs": [],
   "source": [
    "def tokenize_and_align_labels(examples, max_length=None, padding=False):\n",
    "    # YOUR CODE HERE\n",
    "    tokenized_inputs = tokenizer(\n",
    "        ...\n",
    "    )\n",
    "    all_labels = examples[\"ner_tags\"]\n",
    "    new_labels = []\n",
    "    for i, labels in enumerate(all_labels):\n",
    "        # YOUR CODE HERE\n",
    "        new_labels.append(...)\n",
    "\n",
    "    # YOUR CODE HERE\n",
    "    ...\n",
    "    return tokenized_inputs"
   ]
  },
  {
   "cell_type": "code",
   "execution_count": 16,
   "id": "2605ae1e",
   "metadata": {
    "colab": {
     "base_uri": "https://localhost:8080/",
     "height": 209,
     "referenced_widgets": [
      "4c464083243d428d818730c7eaa6d238",
      "4a080d6bf5a44f68b0d7f173235d617d",
      "f0bb863229054d239961bc561288ab7a",
      "e120e65a675449c2bc4f4e17358dbc0c",
      "bd0aa48dc73a4e988b1f66dda575b097",
      "03d6594491904fc3a65fd107137de5db",
      "5f5bfff5cc4744c0be755bf9f3837188",
      "0dc74212edb94202a543da744049df2a",
      "831b92e103824592a9020c5b07ba13fd",
      "26f2572a433f4f788210c47a8f40e0f8",
      "418c7c3ddb4e4cfebfaf970b4a1fc3a4",
      "5b5d383809ab46e2a0b6cbc6f55ffd15",
      "8afd47e903a64d619df47bcf725af70f",
      "70a04e155063491da3910a2aa82e5d0e",
      "c7a8cd7088a8480b9a0b5d685a1a65e7",
      "853f82b54842473a90d45a3c072e6820",
      "7660a17478714a53999e55476bb08025",
      "6c01e388a31e494d9002ec8cc34d9a28",
      "dee206f32eca43ac93d045a78b6cb86e",
      "dcb3ca71a9654f16bcfbede0d276c781",
      "b2160ce6544148c9831809e3690c9893",
      "7e90905deb9d462aa74ab2a50da72006",
      "b6c0f897f142415888c54ecf89d62757",
      "a378f265991a4defa5b302ba62599d92",
      "5509fe919ed84746a79036ed61abf314",
      "b713bec22f8342a9b304882072ef2a9e",
      "40c38b88969f400db818ebeaeb84b275",
      "b58d66723ae84c6b9b49c02cdd3be53c",
      "4ed5573d9bb04512aec7481889003adc",
      "876f464b8364498a938a05b50b2ae962",
      "f8102f32394f4a47a7f0ee8764e7acad",
      "d8cb9af7bf834d87bee8c9c86d05394d",
      "7b09680020ca43439bcb28354fb3c98c",
      "ffe9851af6a14fb6a4b796749820a8bd",
      "0a4191e33dd34712841ba14c7c2f703c",
      "17b4dfc7654348afbf12c0a881b81952",
      "cc4c589d91fe4d528beb29d56483b5f5",
      "036b3245aa9546e396342fc0f3da7ac1",
      "ccac8d1842b64bee8d46f4612dcfd75f",
      "a89b811d6b804990b5eb31f1058a15f0",
      "a9fe9831dc95496aa0975545743124f8",
      "32fec19b7fb247e6b0f53d2f6514ca22",
      "dd9290cf505743d69ed85fd806ffa754",
      "838c71459091407ab87a56da190a3b9c",
      "a2905846fd0b4e90a758c26cece67b86",
      "640426087aeb46aa8849c981fa811334",
      "6a1fd09cd682402bb202a54f6d767e7b",
      "8b57c1d071214ace8430ef4d8fa2ee80",
      "045c2ce7bf33426f9dbb239ca0937079",
      "97ac9129489b4563852acff5f6cf6c36",
      "72aa283a645e4f558f8fbe8e0dd4ed2c",
      "d08d34a8d8454c918f6872a7785435e0",
      "09dd951e030c49a5a2da0c4233876cd4",
      "8a18736b04f94dd99eece17ac50f8fb7",
      "c5a744f0dbb747da8f46ec156613c9ac",
      "471ba00b78ad4efb8354ff2416972257",
      "d7a4a64fd0964d2caea4108c7b94af24",
      "68c85dd489d24dcbbc8864494d4b8b53",
      "884163a6d02c473eb453731d4ed9a861",
      "6aa9d9591fd44e75ade4017cfc59effe",
      "b6eec6b3c7d34211ace94b6cec735f0e",
      "2b8e70f71e8744c3a67e1e8a61ddf81b",
      "b1a3015e192541bbbb310b27bf847acf",
      "bbc404641cda4d6fb7d32a69baa3ebc5",
      "26d1833c06af4b4a9eeabe1d15405104",
      "4caacda5605c45c48343b178c330b30c"
     ]
    },
    "id": "2605ae1e",
    "outputId": "3b3cc548-019c-4a8a-f0c2-e6113810b681"
   },
   "outputs": [
    {
     "data": {
      "application/vnd.jupyter.widget-view+json": {
       "model_id": "4c464083243d428d818730c7eaa6d238",
       "version_major": 2,
       "version_minor": 0
      },
      "text/plain": [
       "Map:   0%|          | 0/14041 [00:00<?, ? examples/s]"
      ]
     },
     "metadata": {},
     "output_type": "display_data"
    },
    {
     "data": {
      "application/vnd.jupyter.widget-view+json": {
       "model_id": "5b5d383809ab46e2a0b6cbc6f55ffd15",
       "version_major": 2,
       "version_minor": 0
      },
      "text/plain": [
       "Map:   0%|          | 0/3250 [00:00<?, ? examples/s]"
      ]
     },
     "metadata": {},
     "output_type": "display_data"
    },
    {
     "data": {
      "application/vnd.jupyter.widget-view+json": {
       "model_id": "b6c0f897f142415888c54ecf89d62757",
       "version_major": 2,
       "version_minor": 0
      },
      "text/plain": [
       "Map:   0%|          | 0/3453 [00:00<?, ? examples/s]"
      ]
     },
     "metadata": {},
     "output_type": "display_data"
    },
    {
     "data": {
      "application/vnd.jupyter.widget-view+json": {
       "model_id": "ffe9851af6a14fb6a4b796749820a8bd",
       "version_major": 2,
       "version_minor": 0
      },
      "text/plain": [
       "Map:   0%|          | 0/14041 [00:00<?, ? examples/s]"
      ]
     },
     "metadata": {},
     "output_type": "display_data"
    },
    {
     "data": {
      "application/vnd.jupyter.widget-view+json": {
       "model_id": "a2905846fd0b4e90a758c26cece67b86",
       "version_major": 2,
       "version_minor": 0
      },
      "text/plain": [
       "Map:   0%|          | 0/3250 [00:00<?, ? examples/s]"
      ]
     },
     "metadata": {},
     "output_type": "display_data"
    },
    {
     "data": {
      "application/vnd.jupyter.widget-view+json": {
       "model_id": "471ba00b78ad4efb8354ff2416972257",
       "version_major": 2,
       "version_minor": 0
      },
      "text/plain": [
       "Map:   0%|          | 0/3453 [00:00<?, ? examples/s]"
      ]
     },
     "metadata": {},
     "output_type": "display_data"
    }
   ],
   "source": [
    "tokenized_datasets = dataset.map(\n",
    "    tokenize_and_align_labels,\n",
    "    batched=True,\n",
    "    remove_columns=dataset[\"train\"].column_names,\n",
    ")\n",
    "\n",
    "tokenized_datasets_128 = dataset.map(\n",
    "    partial(tokenize_and_align_labels, max_length=128, padding=\"max_length\"),\n",
    "    batched=True,\n",
    "    remove_columns=dataset[\"train\"].column_names,\n",
    ")"
   ]
  },
  {
   "cell_type": "code",
   "execution_count": 17,
   "id": "b29efd55",
   "metadata": {
    "id": "b29efd55"
   },
   "outputs": [],
   "source": [
    "correct_out = {\n",
    "    'input_ids': [101, 7270, 22961, 1528, 1840, 1106, 21423, 1418, 2495, 12913, 119, 102],\n",
    "    'token_type_ids': [0, 0, 0, 0, 0, 0, 0, 0, 0, 0, 0, 0],\n",
    "    'attention_mask': [1, 1, 1, 1, 1, 1, 1, 1, 1, 1, 1, 1],\n",
    "    'labels': [-100, 3, 0, 7, 0, 0, 0, 7, 0, 0, 0, -100]\n",
    "}\n",
    "\n",
    "for k, v in correct_out.items():\n",
    "    tokenized_datasets['train'][0][k] == v, f\"key = {k}, {v}\""
   ]
  },
  {
   "cell_type": "markdown",
   "id": "6d3244af-1e44-4890-86c6-2fe3c57463dc",
   "metadata": {
    "id": "6d3244af-1e44-4890-86c6-2fe3c57463dc"
   },
   "source": [
    "Мы будем работать в основном с DataLoader, поэтому нам необходим `data_collator`."
   ]
  },
  {
   "cell_type": "code",
   "execution_count": 18,
   "id": "f2cc7c5c-48c3-4da2-9724-efa4d31dc942",
   "metadata": {
    "id": "f2cc7c5c-48c3-4da2-9724-efa4d31dc942"
   },
   "outputs": [],
   "source": [
    "data_collator = DataCollatorForTokenClassification(tokenizer=tokenizer)"
   ]
  },
  {
   "cell_type": "markdown",
   "id": "354e9399-8393-4312-88aa-53b727d9df7d",
   "metadata": {
    "id": "354e9399-8393-4312-88aa-53b727d9df7d"
   },
   "source": [
    "### `Метрика`\n",
    "\n",
    "Для оценки качества NER обычно используют F1 меру с микро-усреднением. Мы загрузим её из библиотеки `seqeval`. Функция `f1_score` принимает два 2d списка с правильными и предсказанными метками, записаными текстом, и возвращает для них значение F1. Вы можете использовать её с параметрами по умолчанию."
   ]
  },
  {
   "cell_type": "code",
   "execution_count": 19,
   "id": "54ad79a6",
   "metadata": {
    "id": "54ad79a6"
   },
   "outputs": [],
   "source": [
    "def compute_metrics(eval_preds):\n",
    "    \"\"\"\n",
    "    Compute metrics on given batch.\n",
    "\n",
    "    Args:\n",
    "        eval_preds: tuple with the following contents:\n",
    "            - logits: array of shape `(batch_size, seq_length, n_classes)`,\n",
    "            - labels: list of lists, i.e. matrix of shape `(batch_size, seq_length)`\n",
    "    Returns:\n",
    "        metrics: dictionary with metrics calculated over all classes:\n",
    "            - precision\n",
    "            - recall\n",
    "            - f1\n",
    "            - accuracy\n",
    "    \"\"\"\n",
    "\n",
    "    logits, labels = eval_preds\n",
    "    predictions = np.argmax(logits, axis=-1)\n",
    "\n",
    "    # Remove ignored index (special tokens) and convert to labels\n",
    "    true_labels = [[label_names[l] for l in label if l != -100] for label in labels]\n",
    "    true_predictions = [\n",
    "        [label_names[p] for (p, l) in zip(prediction, label) if l != -100]\n",
    "        for prediction, label in zip(predictions, labels)\n",
    "    ]\n",
    "    f1 = f1_score(y_true=true_labels, y_pred=true_predictions)\n",
    "    return {\n",
    "        \"f1\": f1\n",
    "    }"
   ]
  },
  {
   "cell_type": "markdown",
   "id": "bc901ecf-2de9-4c3f-862c-cf78871d8d9f",
   "metadata": {
    "id": "bc901ecf-2de9-4c3f-862c-cf78871d8d9f"
   },
   "source": [
    "Особенность подсчета F1 для NER заключается в том, что в некоторых ситуациях неправильные ответы могут засчитываться как правильные. Например, если модель предсказала `['I-PER', 'I-PER']`, то мы можем догадаться, что на самом деле должно быть `['B-PER', 'I-PER']`, так как сущность не может начинаться с `I-`. Функция `f1_score` учитывает это и поэтому работает только с текстовыми представлениями меток."
   ]
  },
  {
   "cell_type": "markdown",
   "id": "a61400bf-712a-4dfb-a08f-326c5db10eb2",
   "metadata": {
    "id": "a61400bf-712a-4dfb-a08f-326c5db10eb2"
   },
   "source": [
    "### `Модель для ускорения`\n",
    "\n",
    "В качестве базовой модели мы возьмем `bert-base-cased`. Как вы понимаете, он не обучался на задачу NER. Поэтому прежде чем приступать к уменьшению размера BERT, его необходимо дообучить. **Мы это уже сделали за вас!** Поэтому вам необходимо лишь загрузить чекпоинт."
   ]
  },
  {
   "cell_type": "markdown",
   "id": "2e19be5d-f6da-4899-bbda-ab3da1c7ed7b",
   "metadata": {
    "id": "2e19be5d-f6da-4899-bbda-ab3da1c7ed7b"
   },
   "source": [
    "Наша цель ускорить модель на inference, значит нужна функция, которая будет проводить замеры времени. Мы будем делать несколько forward-pass для более корректных замеров времени. Везде в коде, где вам нужно замерить время мы рекомендуем использовать функцию `time_inference`. В ней уже предусмотрен `warmup` и синхронизации, чтобы замеры были корректные.\n"
   ]
  },
  {
   "cell_type": "code",
   "execution_count": 20,
   "id": "ae95eb70-3150-4534-bf27-cdcf46cf83b3",
   "metadata": {
    "id": "ae95eb70-3150-4534-bf27-cdcf46cf83b3"
   },
   "outputs": [],
   "source": [
    "@torch.inference_mode()\n",
    "def time_inference(model, datasets=tokenized_datasets, data_collator=data_collator, batch_size=32, device=device, N=30):\n",
    "    model.to(device)\n",
    "    model = model.eval()\n",
    "\n",
    "    dataloader = torch.utils.data.DataLoader(\n",
    "        datasets['train'],\n",
    "        collate_fn=data_collator,\n",
    "        batch_size=batch_size,\n",
    "        shuffle=False,\n",
    "        drop_last=True,\n",
    "    )\n",
    "    batch = next(iter(dataloader))\n",
    "    batch = {k: v.to(device) for k, v in batch.items()}\n",
    "\n",
    "    # Warmup\n",
    "    for _ in range(5):\n",
    "        _ = model(**batch)\n",
    "    torch.cuda.synchronize()\n",
    "\n",
    "    times = []\n",
    "    for _ in range(N):\n",
    "        t_s = time.time()\n",
    "        _ = model(**batch)\n",
    "        torch.cuda.synchronize()\n",
    "        t = time.time() - t_s\n",
    "        times.append(t)\n",
    "\n",
    "    print(f\"Time: {np.mean(times):0.5f} +- {np.std(times):0.5f}\")"
   ]
  },
  {
   "cell_type": "markdown",
   "id": "465b5351-409f-4b99-80a8-9fe5f7de468c",
   "metadata": {
    "id": "465b5351-409f-4b99-80a8-9fe5f7de468c"
   },
   "source": [
    "Хорошей мерой сложности модели может служить число параметров. Мы работаем с языковой моделью, поэтому у нас присутствует слой `nn.Embedding`, который на самом деле требует много параметров, но почти не влияет на время `forward` напрямую."
   ]
  },
  {
   "cell_type": "code",
   "execution_count": 21,
   "id": "ca07af42",
   "metadata": {
    "id": "ca07af42"
   },
   "outputs": [],
   "source": [
    "@torch.no_grad()\n",
    "def print_numel_parameters(model: nn.Module):\n",
    "    num_params = sum(p.numel() for p in model.parameters())\n",
    "    num_emb_params = 0\n",
    "    for t, m in model.named_modules():\n",
    "        if isinstance(m, nn.Embedding):\n",
    "            num_emb_params += m.weight.numel()\n",
    "    print('Число параметров:\\t\\t\\t', num_params)\n",
    "    print('Число параметров без nn.Embedding:\\t', num_params - num_emb_params)"
   ]
  },
  {
   "cell_type": "markdown",
   "id": "c5521a8a-a09a-4026-aaff-5e9ecfdedd61",
   "metadata": {
    "id": "c5521a8a-a09a-4026-aaff-5e9ecfdedd61"
   },
   "source": [
    "Сделаем удобную функцию для валидации и создания `Trainer`, она нам потребуется для быстрого и удобного тестирования моделей."
   ]
  },
  {
   "cell_type": "code",
   "execution_count": 22,
   "id": "1d7c5fc9-6dd7-4f4f-80a4-eba0e326d95b",
   "metadata": {
    "id": "1d7c5fc9-6dd7-4f4f-80a4-eba0e326d95b"
   },
   "outputs": [],
   "source": [
    "def create_and_set_trainer(\n",
    "    model,\n",
    "    name,\n",
    "    config,\n",
    "    datasets=tokenized_datasets,\n",
    "    data_collator=data_collator,\n",
    "    compute_metrics=compute_metrics,\n",
    "    processing_class=tokenizer,\n",
    "    seed=42\n",
    "):\n",
    "    set_global_seed(seed)\n",
    "    args = TrainingArguments(\n",
    "        name,\n",
    "        dataloader_drop_last=True,\n",
    "        **config\n",
    "    )\n",
    "\n",
    "    trainer = Trainer(\n",
    "        model=model,\n",
    "        args=args,\n",
    "        train_dataset=datasets[\"train\"],\n",
    "        eval_dataset=datasets[\"validation\"],\n",
    "        data_collator=data_collator,\n",
    "        compute_metrics=compute_metrics,\n",
    "        processing_class=processing_class,\n",
    "    )\n",
    "\n",
    "    return trainer\n",
    "\n",
    "def eval_model(model, datasets=tokenized_datasets, config=base_config):\n",
    "    trainer = create_and_set_trainer(model, 'testing', config, datasets=datasets)\n",
    "    res = trainer.evaluate()\n",
    "    print(f\"F1 = {res['eval_f1']:0.5f}\")"
   ]
  },
  {
   "cell_type": "markdown",
   "id": "f73dbacb-8920-4626-b4c9-732468355120",
   "metadata": {
    "id": "f73dbacb-8920-4626-b4c9-732468355120"
   },
   "source": [
    "В этом задании уже есть обученная модель. Для начала загрузим модель, посмотрим на число параметром, посчитаем метрики на валидации и сделаем основные замеры времени."
   ]
  },
  {
   "cell_type": "code",
   "execution_count": 23,
   "id": "5f5c7b6e-6340-4ab7-bf12-38d5dfd6687f",
   "metadata": {
    "colab": {
     "base_uri": "https://localhost:8080/"
    },
    "id": "5f5c7b6e-6340-4ab7-bf12-38d5dfd6687f",
    "outputId": "7a8d4f46-9407-4af2-f76f-1ccbcc7e6303"
   },
   "outputs": [
    {
     "name": "stdout",
     "output_type": "stream",
     "text": [
      "Число параметров:\t\t\t 107726601\n",
      "Число параметров без nn.Embedding:\t 85062921\n",
      "Скрытая размерность 768\n",
      "Число слоев: 12\n"
     ]
    }
   ],
   "source": [
    "set_global_seed(42)\n",
    "model_teacher = AutoModelForTokenClassification.from_pretrained('3145tttt/bert-cased-ner-mmp-task3')\n",
    "print_numel_parameters(model_teacher)\n",
    "print(f\"Скрытая размерность {model_teacher.config.hidden_size}\")\n",
    "print(f\"Число слоев: {model_teacher.config.num_hidden_layers}\")"
   ]
  },
  {
   "cell_type": "code",
   "execution_count": 24,
   "id": "4BRDqzrjDqqB",
   "metadata": {
    "colab": {
     "base_uri": "https://localhost:8080/",
     "height": 54
    },
    "id": "4BRDqzrjDqqB",
    "outputId": "e4dee8a8-8298-422f-a552-48f833ac3352"
   },
   "outputs": [
    {
     "data": {
      "text/html": [
       "\n",
       "    <div>\n",
       "      \n",
       "      <progress value='406' max='406' style='width:300px; height:20px; vertical-align: middle;'></progress>\n",
       "      [406/406 00:11]\n",
       "    </div>\n",
       "    "
      ],
      "text/plain": [
       "<IPython.core.display.HTML object>"
      ]
     },
     "metadata": {},
     "output_type": "display_data"
    },
    {
     "name": "stdout",
     "output_type": "stream",
     "text": [
      "F1 = 0.94654\n"
     ]
    }
   ],
   "source": [
    "eval_model(model_teacher)"
   ]
  },
  {
   "cell_type": "code",
   "execution_count": 25,
   "id": "fa2ada29",
   "metadata": {
    "colab": {
     "base_uri": "https://localhost:8080/"
    },
    "id": "fa2ada29",
    "outputId": "f7ed2d80-eb5f-4c03-fce8-9e2257f7d5c2"
   },
   "outputs": [
    {
     "name": "stdout",
     "output_type": "stream",
     "text": [
      "Time: 0.08688 +- 0.00843\n",
      "Time: 0.08874 +- 0.00324\n"
     ]
    }
   ],
   "source": [
    "time_inference(model_teacher)\n",
    "time_inference(model_teacher)"
   ]
  },
  {
   "cell_type": "markdown",
   "id": "fc8708b2-766e-46a2-99ae-991e63e03404",
   "metadata": {
    "id": "fc8708b2-766e-46a2-99ae-991e63e03404"
   },
   "source": [
    "Для наглядности отдельно посмотрим на архитектуру модели."
   ]
  },
  {
   "cell_type": "code",
   "execution_count": 26,
   "id": "530852fa-58d3-451c-90b2-ac80a5c7b2c2",
   "metadata": {
    "colab": {
     "base_uri": "https://localhost:8080/"
    },
    "id": "530852fa-58d3-451c-90b2-ac80a5c7b2c2",
    "outputId": "501c2865-7e7a-4d5a-8151-97e3d4bf1541"
   },
   "outputs": [
    {
     "data": {
      "text/plain": [
       "BertModel(\n",
       "  (embeddings): BertEmbeddings(\n",
       "    (word_embeddings): Embedding(28996, 768, padding_idx=0)\n",
       "    (position_embeddings): Embedding(512, 768)\n",
       "    (token_type_embeddings): Embedding(2, 768)\n",
       "    (LayerNorm): LayerNorm((768,), eps=1e-12, elementwise_affine=True)\n",
       "    (dropout): Dropout(p=0.1, inplace=False)\n",
       "  )\n",
       "  (encoder): BertEncoder(\n",
       "    (layer): ModuleList(\n",
       "      (0-11): 12 x BertLayer(\n",
       "        (attention): BertAttention(\n",
       "          (self): BertSdpaSelfAttention(\n",
       "            (query): Linear(in_features=768, out_features=768, bias=True)\n",
       "            (key): Linear(in_features=768, out_features=768, bias=True)\n",
       "            (value): Linear(in_features=768, out_features=768, bias=True)\n",
       "            (dropout): Dropout(p=0.1, inplace=False)\n",
       "          )\n",
       "          (output): BertSelfOutput(\n",
       "            (dense): Linear(in_features=768, out_features=768, bias=True)\n",
       "            (LayerNorm): LayerNorm((768,), eps=1e-12, elementwise_affine=True)\n",
       "            (dropout): Dropout(p=0.1, inplace=False)\n",
       "          )\n",
       "        )\n",
       "        (intermediate): BertIntermediate(\n",
       "          (dense): Linear(in_features=768, out_features=3072, bias=True)\n",
       "          (intermediate_act_fn): GELUActivation()\n",
       "        )\n",
       "        (output): BertOutput(\n",
       "          (dense): Linear(in_features=3072, out_features=768, bias=True)\n",
       "          (LayerNorm): LayerNorm((768,), eps=1e-12, elementwise_affine=True)\n",
       "          (dropout): Dropout(p=0.1, inplace=False)\n",
       "        )\n",
       "      )\n",
       "    )\n",
       "  )\n",
       ")"
      ]
     },
     "execution_count": 26,
     "metadata": {},
     "output_type": "execute_result"
    }
   ],
   "source": [
    "model_teacher.bert"
   ]
  },
  {
   "cell_type": "markdown",
   "id": "3c1d8333-2886-4305-abea-18f9ef97eced",
   "metadata": {
    "id": "3c1d8333-2886-4305-abea-18f9ef97eced"
   },
   "source": [
    "Итого наша исходная модель имеет 12 слоев и скрытую размерность 768. F1 на валидации примерно 0.947. Наша цель: ускорить время на inference. Для начала мы рассмотрим подход с дистилляцией модели, ноутбук устроен так, что Часть 1, 2 и 3 можно выполнять независимо. То есть пока что-то учиться, можно писать перемножение матриц на triton (´｡• ω •｡`)."
   ]
  },
  {
   "cell_type": "markdown",
   "id": "ca53b35b-bf38-4acb-9a3e-7460a2969cb9",
   "metadata": {
    "id": "ca53b35b-bf38-4acb-9a3e-7460a2969cb9"
   },
   "source": [
    "# ` Часть 1. Дистилляция знаний (4 балла + 1.1 бонусных баллов)`\n",
    "\n",
    "Подход обучения модели с помощью другой более умной модели называется **дистилляция знаний**. Мы хотим перенести знания из чего-то хорошо работающего в что-то маленькое и быстрое. Умную модель называют моделью учителя (Teacher), а обучаемую модель – учеником (Student).\n",
    "\n",
    "Учеником может быть произвольная модель меньшего размера, решающая ту же задачу, однако обычно ученик имеет ту же архитектуру, что и учитель. Пусть $p^T(x)$ и $p^S(x)$ распределение классов для объекта $x$ на выходах Teacher и Student. При дистилляции используются два функционала ошибки:\n",
    "\n",
    "1. Стандартная кросс-энтропия $\\mathrm{H}[p^T, p^S]$.\n",
    "2. Функция, задающая расстояние между распределениями $p^T(x)$ и $p^S(x)$. Чаще всего $\\mathrm{KL}[p^T \\| p^S]$.\n",
    "\n",
    "Подробнее можно почитать на [лекции]() или в [оригинальной статье](https://arxiv.org/pdf/1503.02531).\n",
    "\n",
    "Обычные нейронные сети сильно завышают вероятности для простых примеров, то есть мы получаем вырожденные распределения для $p_i^T$, мы хотим этого избежать. Поэтому часто используют Softmax с температурой.\n",
    "\n",
    "\\begin{equation}\n",
    "\\mathrm{Softmax}(z, \\tau)_i = \\frac{e^{\\frac{z_i}{\\tau}}}{\\sum\\limits_j e^{\\frac{z_j}{\\tau}} }.\n",
    "\\end{equation}\n",
    "\n",
    "**Важно**. При делении логитов на температуру значения градиентов уменьшаются в $\\tau^2$ раз. Поэтому для возвращения их в изначальный масштаб ошибку надо домножить на $\\tau^2$. Подробнее об этом можно почитать в разделе 2.1 [оригинальной статьи](https://arxiv.org/pdf/1503.02531).\n",
    "\n",
    "**Примечание**. При дистилляции BERT мы будем опираться на статью [DistilBERT](https://arxiv.org/abs/1910.01108) и на [эту статью](https://www.researchgate.net/publication/375758425_Knowledge_Distillation_Scheme_for_Named_Entity_Recognition_Model_Based_on_BERT)."
   ]
  },
  {
   "cell_type": "markdown",
   "id": "7fd32849-728d-4447-9a34-25c1073e905b",
   "metadata": {
    "id": "7fd32849-728d-4447-9a34-25c1073e905b"
   },
   "source": [
    "<img src=\"https://intellabs.github.io/distiller/imgs/knowledge_distillation.png\">"
   ]
  },
  {
   "cell_type": "markdown",
   "id": "07066a6d-bd4e-4560-bcd2-e19dd99433e7",
   "metadata": {
    "id": "07066a6d-bd4e-4560-bcd2-e19dd99433e7"
   },
   "source": [
    "Выше демонстрация общей схемы дистилляции. Мы же ещё учтем архитектуру трансформера и добавим $\\mathcal{L}_{\\text{hidden}}$ и $\\mathcal{L}_{\\text{atten}}$, то есть будем требовать похожесть скрытых состояний и карт внимания, $\\mathcal{L}_{\\text{embed}}$ не будем учитывать."
   ]
  },
  {
   "cell_type": "markdown",
   "id": "68ec42a8-f4d0-4899-84b4-4f923acae822",
   "metadata": {
    "id": "68ec42a8-f4d0-4899-84b4-4f923acae822"
   },
   "source": [
    "<img src=\"data:image/png;base64,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\">"
   ]
  },
  {
   "cell_type": "markdown",
   "id": "2a3272ff-a2ed-4c0a-a6d3-03771f7f7e70",
   "metadata": {
    "id": "2a3272ff-a2ed-4c0a-a6d3-03771f7f7e70"
   },
   "source": [
    "[Источник](https://www.mdpi.com/2076-3417/14/20/9180)"
   ]
  },
  {
   "cell_type": "markdown",
   "id": "1e837a21-8717-4018-a078-1cb534a5f4f6",
   "metadata": {
    "id": "1e837a21-8717-4018-a078-1cb534a5f4f6"
   },
   "source": [
    "**Задание 2 (0.25 баллов)**. Реализуйте модель ученика."
   ]
  },
  {
   "cell_type": "markdown",
   "id": "cf0ddf07-6ba5-4255-b8f8-3042c3548819",
   "metadata": {
    "id": "cf0ddf07-6ba5-4255-b8f8-3042c3548819"
   },
   "source": [
    "Для начала создадим модель ученика. Так как наша как можно сильнее ускорить, то попробуем разные комбинации."
   ]
  },
  {
   "cell_type": "code",
   "execution_count": 27,
   "id": "fdc28865-6a01-4f64-b3a4-e521d9a1b4e9",
   "metadata": {
    "id": "fdc28865-6a01-4f64-b3a4-e521d9a1b4e9"
   },
   "outputs": [],
   "source": [
    "model_teacher_config = model_teacher.config"
   ]
  },
  {
   "cell_type": "markdown",
   "id": "21426273-ddd2-4aaa-8eff-c3c09151a18e",
   "metadata": {
    "id": "21426273-ddd2-4aaa-8eff-c3c09151a18e"
   },
   "source": [
    "Для начала уменьшим число слоев в 3 раза."
   ]
  },
  {
   "cell_type": "code",
   "execution_count": 28,
   "id": "0241f9d8",
   "metadata": {
    "id": "0241f9d8"
   },
   "outputs": [],
   "source": [
    "student_config = deepcopy(model_teacher_config)\n",
    "# YOUR CODE HERE\n",
    "..."
   ]
  },
  {
   "cell_type": "code",
   "execution_count": 29,
   "id": "8925d68b",
   "metadata": {
    "colab": {
     "base_uri": "https://localhost:8080/"
    },
    "id": "8925d68b",
    "outputId": "5c87cd16-e142-4137-c85a-db70ac65a62f"
   },
   "outputs": [
    {
     "name": "stdout",
     "output_type": "stream",
     "text": [
      "Число параметров:\t\t\t 51023625\n",
      "Число параметров без nn.Embedding:\t 28359945\n",
      "Time: 0.02902 +- 0.00201\n",
      "Time: 0.02968 +- 0.00163\n"
     ]
    }
   ],
   "source": [
    "model_student = AutoModelForTokenClassification.from_config(student_config).to(device)\n",
    "\n",
    "print_numel_parameters(model_student)\n",
    "time_inference(model_student)\n",
    "time_inference(model_student)"
   ]
  },
  {
   "cell_type": "markdown",
   "id": "f197469d-56fd-40cd-a4d5-28bd6c831292",
   "metadata": {
    "id": "f197469d-56fd-40cd-a4d5-28bd6c831292"
   },
   "source": [
    "При такой постановке мы можем ускорить почти в 3 раза. Дополнительно уменьшим размерность FeedForward слоев с 3072 до 2048."
   ]
  },
  {
   "cell_type": "code",
   "execution_count": 30,
   "id": "3c1f6a99-c348-4cb6-89f5-9fffebcdd57c",
   "metadata": {
    "id": "3c1f6a99-c348-4cb6-89f5-9fffebcdd57c"
   },
   "outputs": [],
   "source": [
    "student_config = deepcopy(model_teacher_config)\n",
    "# YOUR CODE HERE\n",
    "..."
   ]
  },
  {
   "cell_type": "code",
   "execution_count": 31,
   "id": "c34f098e-1779-471f-92ba-7c965ce3051c",
   "metadata": {
    "colab": {
     "base_uri": "https://localhost:8080/"
    },
    "id": "c34f098e-1779-471f-92ba-7c965ce3051c",
    "outputId": "d11cdcda-466e-48c4-b65c-37ed3a0309f6"
   },
   "outputs": [
    {
     "name": "stdout",
     "output_type": "stream",
     "text": [
      "Число параметров:\t\t\t 44728073\n",
      "Число параметров без nn.Embedding:\t 22064393\n",
      "Time: 0.02307 +- 0.00066\n",
      "Time: 0.02444 +- 0.00175\n"
     ]
    }
   ],
   "source": [
    "model_student = AutoModelForTokenClassification.from_config(student_config).to(device)\n",
    "\n",
    "print_numel_parameters(model_student)\n",
    "time_inference(model_student)\n",
    "time_inference(model_student)"
   ]
  },
  {
   "cell_type": "markdown",
   "id": "448c5418-6d09-4b12-9eda-a3c7115a2582",
   "metadata": {
    "id": "448c5418-6d09-4b12-9eda-a3c7115a2582"
   },
   "source": [
    "Последнее изменение, уменьшим скрытую размерность с 768 до 384 (должно быть кратно числу голов, то есть 12)."
   ]
  },
  {
   "cell_type": "code",
   "execution_count": 32,
   "id": "30359ef3-96b0-4966-81f2-5b09045cee50",
   "metadata": {
    "id": "30359ef3-96b0-4966-81f2-5b09045cee50"
   },
   "outputs": [],
   "source": [
    "student_config = deepcopy(model_teacher_config)\n",
    "# YOUR CODE HERE\n",
    "..."
   ]
  },
  {
   "cell_type": "code",
   "execution_count": 33,
   "id": "fc3907ba-a23a-429e-ae1d-dcd5e9bfc8b5",
   "metadata": {
    "colab": {
     "base_uri": "https://localhost:8080/"
    },
    "id": "fc3907ba-a23a-429e-ae1d-dcd5e9bfc8b5",
    "outputId": "41f0f7ee-8cde-4828-c787-d0697ad2f56e"
   },
   "outputs": [
    {
     "name": "stdout",
     "output_type": "stream",
     "text": [
      "Число параметров:\t\t\t 20008841\n",
      "Число параметров без nn.Embedding:\t 8677001\n",
      "Time: 0.01111 +- 0.00035\n",
      "Time: 0.01112 +- 0.00022\n"
     ]
    }
   ],
   "source": [
    "model_student = AutoModelForTokenClassification.from_config(student_config).to(device)\n",
    "\n",
    "print_numel_parameters(model_student)\n",
    "time_inference(model_student)\n",
    "time_inference(model_student)"
   ]
  },
  {
   "cell_type": "markdown",
   "id": "07db95cb-d0a2-4310-9e86-8df196698e7d",
   "metadata": {
    "id": "07db95cb-d0a2-4310-9e86-8df196698e7d"
   },
   "source": [
    "Мы смогли уложиться в 20 миллионов параметров. При этом большинство обучаемых параметров хранятся в `nn.Embedding`. Для этого можно факторизовать матрицу эмбеддингов и представить в виде матрицы меньшего ранга. Мы не будем это делать.\n",
    "\n",
    "Отметим, что при уменьшении скрытой размерности мы больше не можем использовать эмбеддинги учителя в качестве инициализации ученика. Например, в статье [DistilBERT](https://arxiv.org/abs/1910.01108) ограничились уменьшением только числа слоев в 2 раза.\n",
    "\n",
    "В целом мы выше заметили, что наибольшее ускорение дало именно уменьшение числа слоев, так как attention сложная операция, а все линейные слои хорошо реализованы в современных библиотеках."
   ]
  },
  {
   "cell_type": "markdown",
   "id": "d5e8c316-69ea-4fa2-a7bd-08589b37261e",
   "metadata": {
    "id": "d5e8c316-69ea-4fa2-a7bd-08589b37261e"
   },
   "source": [
    "Далее мы будем использовать конфиг **с 4 слоями и размерностью FeedForward слоев 2048**, так как мы хотим исследовать влияние дистилляции промежуточных слоев, для этого размерность скрытого представления должна быть одинаковая."
   ]
  },
  {
   "cell_type": "code",
   "execution_count": 34,
   "id": "6a6f57ba-d23f-4839-9101-e54fdcf94ee6",
   "metadata": {
    "colab": {
     "base_uri": "https://localhost:8080/"
    },
    "id": "6a6f57ba-d23f-4839-9101-e54fdcf94ee6",
    "outputId": "0d3ac487-be33-432a-98fe-36b0b6d28810"
   },
   "outputs": [
    {
     "name": "stdout",
     "output_type": "stream",
     "text": [
      "Число параметров:\t\t\t 44728073\n",
      "Число параметров без nn.Embedding:\t 22064393\n"
     ]
    }
   ],
   "source": [
    "student_config = deepcopy(model_teacher_config)\n",
    "# YOUR CODE HERE\n",
    "...\n",
    "\n",
    "model_student = AutoModelForTokenClassification.from_config(student_config)\n",
    "print_numel_parameters(model_student)"
   ]
  },
  {
   "cell_type": "markdown",
   "id": "ab68b484-3787-4e47-8d1d-ab21393df503",
   "metadata": {
    "id": "ab68b484-3787-4e47-8d1d-ab21393df503"
   },
   "source": [
    "**Задание 3 (1 балл)**. Реализуйте функции потерь для дистилляции.\n",
    "\n",
    "Для корректной реализации дистилляции нам нужно:\n",
    "\n",
    "- Уметь считать лосс исходной задачи (в нашем случае NER);\n",
    "- Считать KL-дивергенцию между распределением ученика и учителя;\n",
    "- Считать MSE между скрытыми состояниями и картами внимания.\n",
    "\n",
    "\n",
    "Для лосса исходной задачи нам достаточно вызвать forward модели ученика и достать `loss`. Для KL-дивергенции мы будем использовать `nn.KLDivLoss(reduction=\"batchmean\")` (крайне рекомендуется прочитать документацию).\n",
    "\n",
    "Для работы со скрытыми состояниями и картами внимания для начала их нужно достать из модели. В hugging face для этого достаточно вызвать forward с аргументами `output_attentions=True`, `output_hidden_states=True`. Мы считаем, что модель ученика именно так и вызывали.\n",
    "\n",
    "В этом задании вам необходимо правильно подсчитать функцию потерь `distillation_loss`. Основная сложность будет в подсчете $\\mathcal{L}_{\\text{atten}}$ и $\\mathcal{L}_{\\text{hideen}}$. Подумайте между какими слоями мы хотим уметь считать близость (посмотрите диаграммы из [статьи](https://www.researchgate.net/publication/375758425_Knowledge_Distillation_Scheme_for_Named_Entity_Recognition_Model_Based_on_BERT))"
   ]
  },
  {
   "cell_type": "code",
   "execution_count": 35,
   "id": "08be19c9-3d37-477e-a83b-7108250879b9",
   "metadata": {
    "id": "08be19c9-3d37-477e-a83b-7108250879b9"
   },
   "outputs": [],
   "source": [
    "from transformers.models.bert.modeling_bert import BertForTokenClassification\n",
    "\n",
    "def distillation_loss(\n",
    "    outputs,\n",
    "    labels,\n",
    "    inputs,\n",
    "    num_items_in_batch,\n",
    "    temperature: float,\n",
    "    alpha: float,\n",
    "    model_teacher: BertForTokenClassification,\n",
    "    use_attn_hid: bool,\n",
    "    kl_loss=nn.KLDivLoss(reduction=\"batchmean\")\n",
    "):\n",
    "    student_logits = outputs.logits\n",
    "    with torch.inference_mode():\n",
    "        # Use Teacher model\n",
    "        # YOUR CODE HERE\n",
    "        ...\n",
    "\n",
    "    # Calculate kl_loss\n",
    "    # YOUR CODE HERE\n",
    "    ...\n",
    "    soft_loss = ...\n",
    "\n",
    "    att_loss, hid_loss = 0., 0.\n",
    "    if use_attn_hid:\n",
    "        # hint: use teacher_layers % len(outputs.attentions) == 0!\n",
    "        # Distillation attention loss\n",
    "        # YOUR CODE HERE\n",
    "        ...\n",
    "        att_loss = ...\n",
    "\n",
    "        # Distillation hidden loss\n",
    "        # YOUR CODE HERE\n",
    "        ...\n",
    "        hid_loss = ...\n",
    "\n",
    "    # Student loss\n",
    "    # YOUR CODE HERE\n",
    "    hard_loss = ...\n",
    "\n",
    "    return (1. - alpha) * hard_loss + alpha * (soft_loss + att_loss + hid_loss)"
   ]
  },
  {
   "cell_type": "markdown",
   "id": "2ffec9ea-95a9-4bae-abb2-e67b5c699ccf",
   "metadata": {
    "id": "2ffec9ea-95a9-4bae-abb2-e67b5c699ccf"
   },
   "source": [
    "Если мы в качестве ученика возьмем модель учителя, то должны получит просто лосс исходной задачи умноженный на (1 - $\\alpha$), обратите внимание, что возможна численная нестабильность небольшая, так как KL не всегда точно ноль."
   ]
  },
  {
   "cell_type": "code",
   "execution_count": 36,
   "id": "5ea8d2e6-b6fb-4c8c-b1ee-4dbafb0554b4",
   "metadata": {
    "colab": {
     "base_uri": "https://localhost:8080/"
    },
    "id": "5ea8d2e6-b6fb-4c8c-b1ee-4dbafb0554b4",
    "outputId": "7020d9eb-4212-4584-dcf3-e80a963b777e"
   },
   "outputs": [
    {
     "name": "stderr",
     "output_type": "stream",
     "text": [
      "BertSdpaSelfAttention is used but `torch.nn.functional.scaled_dot_product_attention` does not support non-absolute `position_embedding_type` or `output_attentions=True` or `head_mask`. Falling back to the manual attention implementation, but specifying the manual implementation will be required from Transformers version v5.0.0 onwards. This warning can be removed using the argument `attn_implementation=\"eager\"` when loading the model.\n"
     ]
    },
    {
     "name": "stdout",
     "output_type": "stream",
     "text": [
      "Loss = 7.754525722702965e-05\n",
      "Loss_hard / 2 = 7.753045065328479e-05\n"
     ]
    }
   ],
   "source": [
    "set_global_seed(42)\n",
    "\n",
    "dataloader = torch.utils.data.DataLoader(\n",
    "    tokenized_datasets['train'],\n",
    "    collate_fn=data_collator,\n",
    "    batch_size=2,\n",
    "    shuffle=False\n",
    ")\n",
    "batch = next(iter(dataloader))\n",
    "batch = {k: v.to(device) for k, v in batch.items()}\n",
    "\n",
    "with torch.inference_mode():\n",
    "    outputs = model_teacher(**batch, output_attentions=True, output_hidden_states=True)\n",
    "    loss = distillation_loss(\n",
    "        outputs=outputs,\n",
    "        labels=None,\n",
    "        inputs=batch,\n",
    "        num_items_in_batch=None,\n",
    "        temperature=1,\n",
    "        alpha=0.5,\n",
    "        model_teacher=model_teacher,\n",
    "        use_attn_hid=True\n",
    "    )\n",
    "\n",
    "    print(f\"Loss = {loss}\")\n",
    "    print(f\"Loss_hard / 2 = {outputs.loss / 2}\")"
   ]
  },
  {
   "cell_type": "markdown",
   "id": "b83f760d-5382-4903-a7a3-fbc6095e8716",
   "metadata": {
    "id": "b83f760d-5382-4903-a7a3-fbc6095e8716"
   },
   "source": [
    "**Задание 4 (0.75 балл)**. Реализуйте класс тренера для задачи дистилляции.\n",
    "\n",
    "Мы хотим использовать класс `Trainer` из hugging face, так как в нём уже реализовано много высокоуровневого функционала, который не хотелось бы менять. Однако выше мы заметили, что надо вызывать модель ученика с параметрами `output_attentions=True`, `output_hidden_states=True`, однако мы не можем передать эти аргументы при использовании стандартного `Trainer`. Поэтому мы реализуем класс-наследник `DistillTrainer` и переопределим в нем функцию `compute_loss`. Вам необязательно сохранять весь функционал исходной функции, главное правильно вызвать модель и правильно вызывать `self.compute_loss_func`."
   ]
  },
  {
   "cell_type": "code",
   "execution_count": 37,
   "id": "6f6fa001",
   "metadata": {
    "id": "6f6fa001"
   },
   "outputs": [],
   "source": [
    "from transformers.modeling_outputs import TokenClassifierOutput # hint: use this, it might help.\n",
    "\n",
    "class DistillTrainer(Trainer):\n",
    "\n",
    "    # hint use:\n",
    "    # https://github.com/huggingface/transformers/blob/052e652d6d53c2b26ffde87e039b723949a53493/src/transformers/trainer.py#L3618\n",
    "    def compute_loss(self, model, inputs, return_outputs=False, num_items_in_batch=None):\n",
    "        \"\"\"\n",
    "        How the loss is computed by Trainer. By default, all models return the loss in the first element.\n",
    "\n",
    "        Subclass and override for custom behavior.\n",
    "        \"\"\"\n",
    "        labels = None # We don't use labels\n",
    "        # YOUR CODE HERE\n",
    "        ...\n",
    "        loss = ...\n",
    "\n",
    "        if self.args.average_tokens_across_devices and self.model_accepts_loss_kwargs:\n",
    "            loss *= self.accelerator.num_processes\n",
    "\n",
    "        # YOUR CODE HERE\n",
    "        outputs = ...\n",
    "        return (loss, outputs) if return_outputs else loss"
   ]
  },
  {
   "cell_type": "markdown",
   "id": "9cb44637-5d7a-469f-929b-9b1e394b48fc",
   "metadata": {
    "id": "9cb44637-5d7a-469f-929b-9b1e394b48fc"
   },
   "source": [
    "Для ускорения будем всё учить в fp16."
   ]
  },
  {
   "cell_type": "code",
   "execution_count": 38,
   "id": "33532a97",
   "metadata": {
    "colab": {
     "base_uri": "https://localhost:8080/"
    },
    "id": "33532a97",
    "outputId": "b6c0d653-a36b-45ef-ecc7-51bb356c4071"
   },
   "outputs": [
    {
     "data": {
      "text/plain": [
       "{'eval_strategy': 'epoch',\n",
       " 'save_strategy': 'no',\n",
       " 'learning_rate': 5e-05,\n",
       " 'num_train_epochs': 15,\n",
       " 'warmup_ratio': 0.1,\n",
       " 'weight_decay': 0.01,\n",
       " 'push_to_hub': False,\n",
       " 'report_to': 'none',\n",
       " 'fp16': True}"
      ]
     },
     "execution_count": 38,
     "metadata": {},
     "output_type": "execute_result"
    }
   ],
   "source": [
    "distil_training_config = deepcopy(base_config)\n",
    "distil_training_config['save_strategy'] = 'no'\n",
    "distil_training_config['learning_rate'] = 5e-05\n",
    "distil_training_config['fp16'] = True\n",
    "\n",
    "distil_training_config"
   ]
  },
  {
   "cell_type": "markdown",
   "id": "7cb11000-d79f-46c6-bb72-e07e8f2a2890",
   "metadata": {
    "id": "7cb11000-d79f-46c6-bb72-e07e8f2a2890"
   },
   "source": [
    "Обернем создание лосса в функцию, чтобы `DistillTrainer` мог использовать лосс напрямую."
   ]
  },
  {
   "cell_type": "code",
   "execution_count": 39,
   "id": "2d00efcf-9ef7-4adf-8b04-7480bcc587c3",
   "metadata": {
    "id": "2d00efcf-9ef7-4adf-8b04-7480bcc587c3"
   },
   "outputs": [],
   "source": [
    "def get_loss_fn(loss_type, alpha, temperature, model_teacher):\n",
    "    assert loss_type in ['base', 'attn_hidden'], f\"loss_type = {loss_type}\"\n",
    "    use_attn_hid = loss_type == 'attn_hidden'\n",
    "    return partial(distillation_loss, temperature=temperature, alpha=alpha, model_teacher=model_teacher, use_attn_hid=use_attn_hid)"
   ]
  },
  {
   "cell_type": "markdown",
   "id": "28f67d66-d9c9-4973-a4c6-00bb50ef7692",
   "metadata": {
    "id": "28f67d66-d9c9-4973-a4c6-00bb50ef7692"
   },
   "source": [
    "Создадим функцию `get_distil_trainer`, которая будет создавать модель всегда с одной инициализацией для корректного сравнения."
   ]
  },
  {
   "cell_type": "code",
   "execution_count": 40,
   "id": "b17c5229-cf0d-4934-bfd2-bcbd6ee4464d",
   "metadata": {
    "id": "b17c5229-cf0d-4934-bfd2-bcbd6ee4464d"
   },
   "outputs": [],
   "source": [
    "def get_distil_trainer(\n",
    "    loss_type: str,\n",
    "    alpha: float,\n",
    "    temperature: float,\n",
    "    num_epoch: int,\n",
    "    training_conf: dict,\n",
    "    student_config: dict,\n",
    "    model_teacher=model_teacher,\n",
    "    datasets=tokenized_datasets,\n",
    "    data_collator=data_collator,\n",
    "    compute_metrics=compute_metrics,\n",
    "    processing_class=tokenizer,\n",
    "    seed=42\n",
    "):\n",
    "    set_global_seed(seed)\n",
    "\n",
    "    name = f\"student_{alpha}_{temperature}_{loss_type}\"\n",
    "    config = deepcopy(training_conf)\n",
    "    config['num_train_epochs'] = num_epoch\n",
    "    args = TrainingArguments(\n",
    "        name,\n",
    "        run_name=name,\n",
    "        dataloader_drop_last=True,\n",
    "        **config\n",
    "    )\n",
    "\n",
    "    student_loss = get_loss_fn(loss_type, alpha, temperature, model_teacher)\n",
    "    model_student = AutoModelForTokenClassification.from_config(student_config)\n",
    "    distil_trainer = DistillTrainer(\n",
    "        model=model_student,\n",
    "        args=args,\n",
    "        train_dataset=datasets[\"train\"],\n",
    "        eval_dataset=datasets[\"validation\"],\n",
    "        data_collator=data_collator,\n",
    "        compute_metrics=compute_metrics,\n",
    "        processing_class=processing_class,\n",
    "        compute_loss_func=student_loss\n",
    "    )\n",
    "\n",
    "    print(\"YOUR TRAINING CONFIG\")\n",
    "    print(f\"RUN NAME = {name}\")\n",
    "    print(training_conf)\n",
    "    print(\"=\" * 40)\n",
    "\n",
    "    return distil_trainer"
   ]
  },
  {
   "cell_type": "markdown",
   "id": "b0c71647-d423-4389-a310-ed4121735b6c",
   "metadata": {
    "id": "b0c71647-d423-4389-a310-ed4121735b6c"
   },
   "source": [
    "### `Проверка корректности и baseline`"
   ]
  },
  {
   "cell_type": "markdown",
   "id": "22d995f2",
   "metadata": {
    "id": "22d995f2"
   },
   "source": [
    "Прежде, чем проводить основные эксперименты и перебирать $\\alpha$ и температуру в Softmax, для начала проверим, что в мы ничего не сломали. Кроме того, нам будет полезно знать как учится модель без функции потерь от дистилляции. Так мы сможем понять насколько наши нововведения полезны и улучшают обучение."
   ]
  },
  {
   "cell_type": "code",
   "execution_count": 41,
   "id": "cced1f7f-baf0-4673-b7cb-ee370bad4904",
   "metadata": {
    "colab": {
     "base_uri": "https://localhost:8080/"
    },
    "id": "cced1f7f-baf0-4673-b7cb-ee370bad4904",
    "outputId": "be5eae54-e6d3-4d69-a513-de791b9ade10"
   },
   "outputs": [
    {
     "name": "stdout",
     "output_type": "stream",
     "text": [
      "YOUR TRAINING CONFIG\n",
      "RUN NAME = student_0.0_1.0_base\n",
      "{'eval_strategy': 'epoch', 'save_strategy': 'no', 'learning_rate': 5e-05, 'num_train_epochs': 15, 'warmup_ratio': 0.1, 'weight_decay': 0.01, 'push_to_hub': False, 'report_to': 'none', 'fp16': True}\n",
      "========================================\n"
     ]
    }
   ],
   "source": [
    "alpha, temperature = 0., 1.\n",
    "loss_type=\"base\"\n",
    "dist_trainer = get_distil_trainer(\n",
    "    loss_type=loss_type,\n",
    "    alpha=alpha,\n",
    "    temperature=temperature,\n",
    "    num_epoch=5,\n",
    "    training_conf=distil_training_config,\n",
    "    student_config=student_config,\n",
    ")"
   ]
  },
  {
   "cell_type": "code",
   "execution_count": 42,
   "id": "d70b24d3-3d0a-49f3-9d55-ce4555e55890",
   "metadata": {
    "colab": {
     "base_uri": "https://localhost:8080/",
     "height": 250
    },
    "id": "d70b24d3-3d0a-49f3-9d55-ce4555e55890",
    "outputId": "4df23110-83be-49e1-c5b8-eb5ba4841a9d"
   },
   "outputs": [
    {
     "data": {
      "text/html": [
       "\n",
       "    <div>\n",
       "      \n",
       "      <progress value='8775' max='8775' style='width:300px; height:20px; vertical-align: middle;'></progress>\n",
       "      [8775/8775 09:44, Epoch 5/5]\n",
       "    </div>\n",
       "    <table border=\"1\" class=\"dataframe\">\n",
       "  <thead>\n",
       " <tr style=\"text-align: left;\">\n",
       "      <th>Epoch</th>\n",
       "      <th>Training Loss</th>\n",
       "      <th>Validation Loss</th>\n",
       "      <th>F1</th>\n",
       "    </tr>\n",
       "  </thead>\n",
       "  <tbody>\n",
       "    <tr>\n",
       "      <td>1</td>\n",
       "      <td>0.408700</td>\n",
       "      <td>0.335873</td>\n",
       "      <td>0.451110</td>\n",
       "    </tr>\n",
       "    <tr>\n",
       "      <td>2</td>\n",
       "      <td>0.196600</td>\n",
       "      <td>0.244075</td>\n",
       "      <td>0.588006</td>\n",
       "    </tr>\n",
       "    <tr>\n",
       "      <td>3</td>\n",
       "      <td>0.123800</td>\n",
       "      <td>0.228433</td>\n",
       "      <td>0.642340</td>\n",
       "    </tr>\n",
       "    <tr>\n",
       "      <td>4</td>\n",
       "      <td>0.074700</td>\n",
       "      <td>0.228602</td>\n",
       "      <td>0.664826</td>\n",
       "    </tr>\n",
       "    <tr>\n",
       "      <td>5</td>\n",
       "      <td>0.046700</td>\n",
       "      <td>0.235253</td>\n",
       "      <td>0.693086</td>\n",
       "    </tr>\n",
       "  </tbody>\n",
       "</table><p>"
      ],
      "text/plain": [
       "<IPython.core.display.HTML object>"
      ]
     },
     "metadata": {},
     "output_type": "display_data"
    },
    {
     "data": {
      "text/plain": [
       "TrainOutput(global_step=8775, training_loss=0.21860842789000595, metrics={'train_runtime': 585.0101, 'train_samples_per_second': 120.006, 'train_steps_per_second': 15.0, 'total_flos': 398283828497568.0, 'train_loss': 0.21860842789000595, 'epoch': 5.0})"
      ]
     },
     "execution_count": 42,
     "metadata": {},
     "output_type": "execute_result"
    }
   ],
   "source": [
    "dist_trainer.train()"
   ]
  },
  {
   "cell_type": "markdown",
   "id": "c514d860-fc09-47ca-a512-cbb975b14c6e",
   "metadata": {
    "id": "c514d860-fc09-47ca-a512-cbb975b14c6e"
   },
   "source": [
    "Теперь проверим, что мы нигде не ошиблись в дистилляции. В статье [https://arxiv.org/abs/1910.01108](https://arxiv.org/abs/1910.01108) отметили (Table 4), что отказ от функции потерь исходной задачи, приводит к просадке качества на 0.31 (что мало). Значит мы ожидаем, что если в коде нет ошибки, то качество не сильно поменяется."
   ]
  },
  {
   "cell_type": "code",
   "execution_count": 43,
   "id": "0f942c37-b44d-4280-aa73-5906bbd496bf",
   "metadata": {
    "colab": {
     "base_uri": "https://localhost:8080/"
    },
    "id": "0f942c37-b44d-4280-aa73-5906bbd496bf",
    "outputId": "78e389ed-1e92-49fe-972b-ca8fc334360b"
   },
   "outputs": [
    {
     "name": "stdout",
     "output_type": "stream",
     "text": [
      "YOUR TRAINING CONFIG\n",
      "RUN NAME = student_1.0_1.0_base\n",
      "{'eval_strategy': 'epoch', 'save_strategy': 'no', 'learning_rate': 5e-05, 'num_train_epochs': 15, 'warmup_ratio': 0.1, 'weight_decay': 0.01, 'push_to_hub': False, 'report_to': 'none', 'fp16': True}\n",
      "========================================\n"
     ]
    }
   ],
   "source": [
    "alpha, temperature = 1., 1.\n",
    "loss_type=\"base\"\n",
    "dist_trainer = get_distil_trainer(\n",
    "    loss_type=loss_type,\n",
    "    alpha=alpha,\n",
    "    temperature=temperature,\n",
    "    num_epoch=5,\n",
    "    training_conf=distil_training_config,\n",
    "    student_config=student_config,\n",
    ")"
   ]
  },
  {
   "cell_type": "code",
   "execution_count": 44,
   "id": "531c470c-b030-4131-88a3-28e4888d96ad",
   "metadata": {
    "colab": {
     "base_uri": "https://localhost:8080/",
     "height": 250
    },
    "id": "531c470c-b030-4131-88a3-28e4888d96ad",
    "outputId": "0d6277b5-c694-4dd5-ef6e-18b92c86acfc"
   },
   "outputs": [
    {
     "data": {
      "text/html": [
       "\n",
       "    <div>\n",
       "      \n",
       "      <progress value='8775' max='8775' style='width:300px; height:20px; vertical-align: middle;'></progress>\n",
       "      [8775/8775 08:44, Epoch 5/5]\n",
       "    </div>\n",
       "    <table border=\"1\" class=\"dataframe\">\n",
       "  <thead>\n",
       " <tr style=\"text-align: left;\">\n",
       "      <th>Epoch</th>\n",
       "      <th>Training Loss</th>\n",
       "      <th>Validation Loss</th>\n",
       "      <th>F1</th>\n",
       "    </tr>\n",
       "  </thead>\n",
       "  <tbody>\n",
       "    <tr>\n",
       "      <td>1</td>\n",
       "      <td>23.258900</td>\n",
       "      <td>15.952113</td>\n",
       "      <td>0.451738</td>\n",
       "    </tr>\n",
       "    <tr>\n",
       "      <td>2</td>\n",
       "      <td>12.323600</td>\n",
       "      <td>12.477705</td>\n",
       "      <td>0.556795</td>\n",
       "    </tr>\n",
       "    <tr>\n",
       "      <td>3</td>\n",
       "      <td>8.987400</td>\n",
       "      <td>10.472813</td>\n",
       "      <td>0.616474</td>\n",
       "    </tr>\n",
       "    <tr>\n",
       "      <td>4</td>\n",
       "      <td>6.217500</td>\n",
       "      <td>9.961872</td>\n",
       "      <td>0.672329</td>\n",
       "    </tr>\n",
       "    <tr>\n",
       "      <td>5</td>\n",
       "      <td>5.141000</td>\n",
       "      <td>9.888724</td>\n",
       "      <td>0.676236</td>\n",
       "    </tr>\n",
       "  </tbody>\n",
       "</table><p>"
      ],
      "text/plain": [
       "<IPython.core.display.HTML object>"
      ]
     },
     "metadata": {},
     "output_type": "display_data"
    },
    {
     "data": {
      "text/plain": [
       "TrainOutput(global_step=8775, training_loss=13.108819360977565, metrics={'train_runtime': 524.3716, 'train_samples_per_second': 133.884, 'train_steps_per_second': 16.734, 'total_flos': 398283828497568.0, 'train_loss': 13.108819360977565, 'epoch': 5.0})"
      ]
     },
     "execution_count": 44,
     "metadata": {},
     "output_type": "execute_result"
    }
   ],
   "source": [
    "dist_trainer.train()"
   ]
  },
  {
   "cell_type": "markdown",
   "id": "eb6525fa-fd49-4cf6-b393-23d9db4fcfbf",
   "metadata": {
    "id": "eb6525fa-fd49-4cf6-b393-23d9db4fcfbf"
   },
   "source": [
    "Аналогичный эксперимент если вы хотите (в качестве проверки), вы можете провести с участием дистилляции скрытых и attention слоев."
   ]
  },
  {
   "cell_type": "code",
   "execution_count": 45,
   "id": "c1057e72-d7a7-490d-aee4-63faa83f3da8",
   "metadata": {
    "colab": {
     "base_uri": "https://localhost:8080/",
     "height": 319
    },
    "id": "c1057e72-d7a7-490d-aee4-63faa83f3da8",
    "outputId": "d8c47a19-e707-4fd9-b787-92c1b9fe90bb"
   },
   "outputs": [
    {
     "name": "stdout",
     "output_type": "stream",
     "text": [
      "YOUR TRAINING CONFIG\n",
      "RUN NAME = student_1.0_1.0_attn_hidden\n",
      "{'eval_strategy': 'epoch', 'save_strategy': 'no', 'learning_rate': 5e-05, 'num_train_epochs': 15, 'warmup_ratio': 0.1, 'weight_decay': 0.01, 'push_to_hub': False, 'report_to': 'none', 'fp16': True}\n",
      "========================================\n"
     ]
    },
    {
     "data": {
      "text/html": [
       "\n",
       "    <div>\n",
       "      \n",
       "      <progress value='8775' max='8775' style='width:300px; height:20px; vertical-align: middle;'></progress>\n",
       "      [8775/8775 08:50, Epoch 5/5]\n",
       "    </div>\n",
       "    <table border=\"1\" class=\"dataframe\">\n",
       "  <thead>\n",
       " <tr style=\"text-align: left;\">\n",
       "      <th>Epoch</th>\n",
       "      <th>Training Loss</th>\n",
       "      <th>Validation Loss</th>\n",
       "      <th>F1</th>\n",
       "    </tr>\n",
       "  </thead>\n",
       "  <tbody>\n",
       "    <tr>\n",
       "      <td>1</td>\n",
       "      <td>24.769900</td>\n",
       "      <td>17.305738</td>\n",
       "      <td>0.450505</td>\n",
       "    </tr>\n",
       "    <tr>\n",
       "      <td>2</td>\n",
       "      <td>13.664100</td>\n",
       "      <td>13.837864</td>\n",
       "      <td>0.559136</td>\n",
       "    </tr>\n",
       "    <tr>\n",
       "      <td>3</td>\n",
       "      <td>10.293000</td>\n",
       "      <td>11.703540</td>\n",
       "      <td>0.613985</td>\n",
       "    </tr>\n",
       "    <tr>\n",
       "      <td>4</td>\n",
       "      <td>7.474200</td>\n",
       "      <td>11.115704</td>\n",
       "      <td>0.669587</td>\n",
       "    </tr>\n",
       "    <tr>\n",
       "      <td>5</td>\n",
       "      <td>6.373400</td>\n",
       "      <td>11.002203</td>\n",
       "      <td>0.675331</td>\n",
       "    </tr>\n",
       "  </tbody>\n",
       "</table><p>"
      ],
      "text/plain": [
       "<IPython.core.display.HTML object>"
      ]
     },
     "metadata": {},
     "output_type": "display_data"
    },
    {
     "data": {
      "text/plain": [
       "TrainOutput(global_step=8775, training_loss=14.46721578136129, metrics={'train_runtime': 530.4096, 'train_samples_per_second': 132.36, 'train_steps_per_second': 16.544, 'total_flos': 398283828497568.0, 'train_loss': 14.46721578136129, 'epoch': 5.0})"
      ]
     },
     "execution_count": 45,
     "metadata": {},
     "output_type": "execute_result"
    }
   ],
   "source": [
    "alpha, temperature = 1., 1.\n",
    "loss_type=\"attn_hidden\"\n",
    "dist_trainer = get_distil_trainer(\n",
    "    loss_type=loss_type,\n",
    "    alpha=alpha,\n",
    "    temperature=temperature,\n",
    "    num_epoch=5,\n",
    "    training_conf=distil_training_config,\n",
    "    student_config=student_config,\n",
    ")\n",
    "dist_trainer.train()"
   ]
  },
  {
   "cell_type": "markdown",
   "id": "382bae35-2d36-44e3-8296-79b6a26dcb33",
   "metadata": {
    "id": "382bae35-2d36-44e3-8296-79b6a26dcb33"
   },
   "source": [
    "**Выводы**:\n",
    "\n",
    "-\n",
    "-\n"
   ]
  },
  {
   "cell_type": "markdown",
   "id": "ec4fd45c",
   "metadata": {
    "id": "ec4fd45c"
   },
   "source": [
    "### `Рубрика эксперименты`\n",
    "\n",
    "В этой секции вам нужно провести эксперименты и понять как дистилляция влияет на обучение. Дизайн экспериментов зависит только от вас. Должны быть выполнены следующие требования:\n",
    "\n",
    "- Для корректных вывод модель должна быть дообучена. Например, 5 эпох как выше будет недостаточно, 15 эпох будет достаточно;\n",
    "- В экспериментах на $\\alpha$ нужно проверить минимум 3 разных значения;\n",
    "- В экспериментах на температуру нужно проверить минимум 3 разных значения;\n",
    "- В экспериментах нужно проверять \"разумные\" значения для корректных выводов (в каждом пункте будут пояснения о \"разумных\" значения);\n",
    "- Ваши выводы должны следовать из экспериментов проведенных в ноутбуке;\n",
    "- Между всеми запусками гиперпараметры, кроме проверяемых, должны быть одинаковы;\n",
    "- Проверяйте гипотезы на `loss_type=\"attn_hidden\"`, если вы хотите изменить этот параметр, то должна быть аргументация и эксперименты, её подтверждающие;\n",
    "- В каждом задании должны быть написаны выводы и ответ на соответствующий вопрос.\n",
    "\n",
    "В случае нарушении любого из требований задание **не будет** засчитано."
   ]
  },
  {
   "cell_type": "markdown",
   "id": "92275975-f5d9-4765-87c4-391821464709",
   "metadata": {
    "id": "92275975-f5d9-4765-87c4-391821464709"
   },
   "source": [
    "**Задание 5 (1 балл)**. Исследование влияния температуры.\n",
    "\n",
    "Мы знаем, что модели бывают слишком уверенные в ответе, то есть вероятность для одного класса сильно выше, чем для всех остальных. Параметр температуры в Softmax отвечает за \"сглаживание\" распределения (чем выше температура, тем более равномерное распределение).\n",
    "\n",
    "Проверьте как минимум 3 разных значения температуры. Например, значения равное 1 считается \"разумным\", а значение температуры 0.01 или 100 таковыми не считаются. Вам необходимо ответить на вопрос: **Как температура влияет на обучение и на итоговое качество?**.\n",
    "\n",
    "Параметр $\\alpha$ можете взять 0.5 как что-то естественное в случае комбинации двух функций потерь. Кроме того, давайте отдельно посмотрим на распределения классов для какого-то объекта и на основе этого найдем ещё одно \"разумное\" значение."
   ]
  },
  {
   "cell_type": "code",
   "execution_count": 46,
   "id": "ce6ebd24-894d-42f4-9d30-fc826d3ac590",
   "metadata": {
    "id": "ce6ebd24-894d-42f4-9d30-fc826d3ac590"
   },
   "outputs": [],
   "source": [
    "set_global_seed(42)\n",
    "\n",
    "dataloader = torch.utils.data.DataLoader(\n",
    "    tokenized_datasets['train'],\n",
    "    collate_fn=data_collator,\n",
    "    batch_size=1,\n",
    "    shuffle=True\n",
    ")\n",
    "batch = next(iter(dataloader))\n",
    "batch = {k: v.to(device) for k, v in batch.items()}"
   ]
  },
  {
   "cell_type": "code",
   "execution_count": 47,
   "id": "fce92722-6cdc-4242-aa0e-30f81729ba3a",
   "metadata": {
    "id": "fce92722-6cdc-4242-aa0e-30f81729ba3a"
   },
   "outputs": [],
   "source": [
    "with torch.inference_mode():\n",
    "    logits = model_teacher(**batch).logits[0]"
   ]
  },
  {
   "cell_type": "code",
   "execution_count": 48,
   "id": "543494f9-851a-4b20-b29d-03000e15eab8",
   "metadata": {
    "colab": {
     "base_uri": "https://localhost:8080/",
     "height": 807
    },
    "id": "543494f9-851a-4b20-b29d-03000e15eab8",
    "outputId": "dec12305-ae78-4d8f-95f7-85351c27d530",
    "scrolled": true
   },
   "outputs": [
    {
     "data": {
      "image/png": "[encoded data removed]",
      "text/plain": [
       "<Figure size 1000x800 with 20 Axes>"
      ]
     },
     "metadata": {},
     "output_type": "display_data"
    }
   ],
   "source": [
    "t_grid = [1, 5, 10, 20]\n",
    "idx_grid = [0, 4, 1, 7, 9]\n",
    "\n",
    "fig, ax = plt.subplots(len(t_grid), len(idx_grid), figsize=(2 * len(idx_grid), 2 * len(t_grid)), sharex=True, sharey=True)\n",
    "for i, t in enumerate([1, 5, 10, 20]):\n",
    "    ax[i, 2].set_title(f\"Temperature = {t}\")\n",
    "    for j, idx in enumerate(idx_grid):\n",
    "        ax[i, j].bar(range(9), (logits[idx] / t).softmax(0).detach().cpu().numpy())\n",
    "\n",
    "plt.tight_layout()\n",
    "plt.show()"
   ]
  },
  {
   "cell_type": "markdown",
   "id": "3546f7d3-f659-40a7-9915-5b58283a0781",
   "metadata": {
    "id": "3546f7d3-f659-40a7-9915-5b58283a0781"
   },
   "source": [
    "На основе этих графиков можно сделать вывод, что проверять температуру меньше 1 нет смысла. Проверить 1 стоит, так как это стандартный Softmax."
   ]
  },
  {
   "cell_type": "code",
   "execution_count": 51,
   "id": "f20fb116-dc0d-4192-8e38-3bbe6b464f4a",
   "metadata": {
    "id": "f20fb116-dc0d-4192-8e38-3bbe6b464f4a"
   },
   "outputs": [],
   "source": [
    "temperature_grid = ...\n",
    "alpha = 0.5\n",
    "loss_type=\"attn_hidden\"\n",
    "\n",
    "for temperature in temperature_grid:\n",
    "    dist_trainer = get_distil_trainer(\n",
    "        loss_type=loss_type,\n",
    "        alpha=alpha,\n",
    "        temperature=temperature,\n",
    "        num_epoch=15,\n",
    "        training_conf=distil_training_config,\n",
    "        student_config=student_config,\n",
    "    )\n",
    "    dist_trainer.train()"
   ]
  },
  {
   "cell_type": "markdown",
   "id": "8e3cf036-3274-4cfc-aeaf-b94af5375b80",
   "metadata": {
    "id": "8e3cf036-3274-4cfc-aeaf-b94af5375b80"
   },
   "source": [
    "**Выводы**:\n",
    "\n",
    "-\n",
    "-\n"
   ]
  },
  {
   "cell_type": "markdown",
   "id": "43626da3-329a-400f-8842-d434bfc0c6de",
   "metadata": {
    "id": "43626da3-329a-400f-8842-d434bfc0c6de"
   },
   "source": [
    "**Задание 6 (1 балл)**. Исследование влияния $\\alpha$.\n",
    "\n",
    "Вы можете выбрать лучший параметр температуры из прошлого пункта, а можете зафиксировать 1.\n",
    "\n",
    "Проверьте как минимум 3 разных значения $\\alpha$. Например, значения равное 0.5 считается \"разумным\", а значение температуры 0.00001 или 0.99999 таковыми не считаются. Вам необходимо ответить на вопрос: **Как  $\\alpha$ влияет на обучение и на итоговое качество?**.\n",
    "\n",
    "Вы решаете задачу оптимизации вида:\n",
    "\n",
    "\\begin{equation}\n",
    "(1 - \\alpha) \\cdot \\mathcal{L}_{\\text{hard}} + \\alpha \\cdot \\mathcal{L}_{\\text{distill}}.\n",
    "\\end{equation}\n",
    "\n",
    "Обычно, вы хотите, что оба лосса одинаково влияли на оптимизацию и учитывались в процессе оптимизации, то есть чтобы нормы градиентов были одинаковые. Для этого можно подобрать параметр $\\alpha$ так, чтобы нормы градиентов по каждому из лоссов были примерно похожи (не стоит выбирать значение до 5 знака после запятой). Иногда, так делать бывает лень, поэтому можно подобрать параметр $\\alpha$ так, чтобы $(1 - \\alpha) \\cdot \\mathcal{L}_{\\text{hard}} \\approx \\alpha \\cdot \\mathcal{L}_{\\text{distill}}$. То есть вместо похожести нормы градиентов, мы требуем похожесть самих значений функции. Понятно, что такой подход не даст похожие нормы градиентов, однако на практике сильно проще в реализации. Например, если у вас первый лосс равен 100, а второй 1, то стоит взять $\\frac{1 - \\alpha}{\\alpha} \\approx \\frac{1}{100}$, то есть $\\alpha \\approx  \\frac{100}{101}$, значит можно взять $\\alpha = 0.99$.\n",
    "\n",
    "Найденные таким способом $\\alpha$ будут считаться \"разумными\".\n",
    "\n",
    "**Бонус (0.1 балла)**. Реализуйте метод, который возьмет батч и при фиксированной температуре посчитает нормы градиентов $\\mathcal{L}_{\\text{hard}}$ и $\\mathcal{L}_{\\text{distill}}$. После чего на анализе этих норм подберите нужное $\\alpha$."
   ]
  },
  {
   "cell_type": "code",
   "execution_count": 52,
   "id": "74f7469e-a5cc-463e-8c7b-8254ec99f8d0",
   "metadata": {
    "id": "74f7469e-a5cc-463e-8c7b-8254ec99f8d0"
   },
   "outputs": [],
   "source": [
    "alpha_grid = ...\n",
    "temperature = 5\n",
    "loss_type=\"attn_hidden\"\n",
    "\n",
    "for alpha in alpha_grid:\n",
    "    dist_trainer = get_distil_trainer(\n",
    "        loss_type=loss_type,\n",
    "        alpha=alpha,\n",
    "        temperature=temperature,\n",
    "        num_epoch=15,\n",
    "        training_conf=distil_training_config,\n",
    "        student_config=student_config,\n",
    "    )\n",
    "    dist_trainer.train()"
   ]
  },
  {
   "cell_type": "markdown",
   "id": "4de5c296-5f61-4c30-b8f5-97a3e23db9c7",
   "metadata": {
    "id": "4de5c296-5f61-4c30-b8f5-97a3e23db9c7"
   },
   "source": [
    "**Выводы**:\n",
    "\n",
    "-\n",
    "-\n"
   ]
  },
  {
   "cell_type": "markdown",
   "id": "fd87716a-abc3-45aa-8469-12383143317f",
   "metadata": {
    "id": "fd87716a-abc3-45aa-8469-12383143317f"
   },
   "source": [
    "**Бонус (1 балл)**. Выбить качество выше 0.85, если вы сделали это раньше, то необходимо продублировать конфиг. Вы можете использовать следующее:\n",
    "\n",
    "- Проинцилизировать эмбеддинги студента через учителя;\n",
    "- Проинцилизировать слои attention студента через учителя;\n",
    "- Предобучит модель студента с помощью дисстиляции на задаче MLM, так как обучать трансформер сразу на итоговую задачу не стоит;\n",
    "- Подробнее изучить статью [DistilBERT](https://arxiv.org/pdf/1910.01108).\n",
    "\n",
    "Если вы не смогли выбить качество выше 0.85, но реализовали первые три пункта корректно, то пункт будет засчитан."
   ]
  },
  {
   "cell_type": "markdown",
   "id": "ba6a213d",
   "metadata": {
    "id": "ba6a213d"
   },
   "source": [
    "## `Квантизация (3.5 балла)`\n",
    "\n",
    "В этом задании вам будет предложено квантизировать модель в int8, так вы сможете уменьшить потребляюмую память и быстрее умножать матрицы! Мы будем основываться на методе [SmoothQuant](https://arxiv.org/abs/2211.10438), однако не будем делать Smooth, то есть сглаживание весов. Основная проблема возникает в том, что метод разработан для `Pre-Normalization` трансформеров, когда первые модели и в частности BERT имеют архитектуру `Post-Normalization`. Идейно отличие в том, что в первом случае слой LayerNorm размешается в начале блока, во втором случае - в конце. Подробнее можете почитать [в статье](https://arxiv.org/abs/2002.04745).\n"
   ]
  },
  {
   "cell_type": "markdown",
   "id": "818a80a8-aea7-4650-84a2-d4909d05cda8",
   "metadata": {
    "id": "818a80a8-aea7-4650-84a2-d4909d05cda8"
   },
   "source": [
    "Загрузим модель."
   ]
  },
  {
   "cell_type": "code",
   "execution_count": 53,
   "id": "39de99e1-40bb-48ea-b6ac-391809c3442e",
   "metadata": {
    "id": "39de99e1-40bb-48ea-b6ac-391809c3442e"
   },
   "outputs": [],
   "source": [
    "model_teacher = AutoModelForTokenClassification.from_pretrained('3145tttt/bert-cased-ner-mmp-task3').to(device)\n",
    "model_teacher = model_teacher.eval()\n",
    "model_teacher = model_teacher.requires_grad_(False)"
   ]
  },
  {
   "cell_type": "markdown",
   "id": "8ac2487e-f313-46a9-a284-0357277a3b88",
   "metadata": {
    "id": "8ac2487e-f313-46a9-a284-0357277a3b88"
   },
   "source": [
    "**Задание 7 (0.5 балл)**\n",
    "\n",
    "Теперь наша цель научиться правильно округлять в 8 бит веса линейных слоев и активации. Для этого реализуем 2 функции: `quantize_weight_per_channel_absmax`, `quantize_activation_per_token_absmax`.\n",
    "\n",
    "Сначала разберемся с весами, нам нужно реализовать формулу:\n",
    "\n",
    "\\begin{equation}\n",
    " X^{\\text{INT8}} = \\text{round}(\\frac{X^{\\text{FP16}}}{\\Delta}), \\quad \\Delta = \\frac{max(|X|)}{ 2^{8 - 1} - 1 },\n",
    "\\end{equation}\n",
    "где $X^{\\text{FP16}}$ веса в fp16, $X^{\\text{INT8}}$ желаемые веса в int8. Мы эту операцию будем производить не для всего тензора весов, а для каждого выходного канала. Заметим, что все операции хорошо бродкастятся, поэтому вам будет достаточно просто применить исходную функцию только заменить операцию максимума, на максимум по каналам.\n",
    "\n",
    "**Важно**. Учтите, что может возникнуть деление на 0."
   ]
  },
  {
   "cell_type": "code",
   "execution_count": 54,
   "id": "2b8b1f56-bbe7-4112-8ae5-e747ad27ad1c",
   "metadata": {
    "id": "2b8b1f56-bbe7-4112-8ae5-e747ad27ad1c"
   },
   "outputs": [],
   "source": [
    "@torch.no_grad()\n",
    "def quantize_weight_per_channel_absmax(w, n_bits=8):\n",
    "    \"\"\"\n",
    "    Args:\n",
    "        w: (out_features, in_features)\n",
    "    \"\"\"\n",
    "    # YOUR CODE HERE\n",
    "    scales = ... # numerator in \\Delta from formula\n",
    "    ...\n",
    "    return w"
   ]
  },
  {
   "cell_type": "code",
   "execution_count": 55,
   "id": "1ee4a422-26d2-48aa-bb0d-cef470ee45b7",
   "metadata": {
    "colab": {
     "base_uri": "https://localhost:8080/"
    },
    "id": "1ee4a422-26d2-48aa-bb0d-cef470ee45b7",
    "outputId": "15a5f95c-9316-4c3a-b1c9-680107d40def"
   },
   "outputs": [
    {
     "data": {
      "text/plain": [
       "tensor([[-2.0000, -2.0000,  1.0079,  2.0000],\n",
       "        [-3.0236, -0.9921,  1.9843,  6.0000],\n",
       "        [-0.9843, -5.0000,  4.0157,  0.9843],\n",
       "        [ 0.0000,  0.0000,  0.0000,  0.0000]])"
      ]
     },
     "execution_count": 55,
     "metadata": {},
     "output_type": "execute_result"
    }
   ],
   "source": [
    "w = torch.tensor([\n",
    "    [-2, -2, 1, 2],\n",
    "    [-3, -1, 2, 6],\n",
    "    [-1, -5, 4, 1],\n",
    "    [0,   0, 0, 0]\n",
    "]).float()\n",
    "quantize_weight_per_channel_absmax(w)"
   ]
  },
  {
   "cell_type": "markdown",
   "id": "4d60fcd6-2656-4a8a-83cb-1e2ad029fcd6",
   "metadata": {
    "id": "4d60fcd6-2656-4a8a-83cb-1e2ad029fcd6"
   },
   "source": [
    "Для умножения матриц в int8, нам нужно, чтобы обе матрицы были в int8, значит нужно уметь квантовать активации. Будем действовать аналогично матрице весов, только теперь мы не знаем сколько размерностей у каждого токена, поэтому сначала нужно сделать правильный view на тензор активаций. Учтите, что наша цель применить операцию для каждого токена, для этого нужно выбрать нужную размерность."
   ]
  },
  {
   "cell_type": "code",
   "execution_count": 56,
   "id": "c524a72a-c87e-4471-8f9e-21f623abe08b",
   "metadata": {
    "id": "c524a72a-c87e-4471-8f9e-21f623abe08b"
   },
   "outputs": [],
   "source": [
    "@torch.no_grad()\n",
    "def quantize_activation_per_token_absmax(t, n_bits=8):\n",
    "    \"\"\"\n",
    "    Args:\n",
    "        t: (d0, ..., dn, token_embedding_dim)\n",
    "    \"\"\"\n",
    "    t_shape = t.shape\n",
    "    # YOUR CODE HERE\n",
    "    ...\n",
    "    scales = ... # numerator in \\Delta from formula\n",
    "    ...\n",
    "    return t"
   ]
  },
  {
   "cell_type": "code",
   "execution_count": 57,
   "id": "b09c5b2f-6fee-45e7-bf79-1f294e118df0",
   "metadata": {
    "colab": {
     "base_uri": "https://localhost:8080/"
    },
    "id": "b09c5b2f-6fee-45e7-bf79-1f294e118df0",
    "outputId": "815a312e-d1fe-4b4f-ff49-2d3e5ae90dfa"
   },
   "outputs": [
    {
     "name": "stdout",
     "output_type": "stream",
     "text": [
      "tensor([[[-2., -2.],\n",
      "         [ 1.,  2.],\n",
      "         [-3., -1.],\n",
      "         [ 2.,  6.]],\n",
      "\n",
      "        [[-1., -5.],\n",
      "         [ 4.,  1.],\n",
      "         [-5., -2.],\n",
      "         [ 1.,  2.]]])\n"
     ]
    },
    {
     "data": {
      "text/plain": [
       "tensor([[[-2.0000, -2.0000],\n",
       "         [ 1.0079,  2.0000],\n",
       "         [-3.0000, -0.9921],\n",
       "         [ 1.9843,  6.0000]],\n",
       "\n",
       "        [[-0.9843, -5.0000],\n",
       "         [ 4.0000,  1.0079],\n",
       "         [-5.0000, -2.0079],\n",
       "         [ 1.0079,  2.0000]]])"
      ]
     },
     "execution_count": 57,
     "metadata": {},
     "output_type": "execute_result"
    }
   ],
   "source": [
    "t = torch.tensor([\n",
    "    [-2, -2, 1, 2],\n",
    "    [-3, -1, 2, 6],\n",
    "    [-1, -5, 4, 1],\n",
    "    [-5, -2, 1, 2]\n",
    "]).float()\n",
    "t = t.view(2, 4, 2)\n",
    "print(t)\n",
    "quantize_activation_per_token_absmax(t)"
   ]
  },
  {
   "cell_type": "markdown",
   "id": "fe4dcd2b-e256-4d1b-bf54-9a48ab5737fe",
   "metadata": {
    "id": "fe4dcd2b-e256-4d1b-bf54-9a48ab5737fe"
   },
   "source": [
    "Все функции выше были необходимы для реализации линейного слоя!"
   ]
  },
  {
   "cell_type": "code",
   "execution_count": 58,
   "id": "c8b14c7e-f3b4-4a23-bdd2-bf2e344af836",
   "metadata": {
    "id": "c8b14c7e-f3b4-4a23-bdd2-bf2e344af836"
   },
   "outputs": [],
   "source": [
    "class W8A8Linear(nn.Module):\n",
    "    # This class implements fake quantization.\n",
    "    # It performs all computations in FP16 but simulates the effects of quantization\n",
    "    def __init__(\n",
    "        self,\n",
    "        in_features,\n",
    "        out_features,\n",
    "        bias=True,\n",
    "        act_quant=\"per_token\",\n",
    "        quantize_output=False,\n",
    "    ):\n",
    "        super().__init__()\n",
    "        self.in_features = in_features\n",
    "        self.out_features = out_features\n",
    "\n",
    "        self.register_buffer(\n",
    "            \"weight\",\n",
    "            torch.randn(\n",
    "                self.out_features,\n",
    "                self.in_features,\n",
    "                dtype=torch.float16,\n",
    "                requires_grad=False,\n",
    "            ),\n",
    "        )\n",
    "        if bias:\n",
    "            self.register_buffer(\n",
    "                \"bias\",\n",
    "                torch.zeros(\n",
    "                    (1, self.out_features), dtype=torch.float16, requires_grad=False\n",
    "                ),\n",
    "            )\n",
    "        else:\n",
    "            self.register_buffer(\"bias\", None)\n",
    "\n",
    "        if act_quant == \"per_token\":\n",
    "            self.act_quant_name = \"per_token\"\n",
    "            self.act_quant = partial(quantize_activation_per_token_absmax, n_bits=8)\n",
    "        else:\n",
    "            raise ValueError(f\"Invalid act_quant: {act_quant}\")\n",
    "\n",
    "        if quantize_output:\n",
    "            self.output_quant_name = self.act_quant_name\n",
    "            self.output_quant = self.act_quant\n",
    "        else:\n",
    "            self.output_quant_name = \"None\"\n",
    "            self.output_quant = lambda x: x\n",
    "\n",
    "    def to(self, *args, **kwargs):\n",
    "        super(W8A8Linear, self).to(*args, **kwargs)\n",
    "        self.weight = self.weight.to(*args, **kwargs)\n",
    "        if self.bias is not None:\n",
    "            self.bias = self.bias.to(*args, **kwargs)\n",
    "        return self\n",
    "\n",
    "    @torch.no_grad()\n",
    "    def forward(self, x):\n",
    "        q_x = self.act_quant(x)\n",
    "        y = torch.functional.F.linear(q_x, self.weight, self.bias)\n",
    "        q_y = self.output_quant(y)\n",
    "        return q_y\n",
    "\n",
    "    @staticmethod\n",
    "    def from_float(\n",
    "        module, weight_quant=\"per_channel\", act_quant=\"per_token\", quantize_output=False\n",
    "    ):\n",
    "        assert isinstance(module, torch.nn.Linear)\n",
    "        new_module = W8A8Linear(\n",
    "            module.in_features,\n",
    "            module.out_features,\n",
    "            module.bias is not None,\n",
    "            act_quant=act_quant,\n",
    "            quantize_output=quantize_output,\n",
    "        )\n",
    "        if weight_quant == \"per_channel\":\n",
    "            new_module.weight = quantize_weight_per_channel_absmax(\n",
    "                module.weight, n_bits=8\n",
    "            )  # use 8-bit integer for weight\n",
    "        else:\n",
    "            raise ValueError(f\"Invalid weight_quant: {weight_quant}\")\n",
    "\n",
    "        new_module.weight_quant_name = weight_quant\n",
    "        if module.bias is not None:\n",
    "            new_module.bias = module.bias\n",
    "        return new_module\n",
    "\n",
    "    def __repr__(self):\n",
    "        return f\"W8A8Linear({self.in_features}, {self.out_features}, bias={self.bias is not None}, weight_quant={self.weight_quant_name}, act_quant={self.act_quant_name}, output_quant={self.output_quant_name})\""
   ]
  },
  {
   "cell_type": "markdown",
   "id": "abfda754-ba09-4b46-8f38-54e995fdff26",
   "metadata": {
    "id": "abfda754-ba09-4b46-8f38-54e995fdff26"
   },
   "source": [
    "Проверим корректность реализации, для этого создадим линейный слой и посмотрим как меняются его веса и выход."
   ]
  },
  {
   "cell_type": "code",
   "execution_count": 59,
   "id": "9641c91d-f9ea-437e-92c7-b4d84fd4a474",
   "metadata": {
    "colab": {
     "base_uri": "https://localhost:8080/"
    },
    "id": "9641c91d-f9ea-437e-92c7-b4d84fd4a474",
    "outputId": "18ca63b2-bd95-4e76-b375-e56b56ff0620"
   },
   "outputs": [
    {
     "data": {
      "text/plain": [
       "tensor([[23.0000, 49.0000, 26.0000, 42.0000]], grad_fn=<AddmmBackward0>)"
      ]
     },
     "execution_count": 59,
     "metadata": {},
     "output_type": "execute_result"
    }
   ],
   "source": [
    "linear_teacher = nn.Linear(4, 4)\n",
    "\n",
    "linear_teacher.bias.data = torch.tensor([-2, -1, 1, 2]).float()\n",
    "linear_teacher.weight.data = torch.tensor([\n",
    "    [-2, -2, 1, 2],\n",
    "    [-3, -1, 2, 6],\n",
    "    [-1, -5, 4, 1],\n",
    "    [-5, -2, 1, 2]\n",
    "]).float()\n",
    "x_testing = torch.linspace(-5, 5, 4)[None, :]\n",
    "out_teacher_linear = linear_teacher(x_testing)\n",
    "out_teacher_linear"
   ]
  },
  {
   "cell_type": "code",
   "execution_count": 60,
   "id": "7622236d-2e5f-42d2-949f-93780814f62a",
   "metadata": {
    "colab": {
     "base_uri": "https://localhost:8080/"
    },
    "id": "7622236d-2e5f-42d2-949f-93780814f62a",
    "outputId": "a110af8b-10a9-47da-d534-f4bf69fa2145"
   },
   "outputs": [
    {
     "data": {
      "text/plain": [
       "(Parameter containing:\n",
       " tensor([[-2.0000, -2.0000,  1.0079,  2.0000],\n",
       "         [-3.0236, -0.9921,  1.9843,  6.0000],\n",
       "         [-0.9843, -5.0000,  4.0157,  0.9843],\n",
       "         [-5.0000, -2.0079,  0.9843,  2.0079]], requires_grad=True),\n",
       " Parameter containing:\n",
       " tensor([-2., -1.,  1.,  2.], requires_grad=True),\n",
       " tensor([[22.9736, 49.0397, 25.7505, 41.9870]]))"
      ]
     },
     "execution_count": 60,
     "metadata": {},
     "output_type": "execute_result"
    }
   ],
   "source": [
    "linear_quant = W8A8Linear.from_float(linear_teacher, quantize_output=False)\n",
    "linear_quant.weight, linear_quant.bias, linear_quant(x_testing)"
   ]
  },
  {
   "cell_type": "code",
   "execution_count": 61,
   "id": "e747d2d8-f51e-4c58-9dfd-65a67d3592ab",
   "metadata": {
    "colab": {
     "base_uri": "https://localhost:8080/"
    },
    "id": "e747d2d8-f51e-4c58-9dfd-65a67d3592ab",
    "outputId": "e36340d3-3c4a-46c3-93ef-3459a2f74a12"
   },
   "outputs": [
    {
     "data": {
      "text/plain": [
       "(Parameter containing:\n",
       " tensor([[-2.0000, -2.0000,  1.0079,  2.0000],\n",
       "         [-3.0236, -0.9921,  1.9843,  6.0000],\n",
       "         [-0.9843, -5.0000,  4.0157,  0.9843],\n",
       "         [-5.0000, -2.0079,  0.9843,  2.0079]], requires_grad=True),\n",
       " Parameter containing:\n",
       " tensor([-2., -1.,  1.,  2.], requires_grad=True),\n",
       " tensor([[22.7822, 49.0397, 25.8713, 42.0892]]))"
      ]
     },
     "execution_count": 61,
     "metadata": {},
     "output_type": "execute_result"
    }
   ],
   "source": [
    "linear_quant = W8A8Linear.from_float(linear_teacher, quantize_output=True)\n",
    "linear_quant.weight, linear_quant.bias, linear_quant(x_testing)"
   ]
  },
  {
   "cell_type": "markdown",
   "id": "d205b631-d1a2-46c9-b385-749c1971069f",
   "metadata": {
    "id": "d205b631-d1a2-46c9-b385-749c1971069f"
   },
   "source": [
    "Теперь необходимо квантизовать все линейные слои внутри `Attention` и `Feedforward`. Для этого может быть полезно посмотреть на архитектуры модели."
   ]
  },
  {
   "cell_type": "markdown",
   "id": "28472563-dbd3-4383-acb1-acf0ad1ee5d6",
   "metadata": {
    "id": "28472563-dbd3-4383-acb1-acf0ad1ee5d6"
   },
   "source": [
    "**Задание 8 (0.5 балл)** Квантизовать BERT.\n",
    "\n",
    "Теперь вам необходимо квантизовать модель! Мы хотим заменить все линейные слои в attention и FeedForward блоках. Внимательно посмотрите на архитектуру и замените все нужные слои. Замену слоя можно произвести с помощью функции `W8A8Linear.from_float`."
   ]
  },
  {
   "cell_type": "code",
   "execution_count": 62,
   "id": "ef4b0405-5e47-4c8f-9f57-4aca74c70a0d",
   "metadata": {
    "colab": {
     "base_uri": "https://localhost:8080/"
    },
    "id": "ef4b0405-5e47-4c8f-9f57-4aca74c70a0d",
    "outputId": "03f86ed7-137e-47b4-d7cd-370ce4a606b9"
   },
   "outputs": [
    {
     "data": {
      "text/plain": [
       "BertEncoder(\n",
       "  (layer): ModuleList(\n",
       "    (0-11): 12 x BertLayer(\n",
       "      (attention): BertAttention(\n",
       "        (self): BertSdpaSelfAttention(\n",
       "          (query): Linear(in_features=768, out_features=768, bias=True)\n",
       "          (key): Linear(in_features=768, out_features=768, bias=True)\n",
       "          (value): Linear(in_features=768, out_features=768, bias=True)\n",
       "          (dropout): Dropout(p=0.1, inplace=False)\n",
       "        )\n",
       "        (output): BertSelfOutput(\n",
       "          (dense): Linear(in_features=768, out_features=768, bias=True)\n",
       "          (LayerNorm): LayerNorm((768,), eps=1e-12, elementwise_affine=True)\n",
       "          (dropout): Dropout(p=0.1, inplace=False)\n",
       "        )\n",
       "      )\n",
       "      (intermediate): BertIntermediate(\n",
       "        (dense): Linear(in_features=768, out_features=3072, bias=True)\n",
       "        (intermediate_act_fn): GELUActivation()\n",
       "      )\n",
       "      (output): BertOutput(\n",
       "        (dense): Linear(in_features=3072, out_features=768, bias=True)\n",
       "        (LayerNorm): LayerNorm((768,), eps=1e-12, elementwise_affine=True)\n",
       "        (dropout): Dropout(p=0.1, inplace=False)\n",
       "      )\n",
       "    )\n",
       "  )\n",
       ")"
      ]
     },
     "execution_count": 62,
     "metadata": {},
     "output_type": "execute_result"
    }
   ],
   "source": [
    "model_teacher.bert.encoder"
   ]
  },
  {
   "cell_type": "code",
   "execution_count": 63,
   "id": "9a14ad6c-5dec-4ada-862b-287d8fb9b2a4",
   "metadata": {
    "id": "9a14ad6c-5dec-4ada-862b-287d8fb9b2a4"
   },
   "outputs": [],
   "source": [
    "from transformers.models.bert.modeling_bert import BertAttention, BertIntermediate, BertOutput"
   ]
  },
  {
   "cell_type": "code",
   "execution_count": 64,
   "id": "d44875e1-6d3c-4c9b-b0fb-bc2022e784e1",
   "metadata": {
    "id": "d44875e1-6d3c-4c9b-b0fb-bc2022e784e1"
   },
   "outputs": [],
   "source": [
    "def quantize_bert_like(\n",
    "    model, weight_quant=\"per_channel\", act_quant=\"per_token\", quantize_bmm_input=False,\n",
    "    quantize_ff=True, quantize_attention=True\n",
    "):\n",
    "\n",
    "    for name, m in model.bert.named_modules():\n",
    "        # For FF layers\n",
    "        if isinstance(m, BertIntermediate) and quantize_ff:\n",
    "            # YOUR CODE HERE\n",
    "            ...\n",
    "        elif isinstance(m, BertOutput) and quantize_ff:\n",
    "            # YOUR CODE HERE\n",
    "            ...\n",
    "        # For Attention layers\n",
    "        elif isinstance(m, BertAttention) and quantize_attention:\n",
    "            # Here we simulate quantizing inputs by quantizing the output of query, key, value and output linear\n",
    "            # YOUR CODE HERE\n",
    "            ...\n",
    "    return model"
   ]
  },
  {
   "cell_type": "markdown",
   "id": "89c8cb9c-19ae-4fff-b399-210db97a2936",
   "metadata": {
    "id": "89c8cb9c-19ae-4fff-b399-210db97a2936"
   },
   "source": [
    "Проверим как отработала квантизация, для этого создадим копию модели и проверим выход на каком-то фиксированном батче."
   ]
  },
  {
   "cell_type": "code",
   "execution_count": 65,
   "id": "cb82345f-0e6e-48f2-87d1-0f07c9c371ef",
   "metadata": {
    "id": "cb82345f-0e6e-48f2-87d1-0f07c9c371ef"
   },
   "outputs": [],
   "source": [
    "set_global_seed(42)\n",
    "dataloader = torch.utils.data.DataLoader(\n",
    "    tokenized_datasets['train'],\n",
    "    collate_fn=data_collator,\n",
    "    batch_size=2,\n",
    "    shuffle=False\n",
    ")\n",
    "batch = next(iter(dataloader))\n",
    "batch = {k: v.to(device) for k, v in batch.items()}"
   ]
  },
  {
   "cell_type": "code",
   "execution_count": 66,
   "id": "5eae021d-9dbb-4e54-94e0-7e9ffb4e8493",
   "metadata": {
    "colab": {
     "base_uri": "https://localhost:8080/"
    },
    "id": "5eae021d-9dbb-4e54-94e0-7e9ffb4e8493",
    "outputId": "d4f1c99e-f4ac-4d2a-97da-2c135cb38a8d"
   },
   "outputs": [
    {
     "data": {
      "text/plain": [
       "0.00015506090130656958"
      ]
     },
     "execution_count": 66,
     "metadata": {},
     "output_type": "execute_result"
    }
   ],
   "source": [
    "outputs_teacher = model_teacher(**batch)\n",
    "outputs_teacher.loss.item()"
   ]
  },
  {
   "cell_type": "code",
   "execution_count": 67,
   "id": "d687abdc-75b1-4e56-8f97-17b1b680f176",
   "metadata": {
    "colab": {
     "base_uri": "https://localhost:8080/"
    },
    "id": "d687abdc-75b1-4e56-8f97-17b1b680f176",
    "outputId": "3395a2f7-3d05-4913-d5ae-562a740460a0"
   },
   "outputs": [
    {
     "data": {
      "text/plain": [
       "0.00016010466788429767"
      ]
     },
     "execution_count": 67,
     "metadata": {},
     "output_type": "execute_result"
    }
   ],
   "source": [
    "model_quant = deepcopy(model_teacher)\n",
    "model_quant = quantize_bert_like(model_quant)\n",
    "outputs_quant = model_quant(**batch)\n",
    "\n",
    "outputs_quant.loss.item()"
   ]
  },
  {
   "cell_type": "markdown",
   "id": "667ea0a2-b71b-49f9-b051-4bbf0c95aef4",
   "metadata": {
    "id": "667ea0a2-b71b-49f9-b051-4bbf0c95aef4"
   },
   "source": [
    "Напишем функции для подсчета доли квантизованных параметров и валидации."
   ]
  },
  {
   "cell_type": "code",
   "execution_count": 68,
   "id": "a0b3806e-785f-4cf4-bd69-91298d950986",
   "metadata": {
    "id": "a0b3806e-785f-4cf4-bd69-91298d950986"
   },
   "outputs": [],
   "source": [
    "def print_numel_quant_parameters(model):\n",
    "    num_quant_params = 0\n",
    "    for name, m in model.named_modules():\n",
    "        if isinstance(m, W8A8Linear):\n",
    "            num_quant_params += sum(p.numel() for p in m.parameters())\n",
    "\n",
    "    num_params = sum(p.numel() for p in model.parameters())\n",
    "    print(f'Число параметров: {num_params}')\n",
    "    print(f'Число квантизованных параметров: {num_quant_params}')\n",
    "    print(f'Доля квантизованных параметров: {num_quant_params / num_params:0.4f}%')"
   ]
  },
  {
   "cell_type": "code",
   "execution_count": 69,
   "id": "5c71259a-2da1-4e83-bd6b-7242d3de2ceb",
   "metadata": {
    "id": "5c71259a-2da1-4e83-bd6b-7242d3de2ceb"
   },
   "outputs": [],
   "source": [
    "def eval_quant_model(model_teacher, quantize_attention, quantize_ff, quantize_bmm_input=False):\n",
    "\n",
    "    model_quant = deepcopy(model_teacher)\n",
    "    model_quant = quantize_bert_like(\n",
    "        model_quant,\n",
    "        quantize_attention=quantize_attention,\n",
    "        quantize_ff=quantize_ff,\n",
    "        quantize_bmm_input=quantize_bmm_input\n",
    "    )\n",
    "    print_numel_quant_parameters(model_quant)\n",
    "    eval_model(model_quant)\n",
    "\n",
    "    del model_quant"
   ]
  },
  {
   "cell_type": "markdown",
   "id": "404b7c30-d1ec-4039-aaa8-9b29fdd9e348",
   "metadata": {
    "id": "404b7c30-d1ec-4039-aaa8-9b29fdd9e348"
   },
   "source": [
    "Для начала ещё раз посчитаем качество исходной модели."
   ]
  },
  {
   "cell_type": "code",
   "execution_count": 70,
   "id": "bbdb202d-fef2-46a0-b62e-17052d4e51a4",
   "metadata": {
    "colab": {
     "base_uri": "https://localhost:8080/",
     "height": 54
    },
    "id": "bbdb202d-fef2-46a0-b62e-17052d4e51a4",
    "outputId": "fed06725-8ee2-46a3-9093-c7c5d944a434"
   },
   "outputs": [
    {
     "data": {
      "text/html": [
       "\n",
       "    <div>\n",
       "      \n",
       "      <progress value='406' max='406' style='width:300px; height:20px; vertical-align: middle;'></progress>\n",
       "      [406/406 00:06]\n",
       "    </div>\n",
       "    "
      ],
      "text/plain": [
       "<IPython.core.display.HTML object>"
      ]
     },
     "metadata": {},
     "output_type": "display_data"
    },
    {
     "name": "stdout",
     "output_type": "stream",
     "text": [
      "F1 = 0.94654\n"
     ]
    }
   ],
   "source": [
    "eval_model(model_teacher)"
   ]
  },
  {
   "cell_type": "markdown",
   "id": "0df974c7-6c27-43cd-8a30-71bc8181f30d",
   "metadata": {
    "id": "0df974c7-6c27-43cd-8a30-71bc8181f30d"
   },
   "source": [
    "Попробуем квантизовать разные части модели."
   ]
  },
  {
   "cell_type": "code",
   "execution_count": 71,
   "id": "ca99095a-f100-4c45-9878-3867da58868c",
   "metadata": {
    "colab": {
     "base_uri": "https://localhost:8080/",
     "height": 106
    },
    "id": "ca99095a-f100-4c45-9878-3867da58868c",
    "outputId": "eb4526d2-65a2-4ef8-9386-c81e9ee45017"
   },
   "outputs": [
    {
     "name": "stdout",
     "output_type": "stream",
     "text": [
      "Число параметров: 107726601\n",
      "Число квантизованных параметров: 85017600\n",
      "Доля квантизованных параметров: 0.7892%\n"
     ]
    },
    {
     "data": {
      "text/html": [
       "\n",
       "    <div>\n",
       "      \n",
       "      <progress value='406' max='406' style='width:300px; height:20px; vertical-align: middle;'></progress>\n",
       "      [406/406 00:10]\n",
       "    </div>\n",
       "    "
      ],
      "text/plain": [
       "<IPython.core.display.HTML object>"
      ]
     },
     "metadata": {},
     "output_type": "display_data"
    },
    {
     "name": "stdout",
     "output_type": "stream",
     "text": [
      "F1 = 0.94505\n"
     ]
    }
   ],
   "source": [
    "eval_quant_model(model_teacher, quantize_attention=True, quantize_ff=True)"
   ]
  },
  {
   "cell_type": "code",
   "execution_count": 72,
   "id": "32308617-6cc2-4e19-ab38-422384696cd1",
   "metadata": {
    "colab": {
     "base_uri": "https://localhost:8080/",
     "height": 106
    },
    "id": "32308617-6cc2-4e19-ab38-422384696cd1",
    "outputId": "877d6066-9a78-4a2e-cedf-a2af6d63fab3"
   },
   "outputs": [
    {
     "name": "stdout",
     "output_type": "stream",
     "text": [
      "Число параметров: 107726601\n",
      "Число квантизованных параметров: 56669184\n",
      "Доля квантизованных параметров: 0.5260%\n"
     ]
    },
    {
     "data": {
      "text/html": [
       "\n",
       "    <div>\n",
       "      \n",
       "      <progress value='406' max='406' style='width:300px; height:20px; vertical-align: middle;'></progress>\n",
       "      [406/406 00:07]\n",
       "    </div>\n",
       "    "
      ],
      "text/plain": [
       "<IPython.core.display.HTML object>"
      ]
     },
     "metadata": {},
     "output_type": "display_data"
    },
    {
     "name": "stdout",
     "output_type": "stream",
     "text": [
      "F1 = 0.94517\n"
     ]
    }
   ],
   "source": [
    "eval_quant_model(model_teacher, quantize_attention=False, quantize_ff=True)"
   ]
  },
  {
   "cell_type": "code",
   "execution_count": 73,
   "id": "77ff3542-64e5-40ea-ade1-ce13388db2a2",
   "metadata": {
    "colab": {
     "base_uri": "https://localhost:8080/",
     "height": 106
    },
    "id": "77ff3542-64e5-40ea-ade1-ce13388db2a2",
    "outputId": "8fc3f0eb-b8d6-430c-cecb-1c9747c3a0d0"
   },
   "outputs": [
    {
     "name": "stdout",
     "output_type": "stream",
     "text": [
      "Число параметров: 107726601\n",
      "Число квантизованных параметров: 28348416\n",
      "Доля квантизованных параметров: 0.2632%\n"
     ]
    },
    {
     "data": {
      "text/html": [
       "\n",
       "    <div>\n",
       "      \n",
       "      <progress value='406' max='406' style='width:300px; height:20px; vertical-align: middle;'></progress>\n",
       "      [406/406 00:13]\n",
       "    </div>\n",
       "    "
      ],
      "text/plain": [
       "<IPython.core.display.HTML object>"
      ]
     },
     "metadata": {},
     "output_type": "display_data"
    },
    {
     "name": "stdout",
     "output_type": "stream",
     "text": [
      "F1 = 0.94661\n"
     ]
    }
   ],
   "source": [
    "eval_quant_model(model_teacher, quantize_attention=True, quantize_ff=False)"
   ]
  },
  {
   "cell_type": "markdown",
   "id": "611e487a-d47c-40f7-be4a-e9c180e6ec0e",
   "metadata": {
    "id": "611e487a-d47c-40f7-be4a-e9c180e6ec0e"
   },
   "source": [
    "На практике нас интересует, когда квантизуется и вход слоя, так как мы хотим эффективно умножить матрицу $X$ на матрицу весов $W$."
   ]
  },
  {
   "cell_type": "code",
   "execution_count": 74,
   "id": "8b3b1d26-df94-423c-8256-cdbba6e64190",
   "metadata": {
    "colab": {
     "base_uri": "https://localhost:8080/",
     "height": 106
    },
    "id": "8b3b1d26-df94-423c-8256-cdbba6e64190",
    "outputId": "0dc6ca98-11a9-43ac-cbb3-e18f80a63f60"
   },
   "outputs": [
    {
     "name": "stdout",
     "output_type": "stream",
     "text": [
      "Число параметров: 107726601\n",
      "Число квантизованных параметров: 85017600\n",
      "Доля квантизованных параметров: 0.7892%\n"
     ]
    },
    {
     "data": {
      "text/html": [
       "\n",
       "    <div>\n",
       "      \n",
       "      <progress value='406' max='406' style='width:300px; height:20px; vertical-align: middle;'></progress>\n",
       "      [406/406 00:16]\n",
       "    </div>\n",
       "    "
      ],
      "text/plain": [
       "<IPython.core.display.HTML object>"
      ]
     },
     "metadata": {},
     "output_type": "display_data"
    },
    {
     "name": "stdout",
     "output_type": "stream",
     "text": [
      "F1 = 0.94574\n"
     ]
    }
   ],
   "source": [
    "eval_quant_model(model_teacher, quantize_attention=True, quantize_ff=True, quantize_bmm_input=True)"
   ]
  },
  {
   "cell_type": "markdown",
   "id": "d79bc2e7-c3a0-4fe4-8358-c74031489aa8",
   "metadata": {
    "id": "d79bc2e7-c3a0-4fe4-8358-c74031489aa8"
   },
   "source": [
    "Сделаем замеры времени."
   ]
  },
  {
   "cell_type": "code",
   "execution_count": 75,
   "id": "069b8cb7-dd95-4ae3-a7d5-6b9aa0c042b5",
   "metadata": {
    "id": "069b8cb7-dd95-4ae3-a7d5-6b9aa0c042b5"
   },
   "outputs": [],
   "source": [
    "model_quant = deepcopy(model_teacher)\n",
    "model_quant = quantize_bert_like(\n",
    "    model_quant,\n",
    "    quantize_attention=True,\n",
    "    quantize_ff=True,\n",
    "    quantize_bmm_input=True\n",
    ")"
   ]
  },
  {
   "cell_type": "code",
   "execution_count": 76,
   "id": "bde13de8-a2d0-4272-b94a-52df173d65b5",
   "metadata": {
    "colab": {
     "base_uri": "https://localhost:8080/"
    },
    "id": "bde13de8-a2d0-4272-b94a-52df173d65b5",
    "outputId": "5611dfa1-947f-4ca1-e953-7fbff151f10a"
   },
   "outputs": [
    {
     "name": "stdout",
     "output_type": "stream",
     "text": [
      "Time: 0.04431 +- 0.00860\n",
      "Time: 0.04300 +- 0.00467\n"
     ]
    }
   ],
   "source": [
    "time_inference(model_quant)\n",
    "time_inference(model_quant)"
   ]
  },
  {
   "cell_type": "code",
   "execution_count": 77,
   "id": "93727536-917f-44f9-bc2c-cfd1861f18f1",
   "metadata": {
    "colab": {
     "base_uri": "https://localhost:8080/"
    },
    "id": "93727536-917f-44f9-bc2c-cfd1861f18f1",
    "outputId": "e7605bc2-68f4-43d1-a78f-6d5fc3cb4bba"
   },
   "outputs": [
    {
     "name": "stdout",
     "output_type": "stream",
     "text": [
      "Time: 0.02584 +- 0.00739\n",
      "Time: 0.02134 +- 0.00066\n"
     ]
    }
   ],
   "source": [
    "time_inference(model_teacher)\n",
    "time_inference(model_teacher)"
   ]
  },
  {
   "cell_type": "markdown",
   "id": "96c779bb-b672-4ff7-a56d-b8058c0013a8",
   "metadata": {
    "id": "96c779bb-b672-4ff7-a56d-b8058c0013a8"
   },
   "source": [
    "**Выводы**:\n",
    "\n",
    "-\n",
    "-\n"
   ]
  },
  {
   "cell_type": "markdown",
   "id": "7a3ecdcb-94a1-486f-b2dd-bc8bc8809372",
   "metadata": {
    "id": "7a3ecdcb-94a1-486f-b2dd-bc8bc8809372"
   },
   "source": [
    "### `Квантизация с помощью Triton (2 балла)`\n",
    "\n",
    "**Важно:** авторы настоятельно рекомендуют выполнять эту часть домашнего задания в Google Colab и не гарантируют поддержку других сред.\n",
    "\n",
    "Теперь мы перейдем от *симуляции* квантизации к *настоящей* INT8-квантизации. Вместо того чтобы квантовать и сразу деквантовать значения, мы будем хранить веса в INT8 и выполнять матричные умножения в INT8, что позволяет значительно ускорить вычисления на GPU.\n",
    "\n",
    "Тогда квантизация будет выглядеть так:\n",
    "- Перед этапом инференса мы квантизуем веса модели в INT8\n",
    "- Во время forward-а каждого линейного слоя мы квантизуем активацию в INT8, выполняем перемножение матриц в INT8, после чего деквантизуем результат.\n",
    "\n",
    "Для этого мы будем использовать [**Triton**](https://triton-lang.org/main/index.html).\n",
    "\n",
    "Мы реализуем следующие компоненты:\n",
    "1. `quantize_int8_perrow_kernel`: Triton-kernel для быстрой квантизации активаций (матрицы `X`) в INT8. Квантизация будет происходить \"на лету\" для каждой строки (токена).\n",
    "2. `perrow_w8a8_matmul_kernel`: Triton-kernel для выполнения матричного умножения `C = A @ B`, где и `A` (активации), и `B` (веса) являются матрицами в формате INT8. В качестве алгоритма матричного умножения **нужно использовать tiled-matmul**, который вы реализовывали в первом домашнем задании. Только в этот раз используйте Triton и INT8.\n",
    "3. `TritonW8A8Linear`: Новый `nn.Module`, который заменит `nn.Linear` и будет использовать наши Triton-kernels для вычислений.\n",
    "\n",
    "Давайте интегрируем предоставленные ядра в наш пайплайн.\n",
    "\n",
    "Полезные ссылки:\n",
    "- [Matrix Multiplication Background User's Guide](https://docs.nvidia.com/deeplearning/performance/dl-performance-matrix-multiplication/index.html)\n",
    "- [Deep Dive on CUTLASS Ping-Pong GEMM Kernel](https://pytorch.org/blog/cutlass-ping-pong-gemm-kernel/)\n",
    "- [Accelerating 2D Dynamic Block Quantized Float8 GEMMs in Triton](https://pytorch.org/blog/accelerating-gemms-triton/)\n",
    "- [Домашнее задание ШАДа, на котором основано эта часть ДЗ](https://github.com/mryab/efficient-dl-systems/blob/main/week09_inference_algorithms/homework/hw-w8a8-specdec.ipynb). В нем реализована часть нужного вам кода, если вы понимаете, что ничего не понимаете, то советуем сперва вам разобраться, а только потом смотреть туда.\n",
    "\n",
    "\n",
    "**Подсказка**. В этом пункте нет тестов, но вы можете сами проверить отдельные слои, так как вы реализуете матричные умножения. Операция квантизации не должна особо сильно менять веса, значит выходы слоев должны быть похожи. Если у вас не получилось сразу реализовать проход через все слои, то проверьте какой-нибудь слой отдельно."
   ]
  },
  {
   "cell_type": "code",
   "execution_count": 78,
   "id": "46076798-27cd-4f4e-b846-749d2311022b",
   "metadata": {
    "colab": {
     "base_uri": "https://localhost:8080/"
    },
    "id": "46076798-27cd-4f4e-b846-749d2311022b",
    "outputId": "e3819daa-5188-464c-bd2d-bffd6742d312"
   },
   "outputs": [
    {
     "name": "stdout",
     "output_type": "stream",
     "text": [
      "triton version: 3.2.0\n"
     ]
    }
   ],
   "source": [
    "import triton\n",
    "import triton.language as tl\n",
    "print(\"triton version:\", triton.__version__)"
   ]
  },
  {
   "cell_type": "code",
   "execution_count": 79,
   "id": "9ae9d12e-e6b3-43a8-a1f4-d725fd88cfb8",
   "metadata": {
    "id": "9ae9d12e-e6b3-43a8-a1f4-d725fd88cfb8"
   },
   "outputs": [],
   "source": [
    "def is_cuda():\n",
    "    return triton.runtime.driver.active.get_current_target().backend == \"cuda\"\n",
    "assert is_cuda(), \"CUDA only part\""
   ]
  },
  {
   "cell_type": "code",
   "execution_count": 80,
   "id": "ecd96e44-e332-4908-ab1a-54855dd9aac1",
   "metadata": {
    "id": "ecd96e44-e332-4908-ab1a-54855dd9aac1"
   },
   "outputs": [],
   "source": [
    "def get_cuda_autotune_config():\n",
    "    return [\n",
    "        triton.Config({'SPLIT_K': 1, 'BLOCK_SIZE_M': 128, 'BLOCK_SIZE_N': 256, 'BLOCK_SIZE_K': 64, 'GROUP_SIZE_M': 8}, num_stages=3, num_warps=8),\n",
    "        triton.Config({'SPLIT_K': 1, 'BLOCK_SIZE_M': 64,  'BLOCK_SIZE_N': 256, 'BLOCK_SIZE_K': 32, 'GROUP_SIZE_M': 8}, num_stages=4, num_warps=4),\n",
    "        triton.Config({'SPLIT_K': 1, 'BLOCK_SIZE_M': 128, 'BLOCK_SIZE_N': 128, 'BLOCK_SIZE_K': 32, 'GROUP_SIZE_M': 8}, num_stages=4, num_warps=4),\n",
    "        triton.Config({'SPLIT_K': 1, 'BLOCK_SIZE_M': 128, 'BLOCK_SIZE_N': 64,  'BLOCK_SIZE_K': 32, 'GROUP_SIZE_M': 8}, num_stages=4, num_warps=4),\n",
    "        triton.Config({'SPLIT_K': 1, 'BLOCK_SIZE_M': 64,  'BLOCK_SIZE_N': 128, 'BLOCK_SIZE_K': 32, 'GROUP_SIZE_M': 8}, num_stages=4, num_warps=4),\n",
    "        triton.Config({'SPLIT_K': 1, 'BLOCK_SIZE_M': 128, 'BLOCK_SIZE_N': 32,  'BLOCK_SIZE_K': 32, 'GROUP_SIZE_M': 8}, num_stages=4, num_warps=4),\n",
    "        triton.Config({'SPLIT_K': 1, 'BLOCK_SIZE_M': 64,  'BLOCK_SIZE_N': 32,  'BLOCK_SIZE_K': 32, 'GROUP_SIZE_M': 8}, num_stages=5, num_warps=2),\n",
    "        triton.Config({'SPLIT_K': 1, 'BLOCK_SIZE_M': 32,  'BLOCK_SIZE_N': 64,  'BLOCK_SIZE_K': 32, 'GROUP_SIZE_M': 8}, num_stages=5, num_warps=2),\n",
    "        triton.Config({'SPLIT_K': 1, 'BLOCK_SIZE_M': 64, 'BLOCK_SIZE_N': 64, 'BLOCK_SIZE_K': 32,  'GROUP_SIZE_M': 8}, num_stages=4, num_warps=4),\n",
    "        triton.Config({'SPLIT_K': 1, 'BLOCK_SIZE_M': 64, 'BLOCK_SIZE_N': 64, 'BLOCK_SIZE_K': 64,  'GROUP_SIZE_M': 8}, num_stages=3, num_warps=8),\n",
    "        triton.Config({'SPLIT_K': 1, 'BLOCK_SIZE_M': 32, 'BLOCK_SIZE_N': 32, 'BLOCK_SIZE_K': 128, 'GROUP_SIZE_M': 8}, num_stages=2, num_warps=4),\n",
    "        triton.Config({'SPLIT_K': 1, 'BLOCK_SIZE_M': 64, 'BLOCK_SIZE_N': 64, 'BLOCK_SIZE_K': 32,  'GROUP_SIZE_M': 16}, num_stages=4, num_warps=4),\n",
    "        triton.Config({'SPLIT_K': 1, 'BLOCK_SIZE_M': 64, 'BLOCK_SIZE_N': 64, 'BLOCK_SIZE_K': 64,  'GROUP_SIZE_M': 16}, num_stages=3, num_warps=8),\n",
    "        triton.Config({'SPLIT_K': 1, 'BLOCK_SIZE_M': 32, 'BLOCK_SIZE_N': 32, 'BLOCK_SIZE_K': 128, 'GROUP_SIZE_M': 16}, num_stages=2, num_warps=4),\n",
    "        triton.Config({'SPLIT_K': 1, 'BLOCK_SIZE_M': 64, 'BLOCK_SIZE_N': 64, 'BLOCK_SIZE_K': 64,  'GROUP_SIZE_M': 16}, num_stages=4, num_warps=4),\n",
    "        triton.Config({'SPLIT_K': 1, 'BLOCK_SIZE_M': 64, 'BLOCK_SIZE_N': 64, 'BLOCK_SIZE_K': 128, 'GROUP_SIZE_M': 16}, num_stages=3, num_warps=8),\n",
    "        triton.Config({'SPLIT_K': 1, 'BLOCK_SIZE_M': 32, 'BLOCK_SIZE_N': 32, 'BLOCK_SIZE_K': 256, 'GROUP_SIZE_M': 16}, num_stages=2, num_warps=4),\n",
    "        triton.Config({'SPLIT_K': 2, 'BLOCK_SIZE_M': 128, 'BLOCK_SIZE_N': 256, 'BLOCK_SIZE_K': 64, 'GROUP_SIZE_M': 8}, num_stages=3, num_warps=8),\n",
    "        triton.Config({'SPLIT_K': 2, 'BLOCK_SIZE_M': 64,  'BLOCK_SIZE_N': 256, 'BLOCK_SIZE_K': 32, 'GROUP_SIZE_M': 8}, num_stages=4, num_warps=4),\n",
    "        triton.Config({'SPLIT_K': 2, 'BLOCK_SIZE_M': 128, 'BLOCK_SIZE_N': 128, 'BLOCK_SIZE_K': 32, 'GROUP_SIZE_M': 8}, num_stages=4, num_warps=4),\n",
    "        triton.Config({'SPLIT_K': 2, 'BLOCK_SIZE_M': 128, 'BLOCK_SIZE_N': 64,  'BLOCK_SIZE_K': 32, 'GROUP_SIZE_M': 8}, num_stages=4, num_warps=4),\n",
    "        triton.Config({'SPLIT_K': 2, 'BLOCK_SIZE_M': 64,  'BLOCK_SIZE_N': 128, 'BLOCK_SIZE_K': 32, 'GROUP_SIZE_M': 8}, num_stages=4, num_warps=4),\n",
    "        triton.Config({'SPLIT_K': 2, 'BLOCK_SIZE_M': 128, 'BLOCK_SIZE_N': 32,  'BLOCK_SIZE_K': 32, 'GROUP_SIZE_M': 8}, num_stages=4, num_warps=4),\n",
    "        triton.Config({'SPLIT_K': 2, 'BLOCK_SIZE_M': 64,  'BLOCK_SIZE_N': 32,  'BLOCK_SIZE_K': 32, 'GROUP_SIZE_M': 8}, num_stages=5, num_warps=2),\n",
    "        triton.Config({'SPLIT_K': 2, 'BLOCK_SIZE_M': 32,  'BLOCK_SIZE_N': 64,  'BLOCK_SIZE_K': 32, 'GROUP_SIZE_M': 8}, num_stages=5, num_warps=2),\n",
    "        triton.Config({'SPLIT_K': 2, 'BLOCK_SIZE_M': 64, 'BLOCK_SIZE_N': 64, 'BLOCK_SIZE_K': 32,  'GROUP_SIZE_M': 8}, num_stages=4, num_warps=4),\n",
    "        triton.Config({'SPLIT_K': 2, 'BLOCK_SIZE_M': 64, 'BLOCK_SIZE_N': 64, 'BLOCK_SIZE_K': 64,  'GROUP_SIZE_M': 8}, num_stages=3, num_warps=8),\n",
    "        triton.Config({'SPLIT_K': 2, 'BLOCK_SIZE_M': 32, 'BLOCK_SIZE_N': 32, 'BLOCK_SIZE_K': 128, 'GROUP_SIZE_M': 8}, num_stages=2, num_warps=4),\n",
    "        triton.Config({'SPLIT_K': 2, 'BLOCK_SIZE_M': 64, 'BLOCK_SIZE_N': 64, 'BLOCK_SIZE_K': 32,  'GROUP_SIZE_M': 16}, num_stages=4, num_warps=4),\n",
    "        triton.Config({'SPLIT_K': 2, 'BLOCK_SIZE_M': 64, 'BLOCK_SIZE_N': 64, 'BLOCK_SIZE_K': 64,  'GROUP_SIZE_M': 16}, num_stages=3, num_warps=8),\n",
    "        triton.Config({'SPLIT_K': 2, 'BLOCK_SIZE_M': 32, 'BLOCK_SIZE_N': 32, 'BLOCK_SIZE_K': 128, 'GROUP_SIZE_M': 16}, num_stages=2, num_warps=4),\n",
    "        triton.Config({'SPLIT_K': 2, 'BLOCK_SIZE_M': 64, 'BLOCK_SIZE_N': 64, 'BLOCK_SIZE_K': 64,  'GROUP_SIZE_M': 16}, num_stages=4, num_warps=4),\n",
    "        triton.Config({'SPLIT_K': 2, 'BLOCK_SIZE_M': 64, 'BLOCK_SIZE_N': 64, 'BLOCK_SIZE_K': 128, 'GROUP_SIZE_M': 16}, num_stages=3, num_warps=8),\n",
    "        triton.Config({'SPLIT_K': 2, 'BLOCK_SIZE_M': 32, 'BLOCK_SIZE_N': 32, 'BLOCK_SIZE_K': 256, 'GROUP_SIZE_M': 16}, num_stages=2, num_warps=4),\n",
    "        # custom\n",
    "        triton.Config({'SPLIT_K': 2, 'BLOCK_SIZE_M': 16,  'BLOCK_SIZE_N': 256, 'BLOCK_SIZE_K': 32, 'GROUP_SIZE_M': 8}, num_stages=4, num_warps=4),\n",
    "        triton.Config({'SPLIT_K': 2, 'BLOCK_SIZE_M': 16,  'BLOCK_SIZE_N': 64,  'BLOCK_SIZE_K': 32, 'GROUP_SIZE_M': 8}, num_stages=5, num_warps=2),\n",
    "        triton.Config({'SPLIT_K': 2, 'BLOCK_SIZE_M': 16, 'BLOCK_SIZE_N': 32, 'BLOCK_SIZE_K': 128, 'GROUP_SIZE_M': 16}, num_stages=2, num_warps=4),\n",
    "        triton.Config({'SPLIT_K': 4, 'BLOCK_SIZE_M': 16, 'BLOCK_SIZE_N': 32, 'BLOCK_SIZE_K': 256, 'GROUP_SIZE_M': 16}, num_stages=2, num_warps=4),\n",
    "        triton.Config({'SPLIT_K': 4, 'BLOCK_SIZE_M': 16,  'BLOCK_SIZE_N': 256, 'BLOCK_SIZE_K': 32, 'GROUP_SIZE_M': 8}, num_stages=4, num_warps=4),\n",
    "        triton.Config({'SPLIT_K': 4, 'BLOCK_SIZE_M': 16,  'BLOCK_SIZE_N': 64,  'BLOCK_SIZE_K': 32, 'GROUP_SIZE_M': 8}, num_stages=5, num_warps=2),\n",
    "        triton.Config({'SPLIT_K': 4, 'BLOCK_SIZE_M': 16, 'BLOCK_SIZE_N': 32, 'BLOCK_SIZE_K': 128, 'GROUP_SIZE_M': 16}, num_stages=2, num_warps=4),\n",
    "        triton.Config({'SPLIT_K': 4, 'BLOCK_SIZE_M': 16, 'BLOCK_SIZE_N': 32, 'BLOCK_SIZE_K': 256, 'GROUP_SIZE_M': 16}, num_stages=2, num_warps=4),\n",
    "    ]\n",
    "\n",
    "\n",
    "def get_autotune_config():\n",
    "    if is_cuda():\n",
    "        return get_cuda_autotune_config()\n",
    "    raise NotImplementedError(\"ooops\")"
   ]
  },
  {
   "cell_type": "code",
   "execution_count": 81,
   "id": "GeKDgJ1cMzxX",
   "metadata": {
    "id": "GeKDgJ1cMzxX"
   },
   "outputs": [],
   "source": [
    "@triton.autotune(\n",
    "    configs=[\n",
    "        triton.Config({}, num_stages=2, num_warps=8),\n",
    "        triton.Config({}, num_stages=2, num_warps=4),\n",
    "        triton.Config({}, num_stages=2, num_warps=2),\n",
    "        triton.Config({}, num_stages=2, num_warps=1),\n",
    "    ],\n",
    "    key=['K'],\n",
    ")\n",
    "@triton.jit\n",
    "def quantize_int8_perrow_kernel(\n",
    "    fpa_ptr, a_ptr, as_ptr,\n",
    "    M, K,\n",
    "    stride_fpam, stride_fpak,\n",
    "    stride_am, stride_ak,\n",
    "    stride_asm,\n",
    "    # Meta-parameters\n",
    "    BLOCK_SIZE_M: tl.constexpr, BLOCK_SIZE_K: tl.constexpr,\n",
    "):\n",
    "    # Create current program mask\n",
    "    # YOUR CODE HERE\n",
    "    pid_m = ...\n",
    "    offs_k = ...\n",
    "    offs_am = ...\n",
    "    \n",
    "    # YOUR CODE HERE\n",
    "\n",
    "    # Compute per-row maximum absolute value\n",
    "    # YOUR CODE HERE\n",
    "    fpa_ptrs = ...\n",
    "    a_ptrs = ...\n",
    "    a_max = ...\n",
    "    for k in range(0, tl.cdiv(K, BLOCK_SIZE_K)):\n",
    "        ...\n",
    "\n",
    "    # YOUR CODE HERE\n",
    "    # divide a_max by max positive INT8 value\n",
    "    a_scale = ...\n",
    "\n",
    "    # Devide fpa by a_scale and convert to INT8\n",
    "    # YOUR CODE HERE\n",
    "    fpa_ptrs = ...\n",
    "    for k in range(0, tl.cdiv(K, BLOCK_SIZE_K)):\n",
    "        ...\n",
    "\n",
    "    # Write the result\n",
    "    # YOUR CODE HERE\n",
    "    as_offs = ...\n",
    "    tl.store(...)\n",
    "\n",
    "\n",
    "def quantize_int8_perrow(fpa):\n",
    "    a = torch.empty(fpa.shape, device=fpa.device, dtype=torch.int8)\n",
    "    a_scale = torch.empty(fpa.shape[0], device=fpa.device, dtype=fpa.dtype)\n",
    "    M, K = fpa.shape\n",
    "    BLOCK_SIZE_M = 1\n",
    "    BLOCK_SIZE_K = triton.next_power_of_2(K)\n",
    "    grid = (M // BLOCK_SIZE_M,)\n",
    "    quantize_int8_perrow_kernel[grid](\n",
    "        fpa, a, a_scale,\n",
    "        M, K,\n",
    "        fpa.stride(0), fpa.stride(1),\n",
    "        a.stride(0), a.stride(1),\n",
    "        a_scale.stride(0),\n",
    "        BLOCK_SIZE_M, BLOCK_SIZE_K,\n",
    "    )\n",
    "    return a, a_scale"
   ]
  },
  {
   "cell_type": "code",
   "execution_count": 82,
   "id": "831b12e1-f767-4e0e-90ae-314297474bd1",
   "metadata": {
    "id": "831b12e1-f767-4e0e-90ae-314297474bd1"
   },
   "outputs": [],
   "source": [
    "@triton.autotune(\n",
    "    configs=get_autotune_config(),\n",
    "    key=['M', 'N', 'K'],\n",
    "    reset_to_zero=['c_ptr']\n",
    ")\n",
    "@triton.jit\n",
    "def perrow_w8a8_matmul_kernel(\n",
    "    # Pointers to matrices\n",
    "    a_ptr, as_ptr, b_ptr, bs_ptr, c_ptr,\n",
    "    # Matrix dimensions\n",
    "    M, N, K,\n",
    "    # The stride variables represent how much to increase the ptr by when moving by 1\n",
    "    # element in a particular dimension. E.g. `stride_am` is how much to increase `a_ptr`\n",
    "    # by to get the element one row down (A has M rows).\n",
    "    stride_am, stride_ak,\n",
    "    stride_asm,\n",
    "    stride_bk, stride_bn,\n",
    "    stride_bsn,\n",
    "    stride_cm, stride_cn,\n",
    "    # Meta-parameters\n",
    "    BLOCK_SIZE_M: tl.constexpr, BLOCK_SIZE_N: tl.constexpr, BLOCK_SIZE_K: tl.constexpr,\n",
    "    GROUP_SIZE_M: tl.constexpr, SPLIT_K: tl.constexpr,\n",
    "):\n",
    "    \"\"\"Kernel for computing the matmul C = A x B.\n",
    "    A has shape (M, K), B has shape (K, N) and C has shape (M, N)\n",
    "    \"\"\"\n",
    "    # -----------------------------------------------------------\n",
    "    # Map program ids `pid` to the block of C it should compute.\n",
    "    # YOUR CODE HERE\n",
    "    pid = ...\n",
    "    ...\n",
    "    pid_m = ...\n",
    "    pid_n = ...\n",
    "    # YOUR CODE HERE\n",
    "\n",
    "    # ----------------------------------------------------------\n",
    "    # Create pointers for the first blocks of A and B.\n",
    "    # We will advance this pointer as we move in the K direction\n",
    "    # and accumulate\n",
    "    # `a_ptrs` is a block of [BLOCK_SIZE_M, BLOCK_SIZE_K] pointers\n",
    "    # `b_ptrs` is a block of [BLOCK_SIZE_K, BLOCK_SIZE_N] pointers\n",
    "    # YOUR CODE HERE\n",
    "    offs_am = ...\n",
    "    offs_bn = ...\n",
    "    offs_k = ...\n",
    "    a_ptrs = ...\n",
    "    b_ptrs = ...\n",
    "    as_ptrs = ...\n",
    "    bs_ptrs = ...\n",
    "    a_scale = ...\n",
    "    b_scale = ..\n",
    "    \n",
    "    # -----------------------------------------------------------\n",
    "    # Iterate to compute a block of the C matrix.\n",
    "    # We accumulate into a `[BLOCK_SIZE_M, BLOCK_SIZE_N]` block\n",
    "    # of int32 values for higher accuracy.\n",
    "    # `accumulator` will be converted back to int8 after the loop.\n",
    "\n",
    "    # Create accumulator of int32 dtype\n",
    "    # YOUR CODE HERE\n",
    "    accumulator = ...\n",
    "\n",
    "    # Implement the loop over K dimension.\n",
    "    # In the loop first load next blocks of A and B, using an appropriate mask over K dimension.\n",
    "    # Then, multiply blocks and update the accumulator\n",
    "    # Finally, update the pointers to A and B matrix.\n",
    "    # You can rely on implementation of regular matmul from the seminar\n",
    "\n",
    "    for k in range(0, tl.cdiv(K, BLOCK_SIZE_K * SPLIT_K)):\n",
    "        a = tl.load(a_ptrs, mask=offs_k[None, :] < K - k * BLOCK_SIZE_K * SPLIT_K, other=0)\n",
    "        b = tl.load(b_ptrs, mask=offs_k[:, None] < K - k * BLOCK_SIZE_K * SPLIT_K, other=0)\n",
    "        # We accumulate along the K dimension.\n",
    "        # YOUR CODE HERE\n",
    "        ...\n",
    "        # Advance the ptrs to the next K block.\n",
    "        a_ptrs += ...\n",
    "        b_ptrs += ...\n",
    "\n",
    "    # Dequantize the accumulator with a_scale and b_scale (outer product) and convert to c_ptr.dtype.element_ty\n",
    "    # YOUR CODE HERE\n",
    "    c = ...\n",
    "\n",
    "    # -----------------------------------------------------------\n",
    "    # Write back the block of the output matrix C with masks.\n",
    "    # YOUR CODE HERE\n",
    "    offs_cm = ...\n",
    "    offs_cn = ...\n",
    "    c_ptrs = ...\n",
    "    c_mask = ...\n",
    "    if SPLIT_K == 1:\n",
    "        ...\n",
    "    else:\n",
    "        ...\n",
    "\n",
    "\n",
    "def matmul_int8(a, a_scale, b, b_scale, out=None):\n",
    "    # Check constraints.\n",
    "    assert a.shape[1] == b.shape[0], \"Incompatible dimensions\"\n",
    "    M, K = a.shape\n",
    "    K, N = b.shape\n",
    "    # Allocates output.\n",
    "    if out == None:\n",
    "        c = torch.zeros((M, N), device=a.device, dtype=torch.float16)\n",
    "    else:\n",
    "        c = out.fill_(0.)\n",
    "    grid = lambda META: (\n",
    "        triton.cdiv(M, META['BLOCK_SIZE_M']) * triton.cdiv(N, META['BLOCK_SIZE_N']),\n",
    "        META['SPLIT_K'],\n",
    "    )\n",
    "    perrow_w8a8_matmul_kernel[grid](\n",
    "        a, a_scale, b, b_scale, c,\n",
    "        M, N, K,\n",
    "        a.stride(0), a.stride(1),\n",
    "        a_scale.stride(0),\n",
    "        b.stride(0), b.stride(1),\n",
    "        b_scale.stride(0),\n",
    "        c.stride(0), c.stride(1),\n",
    "    )\n",
    "    return c"
   ]
  },
  {
   "cell_type": "code",
   "execution_count": 83,
   "id": "8apV_HZfM7Py",
   "metadata": {
    "id": "8apV_HZfM7Py"
   },
   "outputs": [],
   "source": [
    "def quantize_int8(weight, axis=0):\n",
    "    '''\n",
    "    Функция, которая квантизует входной тензор по заданной оси.\n",
    "    Для квантизации можно использовать обычный torch, поскольку с помощью\n",
    "    Этой функции мы отквантуем веса модели, что делается заранее и не влияет\n",
    "    На время инференса\n",
    "    '''\n",
    "    output_device = weight.device\n",
    "    # YOUR CODE HERE\n",
    "    scale = ...\n",
    "    weight_quant = ...\n",
    "    if axis == 0:\n",
    "        # This ensures the output is column-major if the input was row-major.\n",
    "        # It is a no-op for an already contiguous tensor.\n",
    "        weight_quant = ...\n",
    "    scale = ...\n",
    "    return weight_quant.contiguous().to(output_device), scale.contiguous().to(output_device)"
   ]
  },
  {
   "cell_type": "code",
   "execution_count": 84,
   "id": "H6lmg2TyM70d",
   "metadata": {
    "id": "H6lmg2TyM70d"
   },
   "outputs": [],
   "source": [
    "def matmul_quantize_int8(fpa, b, b_scale, out=None):\n",
    "    # Quantize fpa to int8 and call matmul_int8\n",
    "    # YOUR CODE HERE\n",
    "    ..."
   ]
  },
  {
   "cell_type": "markdown",
   "id": "bd6f4fae-d2c4-4fcf-858b-5ed27e16d4ef",
   "metadata": {
    "id": "bd6f4fae-d2c4-4fcf-858b-5ed27e16d4ef"
   },
   "source": [
    "Класс аналогичный W8A8Linear."
   ]
  },
  {
   "cell_type": "code",
   "execution_count": 85,
   "id": "2c54aa3e-bf09-493e-9ae9-76c0f5592596",
   "metadata": {
    "id": "2c54aa3e-bf09-493e-9ae9-76c0f5592596"
   },
   "outputs": [],
   "source": [
    "class TritonW8A8Linear(nn.Module):\n",
    "    def __init__(self, in_features, out_features, bias=True, device=None):\n",
    "        super().__init__()\n",
    "        self.in_features = in_features\n",
    "        self.out_features = out_features\n",
    "\n",
    "        # Store quantized, transposed weight as non-buffers. We'll manage device placement.\n",
    "        self.weight_int8_t = torch.empty(in_features, out_features, dtype=torch.int8, device=device)\n",
    "        self.weight_scale = torch.empty(out_features, dtype=torch.float16, device=device)\n",
    "\n",
    "        if bias:\n",
    "            # Bias is kept in FP16 and registered as a non-trainable parameter\n",
    "            self.bias = nn.Parameter(torch.zeros(out_features, dtype=torch.float16, device=device), requires_grad=False)\n",
    "        else:\n",
    "            self.register_parameter(\"bias\", None)\n",
    "\n",
    "    def to(self, *args, **kwargs):\n",
    "        # A custom `to` is needed because our main weight tensors are not registered\n",
    "        super().to(*args, **kwargs)\n",
    "        self.weight_int8_t = self.weight_int8_t.to(*args, **kwargs)\n",
    "        self.weight_scale = self.weight_scale.to(*args, **kwargs)\n",
    "        if self.bias is not None:\n",
    "            self.bias = self.bias.to(*args, **kwargs)\n",
    "        return self\n",
    "\n",
    "    def forward(self, x):\n",
    "        x_dtype = x.dtype\n",
    "        x_shape = x.shape\n",
    "        # The matmul kernel expects a 2D input of shape (M, K)\n",
    "        x = x.view(-1, x_shape[-1])\n",
    "\n",
    "        # `matmul_quantize_int8` will quantize `x` on the fly and perform INT8 GEMM\n",
    "        y = matmul_quantize_int8(x.to(torch.float16), self.weight_int8_t, self.weight_scale)\n",
    "\n",
    "        if self.bias is not None:\n",
    "            y += self.bias\n",
    "\n",
    "        # Reshape output back to original dimensions\n",
    "        return y.view(*x_shape[:-1], self.out_features).to(x_dtype)\n",
    "\n",
    "    @staticmethod\n",
    "    def from_float(module):\n",
    "        assert isinstance(module, torch.nn.Linear)\n",
    "        device = module.weight.device\n",
    "        new_module = TritonW8A8Linear(\n",
    "            module.in_features,\n",
    "            module.out_features,\n",
    "            module.bias is not None,\n",
    "            device=device\n",
    "        )\n",
    "\n",
    "        # The matmul kernel performs C=A@B where B is the weight matrix.\n",
    "        # It requires per-column scales for B.\n",
    "        # For a standard nn.Linear forward pass (x @ W.T), our B matrix is W.T.\n",
    "        # Per-column scales for W.T is equivalent to per-row scales for W (the nn.Linear weight).\n",
    "        # This corresponds to quantizing W along dim=1.\n",
    "        # The provided `quantize_int8` function performs this when passed `axis=1`.\n",
    "        W_q, W_s = quantize_int8(module.weight, axis=1)\n",
    "\n",
    "        # Store the transposed weight for efficiency in the forward pass.\n",
    "        new_module.weight_int8_t.copy_(W_q.T.contiguous())\n",
    "        new_module.weight_scale.copy_(W_s.half())\n",
    "\n",
    "        if module.bias is not None:\n",
    "            new_module.bias.copy_(module.bias.half())\n",
    "        return new_module\n",
    "\n",
    "    def __repr__(self):\n",
    "        return f\"TritonW8A8Linear({self.in_features}, {self.out_features}, bias={self.bias is not None})\"\n",
    "\n",
    "def quantize_bert_like_triton(model, quantize_ff=True, quantize_attention=True):\n",
    "    \"\"\"\n",
    "    Replaces all relevant linear layers with Triton-based W8A8 quantized layers.\n",
    "    \"\"\"\n",
    "    for name, m in model.bert.named_modules():\n",
    "        # For FF layers\n",
    "        if isinstance(m, BertIntermediate) and quantize_ff:\n",
    "            # YOUR CODE HERE\n",
    "            ...\n",
    "        elif isinstance(m, BertOutput) and quantize_ff:\n",
    "            # YOUR CODE HERE\n",
    "            ...\n",
    "        # For Attention layers\n",
    "        elif isinstance(m, BertAttention) and quantize_attention:\n",
    "            # YOUR CODE HERE\n",
    "            ...\n",
    "    return model"
   ]
  },
  {
   "cell_type": "markdown",
   "id": "08080eba-5481-4743-ae5d-ba2e9fa13261",
   "metadata": {
    "id": "08080eba-5481-4743-ae5d-ba2e9fa13261"
   },
   "source": [
    "Проверим, что ничего не падает. Первый запуск долгий, так как тюнится конфиг."
   ]
  },
  {
   "cell_type": "code",
   "execution_count": 86,
   "id": "43deb1a0-c8b2-45f1-815f-d4882053ccd9",
   "metadata": {
    "id": "43deb1a0-c8b2-45f1-815f-d4882053ccd9"
   },
   "outputs": [],
   "source": [
    "model_teacher = AutoModelForTokenClassification.from_pretrained('3145tttt/bert-cased-ner-mmp-task3').to(device)\n",
    "model_teacher = model_teacher.eval()\n",
    "model_teacher = model_teacher.requires_grad_(False)\n",
    "\n",
    "model_quant_triton = deepcopy(model_teacher)\n",
    "model_quant_triton = quantize_bert_like_triton(model_quant_triton)"
   ]
  },
  {
   "cell_type": "code",
   "execution_count": 87,
   "id": "6aa37dd9-d4ad-414f-b994-68640cc47737",
   "metadata": {
    "id": "6aa37dd9-d4ad-414f-b994-68640cc47737"
   },
   "outputs": [],
   "source": [
    "outputs_quant_triton = model_quant_triton(**batch)"
   ]
  },
  {
   "cell_type": "markdown",
   "id": "8087cb9d-2464-4f5d-b6e9-2e914cb94ad9",
   "metadata": {
    "id": "8087cb9d-2464-4f5d-b6e9-2e914cb94ad9"
   },
   "source": [
    "### `Оценка производительности и качества Triton-модели`"
   ]
  },
  {
   "cell_type": "code",
   "execution_count": 88,
   "id": "e237f043-1152-460c-ac83-92764beb25ae",
   "metadata": {
    "colab": {
     "base_uri": "https://localhost:8080/"
    },
    "id": "e237f043-1152-460c-ac83-92764beb25ae",
    "outputId": "a0632691-cf61-401a-c792-308e2c31f299"
   },
   "outputs": [
    {
     "name": "stdout",
     "output_type": "stream",
     "text": [
      "--- Testing Triton Quantization ---\n",
      "Triton model loss on test batch: 0.00026\n",
      "Forward pass successful.\n",
      "Original model loss: 0.00016\n"
     ]
    }
   ],
   "source": [
    "print(\"--- Testing Triton Quantization ---\")\n",
    "model_quant_triton = deepcopy(model_teacher) # Put on GPU first\n",
    "model_quant_triton = quantize_bert_like_triton(model_quant_triton)\n",
    "\n",
    "# Check a forward pass\n",
    "try:\n",
    "    outputs_quant_triton = model_quant_triton(**batch)\n",
    "    print(f\"Triton model loss on test batch: {outputs_quant_triton.loss.item():.5f}\")\n",
    "    print(\"Forward pass successful.\")\n",
    "except Exception as e:\n",
    "    print(f\"Forward pass failed: {e}\")\n",
    "\n",
    "outputs_teacher = model_teacher(**batch)\n",
    "\n",
    "# Compare with original model loss\n",
    "print(f\"Original model loss: {outputs_teacher.loss.item():.5f}\")\n",
    "assert torch.allclose(outputs_teacher.loss, outputs_quant_triton.loss, atol=1e-3, rtol=1e-1), \"Triton loss is too different!\""
   ]
  },
  {
   "cell_type": "markdown",
   "id": "K7IPnwDTqhk5",
   "metadata": {
    "id": "K7IPnwDTqhk5"
   },
   "source": [
    "Так как от изменения размера входной матрицы будет по-разному выбираться конфиг, мы воспользуемся `tokenized_datasets_128`."
   ]
  },
  {
   "cell_type": "code",
   "execution_count": 90,
   "id": "CEdy3tTd9Q6B",
   "metadata": {
    "colab": {
     "base_uri": "https://localhost:8080/",
     "height": 161
    },
    "id": "CEdy3tTd9Q6B",
    "outputId": "0cc885e1-ccfa-4fa5-b76d-0a6d19cd8cca"
   },
   "outputs": [
    {
     "name": "stdout",
     "output_type": "stream",
     "text": [
      "\n",
      "Evaluating Triton model F1 score...\n"
     ]
    },
    {
     "data": {
      "text/html": [
       "\n",
       "    <div>\n",
       "      \n",
       "      <progress value='406' max='406' style='width:300px; height:20px; vertical-align: middle;'></progress>\n",
       "      [406/406 00:23]\n",
       "    </div>\n",
       "    "
      ],
      "text/plain": [
       "<IPython.core.display.HTML object>"
      ]
     },
     "metadata": {},
     "output_type": "display_data"
    },
    {
     "name": "stdout",
     "output_type": "stream",
     "text": [
      "F1 = 0.94071\n",
      "\n",
      "Evaluating teacher model F1 score...\n"
     ]
    },
    {
     "data": {
      "text/html": [
       "\n",
       "    <div>\n",
       "      \n",
       "      <progress value='406' max='406' style='width:300px; height:20px; vertical-align: middle;'></progress>\n",
       "      [406/406 00:09]\n",
       "    </div>\n",
       "    "
      ],
      "text/plain": [
       "<IPython.core.display.HTML object>"
      ]
     },
     "metadata": {},
     "output_type": "display_data"
    },
    {
     "name": "stdout",
     "output_type": "stream",
     "text": [
      "F1 = 0.94649\n"
     ]
    }
   ],
   "source": [
    "# Evaluate F1 score\n",
    "print(\"\\nEvaluating Triton model F1 score...\")\n",
    "f1_triton = eval_model(model_quant_triton, datasets=tokenized_datasets_128)\n",
    "\n",
    "print(\"\\nEvaluating teacher model F1 score...\")\n",
    "f1_teacher = eval_model(model_teacher, datasets=tokenized_datasets_128)"
   ]
  },
  {
   "cell_type": "code",
   "execution_count": 100,
   "id": "GW3LM5dMr48v",
   "metadata": {
    "id": "GW3LM5dMr48v"
   },
   "outputs": [],
   "source": [
    "model_teacher = AutoModelForTokenClassification.from_pretrained('3145tttt/bert-cased-ner-mmp-task3').to(device)\n",
    "model_teacher = model_teacher.eval()\n",
    "model_teacher = model_teacher.requires_grad_(False)\n",
    "\n",
    "model_quant_triton = deepcopy(model_teacher)\n",
    "model_quant_triton = quantize_bert_like_triton(model_quant_triton)"
   ]
  },
  {
   "cell_type": "code",
   "execution_count": 101,
   "id": "7ada93a7-a093-4fb1-af4a-07f8381ef94e",
   "metadata": {
    "colab": {
     "base_uri": "https://localhost:8080/"
    },
    "id": "7ada93a7-a093-4fb1-af4a-07f8381ef94e",
    "outputId": "bbdecb84-58c8-4910-bc37-9b9fa8434db9"
   },
   "outputs": [
    {
     "name": "stdout",
     "output_type": "stream",
     "text": [
      "--- Timing Comparison ---\n",
      "\n",
      "Teacher model (FP32):\n",
      "Time: 0.08865 +- 0.00494\n",
      "\n",
      "Simulated Quantized model (W8A8 FakeQuant):\n",
      "Time: 0.10532 +- 0.00373\n",
      "\n",
      "Triton Quantized model (W8A8 True-Quant):\n",
      "Time: 0.07129 +- 0.02211\n",
      "\n",
      "Teacher model (FP16):\n",
      "Time: 0.03077 +- 0.00775\n"
     ]
    }
   ],
   "source": [
    "print(\"--- Timing Comparison ---\")\n",
    "print(\"\\nTeacher model (FP32):\")\n",
    "time_inference(model_teacher)\n",
    "\n",
    "print(\"\\nSimulated Quantized model (W8A8 FakeQuant):\")\n",
    "model_quant_fake = deepcopy(model_teacher)\n",
    "model_quant_fake = quantize_bert_like(model_quant_fake, quantize_attention=True, quantize_ff=True)\n",
    "time_inference(model_quant_fake)\n",
    "\n",
    "print(\"\\nTriton Quantized model (W8A8 True-Quant):\")\n",
    "time_inference(model_quant_triton)\n",
    "\n",
    "print(\"\\nTeacher model (FP16):\")\n",
    "with torch.autocast('cuda', dtype=torch.float16):\n",
    "  time_inference(model_teacher)"
   ]
  },
  {
   "cell_type": "markdown",
   "id": "8c1a9964-5bcc-46df-84ab-8a60cac4ebdd",
   "metadata": {
    "id": "8c1a9964-5bcc-46df-84ab-8a60cac4ebdd"
   },
   "source": [
    "**Выводы**:\n",
    "\n",
    "-\n",
    "-"
   ]
  },
  {
   "cell_type": "markdown",
   "id": "-qABmjdZImVH",
   "metadata": {
    "id": "-qABmjdZImVH"
   },
   "source": [
    "### `Бонусы (2 балла)`\n",
    "\n",
    "- (1 балл). Внимательный студент мог заметить, что мы делаем padding до константного размера, что неэффективно. Это сделано специально: мы используем triton.autotune - штуку, которая автоматически подбирает лучшие параметры для triton-kernel под вход с фиксированным shape. Соответственно, каждый раз, когда на вход нашему матричному умножению приходит вход нового размера, запускается новый тюнинг параметров. Чтобы этого избежать и при этом показать максимальный прирост производительности при использовании triton, мы и сделали так, что padding константный. Однако, в production такое затащить не получится: там вход может быть принципиально разного размера. Чтобы приблизиться к реальности, вам предлагается избавиться от autotune и использовать какой-то в среднем хороший набор параметров kernel-а. Чтобы получить полный балл за этот пункт вам надо: отключить константный паддинг, зафиксировать параметры triton-kernel такими, что квантизация в INT8 все еще оказывается заметно быстрее использования fp16 модели\n",
    "\n",
    "- (1 балл). Как было рассказано на лекции, `LayerNorm` в Pytorch реализован неэффективно. В этом задании вам предлагается реализовать `LayerNorm` с использованием triton, заменить базовый `LayerNorm` в модели, убедиться, что качество не просело, а скорость инференса выросла!"
   ]
  },
  {
   "cell_type": "markdown",
   "id": "e7ee17ee-f9be-4bb1-a169-6536b34fe858",
   "metadata": {
    "id": "e7ee17ee-f9be-4bb1-a169-6536b34fe858"
   },
   "source": [
    "## `Прунинг (1.5 балла)`\n",
    "\n",
    "Модель можно ускорить с помощью прунинга, который бывает либо неструктурированным (обнуление отдельных параметров), либо структурированным (обнуление строк/столбцов/какой-то иной паттерн).\n",
    "\n",
    "В случае неструктурированного прунинга мы получим много нулей внутри матрицы весов. Для этого можно перевести матрицы в разреженный формат и заметно ускорить инференс. К сожалению, для этого нужны современные видеокарты карты. Мы это сделаем, но не будем смотреть на ускорение (как с первой частью квантизации).\n",
    "\n",
    "В случае структурированного прунинга мы можем избавиться от строк или столбцов матрицы, тем самым уменьшить число операций и ускорить инференс.\n",
    "\n",
    "Иногда в результате прунинга модель деградирует в качестве, поэтому мы можем дообучить модель. Есть исследования, которые показывают, что обучать модель с большим числом параметров и потом обнулять ненужные эффективнее, чем сразу обучать при малом числе параметров.\n",
    "\n",
    "\n",
    "- [Хороший блог-пост про ускорение с помощью прунинга](https://pytorch.org/blog/accelerating-neural-network-training/);\n",
    "- [Документация по прунингу в PyTorch](https://docs.pytorch.org/tutorials/intermediate/pruning_tutorial.html)."
   ]
  },
  {
   "cell_type": "markdown",
   "id": "g_KTZZpks4Ck",
   "metadata": {
    "id": "g_KTZZpks4Ck"
   },
   "source": [
    "Посмотрим как прунинг работает на линейных слоях (подробнее в документации)."
   ]
  },
  {
   "cell_type": "code",
   "execution_count": 103,
   "id": "8d73f63f-69ff-41eb-b32b-baf3709dfad2",
   "metadata": {
    "id": "8d73f63f-69ff-41eb-b32b-baf3709dfad2"
   },
   "outputs": [],
   "source": [
    "linear_teacher = nn.Linear(4, 4)\n",
    "\n",
    "linear_teacher.bias.data = torch.tensor([-2, -1, 1, 2]).float()\n",
    "linear_teacher.weight.data = torch.tensor([\n",
    "    [-2, -2, 1, 2],\n",
    "    [-3, -1, 2, 6],\n",
    "    [-1, -5, 4, 1],\n",
    "    [-5, -2, 1, 2]\n",
    "]).float()"
   ]
  },
  {
   "cell_type": "code",
   "execution_count": 104,
   "id": "42899122-7ad9-4238-b40c-1f3b46ea1a40",
   "metadata": {
    "colab": {
     "base_uri": "https://localhost:8080/"
    },
    "id": "42899122-7ad9-4238-b40c-1f3b46ea1a40",
    "outputId": "c8fa2c08-cedb-4f87-c804-76a92ec47cb7"
   },
   "outputs": [
    {
     "data": {
      "text/plain": [
       "tensor([[-0., -0.,  1.,  2.],\n",
       "        [-0., -1.,  0.,  6.],\n",
       "        [-1., -5.,  0.,  0.],\n",
       "        [-5., -2.,  0.,  0.]], grad_fn=<MulBackward0>)"
      ]
     },
     "execution_count": 104,
     "metadata": {},
     "output_type": "execute_result"
    }
   ],
   "source": [
    "new_linear = deepcopy(linear_teacher)\n",
    "\n",
    "prune.random_unstructured(new_linear, name=\"weight\", amount=0.5)\n",
    "new_linear.weight"
   ]
  },
  {
   "cell_type": "code",
   "execution_count": 105,
   "id": "be2c1d9b-b953-4ac6-990e-dfac5de109d4",
   "metadata": {
    "colab": {
     "base_uri": "https://localhost:8080/"
    },
    "id": "be2c1d9b-b953-4ac6-990e-dfac5de109d4",
    "outputId": "2ab4abb3-4005-4d10-862f-7a62bc1cec4f"
   },
   "outputs": [
    {
     "data": {
      "text/plain": [
       "tensor([[-2., -2.,  0.,  2.],\n",
       "        [-3., -0.,  2.,  6.],\n",
       "        [-0., -5.,  4.,  0.],\n",
       "        [-5., -2.,  0.,  2.]], grad_fn=<MulBackward0>)"
      ]
     },
     "execution_count": 105,
     "metadata": {},
     "output_type": "execute_result"
    }
   ],
   "source": [
    "new_linear = deepcopy(linear_teacher)\n",
    "\n",
    "prune.l1_unstructured(new_linear, name=\"weight\", amount=0.3)\n",
    "new_linear.weight"
   ]
  },
  {
   "cell_type": "markdown",
   "id": "BvoZJY08tKPj",
   "metadata": {
    "id": "BvoZJY08tKPj"
   },
   "source": [
    "Обратите внимание, что добавился новый буффер с маской и forward_pre_hook. При каждом forward вход будет умножаться на маску. Благодаря этому если мы будем обучать модель после прунинга мы не будем трогать веса, которые уже обнулили."
   ]
  },
  {
   "cell_type": "code",
   "execution_count": 108,
   "id": "c8e9254f-f689-4d1a-be0e-ea695d6883e7",
   "metadata": {
    "colab": {
     "base_uri": "https://localhost:8080/"
    },
    "id": "c8e9254f-f689-4d1a-be0e-ea695d6883e7",
    "outputId": "29f3417a-2423-407e-b6ae-18b9c85f4079"
   },
   "outputs": [
    {
     "name": "stdout",
     "output_type": "stream",
     "text": [
      "[('weight_mask', tensor([[1., 1., 0., 1.],\n",
      "        [1., 0., 1., 1.],\n",
      "        [0., 1., 1., 0.],\n",
      "        [1., 1., 0., 1.]]))]\n"
     ]
    }
   ],
   "source": [
    "print(list(new_linear.named_buffers()))"
   ]
  },
  {
   "cell_type": "code",
   "execution_count": 109,
   "id": "6adf0736-9f36-4258-9409-a544aa49bc83",
   "metadata": {
    "colab": {
     "base_uri": "https://localhost:8080/"
    },
    "id": "6adf0736-9f36-4258-9409-a544aa49bc83",
    "outputId": "3ec2478b-30fe-416c-e24c-792dbeae38a4"
   },
   "outputs": [
    {
     "name": "stdout",
     "output_type": "stream",
     "text": [
      "OrderedDict({1: <torch.nn.utils.prune.L1Unstructured object at 0x7ef8740eb9b0>})\n"
     ]
    }
   ],
   "source": [
    "print(new_linear._forward_pre_hooks)"
   ]
  },
  {
   "cell_type": "markdown",
   "id": "8b3b1ec7-b7dd-4ea9-bcab-c7f7208d1d86",
   "metadata": {
    "id": "8b3b1ec7-b7dd-4ea9-bcab-c7f7208d1d86"
   },
   "source": [
    "**Задание 9 (0.5 баллов)**. Исследуйте неструктурированный прунинг, для этого примените прунинг ко всем линейным слоям **энкодера**."
   ]
  },
  {
   "cell_type": "code",
   "execution_count": 111,
   "id": "4426075d-3ee9-4b84-b310-6ffde7d91ce2",
   "metadata": {
    "id": "4426075d-3ee9-4b84-b310-6ffde7d91ce2"
   },
   "outputs": [],
   "source": [
    "@torch.no_grad()\n",
    "def prune_simple(model, amount):\n",
    "    model_prune = deepcopy(model)\n",
    "    # YOUR CODE HERE\n",
    "    ...\n",
    "\n",
    "    return model_prune"
   ]
  },
  {
   "cell_type": "code",
   "execution_count": 112,
   "id": "53310457-30c8-43eb-b7d9-359a6c629b94",
   "metadata": {
    "colab": {
     "base_uri": "https://localhost:8080/",
     "height": 54
    },
    "id": "53310457-30c8-43eb-b7d9-359a6c629b94",
    "outputId": "174098c6-242f-4d50-dfd2-78bc0a4b7e37"
   },
   "outputs": [
    {
     "data": {
      "text/html": [
       "\n",
       "    <div>\n",
       "      \n",
       "      <progress value='406' max='406' style='width:300px; height:20px; vertical-align: middle;'></progress>\n",
       "      [406/406 00:13]\n",
       "    </div>\n",
       "    "
      ],
      "text/plain": [
       "<IPython.core.display.HTML object>"
      ]
     },
     "metadata": {},
     "output_type": "display_data"
    },
    {
     "name": "stdout",
     "output_type": "stream",
     "text": [
      "F1 = 0.94654\n"
     ]
    }
   ],
   "source": [
    "eval_model(model_teacher)"
   ]
  },
  {
   "cell_type": "code",
   "execution_count": 113,
   "id": "e0982df2-823e-454e-88bf-f62032484010",
   "metadata": {
    "colab": {
     "base_uri": "https://localhost:8080/",
     "height": 181
    },
    "id": "e0982df2-823e-454e-88bf-f62032484010",
    "outputId": "ad7055ce-a060-4afd-ef3a-be82cbb95e10"
   },
   "outputs": [
    {
     "name": "stdout",
     "output_type": "stream",
     "text": [
      "Amount = 0.1\n"
     ]
    },
    {
     "data": {
      "text/html": [
       "\n",
       "    <div>\n",
       "      \n",
       "      <progress value='406' max='406' style='width:300px; height:20px; vertical-align: middle;'></progress>\n",
       "      [406/406 00:10]\n",
       "    </div>\n",
       "    "
      ],
      "text/plain": [
       "<IPython.core.display.HTML object>"
      ]
     },
     "metadata": {},
     "output_type": "display_data"
    },
    {
     "name": "stdout",
     "output_type": "stream",
     "text": [
      "F1 = 0.94687\n",
      "Amount = 0.25\n"
     ]
    },
    {
     "data": {
      "text/html": [
       "\n",
       "    <div>\n",
       "      \n",
       "      <progress value='406' max='406' style='width:300px; height:20px; vertical-align: middle;'></progress>\n",
       "      [406/406 00:10]\n",
       "    </div>\n",
       "    "
      ],
      "text/plain": [
       "<IPython.core.display.HTML object>"
      ]
     },
     "metadata": {},
     "output_type": "display_data"
    },
    {
     "name": "stdout",
     "output_type": "stream",
     "text": [
      "F1 = 0.94295\n",
      "Amount = 0.5\n"
     ]
    },
    {
     "data": {
      "text/html": [
       "\n",
       "    <div>\n",
       "      \n",
       "      <progress value='406' max='406' style='width:300px; height:20px; vertical-align: middle;'></progress>\n",
       "      [406/406 00:15]\n",
       "    </div>\n",
       "    "
      ],
      "text/plain": [
       "<IPython.core.display.HTML object>"
      ]
     },
     "metadata": {},
     "output_type": "display_data"
    },
    {
     "name": "stdout",
     "output_type": "stream",
     "text": [
      "F1 = 0.90971\n"
     ]
    }
   ],
   "source": [
    "for amount in [0.1, 0.25, 0.5]:\n",
    "    print(f\"Amount = {amount}\")\n",
    "    prune_model = prune_simple(model_teacher, amount)\n",
    "    eval_model(prune_model)"
   ]
  },
  {
   "cell_type": "code",
   "execution_count": null,
   "id": "a2e2537b-f63d-4d26-96ba-ad3196dd2e9d",
   "metadata": {
    "id": "a2e2537b-f63d-4d26-96ba-ad3196dd2e9d",
    "outputId": "e8464894-91f8-407a-c3dc-c2aa70e1231e"
   },
   "outputs": [
    {
     "data": {
      "text/plain": [
       "tensor([[-0.0344,  0.0403, -0.0000,  0.0000, -0.0000,  0.0347],\n",
       "        [ 0.0243, -0.0258,  0.0743, -0.0617,  0.0543, -0.0769],\n",
       "        [-0.0232,  0.0000, -0.0000,  0.0000,  0.0000,  0.0273],\n",
       "        [-0.0000,  0.0000,  0.0000, -0.0000, -0.0000,  0.0000],\n",
       "        [-0.0000,  0.0000, -0.0000,  0.0696,  0.0000, -0.0000],\n",
       "        [ 0.0453,  0.0000, -0.0000, -0.0361, -0.0000,  0.1126]],\n",
       "       device='cuda:0')"
      ]
     },
     "execution_count": 87,
     "metadata": {},
     "output_type": "execute_result"
    }
   ],
   "source": [
    "q_attn0 = prune_model.bert.encoder.layer[0].attention.self.query\n",
    "q_attn0.weight[:6, :6]"
   ]
  },
  {
   "cell_type": "markdown",
   "id": "078a2d85-d39f-4d51-826b-fc73916d9a79",
   "metadata": {
    "id": "078a2d85-d39f-4d51-826b-fc73916d9a79"
   },
   "source": [
    "Теперь дообучите модель с amount = 0.5."
   ]
  },
  {
   "cell_type": "code",
   "execution_count": 114,
   "id": "202b5f54-5fce-45e5-9da5-aadc75920a6d",
   "metadata": {
    "colab": {
     "base_uri": "https://localhost:8080/",
     "height": 124
    },
    "id": "202b5f54-5fce-45e5-9da5-aadc75920a6d",
    "outputId": "aa145b6d-ab57-4229-8146-71ec35620a4c"
   },
   "outputs": [
    {
     "data": {
      "text/html": [
       "\n",
       "    <div>\n",
       "      \n",
       "      <progress value='1755' max='1755' style='width:300px; height:20px; vertical-align: middle;'></progress>\n",
       "      [1755/1755 04:20, Epoch 1/1]\n",
       "    </div>\n",
       "    <table border=\"1\" class=\"dataframe\">\n",
       "  <thead>\n",
       " <tr style=\"text-align: left;\">\n",
       "      <th>Epoch</th>\n",
       "      <th>Training Loss</th>\n",
       "      <th>Validation Loss</th>\n",
       "      <th>F1</th>\n",
       "    </tr>\n",
       "  </thead>\n",
       "  <tbody>\n",
       "    <tr>\n",
       "      <td>1</td>\n",
       "      <td>0.009800</td>\n",
       "      <td>0.073368</td>\n",
       "      <td>0.935667</td>\n",
       "    </tr>\n",
       "  </tbody>\n",
       "</table><p>"
      ],
      "text/plain": [
       "<IPython.core.display.HTML object>"
      ]
     },
     "metadata": {},
     "output_type": "display_data"
    },
    {
     "data": {
      "text/plain": [
       "TrainOutput(global_step=1755, training_loss=0.01859874616660963, metrics={'train_runtime': 260.3592, 'train_samples_per_second': 53.929, 'train_steps_per_second': 6.741, 'total_flos': 307002289439520.0, 'train_loss': 0.01859874616660963, 'epoch': 1.0})"
      ]
     },
     "execution_count": 114,
     "metadata": {},
     "output_type": "execute_result"
    }
   ],
   "source": [
    "prune_conf = deepcopy(base_config)\n",
    "prune_conf['save_strategy'] = 'no'\n",
    "prune_conf['num_train_epochs'] = 1\n",
    "\n",
    "# YOUR CODE HERE\n",
    "..."
   ]
  },
  {
   "cell_type": "markdown",
   "id": "f7a7261d-ecb5-4f9a-81e8-05ed754894a9",
   "metadata": {
    "id": "f7a7261d-ecb5-4f9a-81e8-05ed754894a9"
   },
   "source": [
    "Обратите внимание, что 50% весов модели занулены, то есть в матрице содержится много нулей."
   ]
  },
  {
   "cell_type": "code",
   "execution_count": 115,
   "id": "d6fad134-55a0-4469-9485-3b6a61434248",
   "metadata": {
    "colab": {
     "base_uri": "https://localhost:8080/"
    },
    "id": "d6fad134-55a0-4469-9485-3b6a61434248",
    "outputId": "c51e6bfa-6a74-4c05-d6f1-b00c3020b586"
   },
   "outputs": [
    {
     "data": {
      "text/plain": [
       "tensor([[-0.0346,  0.0405, -0.0000,  0.0000, -0.0000,  0.0344],\n",
       "        [ 0.0241, -0.0261,  0.0742, -0.0607,  0.0546, -0.0762],\n",
       "        [-0.0230,  0.0000, -0.0000,  0.0000,  0.0000,  0.0267],\n",
       "        [-0.0000,  0.0000,  0.0000, -0.0000, -0.0000,  0.0000],\n",
       "        [-0.0000,  0.0000, -0.0000,  0.0696,  0.0000, -0.0000],\n",
       "        [ 0.0447,  0.0000, -0.0000, -0.0358, -0.0000,  0.1126]],\n",
       "       device='cuda:0')"
      ]
     },
     "execution_count": 115,
     "metadata": {},
     "output_type": "execute_result"
    }
   ],
   "source": [
    "q_attn0 = prune_model.bert.encoder.layer[0].attention.self.query\n",
    "q_attn0.weight[:6, :6]"
   ]
  },
  {
   "cell_type": "markdown",
   "id": "5bf8763f-f1b9-4f21-983b-ac5d666e4c3f",
   "metadata": {
    "id": "5bf8763f-f1b9-4f21-983b-ac5d666e4c3f"
   },
   "source": [
    "Чтобы воспользоваться разреженностью матрицы нужно прочитать [этот пост](https://docs.pytorch.org/tutorials/advanced/semi_structured_sparse.html). Мы этого делать не будем, так как у большинства нет карточки с Compute Capability 8.0+. Если у вас подходящая карточка из [этого списка](https://developer.nvidia.com/cuda-gpus), то можете проверить код ниже."
   ]
  },
  {
   "cell_type": "code",
   "execution_count": 116,
   "id": "99ef4420-3b02-43e9-ab6b-6e61755a3ded",
   "metadata": {
    "id": "99ef4420-3b02-43e9-ab6b-6e61755a3ded"
   },
   "outputs": [],
   "source": [
    "# from torch.sparse import to_sparse_semi_structured, SparseSemiStructuredTensor\n",
    "\n",
    "# @torch.no_grad()\n",
    "# def sparse_model(model):\n",
    "#     for name, m in model.bert.encoder.named_modules():\n",
    "#         if isinstance(m, nn.Linear):\n",
    "#             module.weight = nn.Parameter(to_sparse_semi_structured(m.weight))\n",
    "\n",
    "# prune_model.requires_grad_(False)\n",
    "# sparce_model(prune_model) # нужно минимум A100, RTX 30XX, 40XX, ..."
   ]
  },
  {
   "cell_type": "markdown",
   "id": "c8fbec5c-61b1-44ad-9981-2e739e55c720",
   "metadata": {
    "id": "c8fbec5c-61b1-44ad-9981-2e739e55c720"
   },
   "source": [
    "**Задание 10 (0.5 баллов)**. Реализуйте структурированный прунинг двух линейных слоев."
   ]
  },
  {
   "cell_type": "code",
   "execution_count": 117,
   "id": "3330811b-e989-441f-bc09-adcc6b44d82a",
   "metadata": {
    "colab": {
     "base_uri": "https://localhost:8080/"
    },
    "id": "3330811b-e989-441f-bc09-adcc6b44d82a",
    "outputId": "e36479ba-1172-4514-d5fe-51122f30e70f"
   },
   "outputs": [
    {
     "data": {
      "text/plain": [
       "tensor([[-2., -2.,  0.,  2.],\n",
       "        [-3., -1.,  0.,  6.],\n",
       "        [-1., -5.,  0.,  1.],\n",
       "        [-5., -2.,  0.,  2.]], grad_fn=<MulBackward0>)"
      ]
     },
     "execution_count": 117,
     "metadata": {},
     "output_type": "execute_result"
    }
   ],
   "source": [
    "new_linear = deepcopy(linear_teacher)\n",
    "\n",
    "prune.ln_structured(new_linear, name=\"weight\", amount=0.3, n=1, dim=1)\n",
    "new_linear.weight"
   ]
  },
  {
   "cell_type": "code",
   "execution_count": 118,
   "id": "f2135743-14f9-4557-859f-5484dc6f1135",
   "metadata": {
    "colab": {
     "base_uri": "https://localhost:8080/"
    },
    "id": "f2135743-14f9-4557-859f-5484dc6f1135",
    "outputId": "a4e6b9ca-7330-4012-840d-e7d54f16b6c4"
   },
   "outputs": [
    {
     "data": {
      "text/plain": [
       "tensor([[-0., -0.,  0.,  0.],\n",
       "        [-3., -1.,  2.,  6.],\n",
       "        [-1., -5.,  4.,  1.],\n",
       "        [-5., -2.,  1.,  2.]], grad_fn=<MulBackward0>)"
      ]
     },
     "execution_count": 118,
     "metadata": {},
     "output_type": "execute_result"
    }
   ],
   "source": [
    "new_linear = deepcopy(linear_teacher)\n",
    "\n",
    "prune.ln_structured(new_linear, name=\"weight\", amount=0.3, n=1, dim=0)\n",
    "new_linear.weight"
   ]
  },
  {
   "cell_type": "markdown",
   "id": "RrKuFlWPvEfH",
   "metadata": {
    "id": "RrKuFlWPvEfH"
   },
   "source": [
    "Если у нас есть 2 подряд идущих линейных слоя, то мы можем в первом убрать строчку, а во втором убрать столбец, тогда мы чуть ускорим код. Ниже простая демонстрация на SimpleNet."
   ]
  },
  {
   "cell_type": "code",
   "execution_count": 119,
   "id": "13854f97-21a3-479f-aaf1-69a7dab7755b",
   "metadata": {
    "id": "13854f97-21a3-479f-aaf1-69a7dab7755b"
   },
   "outputs": [],
   "source": [
    "class SimpleNet(nn.Module):\n",
    "    def __init__(self):\n",
    "        super(SimpleNet, self).__init__()\n",
    "        self.fc1 = nn.Linear(100, 50)\n",
    "        self.fc2 = nn.Linear(50, 10)\n",
    "\n",
    "    def forward(self, x):\n",
    "        x = self.fc2(self.fc1(x))\n",
    "        return x\n"
   ]
  },
  {
   "cell_type": "code",
   "execution_count": 122,
   "id": "6e2fbb64-4ac7-424c-9f61-e1716f9bb2df",
   "metadata": {
    "id": "6e2fbb64-4ac7-424c-9f61-e1716f9bb2df"
   },
   "outputs": [],
   "source": [
    "@torch.no_grad()\n",
    "def prune_2_layer(fc1, fc2, amount=0.5):\n",
    "    fc1_use_bias = fc1.bias is not None\n",
    "    fc2_use_bias = fc2.bias is not None\n",
    "\n",
    "    # use structured prune and get indices nonzero rows\n",
    "    # YOUR CODE HERE\n",
    "    ...\n",
    "    keep_indices = ...\n",
    "\n",
    "    new_fc1 = nn.Linear(fc1.in_features, len(keep_indices), fc1_use_bias)\n",
    "    new_fc2 = nn.Linear(len(keep_indices), fc2.out_features, fc2_use_bias)\n",
    "\n",
    "    # set new_fc1 weight and bias\n",
    "    # YOUR CODE HERE\n",
    "    ...\n",
    "\n",
    "    # set new_fc1 weight and bias\n",
    "    # YOUR CODE HERE\n",
    "    ...\n",
    "\n",
    "    return new_fc1, new_fc2"
   ]
  },
  {
   "cell_type": "code",
   "execution_count": 128,
   "id": "2e2ffd93-ffd9-4b86-aaf9-9483d1577942",
   "metadata": {
    "colab": {
     "base_uri": "https://localhost:8080/"
    },
    "id": "2e2ffd93-ffd9-4b86-aaf9-9483d1577942",
    "outputId": "2d7bc6de-04d1-4223-fe8d-824d1ad859a5"
   },
   "outputs": [
    {
     "data": {
      "text/plain": [
       "SimpleNet(\n",
       "  (fc1): Linear(in_features=100, out_features=50, bias=True)\n",
       "  (fc2): Linear(in_features=50, out_features=10, bias=True)\n",
       ")"
      ]
     },
     "execution_count": 128,
     "metadata": {},
     "output_type": "execute_result"
    }
   ],
   "source": [
    "set_global_seed(42)\n",
    "model = SimpleNet()\n",
    "model"
   ]
  },
  {
   "cell_type": "code",
   "execution_count": 129,
   "id": "f17c3a64-5b10-49a2-9190-44896305ea82",
   "metadata": {
    "colab": {
     "base_uri": "https://localhost:8080/"
    },
    "id": "f17c3a64-5b10-49a2-9190-44896305ea82",
    "outputId": "5e6faeed-cdda-4d18-aaeb-a7fc48fe13cf"
   },
   "outputs": [
    {
     "data": {
      "text/plain": [
       "tensor([[-0.0960,  0.2403,  0.7203,  0.0782, -0.0164, -0.3005, -0.0762, -0.6437,\n",
       "         -0.1383,  0.0511]], grad_fn=<AddmmBackward0>)"
      ]
     },
     "execution_count": 129,
     "metadata": {},
     "output_type": "execute_result"
    }
   ],
   "source": [
    "model(torch.ones(100).float()[None])"
   ]
  },
  {
   "cell_type": "code",
   "execution_count": 130,
   "id": "65c87cca-3088-444a-a4e0-669e1118de6a",
   "metadata": {
    "id": "65c87cca-3088-444a-a4e0-669e1118de6a"
   },
   "outputs": [],
   "source": [
    "fc1, fc2 = prune_2_layer(model.fc1, model.fc2, amount=0.2)\n",
    "model.fc1 = fc1\n",
    "model.fc2 = fc2"
   ]
  },
  {
   "cell_type": "code",
   "execution_count": 131,
   "id": "8306e84d-5edb-4d28-b533-bc19aefd97ab",
   "metadata": {
    "colab": {
     "base_uri": "https://localhost:8080/"
    },
    "id": "8306e84d-5edb-4d28-b533-bc19aefd97ab",
    "outputId": "8f6d2d42-5726-4c9f-f2c7-1eef5e2b07d0"
   },
   "outputs": [
    {
     "data": {
      "text/plain": [
       "tensor([[-0.0506,  0.1154,  0.4711,  0.0435, -0.1096, -0.1573, -0.0180, -0.4799,\n",
       "         -0.0729,  0.0894]], grad_fn=<AddmmBackward0>)"
      ]
     },
     "execution_count": 131,
     "metadata": {},
     "output_type": "execute_result"
    }
   ],
   "source": [
    "model(torch.ones(100).float()[None])"
   ]
  },
  {
   "cell_type": "code",
   "execution_count": 132,
   "id": "e2418f97-0d7a-4092-9035-dd9929cc8143",
   "metadata": {
    "colab": {
     "base_uri": "https://localhost:8080/"
    },
    "id": "e2418f97-0d7a-4092-9035-dd9929cc8143",
    "outputId": "87ffd28b-184d-42ec-f7b7-9fc7dd4c30e6"
   },
   "outputs": [
    {
     "data": {
      "text/plain": [
       "SimpleNet(\n",
       "  (fc1): Linear(in_features=100, out_features=40, bias=True)\n",
       "  (fc2): Linear(in_features=40, out_features=10, bias=True)\n",
       ")"
      ]
     },
     "execution_count": 132,
     "metadata": {},
     "output_type": "execute_result"
    }
   ],
   "source": [
    "model"
   ]
  },
  {
   "cell_type": "markdown",
   "id": "JfakSTpXwTc-",
   "metadata": {
    "id": "JfakSTpXwTc-"
   },
   "source": [
    "**Задание 10 (0.5 баллов)**. Примените предложенный подход к BERT."
   ]
  },
  {
   "cell_type": "code",
   "execution_count": 133,
   "id": "75a23fad-8c54-4e41-872b-0ef00afd104b",
   "metadata": {
    "colab": {
     "base_uri": "https://localhost:8080/"
    },
    "id": "75a23fad-8c54-4e41-872b-0ef00afd104b",
    "outputId": "7c030d3c-3560-4b1c-d1f1-b171b487e3b8"
   },
   "outputs": [
    {
     "data": {
      "text/plain": [
       "BertForTokenClassification(\n",
       "  (bert): BertModel(\n",
       "    (embeddings): BertEmbeddings(\n",
       "      (word_embeddings): Embedding(28996, 768, padding_idx=0)\n",
       "      (position_embeddings): Embedding(512, 768)\n",
       "      (token_type_embeddings): Embedding(2, 768)\n",
       "      (LayerNorm): LayerNorm((768,), eps=1e-12, elementwise_affine=True)\n",
       "      (dropout): Dropout(p=0.1, inplace=False)\n",
       "    )\n",
       "    (encoder): BertEncoder(\n",
       "      (layer): ModuleList(\n",
       "        (0-11): 12 x BertLayer(\n",
       "          (attention): BertAttention(\n",
       "            (self): BertSdpaSelfAttention(\n",
       "              (query): Linear(in_features=768, out_features=768, bias=True)\n",
       "              (key): Linear(in_features=768, out_features=768, bias=True)\n",
       "              (value): Linear(in_features=768, out_features=768, bias=True)\n",
       "              (dropout): Dropout(p=0.1, inplace=False)\n",
       "            )\n",
       "            (output): BertSelfOutput(\n",
       "              (dense): Linear(in_features=768, out_features=768, bias=True)\n",
       "              (LayerNorm): LayerNorm((768,), eps=1e-12, elementwise_affine=True)\n",
       "              (dropout): Dropout(p=0.1, inplace=False)\n",
       "            )\n",
       "          )\n",
       "          (intermediate): BertIntermediate(\n",
       "            (dense): Linear(in_features=768, out_features=3072, bias=True)\n",
       "            (intermediate_act_fn): GELUActivation()\n",
       "          )\n",
       "          (output): BertOutput(\n",
       "            (dense): Linear(in_features=3072, out_features=768, bias=True)\n",
       "            (LayerNorm): LayerNorm((768,), eps=1e-12, elementwise_affine=True)\n",
       "            (dropout): Dropout(p=0.1, inplace=False)\n",
       "          )\n",
       "        )\n",
       "      )\n",
       "    )\n",
       "  )\n",
       "  (dropout): Dropout(p=0.1, inplace=False)\n",
       "  (classifier): Linear(in_features=768, out_features=9, bias=True)\n",
       ")"
      ]
     },
     "execution_count": 133,
     "metadata": {},
     "output_type": "execute_result"
    }
   ],
   "source": [
    "model_teacher = AutoModelForTokenClassification.from_pretrained('3145tttt/bert-cased-ner-mmp-task3').to(device)\n",
    "model_teacher = model_teacher.eval()\n",
    "model_teacher = model_teacher.requires_grad_(False)\n",
    "\n",
    "prune_model = deepcopy(model_teacher)\n",
    "prune_model.cpu()"
   ]
  },
  {
   "cell_type": "markdown",
   "id": "pY-B79ahwkr_",
   "metadata": {
    "id": "pY-B79ahwkr_"
   },
   "source": [
    "Вам нужно применить прунинг к двум подряд идущим линейным слоям"
   ]
  },
  {
   "cell_type": "code",
   "execution_count": 134,
   "id": "3c37376b-c44a-43d1-96d1-91a069323a78",
   "metadata": {
    "id": "3c37376b-c44a-43d1-96d1-91a069323a78"
   },
   "outputs": [],
   "source": [
    "amount = 0.05\n",
    "for i in range(12):\n",
    "    layer = prune_model.bert.encoder.layer[i]\n",
    "\n",
    "    # YOUR CODE HERE\n",
    "    ..."
   ]
  },
  {
   "cell_type": "code",
   "execution_count": 135,
   "id": "f5ba44da-4a1a-4155-9935-6434d83bb342",
   "metadata": {
    "id": "f5ba44da-4a1a-4155-9935-6434d83bb342"
   },
   "outputs": [],
   "source": [
    "prune_model = prune_model.to(device)"
   ]
  },
  {
   "cell_type": "code",
   "execution_count": 136,
   "id": "2c266797-c842-4c5e-b33b-ac4671a58968",
   "metadata": {
    "colab": {
     "base_uri": "https://localhost:8080/"
    },
    "id": "2c266797-c842-4c5e-b33b-ac4671a58968",
    "outputId": "6cbc64d1-1f28-4358-bccf-a22f588b58f3"
   },
   "outputs": [
    {
     "name": "stdout",
     "output_type": "stream",
     "text": [
      "Число параметров:\t\t\t 104886225\n",
      "Число параметров без nn.Embedding:\t 82222545\n",
      "Число параметров:\t\t\t 107726601\n",
      "Число параметров без nn.Embedding:\t 85062921\n"
     ]
    }
   ],
   "source": [
    "print_numel_parameters(prune_model)\n",
    "print_numel_parameters(model_teacher)"
   ]
  },
  {
   "cell_type": "code",
   "execution_count": 137,
   "id": "9219861e-ac88-4b40-94ae-d908521a25f5",
   "metadata": {
    "colab": {
     "base_uri": "https://localhost:8080/"
    },
    "id": "9219861e-ac88-4b40-94ae-d908521a25f5",
    "outputId": "e119e720-771c-4d8c-ffae-2648f4e90ec2"
   },
   "outputs": [
    {
     "name": "stdout",
     "output_type": "stream",
     "text": [
      "Time: 0.08505 +- 0.00458\n",
      "Time: 0.08297 +- 0.00289\n"
     ]
    }
   ],
   "source": [
    "time_inference(prune_model)\n",
    "time_inference(model_teacher)"
   ]
  },
  {
   "cell_type": "code",
   "execution_count": 138,
   "id": "25f3d0e1-f1f0-4f6e-8cf6-2b2634c8b9af",
   "metadata": {
    "colab": {
     "base_uri": "https://localhost:8080/",
     "height": 54
    },
    "id": "25f3d0e1-f1f0-4f6e-8cf6-2b2634c8b9af",
    "outputId": "2cd365f4-e0c0-4b85-c29c-a36af43eea5e"
   },
   "outputs": [
    {
     "data": {
      "text/html": [
       "\n",
       "    <div>\n",
       "      \n",
       "      <progress value='406' max='406' style='width:300px; height:20px; vertical-align: middle;'></progress>\n",
       "      [406/406 00:14]\n",
       "    </div>\n",
       "    "
      ],
      "text/plain": [
       "<IPython.core.display.HTML object>"
      ]
     },
     "metadata": {},
     "output_type": "display_data"
    },
    {
     "name": "stdout",
     "output_type": "stream",
     "text": [
      "F1 = 0.79994\n"
     ]
    }
   ],
   "source": [
    "eval_model(prune_model)"
   ]
  },
  {
   "cell_type": "markdown",
   "id": "M7yN3SZmw3vh",
   "metadata": {
    "id": "M7yN3SZmw3vh"
   },
   "source": [
    "Качество заметно просело, обучите модель одну эпоху."
   ]
  },
  {
   "cell_type": "code",
   "execution_count": 140,
   "id": "829f746f-497e-4209-ab01-f6bbcdd86e5c",
   "metadata": {
    "colab": {
     "base_uri": "https://localhost:8080/",
     "height": 124
    },
    "id": "829f746f-497e-4209-ab01-f6bbcdd86e5c",
    "outputId": "a7f5d42f-a5ad-4eeb-dfda-2fcf95b6e9be"
   },
   "outputs": [
    {
     "data": {
      "text/html": [
       "\n",
       "    <div>\n",
       "      \n",
       "      <progress value='1755' max='1755' style='width:300px; height:20px; vertical-align: middle;'></progress>\n",
       "      [1755/1755 03:14, Epoch 1/1]\n",
       "    </div>\n",
       "    <table border=\"1\" class=\"dataframe\">\n",
       "  <thead>\n",
       " <tr style=\"text-align: left;\">\n",
       "      <th>Epoch</th>\n",
       "      <th>Training Loss</th>\n",
       "      <th>Validation Loss</th>\n",
       "      <th>F1</th>\n",
       "    </tr>\n",
       "  </thead>\n",
       "  <tbody>\n",
       "    <tr>\n",
       "      <td>1</td>\n",
       "      <td>0.010600</td>\n",
       "      <td>0.073399</td>\n",
       "      <td>0.937620</td>\n",
       "    </tr>\n",
       "  </tbody>\n",
       "</table><p>"
      ],
      "text/plain": [
       "<IPython.core.display.HTML object>"
      ]
     },
     "metadata": {},
     "output_type": "display_data"
    },
    {
     "data": {
      "text/plain": [
       "TrainOutput(global_step=1755, training_loss=0.022212919006999742, metrics={'train_runtime': 194.8451, 'train_samples_per_second': 72.062, 'train_steps_per_second': 9.007, 'total_flos': 296751031610400.0, 'train_loss': 0.022212919006999742, 'epoch': 1.0})"
      ]
     },
     "execution_count": 140,
     "metadata": {},
     "output_type": "execute_result"
    }
   ],
   "source": [
    "prune_conf = deepcopy(base_config)\n",
    "prune_conf['save_strategy'] = 'no'\n",
    "prune_conf['num_train_epochs'] = 1\n",
    "\n",
    "# YOUR CODE HERE\n",
    "..."
   ]
  },
  {
   "cell_type": "markdown",
   "id": "CybYk5j2xEzM",
   "metadata": {
    "id": "CybYk5j2xEzM"
   },
   "source": [
    "**Выводы**:\n",
    "\n",
    "-\n",
    "-"
   ]
  },
  {
   "cell_type": "markdown",
   "id": "19edc00a-6191-4b39-b59c-ea8cd97c5032",
   "metadata": {
    "id": "19edc00a-6191-4b39-b59c-ea8cd97c5032"
   },
   "source": [
    "**Ваше впечатление о ДЗ ниже** (можно мем, можно стих, можно вообще не о ДЗ)."
   ]
  },
  {
   "cell_type": "code",
   "execution_count": null,
   "id": "06563080-528f-4b21-b30d-84e2a0b6ee9f",
   "metadata": {
    "id": "06563080-528f-4b21-b30d-84e2a0b6ee9f"
   },
   "outputs": [],
   "source": [
    "# Да тут или в след ячейке"
   ]
  },
  {
   "cell_type": "markdown",
   "id": "8a8b6dda-3551-4d05-9cbc-611ba81d7bc3",
   "metadata": {
    "id": "8a8b6dda-3551-4d05-9cbc-611ba81d7bc3"
   },
   "source": [
    "Можно и тут!\n",
    "\n",
    "<!-- Да речь про эту ячейку -->"
   ]
  }
 ],
 "metadata": {
  "accelerator": "GPU",
  "colab": {
   "gpuType": "T4",
   "provenance": []
  },
  "kernelspec": {
   "display_name": "Python 3 (ipykernel)",
   "language": "python",
   "name": "python3"
  },
  "language_info": {
   "codemirror_mode": {
    "name": "ipython",
    "version": 3
   },
   "file_extension": ".py",
   "mimetype": "text/x-python",
   "name": "python",
   "nbconvert_exporter": "python",
   "pygments_lexer": "ipython3",
   "version": "3.12.11"
  }
 },
 "nbformat": 4,
 "nbformat_minor": 5
}
