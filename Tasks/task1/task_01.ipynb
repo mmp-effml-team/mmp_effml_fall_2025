{
  "cells": [
    {
      "cell_type": "markdown",
      "id": "23454034",
      "metadata": {
        "lines_to_next_cell": 2,
        "id": "23454034"
      },
      "source": [
        "# `Введение в Эффективные Системы Машинного обучения`\n",
        "\n",
        "## `Задание 01. Умножение векторов и матриц с использованием CUDA`.\n",
        "\n",
        "#### Фамилия, имя:\n",
        "\n",
        "Дата выдачи: <span style=\"color:red\">__9 сентября__</span>.\n",
        "\n",
        "Мягкий дедлайн: <span style=\"color:red\">__22 сентября 05:00__</span>.\n",
        "\n",
        "Стоимость: __10 баллов__ (основная часть заданий) + __3 балла__ (дополнительные задания).\n",
        "\n",
        "<span style=\"color:red\">__В ноутбуке все клетки должны выполняться без ошибок при последовательном их выполнении.__</span>\n",
        "\n",
        "#### `Москва, 2025`\n",
        "\n",
        "##### По всем вопросам писать `@trandelik`"
      ]
    },
    {
      "cell_type": "markdown",
      "id": "cb974c6b",
      "metadata": {
        "id": "cb974c6b"
      },
      "source": [
        "## `Введение`\n",
        "\n",
        "В рамках этого задания вам предстоит познакомиться с основами программирования на GPU, чтобы лучше разобраться в их устройстве. Для этого мы воспользуемся библиотекой Numba, которая позволяет писать CUDA-кернелы прямо на Python. Несмотря на это, опыт написания кернелов на Numba напрямую переносится на C++ CUDA в силу схожих интерфейсов, при этом требует более низкого порога входа.\n",
        "\n",
        "Документация [Numba CUDA Guide](https://numba.readthedocs.io/en/stable/cuda/index.html)\n",
        "\n",
        "При составлении задания авторы сильно вдохновлялись [GPU puzzles](https://github.com/srush/GPU-Puzzles)\n",
        "\n",
        "**Важно:** авторы настоятельно рекомендуют выполнять домашнее задание в Google Colab и не гарантируют поддержку других сред. Также мы приведем версии CUDA, драйверов, python и библиотек ниже."
      ]
    },
    {
      "cell_type": "code",
      "source": [
        "!nvidia-smi"
      ],
      "metadata": {
        "colab": {
          "base_uri": "https://localhost:8080/"
        },
        "id": "-eeNUUA7cYW_",
        "outputId": "2b14d609-f725-4eb0-e91f-0dacab8c6426"
      },
      "id": "-eeNUUA7cYW_",
      "execution_count": null,
      "outputs": [
        {
          "output_type": "stream",
          "name": "stdout",
          "text": [
            "Tue Sep  9 12:05:37 2025       \n",
            "+-----------------------------------------------------------------------------------------+\n",
            "| NVIDIA-SMI 550.54.15              Driver Version: 550.54.15      CUDA Version: 12.4     |\n",
            "|-----------------------------------------+------------------------+----------------------+\n",
            "| GPU  Name                 Persistence-M | Bus-Id          Disp.A | Volatile Uncorr. ECC |\n",
            "| Fan  Temp   Perf          Pwr:Usage/Cap |           Memory-Usage | GPU-Util  Compute M. |\n",
            "|                                         |                        |               MIG M. |\n",
            "|=========================================+========================+======================|\n",
            "|   0  Tesla T4                       Off |   00000000:00:04.0 Off |                    0 |\n",
            "| N/A   67C    P8             11W /   70W |       0MiB /  15360MiB |      0%      Default |\n",
            "|                                         |                        |                  N/A |\n",
            "+-----------------------------------------+------------------------+----------------------+\n",
            "                                                                                         \n",
            "+-----------------------------------------------------------------------------------------+\n",
            "| Processes:                                                                              |\n",
            "|  GPU   GI   CI        PID   Type   Process name                              GPU Memory |\n",
            "|        ID   ID                                                               Usage      |\n",
            "|=========================================================================================|\n",
            "|  No running processes found                                                             |\n",
            "+-----------------------------------------------------------------------------------------+\n"
          ]
        }
      ]
    },
    {
      "cell_type": "code",
      "source": [
        "!nvcc --version"
      ],
      "metadata": {
        "colab": {
          "base_uri": "https://localhost:8080/"
        },
        "id": "xfodqObeccm1",
        "outputId": "27860099-0c92-4b75-bdc3-258cd89fb1ba"
      },
      "id": "xfodqObeccm1",
      "execution_count": null,
      "outputs": [
        {
          "output_type": "stream",
          "name": "stdout",
          "text": [
            "nvcc: NVIDIA (R) Cuda compiler driver\n",
            "Copyright (c) 2005-2024 NVIDIA Corporation\n",
            "Built on Thu_Jun__6_02:18:23_PDT_2024\n",
            "Cuda compilation tools, release 12.5, V12.5.82\n",
            "Build cuda_12.5.r12.5/compiler.34385749_0\n"
          ]
        }
      ]
    },
    {
      "cell_type": "markdown",
      "source": [
        "## `Setup`"
      ],
      "metadata": {
        "id": "7Pleyr5x8KdX"
      },
      "id": "7Pleyr5x8KdX"
    },
    {
      "cell_type": "code",
      "execution_count": null,
      "id": "4c078331",
      "metadata": {
        "execution": {
          "iopub.execute_input": "2022-08-07T21:24:28.090989Z",
          "iopub.status.busy": "2022-08-07T21:24:28.090509Z",
          "iopub.status.idle": "2022-08-07T21:24:40.218920Z",
          "shell.execute_reply": "2022-08-07T21:24:40.217864Z"
        },
        "lines_to_next_cell": 2,
        "id": "4c078331",
        "colab": {
          "base_uri": "https://localhost:8080/"
        },
        "outputId": "dc9864bc-4a97-4ef1-f797-d1ea81004c9e"
      },
      "outputs": [
        {
          "output_type": "stream",
          "name": "stdout",
          "text": [
            "Collecting numba-cuda==0.4.0\n",
            "  Downloading numba_cuda-0.4.0-py3-none-any.whl.metadata (1.5 kB)\n",
            "Requirement already satisfied: numba>=0.59.1 in /usr/local/lib/python3.12/dist-packages (from numba-cuda==0.4.0) (0.60.0)\n",
            "Requirement already satisfied: llvmlite<0.44,>=0.43.0dev0 in /usr/local/lib/python3.12/dist-packages (from numba>=0.59.1->numba-cuda==0.4.0) (0.43.0)\n",
            "Requirement already satisfied: numpy<2.1,>=1.22 in /usr/local/lib/python3.12/dist-packages (from numba>=0.59.1->numba-cuda==0.4.0) (2.0.2)\n",
            "Downloading numba_cuda-0.4.0-py3-none-any.whl (453 kB)\n",
            "\u001b[2K   \u001b[90m━━━━━━━━━━━━━━━━━━━━━━━━━━━━━━━━━━━━━━━━\u001b[0m \u001b[32m453.8/453.8 kB\u001b[0m \u001b[31m9.2 MB/s\u001b[0m eta \u001b[36m0:00:00\u001b[0m\n",
            "\u001b[?25hInstalling collected packages: numba-cuda\n",
            "  Attempting uninstall: numba-cuda\n",
            "    Found existing installation: numba-cuda 0.11.0\n",
            "    Uninstalling numba-cuda-0.11.0:\n",
            "      Successfully uninstalled numba-cuda-0.11.0\n",
            "\u001b[31mERROR: pip's dependency resolver does not currently take into account all the packages that are installed. This behaviour is the source of the following dependency conflicts.\n",
            "cudf-cu12 25.6.0 requires numba-cuda<0.12.0a0,>=0.11.0, but you have numba-cuda 0.4.0 which is incompatible.\u001b[0m\u001b[31m\n",
            "\u001b[0mSuccessfully installed numba-cuda-0.4.0\n"
          ]
        }
      ],
      "source": [
        "!pip install numba-cuda==0.4.0\n",
        "\n",
        "\n",
        "from numba import config\n",
        "config.CUDA_ENABLE_PYNVJITLINK = 1"
      ]
    },
    {
      "cell_type": "code",
      "execution_count": null,
      "id": "53cba43c",
      "metadata": {
        "execution": {
          "iopub.execute_input": "2022-08-07T21:24:40.223406Z",
          "iopub.status.busy": "2022-08-07T21:24:40.222945Z",
          "iopub.status.idle": "2022-08-07T21:24:40.697137Z",
          "shell.execute_reply": "2022-08-07T21:24:40.696287Z"
        },
        "id": "53cba43c"
      },
      "outputs": [],
      "source": [
        "import numba\n",
        "from numba import cuda\n",
        "import numpy as np\n",
        "import torch\n",
        "import timeit\n",
        "import warnings\n",
        "import pandas as pd\n",
        "import matplotlib.pyplot as plt\n",
        "import seaborn as sns\n",
        "import sys\n",
        "\n",
        "warnings.filterwarnings(\n",
        "    action=\"ignore\", category=numba.NumbaPerformanceWarning, module=\"numba\"\n",
        ")\n",
        "\n",
        "sns.set_theme(style=\"whitegrid\")\n",
        "%config InlineBackend.figure_format = 'svg'"
      ]
    },
    {
      "cell_type": "code",
      "source": [
        "print(\"Python version:\", sys.version)\n",
        "print(\"Numba version:\", numba.__version__)\n",
        "print(\"Numpy version:\", np.__version__)\n",
        "print(\"Torch version:\", torch.__version__)"
      ],
      "metadata": {
        "colab": {
          "base_uri": "https://localhost:8080/"
        },
        "id": "qjohN8becfj4",
        "outputId": "4c986a99-315b-4976-b33d-f08ea7c81a2b"
      },
      "id": "qjohN8becfj4",
      "execution_count": null,
      "outputs": [
        {
          "output_type": "stream",
          "name": "stdout",
          "text": [
            "Python version: 3.12.11 (main, Jun  4 2025, 08:56:18) [GCC 11.4.0]\n",
            "Numba version: 0.60.0\n",
            "Numpy version: 2.0.2\n",
            "Torch version: 2.8.0+cu126\n"
          ]
        }
      ]
    },
    {
      "cell_type": "markdown",
      "source": [
        "## `Часть 1. Скалярное произведение векторов (4 балла)`"
      ],
      "metadata": {
        "id": "3EKPKDM28kyt"
      },
      "id": "3EKPKDM28kyt"
    },
    {
      "cell_type": "markdown",
      "source": [
        "### `Testing Utils`\n",
        "\n",
        "Мы подготовили тестовую функцию, которая поможет проверить корректность ваших реализаций и измерить их производительность. Она будет собирать данные о времени выполнения, чтобы мы могли построить красивые графики."
      ],
      "metadata": {
        "id": "Z3D2AfVlB1BY"
      },
      "id": "Z3D2AfVlB1BY"
    },
    {
      "cell_type": "code",
      "source": [
        "dot_product_results = []\n",
        "\n",
        "def test_dot_product(custom_function, name, full_bench=True):\n",
        "    print(f\"--- Testing: {name} ---\")\n",
        "    # Test 1: Простой тест для векторов\n",
        "    a = np.array([1, 2, 3], dtype=np.float32)\n",
        "    b = np.array([4, 5, 6], dtype=np.float32)\n",
        "    expected = a @ b\n",
        "    result = custom_function(a, b)\n",
        "    assert np.allclose(result, expected), f\"Test 1 failed: {result} != {expected}\"\n",
        "\n",
        "    # Test 2: Тест с нулевым вектором\n",
        "    z = np.zeros(5, dtype=np.float32)\n",
        "    c = np.array([1, 2, 3, 4, 5], dtype=np.float32)\n",
        "    expected = z @ c\n",
        "    result = custom_function(z, c)\n",
        "    assert np.allclose(result, expected), f\"Test 2 failed: {result} != {expected}\"\n",
        "\n",
        "    # Test 3: Случайные векторы разных размеров\n",
        "    shapes = [10, 101, 1000]\n",
        "    for i, shape in enumerate(shapes):\n",
        "        np.random.seed(i)\n",
        "        a = np.random.rand(shape).astype(np.float32)\n",
        "        b = np.random.rand(shape).astype(np.float32)\n",
        "        expected = a @ b\n",
        "        result = custom_function(a, b)\n",
        "        assert np.allclose(result, expected, atol=1e-5), f\"Test 3 (shape={shape}) failed\"\n",
        "    print(\"All tests passed!\")\n",
        "\n",
        "    # Бенчмарки\n",
        "    print(\"Benchmarking...\")\n",
        "    sizes = [1_000, 10_000, 100_000, 1_000_000]\n",
        "    if full_bench:\n",
        "        sizes.append(10_000_000)\n",
        "\n",
        "    for size in sizes:\n",
        "        np.random.seed(42)\n",
        "        a = np.random.rand(size).astype(np.float32)\n",
        "        b = np.random.rand(size).astype(np.float32)\n",
        "\n",
        "        # Прогрев (первый запуск может быть медленным из-за компиляции)\n",
        "        custom_function(a,b)\n",
        "\n",
        "        times = timeit.repeat(lambda: custom_function(a, b), number=10, repeat=3)\n",
        "        times = np.array(times)\n",
        "        mean_time = times.mean()\n",
        "        std_time = times.std()\n",
        "\n",
        "        dot_product_results.append({\n",
        "            \"name\": name,\n",
        "            \"size\": size,\n",
        "            \"mean_time\": mean_time,\n",
        "            \"std_time\": std_time\n",
        "        })\n",
        "        print(f\"Size={size}:\\t{mean_time:.6f} ± {std_time:.6f} seconds\")\n",
        "    print(\"Done.\\n\")"
      ],
      "metadata": {
        "id": "YAH-orUvBzht"
      },
      "id": "YAH-orUvBzht",
      "execution_count": null,
      "outputs": []
    },
    {
      "cell_type": "markdown",
      "source": [
        "### `Baselines`"
      ],
      "metadata": {
        "id": "ks4FBYaU8qD-"
      },
      "id": "ks4FBYaU8qD-"
    },
    {
      "cell_type": "code",
      "source": [
        "def naive_dot(a, b):\n",
        "    result = 0.0\n",
        "    for i in range(a.shape[0]):\n",
        "        result += a[i] * b[i]\n",
        "    return result\n",
        "\n",
        "def numpy_dot(a, b):\n",
        "    return a @ b\n",
        "\n",
        "def torch_dot(a, b):\n",
        "    # Мы живем в мире \"посчитай скалярное произведение этих двух numpy векторов\"\n",
        "    # Поэтому время перекладывания на GPU тоже надо учитывать\n",
        "    a_device = torch.from_numpy(a).cuda()\n",
        "    b_device = torch.from_numpy(b).cuda()\n",
        "    result_cuda = torch.dot(a_device, b_device)\n",
        "    return result_cuda.cpu().numpy()"
      ],
      "metadata": {
        "id": "-77gUO5O8ieR"
      },
      "id": "-77gUO5O8ieR",
      "execution_count": null,
      "outputs": []
    },
    {
      "cell_type": "code",
      "source": [
        "test_dot_product(naive_dot, \"Python Loop\", full_bench=False)\n",
        "test_dot_product(numpy_dot, \"Numpy\")\n",
        "test_dot_product(torch_dot, \"PyTorch\")"
      ],
      "metadata": {
        "colab": {
          "base_uri": "https://localhost:8080/"
        },
        "id": "xB_PvL1T8wE0",
        "outputId": "ad8daac6-8538-49d1-a013-3b2a8bcd7813"
      },
      "id": "xB_PvL1T8wE0",
      "execution_count": null,
      "outputs": [
        {
          "output_type": "stream",
          "name": "stdout",
          "text": [
            "--- Testing: Python Loop ---\n",
            "All tests passed!\n",
            "Benchmarking...\n",
            "Size=1000:\t0.003021 ± 0.000178 seconds\n",
            "Size=10000:\t0.030350 ± 0.001879 seconds\n",
            "Size=100000:\t0.297175 ± 0.011585 seconds\n",
            "Size=1000000:\t3.275370 ± 0.468790 seconds\n",
            "Done.\n",
            "\n",
            "--- Testing: Numpy ---\n",
            "All tests passed!\n",
            "Benchmarking...\n",
            "Size=1000:\t0.000021 ± 0.000010 seconds\n",
            "Size=10000:\t0.000025 ± 0.000002 seconds\n",
            "Size=100000:\t0.000155 ± 0.000042 seconds\n",
            "Size=1000000:\t0.003336 ± 0.000070 seconds\n",
            "Size=10000000:\t0.050245 ± 0.001240 seconds\n",
            "Done.\n",
            "\n",
            "--- Testing: PyTorch ---\n",
            "All tests passed!\n",
            "Benchmarking...\n",
            "Size=1000:\t0.000762 ± 0.000053 seconds\n",
            "Size=10000:\t0.001071 ± 0.000026 seconds\n",
            "Size=100000:\t0.003143 ± 0.000026 seconds\n",
            "Size=1000000:\t0.019080 ± 0.000165 seconds\n",
            "Size=10000000:\t0.171679 ± 0.001987 seconds\n",
            "Done.\n",
            "\n"
          ]
        }
      ]
    },
    {
      "cell_type": "markdown",
      "source": [
        "### `Задание 1. Naive GPU implementation (1 балл)`\n",
        "\n",
        "Наша первая задача — реализовать скалярное произведение на GPU.\n",
        "\n",
        "Здесь мы поручим каждому потоку вычислить произведение одной пары элементов `a[i] * b[i]`. Затем все эти произведения нужно как-то сложить. Самый простой способ — использовать [**атомарную операцию**](https://habr.com/ru/articles/244881/). Для этого предлагается использовать функцию `cuda.atomic.add(array, index, value)`."
      ],
      "metadata": {
        "id": "96aPolnm9jiS"
      },
      "id": "96aPolnm9jiS"
    },
    {
      "cell_type": "code",
      "source": [
        "THREADS_PER_BLOCK = 1024\n",
        "\n",
        "@cuda.jit\n",
        "def naive_dot_product_kernel(a, b, result):\n",
        "    '''\n",
        "    Кернел, вычисляющий скалярное произведение векторов a и b и\n",
        "    записывающий его в нулевую позицию вектора result.\n",
        "    Для вычисления суммы используется atomic.add\n",
        "    '''\n",
        "\n",
        "    ### YOUR CODE HERE\n",
        "\n",
        "\n",
        "\n",
        "def dot_product_naive_gpu(a, b):\n",
        "    '''\n",
        "    Функция, принимающая на вход два numpy массива и вычисляющая их скалярное произведение,\n",
        "    используя naive_dot_product_kernel\n",
        "    '''\n",
        "    # Создаем на CPU массив для хранения результата\n",
        "    result_host = np.array([0], dtype=a.dtype)\n",
        "\n",
        "    # Копируем данные на GPU\n",
        "    ### YOUR CODE HERE\n",
        "\n",
        "    # Вычисляем, сколько блоков нам нужно для всех элементов вектора\n",
        "    ### YOUR CODE HERE\n",
        "\n",
        "    # Запускаем кернел\n",
        "    ### YOUR CODE HERE\n",
        "\n",
        "    # Копируем результат обратно на CPU\n",
        "    ### YOUR CODE HERE\n",
        "\n",
        "    return result_host[0]"
      ],
      "metadata": {
        "id": "VVxNmd83OoIh"
      },
      "id": "VVxNmd83OoIh",
      "execution_count": null,
      "outputs": []
    },
    {
      "cell_type": "code",
      "source": [
        "test_dot_product(dot_product_naive_gpu, \"Naive GPU\")"
      ],
      "metadata": {
        "colab": {
          "base_uri": "https://localhost:8080/"
        },
        "id": "TezAI6ZE9vG6",
        "outputId": "48aecfc3-f640-44dd-aa06-3012045fff27"
      },
      "id": "TezAI6ZE9vG6",
      "execution_count": null,
      "outputs": [
        {
          "output_type": "stream",
          "name": "stdout",
          "text": [
            "--- Testing: Naive GPU ---\n",
            "All tests passed!\n",
            "Benchmarking...\n",
            "Size=1000:\t0.006864 ± 0.000056 seconds\n",
            "Size=10000:\t0.007989 ± 0.000591 seconds\n",
            "Size=100000:\t0.013757 ± 0.001150 seconds\n",
            "Size=1000000:\t0.066871 ± 0.001551 seconds\n",
            "Size=10000000:\t0.408135 ± 0.022108 seconds\n",
            "Done.\n",
            "\n"
          ]
        }
      ]
    },
    {
      "cell_type": "markdown",
      "source": [
        "### `Задание 2. Smarter GPU implementation with Shared Memory (1 балл)`\n",
        "\n",
        "Прошлая реализация проста, но крайне неэффективна. Атомарные операции создают \"бутылочное горлышко\", заставляя все потоки синхронизироваться при записи в глобальную память.\n",
        "\n",
        "Чтобы это исправить, мы воспользуемся `shared memory` — сверхбыстрой памятью, доступной для всех потоков **внутри одного блока**. Алгоритм будет таким:\n",
        "\n",
        "1.  Каждый поток вычисляет свое произведение `a[idx] * b[idx]`.\n",
        "2.  Результат сохраняется в массив `s_data` в `shared memory`.\n",
        "3.  **Синхронизируем все потоки в блоке** с помощью `cuda.syncthreads()`. Это гарантия того, что все потоки закончили шаг 2, прежде чем кто-то перейдет к шагу 4.\n",
        "4.  Один поток (например, с `local_idx == 0`) проходит по всему массиву `s_data` и суммирует его значения.\n",
        "5.  Этот же поток атомарно добавляет сумму своего блока к общему результату в глобальной памяти.\n",
        "\n",
        "Теперь у нас всего одна синхронизация на блок, а не на каждый элемент, что должно быть гораздо быстрее."
      ],
      "metadata": {
        "id": "06OyeXs6BfEd"
      },
      "id": "06OyeXs6BfEd"
    },
    {
      "cell_type": "code",
      "source": [
        "THREADS_PER_BLOCK = 1024\n",
        "\n",
        "@cuda.jit\n",
        "def shmem_dot_product_kernel(a, b, result):\n",
        "    '''\n",
        "    Кернел, вычисляющий скалярное произведение векторов a и b и\n",
        "    записывающий его в нулевую позицию вектора result.\n",
        "    Для вычисления суммы используется shared memory\n",
        "    и последующее суммирование значений одним потоком\n",
        "    '''\n",
        "    # Создаем массив в shared memory\n",
        "    ### YOUR CODE HERE\n",
        "\n",
        "    # Глобальный и локальный (внутри блока) индексы\n",
        "    ### YOUR CODE HERE\n",
        "\n",
        "    # 1. Каждый поток считает произведение и записывает в shared memory\n",
        "    ### YOUR CODE HERE\n",
        "\n",
        "    # 2. Один поток (нулевой) суммирует все, что есть в shared memory,\n",
        "    # и атомарно добавляет к итоговому результату.\n",
        "    ### YOUR CODE HERE\n",
        "\n",
        "\n",
        "def dot_product_shmem(a, b):\n",
        "    '''\n",
        "    Функция, принимающая на вход два numpy массива и вычисляющая их скалярное произведение,\n",
        "    используя shmem_dot_product_kernel\n",
        "    '''\n",
        "    ### Аналогично функции из прошлого пункта\n",
        "    ### YOUR CODE HERE\n"
      ],
      "metadata": {
        "id": "vORfgonD-MNL"
      },
      "id": "vORfgonD-MNL",
      "execution_count": null,
      "outputs": []
    },
    {
      "cell_type": "code",
      "source": [
        "test_dot_product(dot_product_shmem, \"Shared Memory\")"
      ],
      "metadata": {
        "colab": {
          "base_uri": "https://localhost:8080/"
        },
        "id": "fjhX4cvmBiqj",
        "outputId": "f4ba3629-afa0-4162-e309-8d9faf27b141"
      },
      "id": "fjhX4cvmBiqj",
      "execution_count": null,
      "outputs": [
        {
          "output_type": "stream",
          "name": "stdout",
          "text": [
            "--- Testing: Shared Memory ---\n",
            "All tests passed!\n",
            "Benchmarking...\n",
            "Size=1000:\t0.016714 ± 0.004918 seconds\n",
            "Size=10000:\t0.014854 ± 0.002448 seconds\n",
            "Size=100000:\t0.018346 ± 0.000163 seconds\n",
            "Size=1000000:\t0.067118 ± 0.003372 seconds\n",
            "Size=10000000:\t0.525902 ± 0.092171 seconds\n",
            "Done.\n",
            "\n"
          ]
        }
      ]
    },
    {
      "cell_type": "markdown",
      "source": [
        "### `Задание 3. Even More Smart GPU implementation with Parallel Reduction (2 балла)`\n",
        "\n",
        "В предыдущем решении мы добились ускорения, но суммирование внутри блока все еще выполнялось в один поток. Это неэффективно. Ключевая особенность CUDA — параллельность, и мы можем использовать ее даже для суммирования!\n",
        "\n",
        "Для этого применяется алгоритм **параллельной редукции (parallel reduction)**. Идея в том, чтобы на каждой итерации складывать пары элементов, уменьшая массив вдвое, пока не останется один элемент — сумма.\n",
        "\n",
        "Пример для 8 элементов:\n",
        "1.  `[1, 2, 3, 4, 5, 6, 7, 8]`\n",
        "2.  Потоки 0-3 складывают элементы с потоками 4-7: `s_data[i] += s_data[i + 4]`.\n",
        "    Результат: `[6, 8, 10, 12, ...]`\n",
        "3.  Потоки 0-1 складывают элементы с потоками 2-3: `s_data[i] += s_data[i + 2]`.\n",
        "    Результат: `[16, 20, ...]`\n",
        "4.  Поток 0 складывает элемент с потоком 1: `s_data[0] += s_data[1]`.\n",
        "    Результат: `[36, ...]`"
      ],
      "metadata": {
        "id": "kDhjgD1qBooq"
      },
      "id": "kDhjgD1qBooq"
    },
    {
      "cell_type": "code",
      "source": [
        "THREADS_PER_BLOCK = 1024\n",
        "\n",
        "@cuda.jit\n",
        "def reduce_dot_product_kernel(a, b, result):\n",
        "    '''\n",
        "    Кернел, вычисляющий скалярное произведение векторов a и b и\n",
        "    записывающий его в нулевую позицию вектора result.\n",
        "    Для вычисления суммы используется shared memory\n",
        "    и алгоритм параллельной редукции\n",
        "    '''\n",
        "\n",
        "    # 1. Загружаем данные в shared memory (как в прошлом задании)\n",
        "    ### YOUR CODE HERE\n",
        "\n",
        "    # 2. Реализуем параллельную редукцию.\n",
        "    # YOUR CODE HERE\n",
        "\n",
        "    # 3. Нулевой поток записывает итоговую сумму\n",
        "    ### YOUR CODE HERE\n",
        "\n",
        "\n",
        "def dot_product_reduce(a, b):\n",
        "    '''\n",
        "    Функция, принимающая на вход два numpy массива и вычисляющая их скалярное произведение,\n",
        "    используя reduce_dot_product_kernel\n",
        "    '''\n",
        "    ### Аналогично функции из прошлого пункта\n",
        "    ### YOUR CODE HERE\n"
      ],
      "metadata": {
        "id": "lNmnPw6rBlxQ"
      },
      "id": "lNmnPw6rBlxQ",
      "execution_count": null,
      "outputs": []
    },
    {
      "cell_type": "code",
      "source": [
        "test_dot_product(dot_product_reduce, \"Parallel Reduce\")"
      ],
      "metadata": {
        "colab": {
          "base_uri": "https://localhost:8080/"
        },
        "id": "Abxego3VBq5R",
        "outputId": "a9b66cf8-3812-469d-f422-c35bdb9e7aaf"
      },
      "id": "Abxego3VBq5R",
      "execution_count": null,
      "outputs": [
        {
          "output_type": "stream",
          "name": "stdout",
          "text": [
            "--- Testing: Parallel Reduce ---\n",
            "All tests passed!\n",
            "Benchmarking...\n",
            "Size=1000:\t0.007644 ± 0.000729 seconds\n",
            "Size=10000:\t0.007072 ± 0.000071 seconds\n",
            "Size=100000:\t0.009362 ± 0.000076 seconds\n",
            "Size=1000000:\t0.037380 ± 0.004318 seconds\n",
            "Size=10000000:\t0.217794 ± 0.005239 seconds\n",
            "Done.\n",
            "\n"
          ]
        }
      ]
    },
    {
      "cell_type": "markdown",
      "source": [
        "### `Сравнение результатов`"
      ],
      "metadata": {
        "id": "Rtyb-dBf1ow8"
      },
      "id": "Rtyb-dBf1ow8"
    },
    {
      "cell_type": "code",
      "source": [
        "df_dot = pd.DataFrame(dot_product_results)\n",
        "\n",
        "plt.figure(figsize=(12, 8))\n",
        "sns.lineplot(data=df_dot, x='size', y='mean_time', hue='name', marker='o')\n",
        "plt.title('Dot Product Performance Comparison')\n",
        "plt.xlabel('Vector Size')\n",
        "plt.ylabel('Time (seconds)')\n",
        "plt.xscale('log')\n",
        "plt.yscale('log')\n",
        "plt.legend(title='Implementation')\n",
        "plt.show()"
      ],
      "metadata": {
        "colab": {
          "base_uri": "https://localhost:8080/",
          "height": 699
        },
        "id": "CSU0z9Z_1mvB",
        "outputId": "a5beaf81-72e6-4e0d-8210-d5cf1ac16dcb"
      },
      "id": "CSU0z9Z_1mvB",
      "execution_count": null,
      "outputs": [
        {
          "output_type": "display_data",
          "data": {
            "text/plain": [
              "<Figure size 1200x800 with 1 Axes>"
            ],
            "image/svg+xml": "<?xml version=\"1.0\" encoding=\"utf-8\" standalone=\"no\"?>\n<!DOCTYPE svg PUBLIC \"-//W3C//DTD SVG 1.1//EN\"\n  \"http://www.w3.org/Graphics/SVG/1.1/DTD/svg11.dtd\">\n<svg xmlns:xlink=\"http://www.w3.org/1999/xlink\" width=\"734.96375pt\" height=\"508.797812pt\" viewBox=\"0 0 734.96375 508.797812\" xmlns=\"http://www.w3.org/2000/svg\" version=\"1.1\">\n <metadata>\n  <rdf:RDF xmlns:dc=\"http://purl.org/dc/elements/1.1/\" xmlns:cc=\"http://creativecommons.org/ns#\" xmlns:rdf=\"http://www.w3.org/1999/02/22-rdf-syntax-ns#\">\n   <cc:Work>\n    <dc:type rdf:resource=\"http://purl.org/dc/dcmitype/StillImage\"/>\n    <dc:date>2025-09-09T12:07:24.479500</dc:date>\n    <dc:format>image/svg+xml</dc:format>\n    <dc:creator>\n     <cc:Agent>\n      <dc:title>Matplotlib v3.10.0, https://matplotlib.org/</dc:title>\n     </cc:Agent>\n    </dc:creator>\n   </cc:Work>\n  </rdf:RDF>\n </metadata>\n <defs>\n  <style type=\"text/css\">*{stroke-linejoin: round; stroke-linecap: butt}</style>\n </defs>\n <g id=\"figure_1\">\n  <g id=\"patch_1\">\n   <path d=\"M 0 508.797812 \nL 734.96375 508.797812 \nL 734.96375 0 \nL 0 0 \nz\n\" style=\"fill: #ffffff\"/>\n  </g>\n  <g id=\"axes_1\">\n   <g id=\"patch_2\">\n    <path d=\"M 58.16375 465.838125 \nL 727.76375 465.838125 \nL 727.76375 22.318125 \nL 58.16375 22.318125 \nz\n\" style=\"fill: #ffffff\"/>\n   </g>\n   <g id=\"matplotlib.axis_1\">\n    <g id=\"xtick_1\">\n     <g id=\"line2d_1\">\n      <path d=\"M 88.600114 465.838125 \nL 88.600114 22.318125 \n\" clip-path=\"url(#pb78ab44a2a)\" style=\"fill: none; stroke: #cccccc; stroke-linecap: round\"/>\n     </g>\n     <g id=\"text_1\">\n      <!-- $\\mathdefault{10^{3}}$ -->\n      <g style=\"fill: #262626\" transform=\"translate(78.920114 483.696406) scale(0.11 -0.11)\">\n       <defs>\n        <path id=\"DejaVuSans-31\" d=\"M 794 531 \nL 1825 531 \nL 1825 4091 \nL 703 3866 \nL 703 4441 \nL 1819 4666 \nL 2450 4666 \nL 2450 531 \nL 3481 531 \nL 3481 0 \nL 794 0 \nL 794 531 \nz\n\" transform=\"scale(0.015625)\"/>\n        <path id=\"DejaVuSans-30\" d=\"M 2034 4250 \nQ 1547 4250 1301 3770 \nQ 1056 3291 1056 2328 \nQ 1056 1369 1301 889 \nQ 1547 409 2034 409 \nQ 2525 409 2770 889 \nQ 3016 1369 3016 2328 \nQ 3016 3291 2770 3770 \nQ 2525 4250 2034 4250 \nz\nM 2034 4750 \nQ 2819 4750 3233 4129 \nQ 3647 3509 3647 2328 \nQ 3647 1150 3233 529 \nQ 2819 -91 2034 -91 \nQ 1250 -91 836 529 \nQ 422 1150 422 2328 \nQ 422 3509 836 4129 \nQ 1250 4750 2034 4750 \nz\n\" transform=\"scale(0.015625)\"/>\n        <path id=\"DejaVuSans-33\" d=\"M 2597 2516 \nQ 3050 2419 3304 2112 \nQ 3559 1806 3559 1356 \nQ 3559 666 3084 287 \nQ 2609 -91 1734 -91 \nQ 1441 -91 1130 -33 \nQ 819 25 488 141 \nL 488 750 \nQ 750 597 1062 519 \nQ 1375 441 1716 441 \nQ 2309 441 2620 675 \nQ 2931 909 2931 1356 \nQ 2931 1769 2642 2001 \nQ 2353 2234 1838 2234 \nL 1294 2234 \nL 1294 2753 \nL 1863 2753 \nQ 2328 2753 2575 2939 \nQ 2822 3125 2822 3475 \nQ 2822 3834 2567 4026 \nQ 2313 4219 1838 4219 \nQ 1578 4219 1281 4162 \nQ 984 4106 628 3988 \nL 628 4550 \nQ 988 4650 1302 4700 \nQ 1616 4750 1894 4750 \nQ 2613 4750 3031 4423 \nQ 3450 4097 3450 3541 \nQ 3450 3153 3228 2886 \nQ 3006 2619 2597 2516 \nz\n\" transform=\"scale(0.015625)\"/>\n       </defs>\n       <use xlink:href=\"#DejaVuSans-31\" transform=\"translate(0 0.765625)\"/>\n       <use xlink:href=\"#DejaVuSans-30\" transform=\"translate(63.623047 0.765625)\"/>\n       <use xlink:href=\"#DejaVuSans-33\" transform=\"translate(128.203125 39.046875) scale(0.7)\"/>\n      </g>\n     </g>\n    </g>\n    <g id=\"xtick_2\">\n     <g id=\"line2d_2\">\n      <path d=\"M 240.781932 465.838125 \nL 240.781932 22.318125 \n\" clip-path=\"url(#pb78ab44a2a)\" style=\"fill: none; stroke: #cccccc; stroke-linecap: round\"/>\n     </g>\n     <g id=\"text_2\">\n      <!-- $\\mathdefault{10^{4}}$ -->\n      <g style=\"fill: #262626\" transform=\"translate(231.101932 483.696406) scale(0.11 -0.11)\">\n       <defs>\n        <path id=\"DejaVuSans-34\" d=\"M 2419 4116 \nL 825 1625 \nL 2419 1625 \nL 2419 4116 \nz\nM 2253 4666 \nL 3047 4666 \nL 3047 1625 \nL 3713 1625 \nL 3713 1100 \nL 3047 1100 \nL 3047 0 \nL 2419 0 \nL 2419 1100 \nL 313 1100 \nL 313 1709 \nL 2253 4666 \nz\n\" transform=\"scale(0.015625)\"/>\n       </defs>\n       <use xlink:href=\"#DejaVuSans-31\" transform=\"translate(0 0.684375)\"/>\n       <use xlink:href=\"#DejaVuSans-30\" transform=\"translate(63.623047 0.684375)\"/>\n       <use xlink:href=\"#DejaVuSans-34\" transform=\"translate(128.203125 38.965625) scale(0.7)\"/>\n      </g>\n     </g>\n    </g>\n    <g id=\"xtick_3\">\n     <g id=\"line2d_3\">\n      <path d=\"M 392.96375 465.838125 \nL 392.96375 22.318125 \n\" clip-path=\"url(#pb78ab44a2a)\" style=\"fill: none; stroke: #cccccc; stroke-linecap: round\"/>\n     </g>\n     <g id=\"text_3\">\n      <!-- $\\mathdefault{10^{5}}$ -->\n      <g style=\"fill: #262626\" transform=\"translate(383.28375 483.696406) scale(0.11 -0.11)\">\n       <defs>\n        <path id=\"DejaVuSans-35\" d=\"M 691 4666 \nL 3169 4666 \nL 3169 4134 \nL 1269 4134 \nL 1269 2991 \nQ 1406 3038 1543 3061 \nQ 1681 3084 1819 3084 \nQ 2600 3084 3056 2656 \nQ 3513 2228 3513 1497 \nQ 3513 744 3044 326 \nQ 2575 -91 1722 -91 \nQ 1428 -91 1123 -41 \nQ 819 9 494 109 \nL 494 744 \nQ 775 591 1075 516 \nQ 1375 441 1709 441 \nQ 2250 441 2565 725 \nQ 2881 1009 2881 1497 \nQ 2881 1984 2565 2268 \nQ 2250 2553 1709 2553 \nQ 1456 2553 1204 2497 \nQ 953 2441 691 2322 \nL 691 4666 \nz\n\" transform=\"scale(0.015625)\"/>\n       </defs>\n       <use xlink:href=\"#DejaVuSans-31\" transform=\"translate(0 0.684375)\"/>\n       <use xlink:href=\"#DejaVuSans-30\" transform=\"translate(63.623047 0.684375)\"/>\n       <use xlink:href=\"#DejaVuSans-35\" transform=\"translate(128.203125 38.965625) scale(0.7)\"/>\n      </g>\n     </g>\n    </g>\n    <g id=\"xtick_4\">\n     <g id=\"line2d_4\">\n      <path d=\"M 545.145568 465.838125 \nL 545.145568 22.318125 \n\" clip-path=\"url(#pb78ab44a2a)\" style=\"fill: none; stroke: #cccccc; stroke-linecap: round\"/>\n     </g>\n     <g id=\"text_4\">\n      <!-- $\\mathdefault{10^{6}}$ -->\n      <g style=\"fill: #262626\" transform=\"translate(535.465568 483.696406) scale(0.11 -0.11)\">\n       <defs>\n        <path id=\"DejaVuSans-36\" d=\"M 2113 2584 \nQ 1688 2584 1439 2293 \nQ 1191 2003 1191 1497 \nQ 1191 994 1439 701 \nQ 1688 409 2113 409 \nQ 2538 409 2786 701 \nQ 3034 994 3034 1497 \nQ 3034 2003 2786 2293 \nQ 2538 2584 2113 2584 \nz\nM 3366 4563 \nL 3366 3988 \nQ 3128 4100 2886 4159 \nQ 2644 4219 2406 4219 \nQ 1781 4219 1451 3797 \nQ 1122 3375 1075 2522 \nQ 1259 2794 1537 2939 \nQ 1816 3084 2150 3084 \nQ 2853 3084 3261 2657 \nQ 3669 2231 3669 1497 \nQ 3669 778 3244 343 \nQ 2819 -91 2113 -91 \nQ 1303 -91 875 529 \nQ 447 1150 447 2328 \nQ 447 3434 972 4092 \nQ 1497 4750 2381 4750 \nQ 2619 4750 2861 4703 \nQ 3103 4656 3366 4563 \nz\n\" transform=\"scale(0.015625)\"/>\n       </defs>\n       <use xlink:href=\"#DejaVuSans-31\" transform=\"translate(0 0.765625)\"/>\n       <use xlink:href=\"#DejaVuSans-30\" transform=\"translate(63.623047 0.765625)\"/>\n       <use xlink:href=\"#DejaVuSans-36\" transform=\"translate(128.203125 39.046875) scale(0.7)\"/>\n      </g>\n     </g>\n    </g>\n    <g id=\"xtick_5\">\n     <g id=\"line2d_5\">\n      <path d=\"M 697.327386 465.838125 \nL 697.327386 22.318125 \n\" clip-path=\"url(#pb78ab44a2a)\" style=\"fill: none; stroke: #cccccc; stroke-linecap: round\"/>\n     </g>\n     <g id=\"text_5\">\n      <!-- $\\mathdefault{10^{7}}$ -->\n      <g style=\"fill: #262626\" transform=\"translate(687.647386 483.696406) scale(0.11 -0.11)\">\n       <defs>\n        <path id=\"DejaVuSans-37\" d=\"M 525 4666 \nL 3525 4666 \nL 3525 4397 \nL 1831 0 \nL 1172 0 \nL 2766 4134 \nL 525 4134 \nL 525 4666 \nz\n\" transform=\"scale(0.015625)\"/>\n       </defs>\n       <use xlink:href=\"#DejaVuSans-31\" transform=\"translate(0 0.684375)\"/>\n       <use xlink:href=\"#DejaVuSans-30\" transform=\"translate(63.623047 0.684375)\"/>\n       <use xlink:href=\"#DejaVuSans-37\" transform=\"translate(128.203125 38.965625) scale(0.7)\"/>\n      </g>\n     </g>\n    </g>\n    <g id=\"xtick_6\"/>\n    <g id=\"xtick_7\"/>\n    <g id=\"xtick_8\"/>\n    <g id=\"xtick_9\"/>\n    <g id=\"xtick_10\"/>\n    <g id=\"xtick_11\"/>\n    <g id=\"xtick_12\"/>\n    <g id=\"xtick_13\"/>\n    <g id=\"xtick_14\"/>\n    <g id=\"xtick_15\"/>\n    <g id=\"xtick_16\"/>\n    <g id=\"xtick_17\"/>\n    <g id=\"xtick_18\"/>\n    <g id=\"xtick_19\"/>\n    <g id=\"xtick_20\"/>\n    <g id=\"xtick_21\"/>\n    <g id=\"xtick_22\"/>\n    <g id=\"xtick_23\"/>\n    <g id=\"xtick_24\"/>\n    <g id=\"xtick_25\"/>\n    <g id=\"xtick_26\"/>\n    <g id=\"xtick_27\"/>\n    <g id=\"xtick_28\"/>\n    <g id=\"xtick_29\"/>\n    <g id=\"xtick_30\"/>\n    <g id=\"xtick_31\"/>\n    <g id=\"xtick_32\"/>\n    <g id=\"xtick_33\"/>\n    <g id=\"xtick_34\"/>\n    <g id=\"xtick_35\"/>\n    <g id=\"xtick_36\"/>\n    <g id=\"xtick_37\"/>\n    <g id=\"xtick_38\"/>\n    <g id=\"xtick_39\"/>\n    <g id=\"xtick_40\"/>\n    <g id=\"text_6\">\n     <!-- Vector Size -->\n     <g style=\"fill: #262626\" transform=\"translate(359.619687 499.102187) scale(0.12 -0.12)\">\n      <defs>\n       <path id=\"DejaVuSans-56\" d=\"M 1831 0 \nL 50 4666 \nL 709 4666 \nL 2188 738 \nL 3669 4666 \nL 4325 4666 \nL 2547 0 \nL 1831 0 \nz\n\" transform=\"scale(0.015625)\"/>\n       <path id=\"DejaVuSans-65\" d=\"M 3597 1894 \nL 3597 1613 \nL 953 1613 \nQ 991 1019 1311 708 \nQ 1631 397 2203 397 \nQ 2534 397 2845 478 \nQ 3156 559 3463 722 \nL 3463 178 \nQ 3153 47 2828 -22 \nQ 2503 -91 2169 -91 \nQ 1331 -91 842 396 \nQ 353 884 353 1716 \nQ 353 2575 817 3079 \nQ 1281 3584 2069 3584 \nQ 2775 3584 3186 3129 \nQ 3597 2675 3597 1894 \nz\nM 3022 2063 \nQ 3016 2534 2758 2815 \nQ 2500 3097 2075 3097 \nQ 1594 3097 1305 2825 \nQ 1016 2553 972 2059 \nL 3022 2063 \nz\n\" transform=\"scale(0.015625)\"/>\n       <path id=\"DejaVuSans-63\" d=\"M 3122 3366 \nL 3122 2828 \nQ 2878 2963 2633 3030 \nQ 2388 3097 2138 3097 \nQ 1578 3097 1268 2742 \nQ 959 2388 959 1747 \nQ 959 1106 1268 751 \nQ 1578 397 2138 397 \nQ 2388 397 2633 464 \nQ 2878 531 3122 666 \nL 3122 134 \nQ 2881 22 2623 -34 \nQ 2366 -91 2075 -91 \nQ 1284 -91 818 406 \nQ 353 903 353 1747 \nQ 353 2603 823 3093 \nQ 1294 3584 2113 3584 \nQ 2378 3584 2631 3529 \nQ 2884 3475 3122 3366 \nz\n\" transform=\"scale(0.015625)\"/>\n       <path id=\"DejaVuSans-74\" d=\"M 1172 4494 \nL 1172 3500 \nL 2356 3500 \nL 2356 3053 \nL 1172 3053 \nL 1172 1153 \nQ 1172 725 1289 603 \nQ 1406 481 1766 481 \nL 2356 481 \nL 2356 0 \nL 1766 0 \nQ 1100 0 847 248 \nQ 594 497 594 1153 \nL 594 3053 \nL 172 3053 \nL 172 3500 \nL 594 3500 \nL 594 4494 \nL 1172 4494 \nz\n\" transform=\"scale(0.015625)\"/>\n       <path id=\"DejaVuSans-6f\" d=\"M 1959 3097 \nQ 1497 3097 1228 2736 \nQ 959 2375 959 1747 \nQ 959 1119 1226 758 \nQ 1494 397 1959 397 \nQ 2419 397 2687 759 \nQ 2956 1122 2956 1747 \nQ 2956 2369 2687 2733 \nQ 2419 3097 1959 3097 \nz\nM 1959 3584 \nQ 2709 3584 3137 3096 \nQ 3566 2609 3566 1747 \nQ 3566 888 3137 398 \nQ 2709 -91 1959 -91 \nQ 1206 -91 779 398 \nQ 353 888 353 1747 \nQ 353 2609 779 3096 \nQ 1206 3584 1959 3584 \nz\n\" transform=\"scale(0.015625)\"/>\n       <path id=\"DejaVuSans-72\" d=\"M 2631 2963 \nQ 2534 3019 2420 3045 \nQ 2306 3072 2169 3072 \nQ 1681 3072 1420 2755 \nQ 1159 2438 1159 1844 \nL 1159 0 \nL 581 0 \nL 581 3500 \nL 1159 3500 \nL 1159 2956 \nQ 1341 3275 1631 3429 \nQ 1922 3584 2338 3584 \nQ 2397 3584 2469 3576 \nQ 2541 3569 2628 3553 \nL 2631 2963 \nz\n\" transform=\"scale(0.015625)\"/>\n       <path id=\"DejaVuSans-20\" transform=\"scale(0.015625)\"/>\n       <path id=\"DejaVuSans-53\" d=\"M 3425 4513 \nL 3425 3897 \nQ 3066 4069 2747 4153 \nQ 2428 4238 2131 4238 \nQ 1616 4238 1336 4038 \nQ 1056 3838 1056 3469 \nQ 1056 3159 1242 3001 \nQ 1428 2844 1947 2747 \nL 2328 2669 \nQ 3034 2534 3370 2195 \nQ 3706 1856 3706 1288 \nQ 3706 609 3251 259 \nQ 2797 -91 1919 -91 \nQ 1588 -91 1214 -16 \nQ 841 59 441 206 \nL 441 856 \nQ 825 641 1194 531 \nQ 1563 422 1919 422 \nQ 2459 422 2753 634 \nQ 3047 847 3047 1241 \nQ 3047 1584 2836 1778 \nQ 2625 1972 2144 2069 \nL 1759 2144 \nQ 1053 2284 737 2584 \nQ 422 2884 422 3419 \nQ 422 4038 858 4394 \nQ 1294 4750 2059 4750 \nQ 2388 4750 2728 4690 \nQ 3069 4631 3425 4513 \nz\n\" transform=\"scale(0.015625)\"/>\n       <path id=\"DejaVuSans-69\" d=\"M 603 3500 \nL 1178 3500 \nL 1178 0 \nL 603 0 \nL 603 3500 \nz\nM 603 4863 \nL 1178 4863 \nL 1178 4134 \nL 603 4134 \nL 603 4863 \nz\n\" transform=\"scale(0.015625)\"/>\n       <path id=\"DejaVuSans-7a\" d=\"M 353 3500 \nL 3084 3500 \nL 3084 2975 \nL 922 459 \nL 3084 459 \nL 3084 0 \nL 275 0 \nL 275 525 \nL 2438 3041 \nL 353 3041 \nL 353 3500 \nz\n\" transform=\"scale(0.015625)\"/>\n      </defs>\n      <use xlink:href=\"#DejaVuSans-56\"/>\n      <use xlink:href=\"#DejaVuSans-65\" transform=\"translate(60.658203 0)\"/>\n      <use xlink:href=\"#DejaVuSans-63\" transform=\"translate(122.181641 0)\"/>\n      <use xlink:href=\"#DejaVuSans-74\" transform=\"translate(177.162109 0)\"/>\n      <use xlink:href=\"#DejaVuSans-6f\" transform=\"translate(216.371094 0)\"/>\n      <use xlink:href=\"#DejaVuSans-72\" transform=\"translate(277.552734 0)\"/>\n      <use xlink:href=\"#DejaVuSans-20\" transform=\"translate(318.666016 0)\"/>\n      <use xlink:href=\"#DejaVuSans-53\" transform=\"translate(350.453125 0)\"/>\n      <use xlink:href=\"#DejaVuSans-69\" transform=\"translate(413.929688 0)\"/>\n      <use xlink:href=\"#DejaVuSans-7a\" transform=\"translate(441.712891 0)\"/>\n      <use xlink:href=\"#DejaVuSans-65\" transform=\"translate(494.203125 0)\"/>\n     </g>\n    </g>\n   </g>\n   <g id=\"matplotlib.axis_2\">\n    <g id=\"ytick_1\">\n     <g id=\"line2d_6\">\n      <path d=\"M 58.16375 392.961362 \nL 727.76375 392.961362 \n\" clip-path=\"url(#pb78ab44a2a)\" style=\"fill: none; stroke: #cccccc; stroke-linecap: round\"/>\n     </g>\n     <g id=\"text_7\">\n      <!-- $\\mathdefault{10^{-4}}$ -->\n      <g style=\"fill: #262626\" transform=\"translate(22.81375 397.140502) scale(0.11 -0.11)\">\n       <defs>\n        <path id=\"DejaVuSans-2212\" d=\"M 678 2272 \nL 4684 2272 \nL 4684 1741 \nL 678 1741 \nL 678 2272 \nz\n\" transform=\"scale(0.015625)\"/>\n       </defs>\n       <use xlink:href=\"#DejaVuSans-31\" transform=\"translate(0 0.684375)\"/>\n       <use xlink:href=\"#DejaVuSans-30\" transform=\"translate(63.623047 0.684375)\"/>\n       <use xlink:href=\"#DejaVuSans-2212\" transform=\"translate(128.203125 38.965625) scale(0.7)\"/>\n       <use xlink:href=\"#DejaVuSans-34\" transform=\"translate(186.855469 38.965625) scale(0.7)\"/>\n      </g>\n     </g>\n    </g>\n    <g id=\"ytick_2\">\n     <g id=\"line2d_7\">\n      <path d=\"M 58.16375 315.339429 \nL 727.76375 315.339429 \n\" clip-path=\"url(#pb78ab44a2a)\" style=\"fill: none; stroke: #cccccc; stroke-linecap: round\"/>\n     </g>\n     <g id=\"text_8\">\n      <!-- $\\mathdefault{10^{-3}}$ -->\n      <g style=\"fill: #262626\" transform=\"translate(22.81375 319.518569) scale(0.11 -0.11)\">\n       <use xlink:href=\"#DejaVuSans-31\" transform=\"translate(0 0.765625)\"/>\n       <use xlink:href=\"#DejaVuSans-30\" transform=\"translate(63.623047 0.765625)\"/>\n       <use xlink:href=\"#DejaVuSans-2212\" transform=\"translate(128.203125 39.046875) scale(0.7)\"/>\n       <use xlink:href=\"#DejaVuSans-33\" transform=\"translate(186.855469 39.046875) scale(0.7)\"/>\n      </g>\n     </g>\n    </g>\n    <g id=\"ytick_3\">\n     <g id=\"line2d_8\">\n      <path d=\"M 58.16375 237.717496 \nL 727.76375 237.717496 \n\" clip-path=\"url(#pb78ab44a2a)\" style=\"fill: none; stroke: #cccccc; stroke-linecap: round\"/>\n     </g>\n     <g id=\"text_9\">\n      <!-- $\\mathdefault{10^{-2}}$ -->\n      <g style=\"fill: #262626\" transform=\"translate(22.81375 241.896636) scale(0.11 -0.11)\">\n       <defs>\n        <path id=\"DejaVuSans-32\" d=\"M 1228 531 \nL 3431 531 \nL 3431 0 \nL 469 0 \nL 469 531 \nQ 828 903 1448 1529 \nQ 2069 2156 2228 2338 \nQ 2531 2678 2651 2914 \nQ 2772 3150 2772 3378 \nQ 2772 3750 2511 3984 \nQ 2250 4219 1831 4219 \nQ 1534 4219 1204 4116 \nQ 875 4013 500 3803 \nL 500 4441 \nQ 881 4594 1212 4672 \nQ 1544 4750 1819 4750 \nQ 2544 4750 2975 4387 \nQ 3406 4025 3406 3419 \nQ 3406 3131 3298 2873 \nQ 3191 2616 2906 2266 \nQ 2828 2175 2409 1742 \nQ 1991 1309 1228 531 \nz\n\" transform=\"scale(0.015625)\"/>\n       </defs>\n       <use xlink:href=\"#DejaVuSans-31\" transform=\"translate(0 0.765625)\"/>\n       <use xlink:href=\"#DejaVuSans-30\" transform=\"translate(63.623047 0.765625)\"/>\n       <use xlink:href=\"#DejaVuSans-2212\" transform=\"translate(128.203125 39.046875) scale(0.7)\"/>\n       <use xlink:href=\"#DejaVuSans-32\" transform=\"translate(186.855469 39.046875) scale(0.7)\"/>\n      </g>\n     </g>\n    </g>\n    <g id=\"ytick_4\">\n     <g id=\"line2d_9\">\n      <path d=\"M 58.16375 160.095563 \nL 727.76375 160.095563 \n\" clip-path=\"url(#pb78ab44a2a)\" style=\"fill: none; stroke: #cccccc; stroke-linecap: round\"/>\n     </g>\n     <g id=\"text_10\">\n      <!-- $\\mathdefault{10^{-1}}$ -->\n      <g style=\"fill: #262626\" transform=\"translate(22.81375 164.274703) scale(0.11 -0.11)\">\n       <use xlink:href=\"#DejaVuSans-31\" transform=\"translate(0 0.684375)\"/>\n       <use xlink:href=\"#DejaVuSans-30\" transform=\"translate(63.623047 0.684375)\"/>\n       <use xlink:href=\"#DejaVuSans-2212\" transform=\"translate(128.203125 38.965625) scale(0.7)\"/>\n       <use xlink:href=\"#DejaVuSans-31\" transform=\"translate(186.855469 38.965625) scale(0.7)\"/>\n      </g>\n     </g>\n    </g>\n    <g id=\"ytick_5\">\n     <g id=\"line2d_10\">\n      <path d=\"M 58.16375 82.47363 \nL 727.76375 82.47363 \n\" clip-path=\"url(#pb78ab44a2a)\" style=\"fill: none; stroke: #cccccc; stroke-linecap: round\"/>\n     </g>\n     <g id=\"text_11\">\n      <!-- $\\mathdefault{10^{0}}$ -->\n      <g style=\"fill: #262626\" transform=\"translate(29.30375 86.65277) scale(0.11 -0.11)\">\n       <use xlink:href=\"#DejaVuSans-31\" transform=\"translate(0 0.765625)\"/>\n       <use xlink:href=\"#DejaVuSans-30\" transform=\"translate(63.623047 0.765625)\"/>\n       <use xlink:href=\"#DejaVuSans-30\" transform=\"translate(128.203125 39.046875) scale(0.7)\"/>\n      </g>\n     </g>\n    </g>\n    <g id=\"ytick_6\"/>\n    <g id=\"ytick_7\"/>\n    <g id=\"ytick_8\"/>\n    <g id=\"ytick_9\"/>\n    <g id=\"ytick_10\"/>\n    <g id=\"ytick_11\"/>\n    <g id=\"ytick_12\"/>\n    <g id=\"ytick_13\"/>\n    <g id=\"ytick_14\"/>\n    <g id=\"ytick_15\"/>\n    <g id=\"ytick_16\"/>\n    <g id=\"ytick_17\"/>\n    <g id=\"ytick_18\"/>\n    <g id=\"ytick_19\"/>\n    <g id=\"ytick_20\"/>\n    <g id=\"ytick_21\"/>\n    <g id=\"ytick_22\"/>\n    <g id=\"ytick_23\"/>\n    <g id=\"ytick_24\"/>\n    <g id=\"ytick_25\"/>\n    <g id=\"ytick_26\"/>\n    <g id=\"ytick_27\"/>\n    <g id=\"ytick_28\"/>\n    <g id=\"ytick_29\"/>\n    <g id=\"ytick_30\"/>\n    <g id=\"ytick_31\"/>\n    <g id=\"ytick_32\"/>\n    <g id=\"ytick_33\"/>\n    <g id=\"ytick_34\"/>\n    <g id=\"ytick_35\"/>\n    <g id=\"ytick_36\"/>\n    <g id=\"ytick_37\"/>\n    <g id=\"ytick_38\"/>\n    <g id=\"ytick_39\"/>\n    <g id=\"ytick_40\"/>\n    <g id=\"ytick_41\"/>\n    <g id=\"ytick_42\"/>\n    <g id=\"ytick_43\"/>\n    <g id=\"ytick_44\"/>\n    <g id=\"ytick_45\"/>\n    <g id=\"ytick_46\"/>\n    <g id=\"ytick_47\"/>\n    <g id=\"ytick_48\"/>\n    <g id=\"ytick_49\"/>\n    <g id=\"text_12\">\n     <!-- Time (seconds) -->\n     <g style=\"fill: #262626\" transform=\"translate(16.318125 289.872187) rotate(-90) scale(0.12 -0.12)\">\n      <defs>\n       <path id=\"DejaVuSans-54\" d=\"M -19 4666 \nL 3928 4666 \nL 3928 4134 \nL 2272 4134 \nL 2272 0 \nL 1638 0 \nL 1638 4134 \nL -19 4134 \nL -19 4666 \nz\n\" transform=\"scale(0.015625)\"/>\n       <path id=\"DejaVuSans-6d\" d=\"M 3328 2828 \nQ 3544 3216 3844 3400 \nQ 4144 3584 4550 3584 \nQ 5097 3584 5394 3201 \nQ 5691 2819 5691 2113 \nL 5691 0 \nL 5113 0 \nL 5113 2094 \nQ 5113 2597 4934 2840 \nQ 4756 3084 4391 3084 \nQ 3944 3084 3684 2787 \nQ 3425 2491 3425 1978 \nL 3425 0 \nL 2847 0 \nL 2847 2094 \nQ 2847 2600 2669 2842 \nQ 2491 3084 2119 3084 \nQ 1678 3084 1418 2786 \nQ 1159 2488 1159 1978 \nL 1159 0 \nL 581 0 \nL 581 3500 \nL 1159 3500 \nL 1159 2956 \nQ 1356 3278 1631 3431 \nQ 1906 3584 2284 3584 \nQ 2666 3584 2933 3390 \nQ 3200 3197 3328 2828 \nz\n\" transform=\"scale(0.015625)\"/>\n       <path id=\"DejaVuSans-28\" d=\"M 1984 4856 \nQ 1566 4138 1362 3434 \nQ 1159 2731 1159 2009 \nQ 1159 1288 1364 580 \nQ 1569 -128 1984 -844 \nL 1484 -844 \nQ 1016 -109 783 600 \nQ 550 1309 550 2009 \nQ 550 2706 781 3412 \nQ 1013 4119 1484 4856 \nL 1984 4856 \nz\n\" transform=\"scale(0.015625)\"/>\n       <path id=\"DejaVuSans-73\" d=\"M 2834 3397 \nL 2834 2853 \nQ 2591 2978 2328 3040 \nQ 2066 3103 1784 3103 \nQ 1356 3103 1142 2972 \nQ 928 2841 928 2578 \nQ 928 2378 1081 2264 \nQ 1234 2150 1697 2047 \nL 1894 2003 \nQ 2506 1872 2764 1633 \nQ 3022 1394 3022 966 \nQ 3022 478 2636 193 \nQ 2250 -91 1575 -91 \nQ 1294 -91 989 -36 \nQ 684 19 347 128 \nL 347 722 \nQ 666 556 975 473 \nQ 1284 391 1588 391 \nQ 1994 391 2212 530 \nQ 2431 669 2431 922 \nQ 2431 1156 2273 1281 \nQ 2116 1406 1581 1522 \nL 1381 1569 \nQ 847 1681 609 1914 \nQ 372 2147 372 2553 \nQ 372 3047 722 3315 \nQ 1072 3584 1716 3584 \nQ 2034 3584 2315 3537 \nQ 2597 3491 2834 3397 \nz\n\" transform=\"scale(0.015625)\"/>\n       <path id=\"DejaVuSans-6e\" d=\"M 3513 2113 \nL 3513 0 \nL 2938 0 \nL 2938 2094 \nQ 2938 2591 2744 2837 \nQ 2550 3084 2163 3084 \nQ 1697 3084 1428 2787 \nQ 1159 2491 1159 1978 \nL 1159 0 \nL 581 0 \nL 581 3500 \nL 1159 3500 \nL 1159 2956 \nQ 1366 3272 1645 3428 \nQ 1925 3584 2291 3584 \nQ 2894 3584 3203 3211 \nQ 3513 2838 3513 2113 \nz\n\" transform=\"scale(0.015625)\"/>\n       <path id=\"DejaVuSans-64\" d=\"M 2906 2969 \nL 2906 4863 \nL 3481 4863 \nL 3481 0 \nL 2906 0 \nL 2906 525 \nQ 2725 213 2448 61 \nQ 2172 -91 1784 -91 \nQ 1150 -91 751 415 \nQ 353 922 353 1747 \nQ 353 2572 751 3078 \nQ 1150 3584 1784 3584 \nQ 2172 3584 2448 3432 \nQ 2725 3281 2906 2969 \nz\nM 947 1747 \nQ 947 1113 1208 752 \nQ 1469 391 1925 391 \nQ 2381 391 2643 752 \nQ 2906 1113 2906 1747 \nQ 2906 2381 2643 2742 \nQ 2381 3103 1925 3103 \nQ 1469 3103 1208 2742 \nQ 947 2381 947 1747 \nz\n\" transform=\"scale(0.015625)\"/>\n       <path id=\"DejaVuSans-29\" d=\"M 513 4856 \nL 1013 4856 \nQ 1481 4119 1714 3412 \nQ 1947 2706 1947 2009 \nQ 1947 1309 1714 600 \nQ 1481 -109 1013 -844 \nL 513 -844 \nQ 928 -128 1133 580 \nQ 1338 1288 1338 2009 \nQ 1338 2731 1133 3434 \nQ 928 4138 513 4856 \nz\n\" transform=\"scale(0.015625)\"/>\n      </defs>\n      <use xlink:href=\"#DejaVuSans-54\"/>\n      <use xlink:href=\"#DejaVuSans-69\" transform=\"translate(57.958984 0)\"/>\n      <use xlink:href=\"#DejaVuSans-6d\" transform=\"translate(85.742188 0)\"/>\n      <use xlink:href=\"#DejaVuSans-65\" transform=\"translate(183.154297 0)\"/>\n      <use xlink:href=\"#DejaVuSans-20\" transform=\"translate(244.677734 0)\"/>\n      <use xlink:href=\"#DejaVuSans-28\" transform=\"translate(276.464844 0)\"/>\n      <use xlink:href=\"#DejaVuSans-73\" transform=\"translate(315.478516 0)\"/>\n      <use xlink:href=\"#DejaVuSans-65\" transform=\"translate(367.578125 0)\"/>\n      <use xlink:href=\"#DejaVuSans-63\" transform=\"translate(429.101562 0)\"/>\n      <use xlink:href=\"#DejaVuSans-6f\" transform=\"translate(484.082031 0)\"/>\n      <use xlink:href=\"#DejaVuSans-6e\" transform=\"translate(545.263672 0)\"/>\n      <use xlink:href=\"#DejaVuSans-64\" transform=\"translate(608.642578 0)\"/>\n      <use xlink:href=\"#DejaVuSans-73\" transform=\"translate(672.119141 0)\"/>\n      <use xlink:href=\"#DejaVuSans-29\" transform=\"translate(724.21875 0)\"/>\n     </g>\n    </g>\n   </g>\n   <g id=\"FillBetweenPolyCollection_1\"/>\n   <g id=\"FillBetweenPolyCollection_2\"/>\n   <g id=\"FillBetweenPolyCollection_3\"/>\n   <g id=\"FillBetweenPolyCollection_4\"/>\n   <g id=\"FillBetweenPolyCollection_5\"/>\n   <g id=\"FillBetweenPolyCollection_6\"/>\n   <g id=\"line2d_11\">\n    <path d=\"M 88.600114 278.067286 \nL 240.781932 200.291102 \nL 392.96375 123.379471 \nL 545.145568 42.478125 \n\" clip-path=\"url(#pb78ab44a2a)\" style=\"fill: none; stroke: #4c72b0; stroke-width: 1.5; stroke-linecap: round\"/>\n    <defs>\n     <path id=\"m573d1c5075\" d=\"M 0 3 \nC 0.795609 3 1.55874 2.683901 2.12132 2.12132 \nC 2.683901 1.55874 3 0.795609 3 0 \nC 3 -0.795609 2.683901 -1.55874 2.12132 -2.12132 \nC 1.55874 -2.683901 0.795609 -3 0 -3 \nC -0.795609 -3 -1.55874 -2.683901 -2.12132 -2.12132 \nC -2.683901 -1.55874 -3 -0.795609 -3 0 \nC -3 0.795609 -2.683901 1.55874 -2.12132 2.12132 \nC -1.55874 2.683901 -0.795609 3 0 3 \nz\n\" style=\"stroke: #ffffff; stroke-width: 0.75\"/>\n    </defs>\n    <g clip-path=\"url(#pb78ab44a2a)\">\n     <use xlink:href=\"#m573d1c5075\" x=\"88.600114\" y=\"278.067286\" style=\"fill: #4c72b0; stroke: #ffffff; stroke-width: 0.75\"/>\n     <use xlink:href=\"#m573d1c5075\" x=\"240.781932\" y=\"200.291102\" style=\"fill: #4c72b0; stroke: #ffffff; stroke-width: 0.75\"/>\n     <use xlink:href=\"#m573d1c5075\" x=\"392.96375\" y=\"123.379471\" style=\"fill: #4c72b0; stroke: #ffffff; stroke-width: 0.75\"/>\n     <use xlink:href=\"#m573d1c5075\" x=\"545.145568\" y=\"42.478125\" style=\"fill: #4c72b0; stroke: #ffffff; stroke-width: 0.75\"/>\n    </g>\n   </g>\n   <g id=\"line2d_12\">\n    <path d=\"M 88.600114 445.678125 \nL 240.781932 439.462839 \nL 392.96375 378.291422 \nL 545.145568 274.729358 \nL 697.327386 183.297599 \n\" clip-path=\"url(#pb78ab44a2a)\" style=\"fill: none; stroke: #dd8452; stroke-width: 1.5; stroke-linecap: round\"/>\n    <defs>\n     <path id=\"mef128c7f12\" d=\"M 0 3 \nC 0.795609 3 1.55874 2.683901 2.12132 2.12132 \nC 2.683901 1.55874 3 0.795609 3 0 \nC 3 -0.795609 2.683901 -1.55874 2.12132 -2.12132 \nC 1.55874 -2.683901 0.795609 -3 0 -3 \nC -0.795609 -3 -1.55874 -2.683901 -2.12132 -2.12132 \nC -2.683901 -1.55874 -3 -0.795609 -3 0 \nC -3 0.795609 -2.683901 1.55874 -2.12132 2.12132 \nC -1.55874 2.683901 -0.795609 3 0 3 \nz\n\" style=\"stroke: #ffffff; stroke-width: 0.75\"/>\n    </defs>\n    <g clip-path=\"url(#pb78ab44a2a)\">\n     <use xlink:href=\"#mef128c7f12\" x=\"88.600114\" y=\"445.678125\" style=\"fill: #dd8452; stroke: #ffffff; stroke-width: 0.75\"/>\n     <use xlink:href=\"#mef128c7f12\" x=\"240.781932\" y=\"439.462839\" style=\"fill: #dd8452; stroke: #ffffff; stroke-width: 0.75\"/>\n     <use xlink:href=\"#mef128c7f12\" x=\"392.96375\" y=\"378.291422\" style=\"fill: #dd8452; stroke: #ffffff; stroke-width: 0.75\"/>\n     <use xlink:href=\"#mef128c7f12\" x=\"545.145568\" y=\"274.729358\" style=\"fill: #dd8452; stroke: #ffffff; stroke-width: 0.75\"/>\n     <use xlink:href=\"#mef128c7f12\" x=\"697.327386\" y=\"183.297599\" style=\"fill: #dd8452; stroke: #ffffff; stroke-width: 0.75\"/>\n    </g>\n   </g>\n   <g id=\"line2d_13\">\n    <path d=\"M 88.600114 324.52348 \nL 240.781932 313.032674 \nL 392.96375 276.736252 \nL 545.145568 215.938417 \nL 697.327386 141.876311 \n\" clip-path=\"url(#pb78ab44a2a)\" style=\"fill: none; stroke: #55a868; stroke-width: 1.5; stroke-linecap: round\"/>\n    <defs>\n     <path id=\"m6cc7bff72d\" d=\"M 0 3 \nC 0.795609 3 1.55874 2.683901 2.12132 2.12132 \nC 2.683901 1.55874 3 0.795609 3 0 \nC 3 -0.795609 2.683901 -1.55874 2.12132 -2.12132 \nC 1.55874 -2.683901 0.795609 -3 0 -3 \nC -0.795609 -3 -1.55874 -2.683901 -2.12132 -2.12132 \nC -2.683901 -1.55874 -3 -0.795609 -3 0 \nC -3 0.795609 -2.683901 1.55874 -2.12132 2.12132 \nC -1.55874 2.683901 -0.795609 3 0 3 \nz\n\" style=\"stroke: #ffffff; stroke-width: 0.75\"/>\n    </defs>\n    <g clip-path=\"url(#pb78ab44a2a)\">\n     <use xlink:href=\"#m6cc7bff72d\" x=\"88.600114\" y=\"324.52348\" style=\"fill: #55a868; stroke: #ffffff; stroke-width: 0.75\"/>\n     <use xlink:href=\"#m6cc7bff72d\" x=\"240.781932\" y=\"313.032674\" style=\"fill: #55a868; stroke: #ffffff; stroke-width: 0.75\"/>\n     <use xlink:href=\"#m6cc7bff72d\" x=\"392.96375\" y=\"276.736252\" style=\"fill: #55a868; stroke: #ffffff; stroke-width: 0.75\"/>\n     <use xlink:href=\"#m6cc7bff72d\" x=\"545.145568\" y=\"215.938417\" style=\"fill: #55a868; stroke: #ffffff; stroke-width: 0.75\"/>\n     <use xlink:href=\"#m6cc7bff72d\" x=\"697.327386\" y=\"141.876311\" style=\"fill: #55a868; stroke: #ffffff; stroke-width: 0.75\"/>\n    </g>\n   </g>\n   <g id=\"line2d_14\">\n    <path d=\"M 88.600114 250.401127 \nL 240.781932 245.286335 \nL 392.96375 226.965396 \nL 545.145568 173.661078 \nL 697.327386 112.683775 \n\" clip-path=\"url(#pb78ab44a2a)\" style=\"fill: none; stroke: #c44e52; stroke-width: 1.5; stroke-linecap: round\"/>\n    <defs>\n     <path id=\"mfd590d8cf6\" d=\"M 0 3 \nC 0.795609 3 1.55874 2.683901 2.12132 2.12132 \nC 2.683901 1.55874 3 0.795609 3 0 \nC 3 -0.795609 2.683901 -1.55874 2.12132 -2.12132 \nC 1.55874 -2.683901 0.795609 -3 0 -3 \nC -0.795609 -3 -1.55874 -2.683901 -2.12132 -2.12132 \nC -2.683901 -1.55874 -3 -0.795609 -3 0 \nC -3 0.795609 -2.683901 1.55874 -2.12132 2.12132 \nC -1.55874 2.683901 -0.795609 3 0 3 \nz\n\" style=\"stroke: #ffffff; stroke-width: 0.75\"/>\n    </defs>\n    <g clip-path=\"url(#pb78ab44a2a)\">\n     <use xlink:href=\"#mfd590d8cf6\" x=\"88.600114\" y=\"250.401127\" style=\"fill: #c44e52; stroke: #ffffff; stroke-width: 0.75\"/>\n     <use xlink:href=\"#mfd590d8cf6\" x=\"240.781932\" y=\"245.286335\" style=\"fill: #c44e52; stroke: #ffffff; stroke-width: 0.75\"/>\n     <use xlink:href=\"#mfd590d8cf6\" x=\"392.96375\" y=\"226.965396\" style=\"fill: #c44e52; stroke: #ffffff; stroke-width: 0.75\"/>\n     <use xlink:href=\"#mfd590d8cf6\" x=\"545.145568\" y=\"173.661078\" style=\"fill: #c44e52; stroke: #ffffff; stroke-width: 0.75\"/>\n     <use xlink:href=\"#mfd590d8cf6\" x=\"697.327386\" y=\"112.683775\" style=\"fill: #c44e52; stroke: #ffffff; stroke-width: 0.75\"/>\n    </g>\n   </g>\n   <g id=\"line2d_15\">\n    <path d=\"M 88.600114 220.401975 \nL 240.781932 224.379102 \nL 392.96375 217.261441 \nL 545.145568 173.536697 \nL 697.327386 104.137549 \n\" clip-path=\"url(#pb78ab44a2a)\" style=\"fill: none; stroke: #8172b3; stroke-width: 1.5; stroke-linecap: round\"/>\n    <defs>\n     <path id=\"m2685735462\" d=\"M 0 3 \nC 0.795609 3 1.55874 2.683901 2.12132 2.12132 \nC 2.683901 1.55874 3 0.795609 3 0 \nC 3 -0.795609 2.683901 -1.55874 2.12132 -2.12132 \nC 1.55874 -2.683901 0.795609 -3 0 -3 \nC -0.795609 -3 -1.55874 -2.683901 -2.12132 -2.12132 \nC -2.683901 -1.55874 -3 -0.795609 -3 0 \nC -3 0.795609 -2.683901 1.55874 -2.12132 2.12132 \nC -1.55874 2.683901 -0.795609 3 0 3 \nz\n\" style=\"stroke: #ffffff; stroke-width: 0.75\"/>\n    </defs>\n    <g clip-path=\"url(#pb78ab44a2a)\">\n     <use xlink:href=\"#m2685735462\" x=\"88.600114\" y=\"220.401975\" style=\"fill: #8172b3; stroke: #ffffff; stroke-width: 0.75\"/>\n     <use xlink:href=\"#m2685735462\" x=\"240.781932\" y=\"224.379102\" style=\"fill: #8172b3; stroke: #ffffff; stroke-width: 0.75\"/>\n     <use xlink:href=\"#m2685735462\" x=\"392.96375\" y=\"217.261441\" style=\"fill: #8172b3; stroke: #ffffff; stroke-width: 0.75\"/>\n     <use xlink:href=\"#m2685735462\" x=\"545.145568\" y=\"173.536697\" style=\"fill: #8172b3; stroke: #ffffff; stroke-width: 0.75\"/>\n     <use xlink:href=\"#m2685735462\" x=\"697.327386\" y=\"104.137549\" style=\"fill: #8172b3; stroke: #ffffff; stroke-width: 0.75\"/>\n    </g>\n   </g>\n   <g id=\"line2d_16\">\n    <path d=\"M 88.600114 246.773834 \nL 240.781932 249.394145 \nL 392.96375 239.938626 \nL 545.145568 193.268021 \nL 697.327386 133.855746 \n\" clip-path=\"url(#pb78ab44a2a)\" style=\"fill: none; stroke: #937860; stroke-width: 1.5; stroke-linecap: round\"/>\n    <defs>\n     <path id=\"mfff79cc935\" d=\"M 0 3 \nC 0.795609 3 1.55874 2.683901 2.12132 2.12132 \nC 2.683901 1.55874 3 0.795609 3 0 \nC 3 -0.795609 2.683901 -1.55874 2.12132 -2.12132 \nC 1.55874 -2.683901 0.795609 -3 0 -3 \nC -0.795609 -3 -1.55874 -2.683901 -2.12132 -2.12132 \nC -2.683901 -1.55874 -3 -0.795609 -3 0 \nC -3 0.795609 -2.683901 1.55874 -2.12132 2.12132 \nC -1.55874 2.683901 -0.795609 3 0 3 \nz\n\" style=\"stroke: #ffffff; stroke-width: 0.75\"/>\n    </defs>\n    <g clip-path=\"url(#pb78ab44a2a)\">\n     <use xlink:href=\"#mfff79cc935\" x=\"88.600114\" y=\"246.773834\" style=\"fill: #937860; stroke: #ffffff; stroke-width: 0.75\"/>\n     <use xlink:href=\"#mfff79cc935\" x=\"240.781932\" y=\"249.394145\" style=\"fill: #937860; stroke: #ffffff; stroke-width: 0.75\"/>\n     <use xlink:href=\"#mfff79cc935\" x=\"392.96375\" y=\"239.938626\" style=\"fill: #937860; stroke: #ffffff; stroke-width: 0.75\"/>\n     <use xlink:href=\"#mfff79cc935\" x=\"545.145568\" y=\"193.268021\" style=\"fill: #937860; stroke: #ffffff; stroke-width: 0.75\"/>\n     <use xlink:href=\"#mfff79cc935\" x=\"697.327386\" y=\"133.855746\" style=\"fill: #937860; stroke: #ffffff; stroke-width: 0.75\"/>\n    </g>\n   </g>\n   <g id=\"line2d_17\"/>\n   <g id=\"line2d_18\"/>\n   <g id=\"line2d_19\"/>\n   <g id=\"line2d_20\"/>\n   <g id=\"line2d_21\"/>\n   <g id=\"line2d_22\"/>\n   <g id=\"patch_3\">\n    <path d=\"M 58.16375 465.838125 \nL 58.16375 22.318125 \n\" style=\"fill: none; stroke: #cccccc; stroke-width: 1.25; stroke-linejoin: miter; stroke-linecap: square\"/>\n   </g>\n   <g id=\"patch_4\">\n    <path d=\"M 727.76375 465.838125 \nL 727.76375 22.318125 \n\" style=\"fill: none; stroke: #cccccc; stroke-width: 1.25; stroke-linejoin: miter; stroke-linecap: square\"/>\n   </g>\n   <g id=\"patch_5\">\n    <path d=\"M 58.16375 465.838125 \nL 727.76375 465.838125 \n\" style=\"fill: none; stroke: #cccccc; stroke-width: 1.25; stroke-linejoin: miter; stroke-linecap: square\"/>\n   </g>\n   <g id=\"patch_6\">\n    <path d=\"M 58.16375 22.318125 \nL 727.76375 22.318125 \n\" style=\"fill: none; stroke: #cccccc; stroke-width: 1.25; stroke-linejoin: miter; stroke-linecap: square\"/>\n   </g>\n   <g id=\"text_13\">\n    <!-- Dot Product Performance Comparison -->\n    <g style=\"fill: #262626\" transform=\"translate(279.87875 16.318125) scale(0.12 -0.12)\">\n     <defs>\n      <path id=\"DejaVuSans-44\" d=\"M 1259 4147 \nL 1259 519 \nL 2022 519 \nQ 2988 519 3436 956 \nQ 3884 1394 3884 2338 \nQ 3884 3275 3436 3711 \nQ 2988 4147 2022 4147 \nL 1259 4147 \nz\nM 628 4666 \nL 1925 4666 \nQ 3281 4666 3915 4102 \nQ 4550 3538 4550 2338 \nQ 4550 1131 3912 565 \nQ 3275 0 1925 0 \nL 628 0 \nL 628 4666 \nz\n\" transform=\"scale(0.015625)\"/>\n      <path id=\"DejaVuSans-50\" d=\"M 1259 4147 \nL 1259 2394 \nL 2053 2394 \nQ 2494 2394 2734 2622 \nQ 2975 2850 2975 3272 \nQ 2975 3691 2734 3919 \nQ 2494 4147 2053 4147 \nL 1259 4147 \nz\nM 628 4666 \nL 2053 4666 \nQ 2838 4666 3239 4311 \nQ 3641 3956 3641 3272 \nQ 3641 2581 3239 2228 \nQ 2838 1875 2053 1875 \nL 1259 1875 \nL 1259 0 \nL 628 0 \nL 628 4666 \nz\n\" transform=\"scale(0.015625)\"/>\n      <path id=\"DejaVuSans-75\" d=\"M 544 1381 \nL 544 3500 \nL 1119 3500 \nL 1119 1403 \nQ 1119 906 1312 657 \nQ 1506 409 1894 409 \nQ 2359 409 2629 706 \nQ 2900 1003 2900 1516 \nL 2900 3500 \nL 3475 3500 \nL 3475 0 \nL 2900 0 \nL 2900 538 \nQ 2691 219 2414 64 \nQ 2138 -91 1772 -91 \nQ 1169 -91 856 284 \nQ 544 659 544 1381 \nz\nM 1991 3584 \nL 1991 3584 \nz\n\" transform=\"scale(0.015625)\"/>\n      <path id=\"DejaVuSans-66\" d=\"M 2375 4863 \nL 2375 4384 \nL 1825 4384 \nQ 1516 4384 1395 4259 \nQ 1275 4134 1275 3809 \nL 1275 3500 \nL 2222 3500 \nL 2222 3053 \nL 1275 3053 \nL 1275 0 \nL 697 0 \nL 697 3053 \nL 147 3053 \nL 147 3500 \nL 697 3500 \nL 697 3744 \nQ 697 4328 969 4595 \nQ 1241 4863 1831 4863 \nL 2375 4863 \nz\n\" transform=\"scale(0.015625)\"/>\n      <path id=\"DejaVuSans-61\" d=\"M 2194 1759 \nQ 1497 1759 1228 1600 \nQ 959 1441 959 1056 \nQ 959 750 1161 570 \nQ 1363 391 1709 391 \nQ 2188 391 2477 730 \nQ 2766 1069 2766 1631 \nL 2766 1759 \nL 2194 1759 \nz\nM 3341 1997 \nL 3341 0 \nL 2766 0 \nL 2766 531 \nQ 2569 213 2275 61 \nQ 1981 -91 1556 -91 \nQ 1019 -91 701 211 \nQ 384 513 384 1019 \nQ 384 1609 779 1909 \nQ 1175 2209 1959 2209 \nL 2766 2209 \nL 2766 2266 \nQ 2766 2663 2505 2880 \nQ 2244 3097 1772 3097 \nQ 1472 3097 1187 3025 \nQ 903 2953 641 2809 \nL 641 3341 \nQ 956 3463 1253 3523 \nQ 1550 3584 1831 3584 \nQ 2591 3584 2966 3190 \nQ 3341 2797 3341 1997 \nz\n\" transform=\"scale(0.015625)\"/>\n      <path id=\"DejaVuSans-43\" d=\"M 4122 4306 \nL 4122 3641 \nQ 3803 3938 3442 4084 \nQ 3081 4231 2675 4231 \nQ 1875 4231 1450 3742 \nQ 1025 3253 1025 2328 \nQ 1025 1406 1450 917 \nQ 1875 428 2675 428 \nQ 3081 428 3442 575 \nQ 3803 722 4122 1019 \nL 4122 359 \nQ 3791 134 3420 21 \nQ 3050 -91 2638 -91 \nQ 1578 -91 968 557 \nQ 359 1206 359 2328 \nQ 359 3453 968 4101 \nQ 1578 4750 2638 4750 \nQ 3056 4750 3426 4639 \nQ 3797 4528 4122 4306 \nz\n\" transform=\"scale(0.015625)\"/>\n      <path id=\"DejaVuSans-70\" d=\"M 1159 525 \nL 1159 -1331 \nL 581 -1331 \nL 581 3500 \nL 1159 3500 \nL 1159 2969 \nQ 1341 3281 1617 3432 \nQ 1894 3584 2278 3584 \nQ 2916 3584 3314 3078 \nQ 3713 2572 3713 1747 \nQ 3713 922 3314 415 \nQ 2916 -91 2278 -91 \nQ 1894 -91 1617 61 \nQ 1341 213 1159 525 \nz\nM 3116 1747 \nQ 3116 2381 2855 2742 \nQ 2594 3103 2138 3103 \nQ 1681 3103 1420 2742 \nQ 1159 2381 1159 1747 \nQ 1159 1113 1420 752 \nQ 1681 391 2138 391 \nQ 2594 391 2855 752 \nQ 3116 1113 3116 1747 \nz\n\" transform=\"scale(0.015625)\"/>\n     </defs>\n     <use xlink:href=\"#DejaVuSans-44\"/>\n     <use xlink:href=\"#DejaVuSans-6f\" transform=\"translate(77.001953 0)\"/>\n     <use xlink:href=\"#DejaVuSans-74\" transform=\"translate(138.183594 0)\"/>\n     <use xlink:href=\"#DejaVuSans-20\" transform=\"translate(177.392578 0)\"/>\n     <use xlink:href=\"#DejaVuSans-50\" transform=\"translate(209.179688 0)\"/>\n     <use xlink:href=\"#DejaVuSans-72\" transform=\"translate(267.732422 0)\"/>\n     <use xlink:href=\"#DejaVuSans-6f\" transform=\"translate(306.595703 0)\"/>\n     <use xlink:href=\"#DejaVuSans-64\" transform=\"translate(367.777344 0)\"/>\n     <use xlink:href=\"#DejaVuSans-75\" transform=\"translate(431.253906 0)\"/>\n     <use xlink:href=\"#DejaVuSans-63\" transform=\"translate(494.632812 0)\"/>\n     <use xlink:href=\"#DejaVuSans-74\" transform=\"translate(549.613281 0)\"/>\n     <use xlink:href=\"#DejaVuSans-20\" transform=\"translate(588.822266 0)\"/>\n     <use xlink:href=\"#DejaVuSans-50\" transform=\"translate(620.609375 0)\"/>\n     <use xlink:href=\"#DejaVuSans-65\" transform=\"translate(677.287109 0)\"/>\n     <use xlink:href=\"#DejaVuSans-72\" transform=\"translate(738.810547 0)\"/>\n     <use xlink:href=\"#DejaVuSans-66\" transform=\"translate(779.923828 0)\"/>\n     <use xlink:href=\"#DejaVuSans-6f\" transform=\"translate(815.128906 0)\"/>\n     <use xlink:href=\"#DejaVuSans-72\" transform=\"translate(876.310547 0)\"/>\n     <use xlink:href=\"#DejaVuSans-6d\" transform=\"translate(915.673828 0)\"/>\n     <use xlink:href=\"#DejaVuSans-61\" transform=\"translate(1013.085938 0)\"/>\n     <use xlink:href=\"#DejaVuSans-6e\" transform=\"translate(1074.365234 0)\"/>\n     <use xlink:href=\"#DejaVuSans-63\" transform=\"translate(1137.744141 0)\"/>\n     <use xlink:href=\"#DejaVuSans-65\" transform=\"translate(1192.724609 0)\"/>\n     <use xlink:href=\"#DejaVuSans-20\" transform=\"translate(1254.248047 0)\"/>\n     <use xlink:href=\"#DejaVuSans-43\" transform=\"translate(1286.035156 0)\"/>\n     <use xlink:href=\"#DejaVuSans-6f\" transform=\"translate(1355.859375 0)\"/>\n     <use xlink:href=\"#DejaVuSans-6d\" transform=\"translate(1417.041016 0)\"/>\n     <use xlink:href=\"#DejaVuSans-70\" transform=\"translate(1514.453125 0)\"/>\n     <use xlink:href=\"#DejaVuSans-61\" transform=\"translate(1577.929688 0)\"/>\n     <use xlink:href=\"#DejaVuSans-72\" transform=\"translate(1639.208984 0)\"/>\n     <use xlink:href=\"#DejaVuSans-69\" transform=\"translate(1680.322266 0)\"/>\n     <use xlink:href=\"#DejaVuSans-73\" transform=\"translate(1708.105469 0)\"/>\n     <use xlink:href=\"#DejaVuSans-6f\" transform=\"translate(1760.205078 0)\"/>\n     <use xlink:href=\"#DejaVuSans-6e\" transform=\"translate(1821.386719 0)\"/>\n    </g>\n   </g>\n   <g id=\"legend_1\">\n    <g id=\"patch_7\">\n     <path d=\"M 65.86375 145.1075 \nL 188.01875 145.1075 \nQ 190.21875 145.1075 190.21875 142.9075 \nL 190.21875 30.018125 \nQ 190.21875 27.818125 188.01875 27.818125 \nL 65.86375 27.818125 \nQ 63.66375 27.818125 63.66375 30.018125 \nL 63.66375 142.9075 \nQ 63.66375 145.1075 65.86375 145.1075 \nz\n\" style=\"fill: #ffffff; opacity: 0.8; stroke: #cccccc; stroke-linejoin: miter\"/>\n    </g>\n    <g id=\"text_14\">\n     <!-- Implementation -->\n     <g style=\"fill: #262626\" transform=\"translate(79.298438 41.33625) scale(0.12 -0.12)\">\n      <defs>\n       <path id=\"DejaVuSans-49\" d=\"M 628 4666 \nL 1259 4666 \nL 1259 0 \nL 628 0 \nL 628 4666 \nz\n\" transform=\"scale(0.015625)\"/>\n       <path id=\"DejaVuSans-6c\" d=\"M 603 4863 \nL 1178 4863 \nL 1178 0 \nL 603 0 \nL 603 4863 \nz\n\" transform=\"scale(0.015625)\"/>\n      </defs>\n      <use xlink:href=\"#DejaVuSans-49\"/>\n      <use xlink:href=\"#DejaVuSans-6d\" transform=\"translate(29.492188 0)\"/>\n      <use xlink:href=\"#DejaVuSans-70\" transform=\"translate(126.904297 0)\"/>\n      <use xlink:href=\"#DejaVuSans-6c\" transform=\"translate(190.380859 0)\"/>\n      <use xlink:href=\"#DejaVuSans-65\" transform=\"translate(218.164062 0)\"/>\n      <use xlink:href=\"#DejaVuSans-6d\" transform=\"translate(279.6875 0)\"/>\n      <use xlink:href=\"#DejaVuSans-65\" transform=\"translate(377.099609 0)\"/>\n      <use xlink:href=\"#DejaVuSans-6e\" transform=\"translate(438.623047 0)\"/>\n      <use xlink:href=\"#DejaVuSans-74\" transform=\"translate(502.001953 0)\"/>\n      <use xlink:href=\"#DejaVuSans-61\" transform=\"translate(541.210938 0)\"/>\n      <use xlink:href=\"#DejaVuSans-74\" transform=\"translate(602.490234 0)\"/>\n      <use xlink:href=\"#DejaVuSans-69\" transform=\"translate(641.699219 0)\"/>\n      <use xlink:href=\"#DejaVuSans-6f\" transform=\"translate(669.482422 0)\"/>\n      <use xlink:href=\"#DejaVuSans-6e\" transform=\"translate(730.664062 0)\"/>\n     </g>\n    </g>\n    <g id=\"line2d_23\">\n     <path d=\"M 68.06375 53.840156 \nL 79.06375 53.840156 \nL 90.06375 53.840156 \n\" style=\"fill: none; stroke: #4c72b0; stroke-width: 1.5; stroke-linecap: round\"/>\n     <g>\n      <use xlink:href=\"#m573d1c5075\" x=\"79.06375\" y=\"53.840156\" style=\"fill: #4c72b0; stroke: #ffffff; stroke-width: 0.75\"/>\n     </g>\n    </g>\n    <g id=\"text_15\">\n     <!-- Python Loop -->\n     <g style=\"fill: #262626\" transform=\"translate(98.86375 57.690156) scale(0.11 -0.11)\">\n      <defs>\n       <path id=\"DejaVuSans-79\" d=\"M 2059 -325 \nQ 1816 -950 1584 -1140 \nQ 1353 -1331 966 -1331 \nL 506 -1331 \nL 506 -850 \nL 844 -850 \nQ 1081 -850 1212 -737 \nQ 1344 -625 1503 -206 \nL 1606 56 \nL 191 3500 \nL 800 3500 \nL 1894 763 \nL 2988 3500 \nL 3597 3500 \nL 2059 -325 \nz\n\" transform=\"scale(0.015625)\"/>\n       <path id=\"DejaVuSans-68\" d=\"M 3513 2113 \nL 3513 0 \nL 2938 0 \nL 2938 2094 \nQ 2938 2591 2744 2837 \nQ 2550 3084 2163 3084 \nQ 1697 3084 1428 2787 \nQ 1159 2491 1159 1978 \nL 1159 0 \nL 581 0 \nL 581 4863 \nL 1159 4863 \nL 1159 2956 \nQ 1366 3272 1645 3428 \nQ 1925 3584 2291 3584 \nQ 2894 3584 3203 3211 \nQ 3513 2838 3513 2113 \nz\n\" transform=\"scale(0.015625)\"/>\n       <path id=\"DejaVuSans-4c\" d=\"M 628 4666 \nL 1259 4666 \nL 1259 531 \nL 3531 531 \nL 3531 0 \nL 628 0 \nL 628 4666 \nz\n\" transform=\"scale(0.015625)\"/>\n      </defs>\n      <use xlink:href=\"#DejaVuSans-50\"/>\n      <use xlink:href=\"#DejaVuSans-79\" transform=\"translate(60.302734 0)\"/>\n      <use xlink:href=\"#DejaVuSans-74\" transform=\"translate(119.482422 0)\"/>\n      <use xlink:href=\"#DejaVuSans-68\" transform=\"translate(158.691406 0)\"/>\n      <use xlink:href=\"#DejaVuSans-6f\" transform=\"translate(222.070312 0)\"/>\n      <use xlink:href=\"#DejaVuSans-6e\" transform=\"translate(283.251953 0)\"/>\n      <use xlink:href=\"#DejaVuSans-20\" transform=\"translate(346.630859 0)\"/>\n      <use xlink:href=\"#DejaVuSans-4c\" transform=\"translate(378.417969 0)\"/>\n      <use xlink:href=\"#DejaVuSans-6f\" transform=\"translate(432.380859 0)\"/>\n      <use xlink:href=\"#DejaVuSans-6f\" transform=\"translate(493.5625 0)\"/>\n      <use xlink:href=\"#DejaVuSans-70\" transform=\"translate(554.744141 0)\"/>\n     </g>\n    </g>\n    <g id=\"line2d_24\">\n     <path d=\"M 68.06375 69.986094 \nL 79.06375 69.986094 \nL 90.06375 69.986094 \n\" style=\"fill: none; stroke: #dd8452; stroke-width: 1.5; stroke-linecap: round\"/>\n     <g>\n      <use xlink:href=\"#mef128c7f12\" x=\"79.06375\" y=\"69.986094\" style=\"fill: #dd8452; stroke: #ffffff; stroke-width: 0.75\"/>\n     </g>\n    </g>\n    <g id=\"text_16\">\n     <!-- Numpy -->\n     <g style=\"fill: #262626\" transform=\"translate(98.86375 73.836094) scale(0.11 -0.11)\">\n      <defs>\n       <path id=\"DejaVuSans-4e\" d=\"M 628 4666 \nL 1478 4666 \nL 3547 763 \nL 3547 4666 \nL 4159 4666 \nL 4159 0 \nL 3309 0 \nL 1241 3903 \nL 1241 0 \nL 628 0 \nL 628 4666 \nz\n\" transform=\"scale(0.015625)\"/>\n      </defs>\n      <use xlink:href=\"#DejaVuSans-4e\"/>\n      <use xlink:href=\"#DejaVuSans-75\" transform=\"translate(74.804688 0)\"/>\n      <use xlink:href=\"#DejaVuSans-6d\" transform=\"translate(138.183594 0)\"/>\n      <use xlink:href=\"#DejaVuSans-70\" transform=\"translate(235.595703 0)\"/>\n      <use xlink:href=\"#DejaVuSans-79\" transform=\"translate(299.072266 0)\"/>\n     </g>\n    </g>\n    <g id=\"line2d_25\">\n     <path d=\"M 68.06375 86.132031 \nL 79.06375 86.132031 \nL 90.06375 86.132031 \n\" style=\"fill: none; stroke: #55a868; stroke-width: 1.5; stroke-linecap: round\"/>\n     <g>\n      <use xlink:href=\"#m6cc7bff72d\" x=\"79.06375\" y=\"86.132031\" style=\"fill: #55a868; stroke: #ffffff; stroke-width: 0.75\"/>\n     </g>\n    </g>\n    <g id=\"text_17\">\n     <!-- PyTorch -->\n     <g style=\"fill: #262626\" transform=\"translate(98.86375 89.982031) scale(0.11 -0.11)\">\n      <use xlink:href=\"#DejaVuSans-50\"/>\n      <use xlink:href=\"#DejaVuSans-79\" transform=\"translate(60.302734 0)\"/>\n      <use xlink:href=\"#DejaVuSans-54\" transform=\"translate(119.482422 0)\"/>\n      <use xlink:href=\"#DejaVuSans-6f\" transform=\"translate(163.566406 0)\"/>\n      <use xlink:href=\"#DejaVuSans-72\" transform=\"translate(224.748047 0)\"/>\n      <use xlink:href=\"#DejaVuSans-63\" transform=\"translate(263.611328 0)\"/>\n      <use xlink:href=\"#DejaVuSans-68\" transform=\"translate(318.591797 0)\"/>\n     </g>\n    </g>\n    <g id=\"line2d_26\">\n     <path d=\"M 68.06375 102.277969 \nL 79.06375 102.277969 \nL 90.06375 102.277969 \n\" style=\"fill: none; stroke: #c44e52; stroke-width: 1.5; stroke-linecap: round\"/>\n     <g>\n      <use xlink:href=\"#mfd590d8cf6\" x=\"79.06375\" y=\"102.277969\" style=\"fill: #c44e52; stroke: #ffffff; stroke-width: 0.75\"/>\n     </g>\n    </g>\n    <g id=\"text_18\">\n     <!-- Naive GPU -->\n     <g style=\"fill: #262626\" transform=\"translate(98.86375 106.127969) scale(0.11 -0.11)\">\n      <defs>\n       <path id=\"DejaVuSans-76\" d=\"M 191 3500 \nL 800 3500 \nL 1894 563 \nL 2988 3500 \nL 3597 3500 \nL 2284 0 \nL 1503 0 \nL 191 3500 \nz\n\" transform=\"scale(0.015625)\"/>\n       <path id=\"DejaVuSans-47\" d=\"M 3809 666 \nL 3809 1919 \nL 2778 1919 \nL 2778 2438 \nL 4434 2438 \nL 4434 434 \nQ 4069 175 3628 42 \nQ 3188 -91 2688 -91 \nQ 1594 -91 976 548 \nQ 359 1188 359 2328 \nQ 359 3472 976 4111 \nQ 1594 4750 2688 4750 \nQ 3144 4750 3555 4637 \nQ 3966 4525 4313 4306 \nL 4313 3634 \nQ 3963 3931 3569 4081 \nQ 3175 4231 2741 4231 \nQ 1884 4231 1454 3753 \nQ 1025 3275 1025 2328 \nQ 1025 1384 1454 906 \nQ 1884 428 2741 428 \nQ 3075 428 3337 486 \nQ 3600 544 3809 666 \nz\n\" transform=\"scale(0.015625)\"/>\n       <path id=\"DejaVuSans-55\" d=\"M 556 4666 \nL 1191 4666 \nL 1191 1831 \nQ 1191 1081 1462 751 \nQ 1734 422 2344 422 \nQ 2950 422 3222 751 \nQ 3494 1081 3494 1831 \nL 3494 4666 \nL 4128 4666 \nL 4128 1753 \nQ 4128 841 3676 375 \nQ 3225 -91 2344 -91 \nQ 1459 -91 1007 375 \nQ 556 841 556 1753 \nL 556 4666 \nz\n\" transform=\"scale(0.015625)\"/>\n      </defs>\n      <use xlink:href=\"#DejaVuSans-4e\"/>\n      <use xlink:href=\"#DejaVuSans-61\" transform=\"translate(74.804688 0)\"/>\n      <use xlink:href=\"#DejaVuSans-69\" transform=\"translate(136.083984 0)\"/>\n      <use xlink:href=\"#DejaVuSans-76\" transform=\"translate(163.867188 0)\"/>\n      <use xlink:href=\"#DejaVuSans-65\" transform=\"translate(223.046875 0)\"/>\n      <use xlink:href=\"#DejaVuSans-20\" transform=\"translate(284.570312 0)\"/>\n      <use xlink:href=\"#DejaVuSans-47\" transform=\"translate(316.357422 0)\"/>\n      <use xlink:href=\"#DejaVuSans-50\" transform=\"translate(393.847656 0)\"/>\n      <use xlink:href=\"#DejaVuSans-55\" transform=\"translate(454.150391 0)\"/>\n     </g>\n    </g>\n    <g id=\"line2d_27\">\n     <path d=\"M 68.06375 118.423906 \nL 79.06375 118.423906 \nL 90.06375 118.423906 \n\" style=\"fill: none; stroke: #8172b3; stroke-width: 1.5; stroke-linecap: round\"/>\n     <g>\n      <use xlink:href=\"#m2685735462\" x=\"79.06375\" y=\"118.423906\" style=\"fill: #8172b3; stroke: #ffffff; stroke-width: 0.75\"/>\n     </g>\n    </g>\n    <g id=\"text_19\">\n     <!-- Shared Memory -->\n     <g style=\"fill: #262626\" transform=\"translate(98.86375 122.273906) scale(0.11 -0.11)\">\n      <defs>\n       <path id=\"DejaVuSans-4d\" d=\"M 628 4666 \nL 1569 4666 \nL 2759 1491 \nL 3956 4666 \nL 4897 4666 \nL 4897 0 \nL 4281 0 \nL 4281 4097 \nL 3078 897 \nL 2444 897 \nL 1241 4097 \nL 1241 0 \nL 628 0 \nL 628 4666 \nz\n\" transform=\"scale(0.015625)\"/>\n      </defs>\n      <use xlink:href=\"#DejaVuSans-53\"/>\n      <use xlink:href=\"#DejaVuSans-68\" transform=\"translate(63.476562 0)\"/>\n      <use xlink:href=\"#DejaVuSans-61\" transform=\"translate(126.855469 0)\"/>\n      <use xlink:href=\"#DejaVuSans-72\" transform=\"translate(188.134766 0)\"/>\n      <use xlink:href=\"#DejaVuSans-65\" transform=\"translate(226.998047 0)\"/>\n      <use xlink:href=\"#DejaVuSans-64\" transform=\"translate(288.521484 0)\"/>\n      <use xlink:href=\"#DejaVuSans-20\" transform=\"translate(351.998047 0)\"/>\n      <use xlink:href=\"#DejaVuSans-4d\" transform=\"translate(383.785156 0)\"/>\n      <use xlink:href=\"#DejaVuSans-65\" transform=\"translate(470.064453 0)\"/>\n      <use xlink:href=\"#DejaVuSans-6d\" transform=\"translate(531.587891 0)\"/>\n      <use xlink:href=\"#DejaVuSans-6f\" transform=\"translate(629 0)\"/>\n      <use xlink:href=\"#DejaVuSans-72\" transform=\"translate(690.181641 0)\"/>\n      <use xlink:href=\"#DejaVuSans-79\" transform=\"translate(731.294922 0)\"/>\n     </g>\n    </g>\n    <g id=\"line2d_28\">\n     <path d=\"M 68.06375 134.569844 \nL 79.06375 134.569844 \nL 90.06375 134.569844 \n\" style=\"fill: none; stroke: #937860; stroke-width: 1.5; stroke-linecap: round\"/>\n     <g>\n      <use xlink:href=\"#mfff79cc935\" x=\"79.06375\" y=\"134.569844\" style=\"fill: #937860; stroke: #ffffff; stroke-width: 0.75\"/>\n     </g>\n    </g>\n    <g id=\"text_20\">\n     <!-- Parallel Reduce -->\n     <g style=\"fill: #262626\" transform=\"translate(98.86375 138.419844) scale(0.11 -0.11)\">\n      <defs>\n       <path id=\"DejaVuSans-52\" d=\"M 2841 2188 \nQ 3044 2119 3236 1894 \nQ 3428 1669 3622 1275 \nL 4263 0 \nL 3584 0 \nL 2988 1197 \nQ 2756 1666 2539 1819 \nQ 2322 1972 1947 1972 \nL 1259 1972 \nL 1259 0 \nL 628 0 \nL 628 4666 \nL 2053 4666 \nQ 2853 4666 3247 4331 \nQ 3641 3997 3641 3322 \nQ 3641 2881 3436 2590 \nQ 3231 2300 2841 2188 \nz\nM 1259 4147 \nL 1259 2491 \nL 2053 2491 \nQ 2509 2491 2742 2702 \nQ 2975 2913 2975 3322 \nQ 2975 3731 2742 3939 \nQ 2509 4147 2053 4147 \nL 1259 4147 \nz\n\" transform=\"scale(0.015625)\"/>\n      </defs>\n      <use xlink:href=\"#DejaVuSans-50\"/>\n      <use xlink:href=\"#DejaVuSans-61\" transform=\"translate(55.802734 0)\"/>\n      <use xlink:href=\"#DejaVuSans-72\" transform=\"translate(117.082031 0)\"/>\n      <use xlink:href=\"#DejaVuSans-61\" transform=\"translate(158.195312 0)\"/>\n      <use xlink:href=\"#DejaVuSans-6c\" transform=\"translate(219.474609 0)\"/>\n      <use xlink:href=\"#DejaVuSans-6c\" transform=\"translate(247.257812 0)\"/>\n      <use xlink:href=\"#DejaVuSans-65\" transform=\"translate(275.041016 0)\"/>\n      <use xlink:href=\"#DejaVuSans-6c\" transform=\"translate(336.564453 0)\"/>\n      <use xlink:href=\"#DejaVuSans-20\" transform=\"translate(364.347656 0)\"/>\n      <use xlink:href=\"#DejaVuSans-52\" transform=\"translate(396.134766 0)\"/>\n      <use xlink:href=\"#DejaVuSans-65\" transform=\"translate(461.117188 0)\"/>\n      <use xlink:href=\"#DejaVuSans-64\" transform=\"translate(522.640625 0)\"/>\n      <use xlink:href=\"#DejaVuSans-75\" transform=\"translate(586.117188 0)\"/>\n      <use xlink:href=\"#DejaVuSans-63\" transform=\"translate(649.496094 0)\"/>\n      <use xlink:href=\"#DejaVuSans-65\" transform=\"translate(704.476562 0)\"/>\n     </g>\n    </g>\n   </g>\n  </g>\n </g>\n <defs>\n  <clipPath id=\"pb78ab44a2a\">\n   <rect x=\"58.16375\" y=\"22.318125\" width=\"669.6\" height=\"443.52\"/>\n  </clipPath>\n </defs>\n</svg>\n"
          },
          "metadata": {}
        }
      ]
    },
    {
      "cell_type": "markdown",
      "source": [
        "**Выводы**:"
      ],
      "metadata": {
        "id": "jxfsW8hl10mQ"
      },
      "id": "jxfsW8hl10mQ"
    },
    {
      "cell_type": "markdown",
      "source": [
        "## `Часть 2. Перемножение матриц (6 баллов)`"
      ],
      "metadata": {
        "id": "VTfR1f60Cyku"
      },
      "id": "VTfR1f60Cyku"
    },
    {
      "cell_type": "markdown",
      "source": [
        "### `Testing utils`"
      ],
      "metadata": {
        "id": "I8UZGog0C4Nq"
      },
      "id": "I8UZGog0C4Nq"
    },
    {
      "cell_type": "code",
      "source": [
        "matmul_results = []\n",
        "\n",
        "def test_matrix_multiplication(custom_function, name, full_bench=True):\n",
        "    print(f\"--- Testing: {name} ---\")\n",
        "\n",
        "    # Test 1: Простые 2x2 матрицы\n",
        "    A = np.array([[1, 2], [3, 4]], dtype=np.float32)\n",
        "    B = np.array([[5, 6], [7, 8]], dtype=np.float32)\n",
        "    expected = A @ B\n",
        "    result = custom_function(A, B)\n",
        "    assert np.allclose(result, expected), f\"Test 1 failed: \\n{result} \\n!= \\n{expected}\"\n",
        "\n",
        "    # Test 2: Умножение на единичную матрицу\n",
        "    I = np.eye(3, dtype=np.float32)\n",
        "    C = np.array([[1, 2, 3], [4, 5, 6], [7, 8, 9]], dtype=np.float32)\n",
        "    expected = I @ C\n",
        "    result = custom_function(I, C)\n",
        "    assert np.allclose(result, expected), f\"Test 2 failed\"\n",
        "\n",
        "    # Test 3: Неквадратные матрицы\n",
        "    A = np.array([[1, 2, 3], [4, 5, 6]], dtype=np.float32) # 2x3\n",
        "    B = np.array([[7, 8], [9, 10], [11, 12]], dtype=np.float32) # 3x2\n",
        "    expected = A @ B\n",
        "    result = custom_function(A, B)\n",
        "    assert np.allclose(result, expected), f\"Test 3 failed\"\n",
        "\n",
        "    # Test 4: Случайные матрицы\n",
        "    shapes = [(13, 5, 17), (32, 64, 32), (100, 100, 100)]\n",
        "    for i, (M, K, N) in enumerate(shapes):\n",
        "        np.random.seed(i)\n",
        "        A = np.random.rand(M, K).astype(np.float32)\n",
        "        B = np.random.rand(K, N).astype(np.float32)\n",
        "        expected = A @ B\n",
        "        result = custom_function(A, B)\n",
        "        assert np.allclose(result, expected, atol=1e-5), f\"Test 4 failed for shape {(M,K,N)}\"\n",
        "\n",
        "    print(\"All tests passed!\")\n",
        "\n",
        "    # Бенчмарки\n",
        "    print(\"Benchmarking...\")\n",
        "    sizes = [32, 64]\n",
        "    if full_bench:\n",
        "        sizes.extend([128, 256, 512, 1024, 2048, 4096])\n",
        "\n",
        "    for size in sizes:\n",
        "        np.random.seed(42)\n",
        "        A = np.random.rand(size, size).astype(np.float32)\n",
        "        B = np.random.rand(size, size).astype(np.float32)\n",
        "\n",
        "        custom_function(A, B) # Прогрев\n",
        "\n",
        "        times = timeit.repeat(lambda: custom_function(A, B), number=10, repeat=3)\n",
        "        times = np.array(times)\n",
        "        mean_time = times.mean()\n",
        "        std_time = times.std()\n",
        "\n",
        "        matmul_results.append({\n",
        "            \"name\": name,\n",
        "            \"size\": size,\n",
        "            \"mean_time\": mean_time,\n",
        "            \"std_time\": std_time\n",
        "        })\n",
        "        print(f\"Size={size}x{size}:\\t{mean_time:.6f} ± {std_time:.6f} seconds\")\n",
        "    print(\"Done.\\n\")"
      ],
      "metadata": {
        "id": "FQpeeHc4C02h"
      },
      "id": "FQpeeHc4C02h",
      "execution_count": null,
      "outputs": []
    },
    {
      "cell_type": "markdown",
      "source": [
        "### `Baselines`"
      ],
      "metadata": {
        "id": "6_gcnLA_C-ws"
      },
      "id": "6_gcnLA_C-ws"
    },
    {
      "cell_type": "code",
      "source": [
        "def naive_matmul(A, B):\n",
        "    result = np.zeros((A.shape[0], B.shape[1]), dtype=np.float32)\n",
        "    for i in range(A.shape[0]):\n",
        "        for j in range(B.shape[1]):\n",
        "            for k in range(A.shape[1]):\n",
        "                result[i, j] += A[i, k] * B[k, j]\n",
        "    return result\n",
        "\n",
        "def numpy_matmul(A, B):\n",
        "    return A @ B\n",
        "\n",
        "def torch_matmul(A, B):\n",
        "    A_device = torch.from_numpy(A).cuda()\n",
        "    B_device = torch.from_numpy(B).cuda()\n",
        "    result_cuda = A_device @ B_device\n",
        "    return result_cuda.cpu().numpy()"
      ],
      "metadata": {
        "id": "-AJgbk5BC8_t"
      },
      "id": "-AJgbk5BC8_t",
      "execution_count": null,
      "outputs": []
    },
    {
      "cell_type": "code",
      "source": [
        "test_matrix_multiplication(naive_matmul, \"Python Loop\", full_bench=False)\n",
        "test_matrix_multiplication(numpy_matmul, \"Numpy\")\n",
        "test_matrix_multiplication(torch_matmul, \"PyTorch\")"
      ],
      "metadata": {
        "colab": {
          "base_uri": "https://localhost:8080/"
        },
        "id": "YofC0PumDEP-",
        "outputId": "c40d6731-3de3-46cd-de12-6c8a7d7f1abc"
      },
      "id": "YofC0PumDEP-",
      "execution_count": null,
      "outputs": [
        {
          "output_type": "stream",
          "name": "stdout",
          "text": [
            "--- Testing: Python Loop ---\n",
            "All tests passed!\n",
            "Benchmarking...\n",
            "Size=32x32:\t0.187895 ± 0.005568 seconds\n",
            "Size=64x64:\t1.761727 ± 0.351006 seconds\n",
            "Done.\n",
            "\n",
            "--- Testing: Numpy ---\n",
            "All tests passed!\n",
            "Benchmarking...\n",
            "Size=32x32:\t0.000061 ± 0.000005 seconds\n",
            "Size=64x64:\t0.000194 ± 0.000012 seconds\n",
            "Size=128x128:\t0.000667 ± 0.000002 seconds\n",
            "Size=256x256:\t0.004414 ± 0.000119 seconds\n",
            "Size=512x512:\t0.032187 ± 0.000315 seconds\n",
            "Size=1024x1024:\t0.251044 ± 0.011845 seconds\n",
            "Size=2048x2048:\t2.399677 ± 0.603713 seconds\n",
            "Size=4096x4096:\t17.649226 ± 0.503615 seconds\n",
            "Done.\n",
            "\n",
            "--- Testing: PyTorch ---\n",
            "All tests passed!\n",
            "Benchmarking...\n",
            "Size=32x32:\t0.000973 ± 0.000040 seconds\n",
            "Size=64x64:\t0.001092 ± 0.000024 seconds\n",
            "Size=128x128:\t0.001714 ± 0.000131 seconds\n",
            "Size=256x256:\t0.004741 ± 0.001161 seconds\n",
            "Size=512x512:\t0.013615 ± 0.001384 seconds\n",
            "Size=1024x1024:\t0.041167 ± 0.005463 seconds\n",
            "Size=2048x2048:\t0.160740 ± 0.009388 seconds\n",
            "Size=4096x4096:\t1.006009 ± 0.010275 seconds\n",
            "Done.\n",
            "\n"
          ]
        }
      ]
    },
    {
      "cell_type": "markdown",
      "source": [
        "### `Задание 4. Dot product based solution (1 балл)`\n",
        "\n",
        "Каждый элемент `C[i, j]` результирующей матрицы `C` является скалярным произведением i-й строки матрицы `A` и j-го столбца матрицы `B`. У нас уже есть быстрая реализация скалярного произведения с помощью `dot_product_reduce`. Давайте воспользуемся ей."
      ],
      "metadata": {
        "id": "-t5QVCrFDpZz"
      },
      "id": "-t5QVCrFDpZz"
    },
    {
      "cell_type": "code",
      "source": [
        "THREADS_PER_BLOCK = 1024\n",
        "\n",
        "def matmul_dot_based_gpu(A, B):\n",
        "    '''\n",
        "    Функция, вычисляющая произведение матриц A и B путем вычисления\n",
        "    скалярных произведений с помощью dot_product_reduce\n",
        "    '''\n",
        "    M, K = A.shape\n",
        "    K, N = B.shape\n",
        "    C = np.empty((M, N), dtype=A.dtype)\n",
        "    B_T = np.ascontiguousarray(B.T)\n",
        "\n",
        "    ### YOUR CODE HERE\n",
        "\n",
        "    return C"
      ],
      "metadata": {
        "id": "t4K-e4UbD4Lx"
      },
      "id": "t4K-e4UbD4Lx",
      "execution_count": null,
      "outputs": []
    },
    {
      "cell_type": "code",
      "source": [
        "test_matrix_multiplication(matmul_dot_based_gpu, \"Dot-based GPU\", full_bench=False)"
      ],
      "metadata": {
        "colab": {
          "base_uri": "https://localhost:8080/"
        },
        "id": "-r3ORdmMEZNN",
        "outputId": "2ef52038-e2b4-4293-b48b-7c01cede74f9"
      },
      "id": "-r3ORdmMEZNN",
      "execution_count": null,
      "outputs": [
        {
          "output_type": "stream",
          "name": "stdout",
          "text": [
            "--- Testing: Dot-based GPU ---\n",
            "All tests passed!\n",
            "Benchmarking...\n",
            "Size=32x32:\t8.897457 ± 1.701555 seconds\n",
            "Size=64x64:\t31.100262 ± 0.164575 seconds\n",
            "Done.\n",
            "\n"
          ]
        }
      ]
    },
    {
      "cell_type": "markdown",
      "source": [
        "### `Задание 5. A better way: one kernel for the whole matrix (2 балла)`\n",
        "\n",
        "**Проблема:** Прошлый подход ужасно неэффективен. На каждый элемент `C[i, j]` мы будем заново запускать CUDA-кернел. Запуск кернела — дорогая операция. Мы делаем `M*N` запусков, каждый из которых несет большие накладные расходы.\n",
        "\n",
        "Давайте напишем один кернел, который вычислит всю матрицу `C` за один раз.\n",
        "\n",
        "Для этого мы будем использовать **двумерный грид блоков и двумерные блоки потоков**. Каждому потоку мы поручим вычислить ровно один элемент `C[i,j]` результирующей матрицы."
      ],
      "metadata": {
        "id": "t8eWaiGREcu9"
      },
      "id": "t8eWaiGREcu9"
    },
    {
      "cell_type": "code",
      "source": [
        "THREADS_PER_BLOCK_2D = (32, 32)\n",
        "\n",
        "@cuda.jit\n",
        "def matmul_kernel(A, B, C):\n",
        "    '''\n",
        "    Кернел, вычисляющий произведение матриц A и B и\n",
        "    записывающий его в матрицу C.\n",
        "    Для вычисления произведения каждый поток вычисляет C[i, j] элемент матрицы C\n",
        "    '''\n",
        "\n",
        "    # 1. Получаем глобальные индексы (i, j) для результирующей матрицы C\n",
        "    ### YOUR CODE HERE\n",
        "\n",
        "    # 2. Вычисляем скалярное произведение A[i, :] и B[:, j]\n",
        "    ### YOUR CODE HERE\n",
        "\n",
        "\n",
        "def matmul_naive_gpu(A, B):\n",
        "    '''\n",
        "    Функция, принимающая на вход два 2D numpy массива и вычисляющая их произведение,\n",
        "    используя matmul_kernel\n",
        "    '''\n",
        "    # Аллоцируем память под результат\n",
        "    ### YOUR CODE HERE\n",
        "\n",
        "    # Копируем данные на GPU\n",
        "    ### YOUR CODE HERE\n",
        "\n",
        "    # Вычисляем размер сетки\n",
        "    ### YOUR CODE HERE\n",
        "\n",
        "    # Запускаем kernel\n",
        "    ### YOUR CODE HERE\n",
        "\n",
        "    # Возвращаем результат\n",
        "    ### YOUR CODE HERE"
      ],
      "metadata": {
        "id": "ID7lZ5lREqw-"
      },
      "id": "ID7lZ5lREqw-",
      "execution_count": null,
      "outputs": []
    },
    {
      "cell_type": "code",
      "source": [
        "test_matrix_multiplication(matmul_naive_gpu, \"Naive Matmul GPU\")"
      ],
      "metadata": {
        "colab": {
          "base_uri": "https://localhost:8080/"
        },
        "id": "5iQ4s966E0pK",
        "outputId": "a668fc04-11e5-43ed-9a39-063f90ac3fee"
      },
      "id": "5iQ4s966E0pK",
      "execution_count": null,
      "outputs": [
        {
          "output_type": "stream",
          "name": "stdout",
          "text": [
            "--- Testing: Naive Matmul GPU ---\n",
            "All tests passed!\n",
            "Benchmarking...\n",
            "Size=32x32:\t0.013095 ± 0.002587 seconds\n",
            "Size=64x64:\t0.012267 ± 0.000612 seconds\n",
            "Size=128x128:\t0.016029 ± 0.001708 seconds\n",
            "Size=256x256:\t0.035916 ± 0.000506 seconds\n",
            "Size=512x512:\t0.108696 ± 0.018392 seconds\n",
            "Size=1024x1024:\t0.433090 ± 0.003514 seconds\n",
            "Size=2048x2048:\t3.399615 ± 0.014184 seconds\n",
            "Size=4096x4096:\t27.323093 ± 0.233155 seconds\n",
            "Done.\n",
            "\n"
          ]
        }
      ]
    },
    {
      "cell_type": "markdown",
      "source": [
        "### `Задание 6. Efficient Matmul with Tiling (3 балла)`\n",
        "\n",
        "Предыдущее решение работает, но оно все еще неоптимально. Главный недостаток — огромное количество **повторных чтений из глобальной памяти**. Каждый поток, вычисляющий `C[i, j]`, читает всю i-ю строку `A` и весь j-й столбец `B`. При этом соседний поток, вычисляющий `C[i, j+1]`, будет заново читать ту же самую i-ю строку `A`.\n",
        "\n",
        "Чтение из глобальной памяти — самая медленная операция на GPU. Чтобы ее минимизировать, мы применим **тайловое умножение (tiled matrix multiplication)**.\n",
        "\n",
        "**Алгоритм:**\n",
        "\n",
        "1.  Мысленно разбиваем матрицы A и B на небольшие подматрицы (тайлы), размером с блок потоков (например, 16x16).\n",
        "2.  **Блок потоков** совместно загружает один тайл из матрицы `A` и один тайл из матрицы `B` в быструю **`shared memory`**.\n",
        "3.  **Синхронизация.** Ждем, пока все потоки блока закончат загрузку.\n",
        "4.  Каждый поток в блоке вычисляет часть своего итогового значения `C[i,j]`, используя **только данные из `shared memory`**. Это очень быстро.\n",
        "5.  Повторяем шаги 2-4 для всех пар тайлов, которые влияют на результирующий тайл матрицы `C`, и накапливаем сумму в локальной переменной (регистре).\n",
        "6.  В самом конце каждый поток записывает накопленное значение в `C[i, j]` в глобальную память.\n",
        "\n",
        "Таким образом, каждый элемент матриц A и B загружается из глобальной памяти всего один раз за итерацию по тайлам, а затем многократно переиспользуется из сверхбыстрой `shared memory`.\n",
        "\n",
        "![Tiled Matrix Multiplication](https://cnugteren.github.io/tutorial/images/gemm2a.png)"
      ],
      "metadata": {
        "id": "uoEh8mXIE41p"
      },
      "id": "uoEh8mXIE41p"
    },
    {
      "cell_type": "code",
      "source": [
        "TILE_SIZE = 32\n",
        "\n",
        "\n",
        "@cuda.jit\n",
        "def efficient_matmul_kernel(A, B, C):\n",
        "    '''\n",
        "    Кернел, вычисляющий произведение матриц A и B и\n",
        "    записывающий его в матрицу C.\n",
        "    Для вычисления произведения используется tiled matrix multiplication алгоритм\n",
        "    '''\n",
        "    # 1. Объявляем тайлы в shared memory и вычисляем индексы\n",
        "    ### YOUR CODE HERE\n",
        "\n",
        "    # 2. Переменная-аккумулятор для хранения частичной суммы C[i,j] (в регистрах)\n",
        "    accumulator = 0.0\n",
        "\n",
        "    # 3. Проходим по тайлам матриц A и B\n",
        "    ### YOUR CODE HERE\n",
        "    n_tiles = ...\n",
        "    for tile in range(n_tiles):\n",
        "        # 4. Каждый поток загружает один элемент из глобальной памяти в shared memory,\n",
        "        # если индексы корректны\n",
        "        ### YOUR CODE HERE\n",
        "\n",
        "        # 5. Вычисляем произведение загруженных тайлов, результат накапливаем в `accumulator`\n",
        "        ### YOUR CODE HERE\n",
        "\n",
        "    # 6. Записываем результат в глобальную память\n",
        "    ### YOUR CODE HERE\n",
        "\n",
        "\n",
        "def efficient_matmul(A, B):\n",
        "    '''\n",
        "    Функция, принимающая на вход два 2D numpy массива и вычисляющая их  произведение,\n",
        "    используя efficient_matmul_kernel\n",
        "    '''\n",
        "    ### Аналогично функции из прошлого пункта\n",
        "    ### YOUR CODE HERE\n"
      ],
      "metadata": {
        "id": "WWkBQ3RqE6hs"
      },
      "id": "WWkBQ3RqE6hs",
      "execution_count": null,
      "outputs": []
    },
    {
      "cell_type": "code",
      "source": [
        "test_matrix_multiplication(efficient_matmul, \"Tiled Matmul GPU\")"
      ],
      "metadata": {
        "colab": {
          "base_uri": "https://localhost:8080/"
        },
        "id": "sispXW22GsAh",
        "outputId": "d5d1f895-66bc-4a61-c828-1745dde83d92"
      },
      "id": "sispXW22GsAh",
      "execution_count": null,
      "outputs": [
        {
          "output_type": "stream",
          "name": "stdout",
          "text": [
            "--- Testing: Tiled Matmul GPU ---\n",
            "All tests passed!\n",
            "Benchmarking...\n",
            "Size=32x32:\t0.010223 ± 0.000141 seconds\n",
            "Size=64x64:\t0.009128 ± 0.000368 seconds\n",
            "Size=128x128:\t0.010913 ± 0.000065 seconds\n",
            "Size=256x256:\t0.021552 ± 0.000251 seconds\n",
            "Size=512x512:\t0.086343 ± 0.014685 seconds\n",
            "Size=1024x1024:\t0.261597 ± 0.009520 seconds\n",
            "Size=2048x2048:\t1.830161 ± 0.011058 seconds\n",
            "Size=4096x4096:\t13.606970 ± 0.038783 seconds\n",
            "Done.\n",
            "\n"
          ]
        }
      ]
    },
    {
      "cell_type": "markdown",
      "source": [
        "### `Сравнение результатов`"
      ],
      "metadata": {
        "id": "jm2qkFO27qXw"
      },
      "id": "jm2qkFO27qXw"
    },
    {
      "cell_type": "code",
      "source": [
        "df_matmul = pd.DataFrame(matmul_results)\n",
        "\n",
        "plt.figure(figsize=(12, 8))\n",
        "sns.lineplot(data=df_matmul, x='size', y='mean_time', hue='name', marker='o')\n",
        "plt.title('Matrix Multiplication Performance Comparison')\n",
        "plt.xlabel('Matrix Size (N x N)')\n",
        "plt.ylabel('Time (seconds)')\n",
        "plt.xscale('log')\n",
        "plt.yscale('log')\n",
        "plt.legend(title='Implementation')\n",
        "plt.show()"
      ],
      "metadata": {
        "id": "fxva-QeKkgrK",
        "colab": {
          "base_uri": "https://localhost:8080/",
          "height": 699
        },
        "outputId": "3d1926ce-7a14-437b-9e1a-6de82f0b8db9"
      },
      "id": "fxva-QeKkgrK",
      "execution_count": null,
      "outputs": [
        {
          "output_type": "display_data",
          "data": {
            "text/plain": [
              "<Figure size 1200x800 with 1 Axes>"
            ],
            "image/svg+xml": "<?xml version=\"1.0\" encoding=\"utf-8\" standalone=\"no\"?>\n<!DOCTYPE svg PUBLIC \"-//W3C//DTD SVG 1.1//EN\"\n  \"http://www.w3.org/Graphics/SVG/1.1/DTD/svg11.dtd\">\n<svg xmlns:xlink=\"http://www.w3.org/1999/xlink\" width=\"734.96375pt\" height=\"508.797812pt\" viewBox=\"0 0 734.96375 508.797812\" xmlns=\"http://www.w3.org/2000/svg\" version=\"1.1\">\n <metadata>\n  <rdf:RDF xmlns:dc=\"http://purl.org/dc/elements/1.1/\" xmlns:cc=\"http://creativecommons.org/ns#\" xmlns:rdf=\"http://www.w3.org/1999/02/22-rdf-syntax-ns#\">\n   <cc:Work>\n    <dc:type rdf:resource=\"http://purl.org/dc/dcmitype/StillImage\"/>\n    <dc:date>2025-09-09T12:14:00.897464</dc:date>\n    <dc:format>image/svg+xml</dc:format>\n    <dc:creator>\n     <cc:Agent>\n      <dc:title>Matplotlib v3.10.0, https://matplotlib.org/</dc:title>\n     </cc:Agent>\n    </dc:creator>\n   </cc:Work>\n  </rdf:RDF>\n </metadata>\n <defs>\n  <style type=\"text/css\">*{stroke-linejoin: round; stroke-linecap: butt}</style>\n </defs>\n <g id=\"figure_1\">\n  <g id=\"patch_1\">\n   <path d=\"M 0 508.797812 \nL 734.96375 508.797812 \nL 734.96375 0 \nL 0 0 \nz\n\" style=\"fill: #ffffff\"/>\n  </g>\n  <g id=\"axes_1\">\n   <g id=\"patch_2\">\n    <path d=\"M 58.16375 465.838125 \nL 727.76375 465.838125 \nL 727.76375 22.318125 \nL 58.16375 22.318125 \nz\n\" style=\"fill: #ffffff\"/>\n   </g>\n   <g id=\"matplotlib.axis_1\">\n    <g id=\"xtick_1\">\n     <g id=\"line2d_1\">\n      <path d=\"M 231.551556 465.838125 \nL 231.551556 22.318125 \n\" clip-path=\"url(#pc0016dd23b)\" style=\"fill: none; stroke: #cccccc; stroke-linecap: round\"/>\n     </g>\n     <g id=\"text_1\">\n      <!-- $\\mathdefault{10^{2}}$ -->\n      <g style=\"fill: #262626\" transform=\"translate(221.871556 483.696406) scale(0.11 -0.11)\">\n       <defs>\n        <path id=\"DejaVuSans-31\" d=\"M 794 531 \nL 1825 531 \nL 1825 4091 \nL 703 3866 \nL 703 4441 \nL 1819 4666 \nL 2450 4666 \nL 2450 531 \nL 3481 531 \nL 3481 0 \nL 794 0 \nL 794 531 \nz\n\" transform=\"scale(0.015625)\"/>\n        <path id=\"DejaVuSans-30\" d=\"M 2034 4250 \nQ 1547 4250 1301 3770 \nQ 1056 3291 1056 2328 \nQ 1056 1369 1301 889 \nQ 1547 409 2034 409 \nQ 2525 409 2770 889 \nQ 3016 1369 3016 2328 \nQ 3016 3291 2770 3770 \nQ 2525 4250 2034 4250 \nz\nM 2034 4750 \nQ 2819 4750 3233 4129 \nQ 3647 3509 3647 2328 \nQ 3647 1150 3233 529 \nQ 2819 -91 2034 -91 \nQ 1250 -91 836 529 \nQ 422 1150 422 2328 \nQ 422 3509 836 4129 \nQ 1250 4750 2034 4750 \nz\n\" transform=\"scale(0.015625)\"/>\n        <path id=\"DejaVuSans-32\" d=\"M 1228 531 \nL 3431 531 \nL 3431 0 \nL 469 0 \nL 469 531 \nQ 828 903 1448 1529 \nQ 2069 2156 2228 2338 \nQ 2531 2678 2651 2914 \nQ 2772 3150 2772 3378 \nQ 2772 3750 2511 3984 \nQ 2250 4219 1831 4219 \nQ 1534 4219 1204 4116 \nQ 875 4013 500 3803 \nL 500 4441 \nQ 881 4594 1212 4672 \nQ 1544 4750 1819 4750 \nQ 2544 4750 2975 4387 \nQ 3406 4025 3406 3419 \nQ 3406 3131 3298 2873 \nQ 3191 2616 2906 2266 \nQ 2828 2175 2409 1742 \nQ 1991 1309 1228 531 \nz\n\" transform=\"scale(0.015625)\"/>\n       </defs>\n       <use xlink:href=\"#DejaVuSans-31\" transform=\"translate(0 0.765625)\"/>\n       <use xlink:href=\"#DejaVuSans-30\" transform=\"translate(63.623047 0.765625)\"/>\n       <use xlink:href=\"#DejaVuSans-32\" transform=\"translate(128.203125 39.046875) scale(0.7)\"/>\n      </g>\n     </g>\n    </g>\n    <g id=\"xtick_2\">\n     <g id=\"line2d_2\">\n      <path d=\"M 520.429874 465.838125 \nL 520.429874 22.318125 \n\" clip-path=\"url(#pc0016dd23b)\" style=\"fill: none; stroke: #cccccc; stroke-linecap: round\"/>\n     </g>\n     <g id=\"text_2\">\n      <!-- $\\mathdefault{10^{3}}$ -->\n      <g style=\"fill: #262626\" transform=\"translate(510.749874 483.696406) scale(0.11 -0.11)\">\n       <defs>\n        <path id=\"DejaVuSans-33\" d=\"M 2597 2516 \nQ 3050 2419 3304 2112 \nQ 3559 1806 3559 1356 \nQ 3559 666 3084 287 \nQ 2609 -91 1734 -91 \nQ 1441 -91 1130 -33 \nQ 819 25 488 141 \nL 488 750 \nQ 750 597 1062 519 \nQ 1375 441 1716 441 \nQ 2309 441 2620 675 \nQ 2931 909 2931 1356 \nQ 2931 1769 2642 2001 \nQ 2353 2234 1838 2234 \nL 1294 2234 \nL 1294 2753 \nL 1863 2753 \nQ 2328 2753 2575 2939 \nQ 2822 3125 2822 3475 \nQ 2822 3834 2567 4026 \nQ 2313 4219 1838 4219 \nQ 1578 4219 1281 4162 \nQ 984 4106 628 3988 \nL 628 4550 \nQ 988 4650 1302 4700 \nQ 1616 4750 1894 4750 \nQ 2613 4750 3031 4423 \nQ 3450 4097 3450 3541 \nQ 3450 3153 3228 2886 \nQ 3006 2619 2597 2516 \nz\n\" transform=\"scale(0.015625)\"/>\n       </defs>\n       <use xlink:href=\"#DejaVuSans-31\" transform=\"translate(0 0.765625)\"/>\n       <use xlink:href=\"#DejaVuSans-30\" transform=\"translate(63.623047 0.765625)\"/>\n       <use xlink:href=\"#DejaVuSans-33\" transform=\"translate(128.203125 39.046875) scale(0.7)\"/>\n      </g>\n     </g>\n    </g>\n    <g id=\"xtick_3\"/>\n    <g id=\"xtick_4\"/>\n    <g id=\"xtick_5\"/>\n    <g id=\"xtick_6\"/>\n    <g id=\"xtick_7\"/>\n    <g id=\"xtick_8\"/>\n    <g id=\"xtick_9\"/>\n    <g id=\"xtick_10\"/>\n    <g id=\"xtick_11\"/>\n    <g id=\"xtick_12\"/>\n    <g id=\"xtick_13\"/>\n    <g id=\"xtick_14\"/>\n    <g id=\"xtick_15\"/>\n    <g id=\"xtick_16\"/>\n    <g id=\"xtick_17\"/>\n    <g id=\"xtick_18\"/>\n    <g id=\"xtick_19\"/>\n    <g id=\"xtick_20\"/>\n    <g id=\"xtick_21\"/>\n    <g id=\"text_3\">\n     <!-- Matrix Size (N x N) -->\n     <g style=\"fill: #262626\" transform=\"translate(336.918125 499.102187) scale(0.12 -0.12)\">\n      <defs>\n       <path id=\"DejaVuSans-4d\" d=\"M 628 4666 \nL 1569 4666 \nL 2759 1491 \nL 3956 4666 \nL 4897 4666 \nL 4897 0 \nL 4281 0 \nL 4281 4097 \nL 3078 897 \nL 2444 897 \nL 1241 4097 \nL 1241 0 \nL 628 0 \nL 628 4666 \nz\n\" transform=\"scale(0.015625)\"/>\n       <path id=\"DejaVuSans-61\" d=\"M 2194 1759 \nQ 1497 1759 1228 1600 \nQ 959 1441 959 1056 \nQ 959 750 1161 570 \nQ 1363 391 1709 391 \nQ 2188 391 2477 730 \nQ 2766 1069 2766 1631 \nL 2766 1759 \nL 2194 1759 \nz\nM 3341 1997 \nL 3341 0 \nL 2766 0 \nL 2766 531 \nQ 2569 213 2275 61 \nQ 1981 -91 1556 -91 \nQ 1019 -91 701 211 \nQ 384 513 384 1019 \nQ 384 1609 779 1909 \nQ 1175 2209 1959 2209 \nL 2766 2209 \nL 2766 2266 \nQ 2766 2663 2505 2880 \nQ 2244 3097 1772 3097 \nQ 1472 3097 1187 3025 \nQ 903 2953 641 2809 \nL 641 3341 \nQ 956 3463 1253 3523 \nQ 1550 3584 1831 3584 \nQ 2591 3584 2966 3190 \nQ 3341 2797 3341 1997 \nz\n\" transform=\"scale(0.015625)\"/>\n       <path id=\"DejaVuSans-74\" d=\"M 1172 4494 \nL 1172 3500 \nL 2356 3500 \nL 2356 3053 \nL 1172 3053 \nL 1172 1153 \nQ 1172 725 1289 603 \nQ 1406 481 1766 481 \nL 2356 481 \nL 2356 0 \nL 1766 0 \nQ 1100 0 847 248 \nQ 594 497 594 1153 \nL 594 3053 \nL 172 3053 \nL 172 3500 \nL 594 3500 \nL 594 4494 \nL 1172 4494 \nz\n\" transform=\"scale(0.015625)\"/>\n       <path id=\"DejaVuSans-72\" d=\"M 2631 2963 \nQ 2534 3019 2420 3045 \nQ 2306 3072 2169 3072 \nQ 1681 3072 1420 2755 \nQ 1159 2438 1159 1844 \nL 1159 0 \nL 581 0 \nL 581 3500 \nL 1159 3500 \nL 1159 2956 \nQ 1341 3275 1631 3429 \nQ 1922 3584 2338 3584 \nQ 2397 3584 2469 3576 \nQ 2541 3569 2628 3553 \nL 2631 2963 \nz\n\" transform=\"scale(0.015625)\"/>\n       <path id=\"DejaVuSans-69\" d=\"M 603 3500 \nL 1178 3500 \nL 1178 0 \nL 603 0 \nL 603 3500 \nz\nM 603 4863 \nL 1178 4863 \nL 1178 4134 \nL 603 4134 \nL 603 4863 \nz\n\" transform=\"scale(0.015625)\"/>\n       <path id=\"DejaVuSans-78\" d=\"M 3513 3500 \nL 2247 1797 \nL 3578 0 \nL 2900 0 \nL 1881 1375 \nL 863 0 \nL 184 0 \nL 1544 1831 \nL 300 3500 \nL 978 3500 \nL 1906 2253 \nL 2834 3500 \nL 3513 3500 \nz\n\" transform=\"scale(0.015625)\"/>\n       <path id=\"DejaVuSans-20\" transform=\"scale(0.015625)\"/>\n       <path id=\"DejaVuSans-53\" d=\"M 3425 4513 \nL 3425 3897 \nQ 3066 4069 2747 4153 \nQ 2428 4238 2131 4238 \nQ 1616 4238 1336 4038 \nQ 1056 3838 1056 3469 \nQ 1056 3159 1242 3001 \nQ 1428 2844 1947 2747 \nL 2328 2669 \nQ 3034 2534 3370 2195 \nQ 3706 1856 3706 1288 \nQ 3706 609 3251 259 \nQ 2797 -91 1919 -91 \nQ 1588 -91 1214 -16 \nQ 841 59 441 206 \nL 441 856 \nQ 825 641 1194 531 \nQ 1563 422 1919 422 \nQ 2459 422 2753 634 \nQ 3047 847 3047 1241 \nQ 3047 1584 2836 1778 \nQ 2625 1972 2144 2069 \nL 1759 2144 \nQ 1053 2284 737 2584 \nQ 422 2884 422 3419 \nQ 422 4038 858 4394 \nQ 1294 4750 2059 4750 \nQ 2388 4750 2728 4690 \nQ 3069 4631 3425 4513 \nz\n\" transform=\"scale(0.015625)\"/>\n       <path id=\"DejaVuSans-7a\" d=\"M 353 3500 \nL 3084 3500 \nL 3084 2975 \nL 922 459 \nL 3084 459 \nL 3084 0 \nL 275 0 \nL 275 525 \nL 2438 3041 \nL 353 3041 \nL 353 3500 \nz\n\" transform=\"scale(0.015625)\"/>\n       <path id=\"DejaVuSans-65\" d=\"M 3597 1894 \nL 3597 1613 \nL 953 1613 \nQ 991 1019 1311 708 \nQ 1631 397 2203 397 \nQ 2534 397 2845 478 \nQ 3156 559 3463 722 \nL 3463 178 \nQ 3153 47 2828 -22 \nQ 2503 -91 2169 -91 \nQ 1331 -91 842 396 \nQ 353 884 353 1716 \nQ 353 2575 817 3079 \nQ 1281 3584 2069 3584 \nQ 2775 3584 3186 3129 \nQ 3597 2675 3597 1894 \nz\nM 3022 2063 \nQ 3016 2534 2758 2815 \nQ 2500 3097 2075 3097 \nQ 1594 3097 1305 2825 \nQ 1016 2553 972 2059 \nL 3022 2063 \nz\n\" transform=\"scale(0.015625)\"/>\n       <path id=\"DejaVuSans-28\" d=\"M 1984 4856 \nQ 1566 4138 1362 3434 \nQ 1159 2731 1159 2009 \nQ 1159 1288 1364 580 \nQ 1569 -128 1984 -844 \nL 1484 -844 \nQ 1016 -109 783 600 \nQ 550 1309 550 2009 \nQ 550 2706 781 3412 \nQ 1013 4119 1484 4856 \nL 1984 4856 \nz\n\" transform=\"scale(0.015625)\"/>\n       <path id=\"DejaVuSans-4e\" d=\"M 628 4666 \nL 1478 4666 \nL 3547 763 \nL 3547 4666 \nL 4159 4666 \nL 4159 0 \nL 3309 0 \nL 1241 3903 \nL 1241 0 \nL 628 0 \nL 628 4666 \nz\n\" transform=\"scale(0.015625)\"/>\n       <path id=\"DejaVuSans-29\" d=\"M 513 4856 \nL 1013 4856 \nQ 1481 4119 1714 3412 \nQ 1947 2706 1947 2009 \nQ 1947 1309 1714 600 \nQ 1481 -109 1013 -844 \nL 513 -844 \nQ 928 -128 1133 580 \nQ 1338 1288 1338 2009 \nQ 1338 2731 1133 3434 \nQ 928 4138 513 4856 \nz\n\" transform=\"scale(0.015625)\"/>\n      </defs>\n      <use xlink:href=\"#DejaVuSans-4d\"/>\n      <use xlink:href=\"#DejaVuSans-61\" transform=\"translate(86.279297 0)\"/>\n      <use xlink:href=\"#DejaVuSans-74\" transform=\"translate(147.558594 0)\"/>\n      <use xlink:href=\"#DejaVuSans-72\" transform=\"translate(186.767578 0)\"/>\n      <use xlink:href=\"#DejaVuSans-69\" transform=\"translate(227.880859 0)\"/>\n      <use xlink:href=\"#DejaVuSans-78\" transform=\"translate(255.664062 0)\"/>\n      <use xlink:href=\"#DejaVuSans-20\" transform=\"translate(314.84375 0)\"/>\n      <use xlink:href=\"#DejaVuSans-53\" transform=\"translate(346.630859 0)\"/>\n      <use xlink:href=\"#DejaVuSans-69\" transform=\"translate(410.107422 0)\"/>\n      <use xlink:href=\"#DejaVuSans-7a\" transform=\"translate(437.890625 0)\"/>\n      <use xlink:href=\"#DejaVuSans-65\" transform=\"translate(490.380859 0)\"/>\n      <use xlink:href=\"#DejaVuSans-20\" transform=\"translate(551.904297 0)\"/>\n      <use xlink:href=\"#DejaVuSans-28\" transform=\"translate(583.691406 0)\"/>\n      <use xlink:href=\"#DejaVuSans-4e\" transform=\"translate(622.705078 0)\"/>\n      <use xlink:href=\"#DejaVuSans-20\" transform=\"translate(697.509766 0)\"/>\n      <use xlink:href=\"#DejaVuSans-78\" transform=\"translate(729.296875 0)\"/>\n      <use xlink:href=\"#DejaVuSans-20\" transform=\"translate(788.476562 0)\"/>\n      <use xlink:href=\"#DejaVuSans-4e\" transform=\"translate(820.263672 0)\"/>\n      <use xlink:href=\"#DejaVuSans-29\" transform=\"translate(895.068359 0)\"/>\n     </g>\n    </g>\n   </g>\n   <g id=\"matplotlib.axis_2\">\n    <g id=\"ytick_1\">\n     <g id=\"line2d_3\">\n      <path d=\"M 58.16375 430.530397 \nL 727.76375 430.530397 \n\" clip-path=\"url(#pc0016dd23b)\" style=\"fill: none; stroke: #cccccc; stroke-linecap: round\"/>\n     </g>\n     <g id=\"text_4\">\n      <!-- $\\mathdefault{10^{-4}}$ -->\n      <g style=\"fill: #262626\" transform=\"translate(22.81375 434.709538) scale(0.11 -0.11)\">\n       <defs>\n        <path id=\"DejaVuSans-2212\" d=\"M 678 2272 \nL 4684 2272 \nL 4684 1741 \nL 678 1741 \nL 678 2272 \nz\n\" transform=\"scale(0.015625)\"/>\n        <path id=\"DejaVuSans-34\" d=\"M 2419 4116 \nL 825 1625 \nL 2419 1625 \nL 2419 4116 \nz\nM 2253 4666 \nL 3047 4666 \nL 3047 1625 \nL 3713 1625 \nL 3713 1100 \nL 3047 1100 \nL 3047 0 \nL 2419 0 \nL 2419 1100 \nL 313 1100 \nL 313 1709 \nL 2253 4666 \nz\n\" transform=\"scale(0.015625)\"/>\n       </defs>\n       <use xlink:href=\"#DejaVuSans-31\" transform=\"translate(0 0.684375)\"/>\n       <use xlink:href=\"#DejaVuSans-30\" transform=\"translate(63.623047 0.684375)\"/>\n       <use xlink:href=\"#DejaVuSans-2212\" transform=\"translate(128.203125 38.965625) scale(0.7)\"/>\n       <use xlink:href=\"#DejaVuSans-34\" transform=\"translate(186.855469 38.965625) scale(0.7)\"/>\n      </g>\n     </g>\n    </g>\n    <g id=\"ytick_2\">\n     <g id=\"line2d_4\">\n      <path d=\"M 58.16375 359.882492 \nL 727.76375 359.882492 \n\" clip-path=\"url(#pc0016dd23b)\" style=\"fill: none; stroke: #cccccc; stroke-linecap: round\"/>\n     </g>\n     <g id=\"text_5\">\n      <!-- $\\mathdefault{10^{-3}}$ -->\n      <g style=\"fill: #262626\" transform=\"translate(22.81375 364.061633) scale(0.11 -0.11)\">\n       <use xlink:href=\"#DejaVuSans-31\" transform=\"translate(0 0.765625)\"/>\n       <use xlink:href=\"#DejaVuSans-30\" transform=\"translate(63.623047 0.765625)\"/>\n       <use xlink:href=\"#DejaVuSans-2212\" transform=\"translate(128.203125 39.046875) scale(0.7)\"/>\n       <use xlink:href=\"#DejaVuSans-33\" transform=\"translate(186.855469 39.046875) scale(0.7)\"/>\n      </g>\n     </g>\n    </g>\n    <g id=\"ytick_3\">\n     <g id=\"line2d_5\">\n      <path d=\"M 58.16375 289.234588 \nL 727.76375 289.234588 \n\" clip-path=\"url(#pc0016dd23b)\" style=\"fill: none; stroke: #cccccc; stroke-linecap: round\"/>\n     </g>\n     <g id=\"text_6\">\n      <!-- $\\mathdefault{10^{-2}}$ -->\n      <g style=\"fill: #262626\" transform=\"translate(22.81375 293.413728) scale(0.11 -0.11)\">\n       <use xlink:href=\"#DejaVuSans-31\" transform=\"translate(0 0.765625)\"/>\n       <use xlink:href=\"#DejaVuSans-30\" transform=\"translate(63.623047 0.765625)\"/>\n       <use xlink:href=\"#DejaVuSans-2212\" transform=\"translate(128.203125 39.046875) scale(0.7)\"/>\n       <use xlink:href=\"#DejaVuSans-32\" transform=\"translate(186.855469 39.046875) scale(0.7)\"/>\n      </g>\n     </g>\n    </g>\n    <g id=\"ytick_4\">\n     <g id=\"line2d_6\">\n      <path d=\"M 58.16375 218.586683 \nL 727.76375 218.586683 \n\" clip-path=\"url(#pc0016dd23b)\" style=\"fill: none; stroke: #cccccc; stroke-linecap: round\"/>\n     </g>\n     <g id=\"text_7\">\n      <!-- $\\mathdefault{10^{-1}}$ -->\n      <g style=\"fill: #262626\" transform=\"translate(22.81375 222.765823) scale(0.11 -0.11)\">\n       <use xlink:href=\"#DejaVuSans-31\" transform=\"translate(0 0.684375)\"/>\n       <use xlink:href=\"#DejaVuSans-30\" transform=\"translate(63.623047 0.684375)\"/>\n       <use xlink:href=\"#DejaVuSans-2212\" transform=\"translate(128.203125 38.965625) scale(0.7)\"/>\n       <use xlink:href=\"#DejaVuSans-31\" transform=\"translate(186.855469 38.965625) scale(0.7)\"/>\n      </g>\n     </g>\n    </g>\n    <g id=\"ytick_5\">\n     <g id=\"line2d_7\">\n      <path d=\"M 58.16375 147.938778 \nL 727.76375 147.938778 \n\" clip-path=\"url(#pc0016dd23b)\" style=\"fill: none; stroke: #cccccc; stroke-linecap: round\"/>\n     </g>\n     <g id=\"text_8\">\n      <!-- $\\mathdefault{10^{0}}$ -->\n      <g style=\"fill: #262626\" transform=\"translate(29.30375 152.117918) scale(0.11 -0.11)\">\n       <use xlink:href=\"#DejaVuSans-31\" transform=\"translate(0 0.765625)\"/>\n       <use xlink:href=\"#DejaVuSans-30\" transform=\"translate(63.623047 0.765625)\"/>\n       <use xlink:href=\"#DejaVuSans-30\" transform=\"translate(128.203125 39.046875) scale(0.7)\"/>\n      </g>\n     </g>\n    </g>\n    <g id=\"ytick_6\">\n     <g id=\"line2d_8\">\n      <path d=\"M 58.16375 77.290873 \nL 727.76375 77.290873 \n\" clip-path=\"url(#pc0016dd23b)\" style=\"fill: none; stroke: #cccccc; stroke-linecap: round\"/>\n     </g>\n     <g id=\"text_9\">\n      <!-- $\\mathdefault{10^{1}}$ -->\n      <g style=\"fill: #262626\" transform=\"translate(29.30375 81.470014) scale(0.11 -0.11)\">\n       <use xlink:href=\"#DejaVuSans-31\" transform=\"translate(0 0.684375)\"/>\n       <use xlink:href=\"#DejaVuSans-30\" transform=\"translate(63.623047 0.684375)\"/>\n       <use xlink:href=\"#DejaVuSans-31\" transform=\"translate(128.203125 38.965625) scale(0.7)\"/>\n      </g>\n     </g>\n    </g>\n    <g id=\"ytick_7\"/>\n    <g id=\"ytick_8\"/>\n    <g id=\"ytick_9\"/>\n    <g id=\"ytick_10\"/>\n    <g id=\"ytick_11\"/>\n    <g id=\"ytick_12\"/>\n    <g id=\"ytick_13\"/>\n    <g id=\"ytick_14\"/>\n    <g id=\"ytick_15\"/>\n    <g id=\"ytick_16\"/>\n    <g id=\"ytick_17\"/>\n    <g id=\"ytick_18\"/>\n    <g id=\"ytick_19\"/>\n    <g id=\"ytick_20\"/>\n    <g id=\"ytick_21\"/>\n    <g id=\"ytick_22\"/>\n    <g id=\"ytick_23\"/>\n    <g id=\"ytick_24\"/>\n    <g id=\"ytick_25\"/>\n    <g id=\"ytick_26\"/>\n    <g id=\"ytick_27\"/>\n    <g id=\"ytick_28\"/>\n    <g id=\"ytick_29\"/>\n    <g id=\"ytick_30\"/>\n    <g id=\"ytick_31\"/>\n    <g id=\"ytick_32\"/>\n    <g id=\"ytick_33\"/>\n    <g id=\"ytick_34\"/>\n    <g id=\"ytick_35\"/>\n    <g id=\"ytick_36\"/>\n    <g id=\"ytick_37\"/>\n    <g id=\"ytick_38\"/>\n    <g id=\"ytick_39\"/>\n    <g id=\"ytick_40\"/>\n    <g id=\"ytick_41\"/>\n    <g id=\"ytick_42\"/>\n    <g id=\"ytick_43\"/>\n    <g id=\"ytick_44\"/>\n    <g id=\"ytick_45\"/>\n    <g id=\"ytick_46\"/>\n    <g id=\"ytick_47\"/>\n    <g id=\"ytick_48\"/>\n    <g id=\"ytick_49\"/>\n    <g id=\"ytick_50\"/>\n    <g id=\"ytick_51\"/>\n    <g id=\"ytick_52\"/>\n    <g id=\"ytick_53\"/>\n    <g id=\"ytick_54\"/>\n    <g id=\"ytick_55\"/>\n    <g id=\"ytick_56\"/>\n    <g id=\"text_10\">\n     <!-- Time (seconds) -->\n     <g style=\"fill: #262626\" transform=\"translate(16.318125 289.872187) rotate(-90) scale(0.12 -0.12)\">\n      <defs>\n       <path id=\"DejaVuSans-54\" d=\"M -19 4666 \nL 3928 4666 \nL 3928 4134 \nL 2272 4134 \nL 2272 0 \nL 1638 0 \nL 1638 4134 \nL -19 4134 \nL -19 4666 \nz\n\" transform=\"scale(0.015625)\"/>\n       <path id=\"DejaVuSans-6d\" d=\"M 3328 2828 \nQ 3544 3216 3844 3400 \nQ 4144 3584 4550 3584 \nQ 5097 3584 5394 3201 \nQ 5691 2819 5691 2113 \nL 5691 0 \nL 5113 0 \nL 5113 2094 \nQ 5113 2597 4934 2840 \nQ 4756 3084 4391 3084 \nQ 3944 3084 3684 2787 \nQ 3425 2491 3425 1978 \nL 3425 0 \nL 2847 0 \nL 2847 2094 \nQ 2847 2600 2669 2842 \nQ 2491 3084 2119 3084 \nQ 1678 3084 1418 2786 \nQ 1159 2488 1159 1978 \nL 1159 0 \nL 581 0 \nL 581 3500 \nL 1159 3500 \nL 1159 2956 \nQ 1356 3278 1631 3431 \nQ 1906 3584 2284 3584 \nQ 2666 3584 2933 3390 \nQ 3200 3197 3328 2828 \nz\n\" transform=\"scale(0.015625)\"/>\n       <path id=\"DejaVuSans-73\" d=\"M 2834 3397 \nL 2834 2853 \nQ 2591 2978 2328 3040 \nQ 2066 3103 1784 3103 \nQ 1356 3103 1142 2972 \nQ 928 2841 928 2578 \nQ 928 2378 1081 2264 \nQ 1234 2150 1697 2047 \nL 1894 2003 \nQ 2506 1872 2764 1633 \nQ 3022 1394 3022 966 \nQ 3022 478 2636 193 \nQ 2250 -91 1575 -91 \nQ 1294 -91 989 -36 \nQ 684 19 347 128 \nL 347 722 \nQ 666 556 975 473 \nQ 1284 391 1588 391 \nQ 1994 391 2212 530 \nQ 2431 669 2431 922 \nQ 2431 1156 2273 1281 \nQ 2116 1406 1581 1522 \nL 1381 1569 \nQ 847 1681 609 1914 \nQ 372 2147 372 2553 \nQ 372 3047 722 3315 \nQ 1072 3584 1716 3584 \nQ 2034 3584 2315 3537 \nQ 2597 3491 2834 3397 \nz\n\" transform=\"scale(0.015625)\"/>\n       <path id=\"DejaVuSans-63\" d=\"M 3122 3366 \nL 3122 2828 \nQ 2878 2963 2633 3030 \nQ 2388 3097 2138 3097 \nQ 1578 3097 1268 2742 \nQ 959 2388 959 1747 \nQ 959 1106 1268 751 \nQ 1578 397 2138 397 \nQ 2388 397 2633 464 \nQ 2878 531 3122 666 \nL 3122 134 \nQ 2881 22 2623 -34 \nQ 2366 -91 2075 -91 \nQ 1284 -91 818 406 \nQ 353 903 353 1747 \nQ 353 2603 823 3093 \nQ 1294 3584 2113 3584 \nQ 2378 3584 2631 3529 \nQ 2884 3475 3122 3366 \nz\n\" transform=\"scale(0.015625)\"/>\n       <path id=\"DejaVuSans-6f\" d=\"M 1959 3097 \nQ 1497 3097 1228 2736 \nQ 959 2375 959 1747 \nQ 959 1119 1226 758 \nQ 1494 397 1959 397 \nQ 2419 397 2687 759 \nQ 2956 1122 2956 1747 \nQ 2956 2369 2687 2733 \nQ 2419 3097 1959 3097 \nz\nM 1959 3584 \nQ 2709 3584 3137 3096 \nQ 3566 2609 3566 1747 \nQ 3566 888 3137 398 \nQ 2709 -91 1959 -91 \nQ 1206 -91 779 398 \nQ 353 888 353 1747 \nQ 353 2609 779 3096 \nQ 1206 3584 1959 3584 \nz\n\" transform=\"scale(0.015625)\"/>\n       <path id=\"DejaVuSans-6e\" d=\"M 3513 2113 \nL 3513 0 \nL 2938 0 \nL 2938 2094 \nQ 2938 2591 2744 2837 \nQ 2550 3084 2163 3084 \nQ 1697 3084 1428 2787 \nQ 1159 2491 1159 1978 \nL 1159 0 \nL 581 0 \nL 581 3500 \nL 1159 3500 \nL 1159 2956 \nQ 1366 3272 1645 3428 \nQ 1925 3584 2291 3584 \nQ 2894 3584 3203 3211 \nQ 3513 2838 3513 2113 \nz\n\" transform=\"scale(0.015625)\"/>\n       <path id=\"DejaVuSans-64\" d=\"M 2906 2969 \nL 2906 4863 \nL 3481 4863 \nL 3481 0 \nL 2906 0 \nL 2906 525 \nQ 2725 213 2448 61 \nQ 2172 -91 1784 -91 \nQ 1150 -91 751 415 \nQ 353 922 353 1747 \nQ 353 2572 751 3078 \nQ 1150 3584 1784 3584 \nQ 2172 3584 2448 3432 \nQ 2725 3281 2906 2969 \nz\nM 947 1747 \nQ 947 1113 1208 752 \nQ 1469 391 1925 391 \nQ 2381 391 2643 752 \nQ 2906 1113 2906 1747 \nQ 2906 2381 2643 2742 \nQ 2381 3103 1925 3103 \nQ 1469 3103 1208 2742 \nQ 947 2381 947 1747 \nz\n\" transform=\"scale(0.015625)\"/>\n      </defs>\n      <use xlink:href=\"#DejaVuSans-54\"/>\n      <use xlink:href=\"#DejaVuSans-69\" transform=\"translate(57.958984 0)\"/>\n      <use xlink:href=\"#DejaVuSans-6d\" transform=\"translate(85.742188 0)\"/>\n      <use xlink:href=\"#DejaVuSans-65\" transform=\"translate(183.154297 0)\"/>\n      <use xlink:href=\"#DejaVuSans-20\" transform=\"translate(244.677734 0)\"/>\n      <use xlink:href=\"#DejaVuSans-28\" transform=\"translate(276.464844 0)\"/>\n      <use xlink:href=\"#DejaVuSans-73\" transform=\"translate(315.478516 0)\"/>\n      <use xlink:href=\"#DejaVuSans-65\" transform=\"translate(367.578125 0)\"/>\n      <use xlink:href=\"#DejaVuSans-63\" transform=\"translate(429.101562 0)\"/>\n      <use xlink:href=\"#DejaVuSans-6f\" transform=\"translate(484.082031 0)\"/>\n      <use xlink:href=\"#DejaVuSans-6e\" transform=\"translate(545.263672 0)\"/>\n      <use xlink:href=\"#DejaVuSans-64\" transform=\"translate(608.642578 0)\"/>\n      <use xlink:href=\"#DejaVuSans-73\" transform=\"translate(672.119141 0)\"/>\n      <use xlink:href=\"#DejaVuSans-29\" transform=\"translate(724.21875 0)\"/>\n     </g>\n    </g>\n   </g>\n   <g id=\"FillBetweenPolyCollection_1\"/>\n   <g id=\"FillBetweenPolyCollection_2\"/>\n   <g id=\"FillBetweenPolyCollection_3\"/>\n   <g id=\"FillBetweenPolyCollection_4\"/>\n   <g id=\"FillBetweenPolyCollection_5\"/>\n   <g id=\"FillBetweenPolyCollection_6\"/>\n   <g id=\"line2d_9\">\n    <path d=\"M 88.600114 199.235213 \nL 175.561153 130.56373 \n\" clip-path=\"url(#pc0016dd23b)\" style=\"fill: none; stroke: #4c72b0; stroke-width: 1.5; stroke-linecap: round\"/>\n    <defs>\n     <path id=\"m9268b3fa9b\" d=\"M 0 3 \nC 0.795609 3 1.55874 2.683901 2.12132 2.12132 \nC 2.683901 1.55874 3 0.795609 3 0 \nC 3 -0.795609 2.683901 -1.55874 2.12132 -2.12132 \nC 1.55874 -2.683901 0.795609 -3 0 -3 \nC -0.795609 -3 -1.55874 -2.683901 -2.12132 -2.12132 \nC -2.683901 -1.55874 -3 -0.795609 -3 0 \nC -3 0.795609 -2.683901 1.55874 -2.12132 2.12132 \nC -1.55874 2.683901 -0.795609 3 0 3 \nz\n\" style=\"stroke: #ffffff; stroke-width: 0.75\"/>\n    </defs>\n    <g clip-path=\"url(#pc0016dd23b)\">\n     <use xlink:href=\"#m9268b3fa9b\" x=\"88.600114\" y=\"199.235213\" style=\"fill: #4c72b0; stroke: #ffffff; stroke-width: 0.75\"/>\n     <use xlink:href=\"#m9268b3fa9b\" x=\"175.561153\" y=\"130.56373\" style=\"fill: #4c72b0; stroke: #ffffff; stroke-width: 0.75\"/>\n    </g>\n   </g>\n   <g id=\"line2d_10\">\n    <path d=\"M 88.600114 445.678125 \nL 175.561153 410.196806 \nL 262.522192 372.291829 \nL 349.483231 314.324004 \nL 436.444269 253.368363 \nL 523.405308 190.345163 \nL 610.366347 121.08178 \nL 697.327386 59.860221 \n\" clip-path=\"url(#pc0016dd23b)\" style=\"fill: none; stroke: #dd8452; stroke-width: 1.5; stroke-linecap: round\"/>\n    <defs>\n     <path id=\"maae5425044\" d=\"M 0 3 \nC 0.795609 3 1.55874 2.683901 2.12132 2.12132 \nC 2.683901 1.55874 3 0.795609 3 0 \nC 3 -0.795609 2.683901 -1.55874 2.12132 -2.12132 \nC 1.55874 -2.683901 0.795609 -3 0 -3 \nC -0.795609 -3 -1.55874 -2.683901 -2.12132 -2.12132 \nC -2.683901 -1.55874 -3 -0.795609 -3 0 \nC -3 0.795609 -2.683901 1.55874 -2.12132 2.12132 \nC -1.55874 2.683901 -0.795609 3 0 3 \nz\n\" style=\"stroke: #ffffff; stroke-width: 0.75\"/>\n    </defs>\n    <g clip-path=\"url(#pc0016dd23b)\">\n     <use xlink:href=\"#maae5425044\" x=\"88.600114\" y=\"445.678125\" style=\"fill: #dd8452; stroke: #ffffff; stroke-width: 0.75\"/>\n     <use xlink:href=\"#maae5425044\" x=\"175.561153\" y=\"410.196806\" style=\"fill: #dd8452; stroke: #ffffff; stroke-width: 0.75\"/>\n     <use xlink:href=\"#maae5425044\" x=\"262.522192\" y=\"372.291829\" style=\"fill: #dd8452; stroke: #ffffff; stroke-width: 0.75\"/>\n     <use xlink:href=\"#maae5425044\" x=\"349.483231\" y=\"314.324004\" style=\"fill: #dd8452; stroke: #ffffff; stroke-width: 0.75\"/>\n     <use xlink:href=\"#maae5425044\" x=\"436.444269\" y=\"253.368363\" style=\"fill: #dd8452; stroke: #ffffff; stroke-width: 0.75\"/>\n     <use xlink:href=\"#maae5425044\" x=\"523.405308\" y=\"190.345163\" style=\"fill: #dd8452; stroke: #ffffff; stroke-width: 0.75\"/>\n     <use xlink:href=\"#maae5425044\" x=\"610.366347\" y=\"121.08178\" style=\"fill: #dd8452; stroke: #ffffff; stroke-width: 0.75\"/>\n     <use xlink:href=\"#maae5425044\" x=\"697.327386\" y=\"59.860221\" style=\"fill: #dd8452; stroke: #ffffff; stroke-width: 0.75\"/>\n    </g>\n   </g>\n   <g id=\"line2d_11\">\n    <path d=\"M 88.600114 360.736331 \nL 175.561153 357.175887 \nL 262.522192 343.344188 \nL 349.483231 312.134889 \nL 436.444269 279.765924 \nL 523.405308 245.818273 \nL 610.366347 204.024501 \nL 697.327386 147.754958 \n\" clip-path=\"url(#pc0016dd23b)\" style=\"fill: none; stroke: #55a868; stroke-width: 1.5; stroke-linecap: round\"/>\n    <defs>\n     <path id=\"m4aa862b63b\" d=\"M 0 3 \nC 0.795609 3 1.55874 2.683901 2.12132 2.12132 \nC 2.683901 1.55874 3 0.795609 3 0 \nC 3 -0.795609 2.683901 -1.55874 2.12132 -2.12132 \nC 1.55874 -2.683901 0.795609 -3 0 -3 \nC -0.795609 -3 -1.55874 -2.683901 -2.12132 -2.12132 \nC -2.683901 -1.55874 -3 -0.795609 -3 0 \nC -3 0.795609 -2.683901 1.55874 -2.12132 2.12132 \nC -1.55874 2.683901 -0.795609 3 0 3 \nz\n\" style=\"stroke: #ffffff; stroke-width: 0.75\"/>\n    </defs>\n    <g clip-path=\"url(#pc0016dd23b)\">\n     <use xlink:href=\"#m4aa862b63b\" x=\"88.600114\" y=\"360.736331\" style=\"fill: #55a868; stroke: #ffffff; stroke-width: 0.75\"/>\n     <use xlink:href=\"#m4aa862b63b\" x=\"175.561153\" y=\"357.175887\" style=\"fill: #55a868; stroke: #ffffff; stroke-width: 0.75\"/>\n     <use xlink:href=\"#m4aa862b63b\" x=\"262.522192\" y=\"343.344188\" style=\"fill: #55a868; stroke: #ffffff; stroke-width: 0.75\"/>\n     <use xlink:href=\"#m4aa862b63b\" x=\"349.483231\" y=\"312.134889\" style=\"fill: #55a868; stroke: #ffffff; stroke-width: 0.75\"/>\n     <use xlink:href=\"#m4aa862b63b\" x=\"436.444269\" y=\"279.765924\" style=\"fill: #55a868; stroke: #ffffff; stroke-width: 0.75\"/>\n     <use xlink:href=\"#m4aa862b63b\" x=\"523.405308\" y=\"245.818273\" style=\"fill: #55a868; stroke: #ffffff; stroke-width: 0.75\"/>\n     <use xlink:href=\"#m4aa862b63b\" x=\"610.366347\" y=\"204.024501\" style=\"fill: #55a868; stroke: #ffffff; stroke-width: 0.75\"/>\n     <use xlink:href=\"#m4aa862b63b\" x=\"697.327386\" y=\"147.754958\" style=\"fill: #55a868; stroke: #ffffff; stroke-width: 0.75\"/>\n    </g>\n   </g>\n   <g id=\"line2d_12\">\n    <path d=\"M 88.600114 80.875132 \nL 175.561153 42.478125 \n\" clip-path=\"url(#pc0016dd23b)\" style=\"fill: none; stroke: #c44e52; stroke-width: 1.5; stroke-linecap: round\"/>\n    <defs>\n     <path id=\"m974493b34a\" d=\"M 0 3 \nC 0.795609 3 1.55874 2.683901 2.12132 2.12132 \nC 2.683901 1.55874 3 0.795609 3 0 \nC 3 -0.795609 2.683901 -1.55874 2.12132 -2.12132 \nC 1.55874 -2.683901 0.795609 -3 0 -3 \nC -0.795609 -3 -1.55874 -2.683901 -2.12132 -2.12132 \nC -2.683901 -1.55874 -3 -0.795609 -3 0 \nC -3 0.795609 -2.683901 1.55874 -2.12132 2.12132 \nC -1.55874 2.683901 -0.795609 3 0 3 \nz\n\" style=\"stroke: #ffffff; stroke-width: 0.75\"/>\n    </defs>\n    <g clip-path=\"url(#pc0016dd23b)\">\n     <use xlink:href=\"#m974493b34a\" x=\"88.600114\" y=\"80.875132\" style=\"fill: #c44e52; stroke: #ffffff; stroke-width: 0.75\"/>\n     <use xlink:href=\"#m974493b34a\" x=\"175.561153\" y=\"42.478125\" style=\"fill: #c44e52; stroke: #ffffff; stroke-width: 0.75\"/>\n    </g>\n   </g>\n   <g id=\"line2d_13\">\n    <path d=\"M 88.600114 280.961126 \nL 175.561153 282.964842 \nL 262.522192 274.758004 \nL 349.483231 250.004361 \nL 436.444269 216.028396 \nL 523.405308 173.613736 \nL 610.366347 110.394384 \nL 697.327386 46.450953 \n\" clip-path=\"url(#pc0016dd23b)\" style=\"fill: none; stroke: #8172b3; stroke-width: 1.5; stroke-linecap: round\"/>\n    <defs>\n     <path id=\"m5bf076d3e6\" d=\"M 0 3 \nC 0.795609 3 1.55874 2.683901 2.12132 2.12132 \nC 2.683901 1.55874 3 0.795609 3 0 \nC 3 -0.795609 2.683901 -1.55874 2.12132 -2.12132 \nC 1.55874 -2.683901 0.795609 -3 0 -3 \nC -0.795609 -3 -1.55874 -2.683901 -2.12132 -2.12132 \nC -2.683901 -1.55874 -3 -0.795609 -3 0 \nC -3 0.795609 -2.683901 1.55874 -2.12132 2.12132 \nC -1.55874 2.683901 -0.795609 3 0 3 \nz\n\" style=\"stroke: #ffffff; stroke-width: 0.75\"/>\n    </defs>\n    <g clip-path=\"url(#pc0016dd23b)\">\n     <use xlink:href=\"#m5bf076d3e6\" x=\"88.600114\" y=\"280.961126\" style=\"fill: #8172b3; stroke: #ffffff; stroke-width: 0.75\"/>\n     <use xlink:href=\"#m5bf076d3e6\" x=\"175.561153\" y=\"282.964842\" style=\"fill: #8172b3; stroke: #ffffff; stroke-width: 0.75\"/>\n     <use xlink:href=\"#m5bf076d3e6\" x=\"262.522192\" y=\"274.758004\" style=\"fill: #8172b3; stroke: #ffffff; stroke-width: 0.75\"/>\n     <use xlink:href=\"#m5bf076d3e6\" x=\"349.483231\" y=\"250.004361\" style=\"fill: #8172b3; stroke: #ffffff; stroke-width: 0.75\"/>\n     <use xlink:href=\"#m5bf076d3e6\" x=\"436.444269\" y=\"216.028396\" style=\"fill: #8172b3; stroke: #ffffff; stroke-width: 0.75\"/>\n     <use xlink:href=\"#m5bf076d3e6\" x=\"523.405308\" y=\"173.613736\" style=\"fill: #8172b3; stroke: #ffffff; stroke-width: 0.75\"/>\n     <use xlink:href=\"#m5bf076d3e6\" x=\"610.366347\" y=\"110.394384\" style=\"fill: #8172b3; stroke: #ffffff; stroke-width: 0.75\"/>\n     <use xlink:href=\"#m5bf076d3e6\" x=\"697.327386\" y=\"46.450953\" style=\"fill: #8172b3; stroke: #ffffff; stroke-width: 0.75\"/>\n    </g>\n   </g>\n   <g id=\"line2d_14\">\n    <path d=\"M 88.600114 288.55859 \nL 175.561153 292.035154 \nL 262.522192 286.553957 \nL 349.483231 265.674535 \nL 436.444269 223.09224 \nL 523.405308 189.08176 \nL 610.366347 129.394466 \nL 697.327386 67.840909 \n\" clip-path=\"url(#pc0016dd23b)\" style=\"fill: none; stroke: #937860; stroke-width: 1.5; stroke-linecap: round\"/>\n    <defs>\n     <path id=\"m4fdd2281f7\" d=\"M 0 3 \nC 0.795609 3 1.55874 2.683901 2.12132 2.12132 \nC 2.683901 1.55874 3 0.795609 3 0 \nC 3 -0.795609 2.683901 -1.55874 2.12132 -2.12132 \nC 1.55874 -2.683901 0.795609 -3 0 -3 \nC -0.795609 -3 -1.55874 -2.683901 -2.12132 -2.12132 \nC -2.683901 -1.55874 -3 -0.795609 -3 0 \nC -3 0.795609 -2.683901 1.55874 -2.12132 2.12132 \nC -1.55874 2.683901 -0.795609 3 0 3 \nz\n\" style=\"stroke: #ffffff; stroke-width: 0.75\"/>\n    </defs>\n    <g clip-path=\"url(#pc0016dd23b)\">\n     <use xlink:href=\"#m4fdd2281f7\" x=\"88.600114\" y=\"288.55859\" style=\"fill: #937860; stroke: #ffffff; stroke-width: 0.75\"/>\n     <use xlink:href=\"#m4fdd2281f7\" x=\"175.561153\" y=\"292.035154\" style=\"fill: #937860; stroke: #ffffff; stroke-width: 0.75\"/>\n     <use xlink:href=\"#m4fdd2281f7\" x=\"262.522192\" y=\"286.553957\" style=\"fill: #937860; stroke: #ffffff; stroke-width: 0.75\"/>\n     <use xlink:href=\"#m4fdd2281f7\" x=\"349.483231\" y=\"265.674535\" style=\"fill: #937860; stroke: #ffffff; stroke-width: 0.75\"/>\n     <use xlink:href=\"#m4fdd2281f7\" x=\"436.444269\" y=\"223.09224\" style=\"fill: #937860; stroke: #ffffff; stroke-width: 0.75\"/>\n     <use xlink:href=\"#m4fdd2281f7\" x=\"523.405308\" y=\"189.08176\" style=\"fill: #937860; stroke: #ffffff; stroke-width: 0.75\"/>\n     <use xlink:href=\"#m4fdd2281f7\" x=\"610.366347\" y=\"129.394466\" style=\"fill: #937860; stroke: #ffffff; stroke-width: 0.75\"/>\n     <use xlink:href=\"#m4fdd2281f7\" x=\"697.327386\" y=\"67.840909\" style=\"fill: #937860; stroke: #ffffff; stroke-width: 0.75\"/>\n    </g>\n   </g>\n   <g id=\"line2d_15\"/>\n   <g id=\"line2d_16\"/>\n   <g id=\"line2d_17\"/>\n   <g id=\"line2d_18\"/>\n   <g id=\"line2d_19\"/>\n   <g id=\"line2d_20\"/>\n   <g id=\"patch_3\">\n    <path d=\"M 58.16375 465.838125 \nL 58.16375 22.318125 \n\" style=\"fill: none; stroke: #cccccc; stroke-width: 1.25; stroke-linejoin: miter; stroke-linecap: square\"/>\n   </g>\n   <g id=\"patch_4\">\n    <path d=\"M 727.76375 465.838125 \nL 727.76375 22.318125 \n\" style=\"fill: none; stroke: #cccccc; stroke-width: 1.25; stroke-linejoin: miter; stroke-linecap: square\"/>\n   </g>\n   <g id=\"patch_5\">\n    <path d=\"M 58.16375 465.838125 \nL 727.76375 465.838125 \n\" style=\"fill: none; stroke: #cccccc; stroke-width: 1.25; stroke-linejoin: miter; stroke-linecap: square\"/>\n   </g>\n   <g id=\"patch_6\">\n    <path d=\"M 58.16375 22.318125 \nL 727.76375 22.318125 \n\" style=\"fill: none; stroke: #cccccc; stroke-width: 1.25; stroke-linejoin: miter; stroke-linecap: square\"/>\n   </g>\n   <g id=\"text_11\">\n    <!-- Matrix Multiplication Performance Comparison -->\n    <g style=\"fill: #262626\" transform=\"translate(254.133125 16.318125) scale(0.12 -0.12)\">\n     <defs>\n      <path id=\"DejaVuSans-75\" d=\"M 544 1381 \nL 544 3500 \nL 1119 3500 \nL 1119 1403 \nQ 1119 906 1312 657 \nQ 1506 409 1894 409 \nQ 2359 409 2629 706 \nQ 2900 1003 2900 1516 \nL 2900 3500 \nL 3475 3500 \nL 3475 0 \nL 2900 0 \nL 2900 538 \nQ 2691 219 2414 64 \nQ 2138 -91 1772 -91 \nQ 1169 -91 856 284 \nQ 544 659 544 1381 \nz\nM 1991 3584 \nL 1991 3584 \nz\n\" transform=\"scale(0.015625)\"/>\n      <path id=\"DejaVuSans-6c\" d=\"M 603 4863 \nL 1178 4863 \nL 1178 0 \nL 603 0 \nL 603 4863 \nz\n\" transform=\"scale(0.015625)\"/>\n      <path id=\"DejaVuSans-70\" d=\"M 1159 525 \nL 1159 -1331 \nL 581 -1331 \nL 581 3500 \nL 1159 3500 \nL 1159 2969 \nQ 1341 3281 1617 3432 \nQ 1894 3584 2278 3584 \nQ 2916 3584 3314 3078 \nQ 3713 2572 3713 1747 \nQ 3713 922 3314 415 \nQ 2916 -91 2278 -91 \nQ 1894 -91 1617 61 \nQ 1341 213 1159 525 \nz\nM 3116 1747 \nQ 3116 2381 2855 2742 \nQ 2594 3103 2138 3103 \nQ 1681 3103 1420 2742 \nQ 1159 2381 1159 1747 \nQ 1159 1113 1420 752 \nQ 1681 391 2138 391 \nQ 2594 391 2855 752 \nQ 3116 1113 3116 1747 \nz\n\" transform=\"scale(0.015625)\"/>\n      <path id=\"DejaVuSans-50\" d=\"M 1259 4147 \nL 1259 2394 \nL 2053 2394 \nQ 2494 2394 2734 2622 \nQ 2975 2850 2975 3272 \nQ 2975 3691 2734 3919 \nQ 2494 4147 2053 4147 \nL 1259 4147 \nz\nM 628 4666 \nL 2053 4666 \nQ 2838 4666 3239 4311 \nQ 3641 3956 3641 3272 \nQ 3641 2581 3239 2228 \nQ 2838 1875 2053 1875 \nL 1259 1875 \nL 1259 0 \nL 628 0 \nL 628 4666 \nz\n\" transform=\"scale(0.015625)\"/>\n      <path id=\"DejaVuSans-66\" d=\"M 2375 4863 \nL 2375 4384 \nL 1825 4384 \nQ 1516 4384 1395 4259 \nQ 1275 4134 1275 3809 \nL 1275 3500 \nL 2222 3500 \nL 2222 3053 \nL 1275 3053 \nL 1275 0 \nL 697 0 \nL 697 3053 \nL 147 3053 \nL 147 3500 \nL 697 3500 \nL 697 3744 \nQ 697 4328 969 4595 \nQ 1241 4863 1831 4863 \nL 2375 4863 \nz\n\" transform=\"scale(0.015625)\"/>\n      <path id=\"DejaVuSans-43\" d=\"M 4122 4306 \nL 4122 3641 \nQ 3803 3938 3442 4084 \nQ 3081 4231 2675 4231 \nQ 1875 4231 1450 3742 \nQ 1025 3253 1025 2328 \nQ 1025 1406 1450 917 \nQ 1875 428 2675 428 \nQ 3081 428 3442 575 \nQ 3803 722 4122 1019 \nL 4122 359 \nQ 3791 134 3420 21 \nQ 3050 -91 2638 -91 \nQ 1578 -91 968 557 \nQ 359 1206 359 2328 \nQ 359 3453 968 4101 \nQ 1578 4750 2638 4750 \nQ 3056 4750 3426 4639 \nQ 3797 4528 4122 4306 \nz\n\" transform=\"scale(0.015625)\"/>\n     </defs>\n     <use xlink:href=\"#DejaVuSans-4d\"/>\n     <use xlink:href=\"#DejaVuSans-61\" transform=\"translate(86.279297 0)\"/>\n     <use xlink:href=\"#DejaVuSans-74\" transform=\"translate(147.558594 0)\"/>\n     <use xlink:href=\"#DejaVuSans-72\" transform=\"translate(186.767578 0)\"/>\n     <use xlink:href=\"#DejaVuSans-69\" transform=\"translate(227.880859 0)\"/>\n     <use xlink:href=\"#DejaVuSans-78\" transform=\"translate(255.664062 0)\"/>\n     <use xlink:href=\"#DejaVuSans-20\" transform=\"translate(314.84375 0)\"/>\n     <use xlink:href=\"#DejaVuSans-4d\" transform=\"translate(346.630859 0)\"/>\n     <use xlink:href=\"#DejaVuSans-75\" transform=\"translate(432.910156 0)\"/>\n     <use xlink:href=\"#DejaVuSans-6c\" transform=\"translate(496.289062 0)\"/>\n     <use xlink:href=\"#DejaVuSans-74\" transform=\"translate(524.072266 0)\"/>\n     <use xlink:href=\"#DejaVuSans-69\" transform=\"translate(563.28125 0)\"/>\n     <use xlink:href=\"#DejaVuSans-70\" transform=\"translate(591.064453 0)\"/>\n     <use xlink:href=\"#DejaVuSans-6c\" transform=\"translate(654.541016 0)\"/>\n     <use xlink:href=\"#DejaVuSans-69\" transform=\"translate(682.324219 0)\"/>\n     <use xlink:href=\"#DejaVuSans-63\" transform=\"translate(710.107422 0)\"/>\n     <use xlink:href=\"#DejaVuSans-61\" transform=\"translate(765.087891 0)\"/>\n     <use xlink:href=\"#DejaVuSans-74\" transform=\"translate(826.367188 0)\"/>\n     <use xlink:href=\"#DejaVuSans-69\" transform=\"translate(865.576172 0)\"/>\n     <use xlink:href=\"#DejaVuSans-6f\" transform=\"translate(893.359375 0)\"/>\n     <use xlink:href=\"#DejaVuSans-6e\" transform=\"translate(954.541016 0)\"/>\n     <use xlink:href=\"#DejaVuSans-20\" transform=\"translate(1017.919922 0)\"/>\n     <use xlink:href=\"#DejaVuSans-50\" transform=\"translate(1049.707031 0)\"/>\n     <use xlink:href=\"#DejaVuSans-65\" transform=\"translate(1106.384766 0)\"/>\n     <use xlink:href=\"#DejaVuSans-72\" transform=\"translate(1167.908203 0)\"/>\n     <use xlink:href=\"#DejaVuSans-66\" transform=\"translate(1209.021484 0)\"/>\n     <use xlink:href=\"#DejaVuSans-6f\" transform=\"translate(1244.226562 0)\"/>\n     <use xlink:href=\"#DejaVuSans-72\" transform=\"translate(1305.408203 0)\"/>\n     <use xlink:href=\"#DejaVuSans-6d\" transform=\"translate(1344.771484 0)\"/>\n     <use xlink:href=\"#DejaVuSans-61\" transform=\"translate(1442.183594 0)\"/>\n     <use xlink:href=\"#DejaVuSans-6e\" transform=\"translate(1503.462891 0)\"/>\n     <use xlink:href=\"#DejaVuSans-63\" transform=\"translate(1566.841797 0)\"/>\n     <use xlink:href=\"#DejaVuSans-65\" transform=\"translate(1621.822266 0)\"/>\n     <use xlink:href=\"#DejaVuSans-20\" transform=\"translate(1683.345703 0)\"/>\n     <use xlink:href=\"#DejaVuSans-43\" transform=\"translate(1715.132812 0)\"/>\n     <use xlink:href=\"#DejaVuSans-6f\" transform=\"translate(1784.957031 0)\"/>\n     <use xlink:href=\"#DejaVuSans-6d\" transform=\"translate(1846.138672 0)\"/>\n     <use xlink:href=\"#DejaVuSans-70\" transform=\"translate(1943.550781 0)\"/>\n     <use xlink:href=\"#DejaVuSans-61\" transform=\"translate(2007.027344 0)\"/>\n     <use xlink:href=\"#DejaVuSans-72\" transform=\"translate(2068.306641 0)\"/>\n     <use xlink:href=\"#DejaVuSans-69\" transform=\"translate(2109.419922 0)\"/>\n     <use xlink:href=\"#DejaVuSans-73\" transform=\"translate(2137.203125 0)\"/>\n     <use xlink:href=\"#DejaVuSans-6f\" transform=\"translate(2189.302734 0)\"/>\n     <use xlink:href=\"#DejaVuSans-6e\" transform=\"translate(2250.484375 0)\"/>\n    </g>\n   </g>\n   <g id=\"legend_1\">\n    <g id=\"patch_7\">\n     <path d=\"M 582.073906 460.338125 \nL 720.06375 460.338125 \nQ 722.26375 460.338125 722.26375 458.138125 \nL 722.26375 345.24875 \nQ 722.26375 343.04875 720.06375 343.04875 \nL 582.073906 343.04875 \nQ 579.873906 343.04875 579.873906 345.24875 \nL 579.873906 458.138125 \nQ 579.873906 460.338125 582.073906 460.338125 \nz\n\" style=\"fill: #ffffff; opacity: 0.8; stroke: #cccccc; stroke-linejoin: miter\"/>\n    </g>\n    <g id=\"text_12\">\n     <!-- Implementation -->\n     <g style=\"fill: #262626\" transform=\"translate(603.426016 356.566875) scale(0.12 -0.12)\">\n      <defs>\n       <path id=\"DejaVuSans-49\" d=\"M 628 4666 \nL 1259 4666 \nL 1259 0 \nL 628 0 \nL 628 4666 \nz\n\" transform=\"scale(0.015625)\"/>\n      </defs>\n      <use xlink:href=\"#DejaVuSans-49\"/>\n      <use xlink:href=\"#DejaVuSans-6d\" transform=\"translate(29.492188 0)\"/>\n      <use xlink:href=\"#DejaVuSans-70\" transform=\"translate(126.904297 0)\"/>\n      <use xlink:href=\"#DejaVuSans-6c\" transform=\"translate(190.380859 0)\"/>\n      <use xlink:href=\"#DejaVuSans-65\" transform=\"translate(218.164062 0)\"/>\n      <use xlink:href=\"#DejaVuSans-6d\" transform=\"translate(279.6875 0)\"/>\n      <use xlink:href=\"#DejaVuSans-65\" transform=\"translate(377.099609 0)\"/>\n      <use xlink:href=\"#DejaVuSans-6e\" transform=\"translate(438.623047 0)\"/>\n      <use xlink:href=\"#DejaVuSans-74\" transform=\"translate(502.001953 0)\"/>\n      <use xlink:href=\"#DejaVuSans-61\" transform=\"translate(541.210938 0)\"/>\n      <use xlink:href=\"#DejaVuSans-74\" transform=\"translate(602.490234 0)\"/>\n      <use xlink:href=\"#DejaVuSans-69\" transform=\"translate(641.699219 0)\"/>\n      <use xlink:href=\"#DejaVuSans-6f\" transform=\"translate(669.482422 0)\"/>\n      <use xlink:href=\"#DejaVuSans-6e\" transform=\"translate(730.664062 0)\"/>\n     </g>\n    </g>\n    <g id=\"line2d_21\">\n     <path d=\"M 584.273906 369.070781 \nL 595.273906 369.070781 \nL 606.273906 369.070781 \n\" style=\"fill: none; stroke: #4c72b0; stroke-width: 1.5; stroke-linecap: round\"/>\n     <g>\n      <use xlink:href=\"#m9268b3fa9b\" x=\"595.273906\" y=\"369.070781\" style=\"fill: #4c72b0; stroke: #ffffff; stroke-width: 0.75\"/>\n     </g>\n    </g>\n    <g id=\"text_13\">\n     <!-- Python Loop -->\n     <g style=\"fill: #262626\" transform=\"translate(615.073906 372.920781) scale(0.11 -0.11)\">\n      <defs>\n       <path id=\"DejaVuSans-79\" d=\"M 2059 -325 \nQ 1816 -950 1584 -1140 \nQ 1353 -1331 966 -1331 \nL 506 -1331 \nL 506 -850 \nL 844 -850 \nQ 1081 -850 1212 -737 \nQ 1344 -625 1503 -206 \nL 1606 56 \nL 191 3500 \nL 800 3500 \nL 1894 763 \nL 2988 3500 \nL 3597 3500 \nL 2059 -325 \nz\n\" transform=\"scale(0.015625)\"/>\n       <path id=\"DejaVuSans-68\" d=\"M 3513 2113 \nL 3513 0 \nL 2938 0 \nL 2938 2094 \nQ 2938 2591 2744 2837 \nQ 2550 3084 2163 3084 \nQ 1697 3084 1428 2787 \nQ 1159 2491 1159 1978 \nL 1159 0 \nL 581 0 \nL 581 4863 \nL 1159 4863 \nL 1159 2956 \nQ 1366 3272 1645 3428 \nQ 1925 3584 2291 3584 \nQ 2894 3584 3203 3211 \nQ 3513 2838 3513 2113 \nz\n\" transform=\"scale(0.015625)\"/>\n       <path id=\"DejaVuSans-4c\" d=\"M 628 4666 \nL 1259 4666 \nL 1259 531 \nL 3531 531 \nL 3531 0 \nL 628 0 \nL 628 4666 \nz\n\" transform=\"scale(0.015625)\"/>\n      </defs>\n      <use xlink:href=\"#DejaVuSans-50\"/>\n      <use xlink:href=\"#DejaVuSans-79\" transform=\"translate(60.302734 0)\"/>\n      <use xlink:href=\"#DejaVuSans-74\" transform=\"translate(119.482422 0)\"/>\n      <use xlink:href=\"#DejaVuSans-68\" transform=\"translate(158.691406 0)\"/>\n      <use xlink:href=\"#DejaVuSans-6f\" transform=\"translate(222.070312 0)\"/>\n      <use xlink:href=\"#DejaVuSans-6e\" transform=\"translate(283.251953 0)\"/>\n      <use xlink:href=\"#DejaVuSans-20\" transform=\"translate(346.630859 0)\"/>\n      <use xlink:href=\"#DejaVuSans-4c\" transform=\"translate(378.417969 0)\"/>\n      <use xlink:href=\"#DejaVuSans-6f\" transform=\"translate(432.380859 0)\"/>\n      <use xlink:href=\"#DejaVuSans-6f\" transform=\"translate(493.5625 0)\"/>\n      <use xlink:href=\"#DejaVuSans-70\" transform=\"translate(554.744141 0)\"/>\n     </g>\n    </g>\n    <g id=\"line2d_22\">\n     <path d=\"M 584.273906 385.216719 \nL 595.273906 385.216719 \nL 606.273906 385.216719 \n\" style=\"fill: none; stroke: #dd8452; stroke-width: 1.5; stroke-linecap: round\"/>\n     <g>\n      <use xlink:href=\"#maae5425044\" x=\"595.273906\" y=\"385.216719\" style=\"fill: #dd8452; stroke: #ffffff; stroke-width: 0.75\"/>\n     </g>\n    </g>\n    <g id=\"text_14\">\n     <!-- Numpy -->\n     <g style=\"fill: #262626\" transform=\"translate(615.073906 389.066719) scale(0.11 -0.11)\">\n      <use xlink:href=\"#DejaVuSans-4e\"/>\n      <use xlink:href=\"#DejaVuSans-75\" transform=\"translate(74.804688 0)\"/>\n      <use xlink:href=\"#DejaVuSans-6d\" transform=\"translate(138.183594 0)\"/>\n      <use xlink:href=\"#DejaVuSans-70\" transform=\"translate(235.595703 0)\"/>\n      <use xlink:href=\"#DejaVuSans-79\" transform=\"translate(299.072266 0)\"/>\n     </g>\n    </g>\n    <g id=\"line2d_23\">\n     <path d=\"M 584.273906 401.362656 \nL 595.273906 401.362656 \nL 606.273906 401.362656 \n\" style=\"fill: none; stroke: #55a868; stroke-width: 1.5; stroke-linecap: round\"/>\n     <g>\n      <use xlink:href=\"#m4aa862b63b\" x=\"595.273906\" y=\"401.362656\" style=\"fill: #55a868; stroke: #ffffff; stroke-width: 0.75\"/>\n     </g>\n    </g>\n    <g id=\"text_15\">\n     <!-- PyTorch -->\n     <g style=\"fill: #262626\" transform=\"translate(615.073906 405.212656) scale(0.11 -0.11)\">\n      <use xlink:href=\"#DejaVuSans-50\"/>\n      <use xlink:href=\"#DejaVuSans-79\" transform=\"translate(60.302734 0)\"/>\n      <use xlink:href=\"#DejaVuSans-54\" transform=\"translate(119.482422 0)\"/>\n      <use xlink:href=\"#DejaVuSans-6f\" transform=\"translate(163.566406 0)\"/>\n      <use xlink:href=\"#DejaVuSans-72\" transform=\"translate(224.748047 0)\"/>\n      <use xlink:href=\"#DejaVuSans-63\" transform=\"translate(263.611328 0)\"/>\n      <use xlink:href=\"#DejaVuSans-68\" transform=\"translate(318.591797 0)\"/>\n     </g>\n    </g>\n    <g id=\"line2d_24\">\n     <path d=\"M 584.273906 417.508594 \nL 595.273906 417.508594 \nL 606.273906 417.508594 \n\" style=\"fill: none; stroke: #c44e52; stroke-width: 1.5; stroke-linecap: round\"/>\n     <g>\n      <use xlink:href=\"#m974493b34a\" x=\"595.273906\" y=\"417.508594\" style=\"fill: #c44e52; stroke: #ffffff; stroke-width: 0.75\"/>\n     </g>\n    </g>\n    <g id=\"text_16\">\n     <!-- Dot-based GPU -->\n     <g style=\"fill: #262626\" transform=\"translate(615.073906 421.358594) scale(0.11 -0.11)\">\n      <defs>\n       <path id=\"DejaVuSans-44\" d=\"M 1259 4147 \nL 1259 519 \nL 2022 519 \nQ 2988 519 3436 956 \nQ 3884 1394 3884 2338 \nQ 3884 3275 3436 3711 \nQ 2988 4147 2022 4147 \nL 1259 4147 \nz\nM 628 4666 \nL 1925 4666 \nQ 3281 4666 3915 4102 \nQ 4550 3538 4550 2338 \nQ 4550 1131 3912 565 \nQ 3275 0 1925 0 \nL 628 0 \nL 628 4666 \nz\n\" transform=\"scale(0.015625)\"/>\n       <path id=\"DejaVuSans-2d\" d=\"M 313 2009 \nL 1997 2009 \nL 1997 1497 \nL 313 1497 \nL 313 2009 \nz\n\" transform=\"scale(0.015625)\"/>\n       <path id=\"DejaVuSans-62\" d=\"M 3116 1747 \nQ 3116 2381 2855 2742 \nQ 2594 3103 2138 3103 \nQ 1681 3103 1420 2742 \nQ 1159 2381 1159 1747 \nQ 1159 1113 1420 752 \nQ 1681 391 2138 391 \nQ 2594 391 2855 752 \nQ 3116 1113 3116 1747 \nz\nM 1159 2969 \nQ 1341 3281 1617 3432 \nQ 1894 3584 2278 3584 \nQ 2916 3584 3314 3078 \nQ 3713 2572 3713 1747 \nQ 3713 922 3314 415 \nQ 2916 -91 2278 -91 \nQ 1894 -91 1617 61 \nQ 1341 213 1159 525 \nL 1159 0 \nL 581 0 \nL 581 4863 \nL 1159 4863 \nL 1159 2969 \nz\n\" transform=\"scale(0.015625)\"/>\n       <path id=\"DejaVuSans-47\" d=\"M 3809 666 \nL 3809 1919 \nL 2778 1919 \nL 2778 2438 \nL 4434 2438 \nL 4434 434 \nQ 4069 175 3628 42 \nQ 3188 -91 2688 -91 \nQ 1594 -91 976 548 \nQ 359 1188 359 2328 \nQ 359 3472 976 4111 \nQ 1594 4750 2688 4750 \nQ 3144 4750 3555 4637 \nQ 3966 4525 4313 4306 \nL 4313 3634 \nQ 3963 3931 3569 4081 \nQ 3175 4231 2741 4231 \nQ 1884 4231 1454 3753 \nQ 1025 3275 1025 2328 \nQ 1025 1384 1454 906 \nQ 1884 428 2741 428 \nQ 3075 428 3337 486 \nQ 3600 544 3809 666 \nz\n\" transform=\"scale(0.015625)\"/>\n       <path id=\"DejaVuSans-55\" d=\"M 556 4666 \nL 1191 4666 \nL 1191 1831 \nQ 1191 1081 1462 751 \nQ 1734 422 2344 422 \nQ 2950 422 3222 751 \nQ 3494 1081 3494 1831 \nL 3494 4666 \nL 4128 4666 \nL 4128 1753 \nQ 4128 841 3676 375 \nQ 3225 -91 2344 -91 \nQ 1459 -91 1007 375 \nQ 556 841 556 1753 \nL 556 4666 \nz\n\" transform=\"scale(0.015625)\"/>\n      </defs>\n      <use xlink:href=\"#DejaVuSans-44\"/>\n      <use xlink:href=\"#DejaVuSans-6f\" transform=\"translate(77.001953 0)\"/>\n      <use xlink:href=\"#DejaVuSans-74\" transform=\"translate(138.183594 0)\"/>\n      <use xlink:href=\"#DejaVuSans-2d\" transform=\"translate(177.392578 0)\"/>\n      <use xlink:href=\"#DejaVuSans-62\" transform=\"translate(213.476562 0)\"/>\n      <use xlink:href=\"#DejaVuSans-61\" transform=\"translate(276.953125 0)\"/>\n      <use xlink:href=\"#DejaVuSans-73\" transform=\"translate(338.232422 0)\"/>\n      <use xlink:href=\"#DejaVuSans-65\" transform=\"translate(390.332031 0)\"/>\n      <use xlink:href=\"#DejaVuSans-64\" transform=\"translate(451.855469 0)\"/>\n      <use xlink:href=\"#DejaVuSans-20\" transform=\"translate(515.332031 0)\"/>\n      <use xlink:href=\"#DejaVuSans-47\" transform=\"translate(547.119141 0)\"/>\n      <use xlink:href=\"#DejaVuSans-50\" transform=\"translate(624.609375 0)\"/>\n      <use xlink:href=\"#DejaVuSans-55\" transform=\"translate(684.912109 0)\"/>\n     </g>\n    </g>\n    <g id=\"line2d_25\">\n     <path d=\"M 584.273906 433.654531 \nL 595.273906 433.654531 \nL 606.273906 433.654531 \n\" style=\"fill: none; stroke: #8172b3; stroke-width: 1.5; stroke-linecap: round\"/>\n     <g>\n      <use xlink:href=\"#m5bf076d3e6\" x=\"595.273906\" y=\"433.654531\" style=\"fill: #8172b3; stroke: #ffffff; stroke-width: 0.75\"/>\n     </g>\n    </g>\n    <g id=\"text_17\">\n     <!-- Naive Matmul GPU -->\n     <g style=\"fill: #262626\" transform=\"translate(615.073906 437.504531) scale(0.11 -0.11)\">\n      <defs>\n       <path id=\"DejaVuSans-76\" d=\"M 191 3500 \nL 800 3500 \nL 1894 563 \nL 2988 3500 \nL 3597 3500 \nL 2284 0 \nL 1503 0 \nL 191 3500 \nz\n\" transform=\"scale(0.015625)\"/>\n      </defs>\n      <use xlink:href=\"#DejaVuSans-4e\"/>\n      <use xlink:href=\"#DejaVuSans-61\" transform=\"translate(74.804688 0)\"/>\n      <use xlink:href=\"#DejaVuSans-69\" transform=\"translate(136.083984 0)\"/>\n      <use xlink:href=\"#DejaVuSans-76\" transform=\"translate(163.867188 0)\"/>\n      <use xlink:href=\"#DejaVuSans-65\" transform=\"translate(223.046875 0)\"/>\n      <use xlink:href=\"#DejaVuSans-20\" transform=\"translate(284.570312 0)\"/>\n      <use xlink:href=\"#DejaVuSans-4d\" transform=\"translate(316.357422 0)\"/>\n      <use xlink:href=\"#DejaVuSans-61\" transform=\"translate(402.636719 0)\"/>\n      <use xlink:href=\"#DejaVuSans-74\" transform=\"translate(463.916016 0)\"/>\n      <use xlink:href=\"#DejaVuSans-6d\" transform=\"translate(503.125 0)\"/>\n      <use xlink:href=\"#DejaVuSans-75\" transform=\"translate(600.537109 0)\"/>\n      <use xlink:href=\"#DejaVuSans-6c\" transform=\"translate(663.916016 0)\"/>\n      <use xlink:href=\"#DejaVuSans-20\" transform=\"translate(691.699219 0)\"/>\n      <use xlink:href=\"#DejaVuSans-47\" transform=\"translate(723.486328 0)\"/>\n      <use xlink:href=\"#DejaVuSans-50\" transform=\"translate(800.976562 0)\"/>\n      <use xlink:href=\"#DejaVuSans-55\" transform=\"translate(861.279297 0)\"/>\n     </g>\n    </g>\n    <g id=\"line2d_26\">\n     <path d=\"M 584.273906 449.800469 \nL 595.273906 449.800469 \nL 606.273906 449.800469 \n\" style=\"fill: none; stroke: #937860; stroke-width: 1.5; stroke-linecap: round\"/>\n     <g>\n      <use xlink:href=\"#m4fdd2281f7\" x=\"595.273906\" y=\"449.800469\" style=\"fill: #937860; stroke: #ffffff; stroke-width: 0.75\"/>\n     </g>\n    </g>\n    <g id=\"text_18\">\n     <!-- Tiled Matmul GPU -->\n     <g style=\"fill: #262626\" transform=\"translate(615.073906 453.650469) scale(0.11 -0.11)\">\n      <use xlink:href=\"#DejaVuSans-54\"/>\n      <use xlink:href=\"#DejaVuSans-69\" transform=\"translate(57.958984 0)\"/>\n      <use xlink:href=\"#DejaVuSans-6c\" transform=\"translate(85.742188 0)\"/>\n      <use xlink:href=\"#DejaVuSans-65\" transform=\"translate(113.525391 0)\"/>\n      <use xlink:href=\"#DejaVuSans-64\" transform=\"translate(175.048828 0)\"/>\n      <use xlink:href=\"#DejaVuSans-20\" transform=\"translate(238.525391 0)\"/>\n      <use xlink:href=\"#DejaVuSans-4d\" transform=\"translate(270.3125 0)\"/>\n      <use xlink:href=\"#DejaVuSans-61\" transform=\"translate(356.591797 0)\"/>\n      <use xlink:href=\"#DejaVuSans-74\" transform=\"translate(417.871094 0)\"/>\n      <use xlink:href=\"#DejaVuSans-6d\" transform=\"translate(457.080078 0)\"/>\n      <use xlink:href=\"#DejaVuSans-75\" transform=\"translate(554.492188 0)\"/>\n      <use xlink:href=\"#DejaVuSans-6c\" transform=\"translate(617.871094 0)\"/>\n      <use xlink:href=\"#DejaVuSans-20\" transform=\"translate(645.654297 0)\"/>\n      <use xlink:href=\"#DejaVuSans-47\" transform=\"translate(677.441406 0)\"/>\n      <use xlink:href=\"#DejaVuSans-50\" transform=\"translate(754.931641 0)\"/>\n      <use xlink:href=\"#DejaVuSans-55\" transform=\"translate(815.234375 0)\"/>\n     </g>\n    </g>\n   </g>\n  </g>\n </g>\n <defs>\n  <clipPath id=\"pc0016dd23b\">\n   <rect x=\"58.16375\" y=\"22.318125\" width=\"669.6\" height=\"443.52\"/>\n  </clipPath>\n </defs>\n</svg>\n"
          },
          "metadata": {}
        }
      ]
    },
    {
      "cell_type": "markdown",
      "source": [
        "**Выводы**:"
      ],
      "metadata": {
        "id": "KF5gssOG8jbH"
      },
      "id": "KF5gssOG8jbH"
    },
    {
      "cell_type": "markdown",
      "source": [
        "### `Почему PyTorch все равно быстрее?`\n",
        "\n",
        "Вы могли заметить, что даже наша самая лучшая реализация (`Tiled Matmul GPU`) все еще уступает `PyTorch` и `Numpy`. Почему так происходит?\n",
        "\n",
        "1.  **Специализированные библиотеки (cuBLAS):** PyTorch и другие фреймворки для умножения матриц на GPU используют не свои кернелы, а вызывают функции из библиотеки **cuBLAS**. Это высокооптимизированная, написанная инженерами NVIDIA библиотека для линейной алгебры. Она учитывает все особенности конкретной архитектуры GPU (размер кэшей, количество регистров на поток, особенности планировщика варпов и т.д.).\n",
        "\n",
        "2.  **Низкоуровневые оптимизации:** Кернелы в cuBLAS написаны на CUDA C++ и часто содержат ассемблерные вставки для достижения максимальной производительности. Они используют более продвинутые техники, чем простое тайлирование: например, более сложное управление регистрами, двойную буферизацию для скрытия задержек памяти и др.\n",
        "\n",
        "3.  **Оверхед Numba:** Numba — это удобный инструмент, но он вносит небольшой оверхед по сравнению с кодом, написанным непосредственно на CUDA C++. Для большинства задач это не имеет значения, но в борьбе за каждый наносекунду это может играть роль."
      ],
      "metadata": {
        "id": "d9477c7g8mJR"
      },
      "id": "d9477c7g8mJR"
    },
    {
      "cell_type": "markdown",
      "source": [
        "## `Бонусы (3 балла)`\n",
        "\n",
        "Добавьте еще скорости! За каждое ускорение на 5 процентов относительно `efficient_matmul` на матрицах размера `4096x4096` будет добавляться по 1 баллу. Для получения балла необходимо:\n",
        "\n",
        "1) Кратко описать идею ускорения\n",
        "2) Скинуть ссылку на источник, откуда был взят прием/подробно расписать идею\n",
        "3) Выполнить то же тестировани, что и раньше, нариросать график\n",
        "4) **Запрещается** использовать готовые решения с использованием библиотек (например, cuBLAS)\n",
        "\n",
        "**Важно:** Нельзя специально замедлять `efficient_matmul`. Для честного сравнения в качестве времени работы `efficient_matmul` будет использоваться минимум времени работы из Вашего решения и авторского (код будет запускаться в одной среде при проверке)."
      ],
      "metadata": {
        "id": "CzYTlhTChUne"
      },
      "id": "CzYTlhTChUne"
    }
  ],
  "metadata": {
    "jupytext": {
      "cell_metadata_filter": "-all"
    },
    "kernelspec": {
      "display_name": "Python 3",
      "name": "python3"
    },
    "language_info": {
      "codemirror_mode": {
        "name": "ipython",
        "version": 3
      },
      "file_extension": ".py",
      "mimetype": "text/x-python",
      "name": "python",
      "nbconvert_exporter": "python",
      "pygments_lexer": "ipython3",
      "version": "3.8.10"
    },
    "colab": {
      "provenance": [],
      "gpuType": "T4"
    },
    "accelerator": "GPU"
  },
  "nbformat": 4,
  "nbformat_minor": 5
}
